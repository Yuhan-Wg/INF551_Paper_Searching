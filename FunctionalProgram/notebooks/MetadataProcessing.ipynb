{
 "cells": [
  {
   "cell_type": "code",
   "execution_count": 1,
   "metadata": {
    "collapsed": true
   },
   "outputs": [],
   "source": [
    "import json\n",
    "import re\n",
    "import nltk\n",
    "import requests\n",
    "from nltk.corpus import stopwords "
   ]
  },
  {
   "cell_type": "code",
   "execution_count": 4,
   "metadata": {
    "collapsed": true
   },
   "outputs": [],
   "source": [
    "with open(\"./data/json/metadata.json\",'r',encoding='utf-8') as json_file:\n",
    "    p = json.load(json_file)"
   ]
  },
  {
   "cell_type": "code",
   "execution_count": 6,
   "metadata": {
    "collapsed": false
   },
   "outputs": [
    {
     "data": {
      "text/plain": [
       "dict_keys(['category', 'type', 'publisher', 'author', 'institution', 'year', 'authorWords', 'institutionWords', 'textWords', 'titleWords', 'publisherWords', 'id', 'authorInstitution', 'catesearch'])"
      ]
     },
     "execution_count": 6,
     "metadata": {},
     "output_type": "execute_result"
    }
   ],
   "source": [
    "p.keys()"
   ]
  },
  {
   "cell_type": "code",
   "execution_count": 191,
   "metadata": {
    "collapsed": true
   },
   "outputs": [],
   "source": [
    "papers = []\n",
    "idx = 0\n",
    "for year in p:\n",
    "    for week in p[year]:\n",
    "        for paper in p[year][week]:\n",
    "            paper['id'] = idx\n",
    "            idx+=1\n",
    "            papers.append(paper)"
   ]
  },
  {
   "cell_type": "code",
   "execution_count": 136,
   "metadata": {
    "collapsed": false
   },
   "outputs": [
    {
     "data": {
      "text/plain": [
       "3955"
      ]
     },
     "execution_count": 136,
     "metadata": {},
     "output_type": "execute_result"
    }
   ],
   "source": [
    "len(papers)"
   ]
  },
  {
   "cell_type": "code",
   "execution_count": 10,
   "metadata": {
    "collapsed": false
   },
   "outputs": [
    {
     "data": {
      "text/plain": [
       "dict_keys(['category', 'type', 'title', 'author', 'authorInstitution', 'publisher', 'date', 'doi', 'textLink', 'pptLink', 'imageLink', 'text', 'pdfLink', 'id'])"
      ]
     },
     "execution_count": 10,
     "metadata": {},
     "output_type": "execute_result"
    }
   ],
   "source": [
    "#  'title', 'author', 'authorInstitution', 'publisher', \n",
    "#  'text'\n",
    "papers[1].keys()"
   ]
  },
  {
   "cell_type": "code",
   "execution_count": 41,
   "metadata": {
    "collapsed": true
   },
   "outputs": [],
   "source": [
    "json_index = {}"
   ]
  },
  {
   "cell_type": "code",
   "execution_count": 197,
   "metadata": {
    "collapsed": true
   },
   "outputs": [],
   "source": [
    "categorys = []\n",
    "json_index['category'] = {}\n",
    "for paper in papers:\n",
    "    if paper['category']:\n",
    "        paper['category'] = paper['category'].replace('\\n',' ').replace('\\t','').replace('&amp; ','').replace('.','')\n",
    "    else:\n",
    "        paper['category'] = 'None'\n",
    "    if paper['category'] in json_index['category']:\n",
    "        json_index['category'][paper['category']].append(paper['id'])\n",
    "    else:\n",
    "        json_index['category'][paper['category']] = [paper['id']]\n",
    "    categorys.append(paper['category'])"
   ]
  },
  {
   "cell_type": "code",
   "execution_count": 33,
   "metadata": {
    "collapsed": true
   },
   "outputs": [],
   "source": [
    "cate_set = set(categorys)"
   ]
  },
  {
   "cell_type": "code",
   "execution_count": 34,
   "metadata": {
    "collapsed": false,
    "scrolled": true
   },
   "outputs": [
    {
     "data": {
      "text/plain": [
       "{'Articles',\n",
       " 'Association Affairs',\n",
       " 'Books',\n",
       " 'Books et al.',\n",
       " 'Brevia',\n",
       " 'Editorial',\n",
       " \"Editors' Choice\",\n",
       " 'Education Forum',\n",
       " 'Essays',\n",
       " 'Essays on Science and Society',\n",
       " 'Feature',\n",
       " 'In Brief',\n",
       " 'In Depth',\n",
       " 'Introduction to Special Issue',\n",
       " 'Introduction to special issue',\n",
       " 'Letters',\n",
       " 'News',\n",
       " 'News Analysis',\n",
       " 'News Focus',\n",
       " 'News of the Week',\n",
       " None,\n",
       " 'Perspective',\n",
       " 'Perspectives',\n",
       " 'Policy Forum',\n",
       " 'Products Materials',\n",
       " 'Report',\n",
       " 'Reports',\n",
       " 'Research Article',\n",
       " 'Research Articles',\n",
       " 'Retraction',\n",
       " 'Review',\n",
       " 'Reviews',\n",
       " 'Special Issue Reports',\n",
       " 'Special Issue Research Articles',\n",
       " 'Technical Comments',\n",
       " 'This Week in Science',\n",
       " 'Working Life'}"
      ]
     },
     "execution_count": 34,
     "metadata": {},
     "output_type": "execute_result"
    }
   ],
   "source": [
    "cate_set"
   ]
  },
  {
   "cell_type": "code",
   "execution_count": 21,
   "metadata": {
    "collapsed": false
   },
   "outputs": [
    {
     "data": {
      "text/plain": [
       "'This Week in Science'"
      ]
     },
     "execution_count": 21,
     "metadata": {},
     "output_type": "execute_result"
    }
   ],
   "source": [
    "re.sub('[^a-zA-Z0-9 ]','','This Week in\\n\\t\\t\\t\\t\\t\\t\\t\\tScience'.replace('\\n',' '))"
   ]
  },
  {
   "cell_type": "code",
   "execution_count": 22,
   "metadata": {
    "collapsed": false
   },
   "outputs": [
    {
     "data": {
      "text/plain": [
       "'This Week in Science'"
      ]
     },
     "execution_count": 22,
     "metadata": {},
     "output_type": "execute_result"
    }
   ],
   "source": [
    "'This Week in\\n\\t\\t\\t\\t\\t\\t\\t\\tScience'.replace('\\n',' ').replace('\\t','')"
   ]
  },
  {
   "cell_type": "code",
   "execution_count": 46,
   "metadata": {
    "collapsed": false
   },
   "outputs": [
    {
     "data": {
      "text/plain": [
       "dict_keys(['None', 'News of the Week', 'Letters', 'Books et al.', 'Perspective', 'Research Article', 'Report', 'News Focus', 'Policy Forum', 'Brevia', 'Review', 'Technical Comments', 'News', 'Association Affairs', 'Education Forum', 'Introduction to special issue', 'Retraction', 'Essays on Science and Society', 'News Analysis', 'Perspectives', 'Articles', 'Books', 'In Brief', 'In Depth', 'Feature', 'Working Life', 'Research Articles', 'Special Issue Reports', 'Special Issue Research Articles', 'Reports', \"Editors' Choice\", 'Editorial', 'Reviews', 'This Week in Science', 'Products Materials', 'Essays', 'Introduction to Special Issue'])"
      ]
     },
     "execution_count": 46,
     "metadata": {},
     "output_type": "execute_result"
    }
   ],
   "source": [
    "json_index['category'].keys()"
   ]
  },
  {
   "cell_type": "code",
   "execution_count": 38,
   "metadata": {
    "collapsed": true
   },
   "outputs": [],
   "source": [
    "typel = []\n",
    "n = 0\n",
    "for paper in papers:\n",
    "    #if paper['type']:\n",
    "        #paper['type'] = paper['category'].replace('\\n',' ').replace('\\t','').replace('&amp; ','')\n",
    "    typel.append(paper['type'])\n",
    "    if not paper['type']: n+=1"
   ]
  },
  {
   "cell_type": "code",
   "execution_count": 39,
   "metadata": {
    "collapsed": false
   },
   "outputs": [
    {
     "data": {
      "text/plain": [
       "{'Article Commentary',\n",
       " 'Book Review',\n",
       " 'Brief Report',\n",
       " 'Correction',\n",
       " 'Editorial',\n",
       " 'Introduction',\n",
       " 'Letter',\n",
       " 'News',\n",
       " None,\n",
       " 'Obituary',\n",
       " 'Other',\n",
       " 'Reply',\n",
       " 'Research Article',\n",
       " 'Retraction',\n",
       " 'Review Article'}"
      ]
     },
     "execution_count": 39,
     "metadata": {},
     "output_type": "execute_result"
    }
   ],
   "source": [
    "set(typel)"
   ]
  },
  {
   "cell_type": "code",
   "execution_count": 47,
   "metadata": {
    "collapsed": true
   },
   "outputs": [],
   "source": [
    "lists = []\n",
    "s = 'type'\n",
    "json_index[s] = {}\n",
    "for paper in papers:\n",
    "    if paper[s]:\n",
    "        paper[s] = paper[s]\n",
    "    else:\n",
    "        paper[s] = 'None'\n",
    "    if paper[s] in json_index[s]:\n",
    "        json_index[s][paper[s]].append(paper['id'])\n",
    "    else:\n",
    "        json_index[s][paper[s]] = [paper['id']]\n",
    "    lists.append(paper[s])"
   ]
  },
  {
   "cell_type": "code",
   "execution_count": null,
   "metadata": {
    "collapsed": false,
    "scrolled": true
   },
   "outputs": [],
   "source": []
  },
  {
   "cell_type": "code",
   "execution_count": 80,
   "metadata": {
    "collapsed": true
   },
   "outputs": [],
   "source": [
    "lists = []\n",
    "s = 'year'\n",
    "json_index[s] = {}\n",
    "n = 0\n",
    "for paper in papers:\n",
    "    year = paper['date'][:4]\n",
    "    if year in json_index[s]:\n",
    "        json_index[s][year].append(paper['id'])\n",
    "    else:\n",
    "        json_index[s][year] = [paper['id']]"
   ]
  },
  {
   "cell_type": "code",
   "execution_count": 83,
   "metadata": {
    "collapsed": true
   },
   "outputs": [
    {
     "data": {
      "text/plain": [
       "[2273,\n",
       " 2274,\n",
       " 2275,\n",
       " 2276,\n",
       " 2277,\n",
       " 2278,\n",
       " 2279,\n",
       " 2280,\n",
       " 2281,\n",
       " 2282,\n",
       " 2283,\n",
       " 2284,\n",
       " 2285,\n",
       " 2286,\n",
       " 2287,\n",
       " 2288,\n",
       " 2289,\n",
       " 2290,\n",
       " 2291,\n",
       " 2292,\n",
       " 2293,\n",
       " 2294,\n",
       " 2295,\n",
       " 2296,\n",
       " 2297,\n",
       " 2298,\n",
       " 2299,\n",
       " 2300,\n",
       " 2301,\n",
       " 2302,\n",
       " 2303,\n",
       " 2304,\n",
       " 2305,\n",
       " 2306,\n",
       " 2307,\n",
       " 2308,\n",
       " 2309,\n",
       " 2310,\n",
       " 2311,\n",
       " 2312,\n",
       " 2313,\n",
       " 2314,\n",
       " 2315,\n",
       " 2316,\n",
       " 2317,\n",
       " 2318,\n",
       " 2319,\n",
       " 2320,\n",
       " 2321,\n",
       " 2322,\n",
       " 2323,\n",
       " 2324,\n",
       " 2325,\n",
       " 2326,\n",
       " 2327,\n",
       " 2328,\n",
       " 2329,\n",
       " 2330,\n",
       " 2331,\n",
       " 2332,\n",
       " 2333,\n",
       " 2334,\n",
       " 2335,\n",
       " 2336,\n",
       " 2337,\n",
       " 2338,\n",
       " 2339,\n",
       " 2340,\n",
       " 2341,\n",
       " 2342,\n",
       " 2343,\n",
       " 2344,\n",
       " 2345,\n",
       " 2346,\n",
       " 2347,\n",
       " 2348,\n",
       " 2349,\n",
       " 2350,\n",
       " 2351,\n",
       " 2352,\n",
       " 2353,\n",
       " 2354,\n",
       " 2355,\n",
       " 2356,\n",
       " 2357,\n",
       " 2358,\n",
       " 2359,\n",
       " 2360,\n",
       " 2361,\n",
       " 2362,\n",
       " 2363,\n",
       " 2364,\n",
       " 2365,\n",
       " 2366,\n",
       " 2367,\n",
       " 2368,\n",
       " 2369,\n",
       " 2370,\n",
       " 2371,\n",
       " 2372,\n",
       " 2373,\n",
       " 2374,\n",
       " 2375,\n",
       " 2376,\n",
       " 2377,\n",
       " 2378,\n",
       " 2379,\n",
       " 2380,\n",
       " 2381,\n",
       " 2382,\n",
       " 2383,\n",
       " 2384,\n",
       " 2385,\n",
       " 2386,\n",
       " 2387,\n",
       " 2388,\n",
       " 2389,\n",
       " 2390,\n",
       " 2391,\n",
       " 2392,\n",
       " 2393,\n",
       " 2394,\n",
       " 2395,\n",
       " 2396,\n",
       " 2397,\n",
       " 2398,\n",
       " 2399,\n",
       " 2400,\n",
       " 2401,\n",
       " 2402,\n",
       " 2403,\n",
       " 2404,\n",
       " 2405,\n",
       " 2406,\n",
       " 2407,\n",
       " 2408,\n",
       " 2409,\n",
       " 2410,\n",
       " 2411,\n",
       " 2412,\n",
       " 2413,\n",
       " 2414,\n",
       " 2415,\n",
       " 2416,\n",
       " 2417,\n",
       " 2418,\n",
       " 2419,\n",
       " 2420,\n",
       " 2421,\n",
       " 2422,\n",
       " 2423,\n",
       " 2424,\n",
       " 2425,\n",
       " 2426,\n",
       " 2427,\n",
       " 2428,\n",
       " 2429,\n",
       " 2430,\n",
       " 2431,\n",
       " 2432,\n",
       " 2433,\n",
       " 2434,\n",
       " 2435,\n",
       " 2436,\n",
       " 2437,\n",
       " 2438,\n",
       " 2439,\n",
       " 2440,\n",
       " 2441,\n",
       " 2442,\n",
       " 2443,\n",
       " 2444,\n",
       " 2445,\n",
       " 2446,\n",
       " 2447,\n",
       " 2448,\n",
       " 2449,\n",
       " 2450,\n",
       " 2451,\n",
       " 2452,\n",
       " 2453,\n",
       " 2454,\n",
       " 2455,\n",
       " 2456,\n",
       " 2457,\n",
       " 2458,\n",
       " 2459,\n",
       " 2460,\n",
       " 2461,\n",
       " 2462,\n",
       " 2463,\n",
       " 2464,\n",
       " 2465,\n",
       " 2466,\n",
       " 2467,\n",
       " 2468,\n",
       " 2469,\n",
       " 2470,\n",
       " 2471,\n",
       " 2472,\n",
       " 2473,\n",
       " 2474,\n",
       " 2475,\n",
       " 2476,\n",
       " 2477,\n",
       " 2478,\n",
       " 2479,\n",
       " 2480,\n",
       " 2481,\n",
       " 2482,\n",
       " 2483,\n",
       " 2484,\n",
       " 2485,\n",
       " 2486,\n",
       " 2487,\n",
       " 2488,\n",
       " 2489,\n",
       " 2490,\n",
       " 2491,\n",
       " 2492,\n",
       " 2493,\n",
       " 2494,\n",
       " 2495,\n",
       " 2496,\n",
       " 2497,\n",
       " 2498,\n",
       " 2499,\n",
       " 2500,\n",
       " 2501,\n",
       " 2502,\n",
       " 2503,\n",
       " 2504,\n",
       " 2505,\n",
       " 2506,\n",
       " 2507,\n",
       " 2508,\n",
       " 2509,\n",
       " 2510,\n",
       " 2511,\n",
       " 2512,\n",
       " 2513,\n",
       " 2514,\n",
       " 2515,\n",
       " 2516,\n",
       " 2517,\n",
       " 2518,\n",
       " 2519,\n",
       " 2520,\n",
       " 2521,\n",
       " 2522,\n",
       " 2523,\n",
       " 2524,\n",
       " 2525,\n",
       " 2526,\n",
       " 2527,\n",
       " 2528,\n",
       " 2529,\n",
       " 2530,\n",
       " 2531,\n",
       " 2532,\n",
       " 2533,\n",
       " 2534,\n",
       " 2535,\n",
       " 2536,\n",
       " 2537,\n",
       " 2538,\n",
       " 2539,\n",
       " 2540,\n",
       " 2541,\n",
       " 2542,\n",
       " 2543,\n",
       " 2544,\n",
       " 2545,\n",
       " 2546,\n",
       " 2547,\n",
       " 2548,\n",
       " 2549,\n",
       " 2550,\n",
       " 2551,\n",
       " 2552,\n",
       " 2553,\n",
       " 2554,\n",
       " 2555,\n",
       " 2556,\n",
       " 2557,\n",
       " 2558,\n",
       " 2559,\n",
       " 2560,\n",
       " 2561,\n",
       " 2562,\n",
       " 2563,\n",
       " 2564,\n",
       " 2565,\n",
       " 2566,\n",
       " 2567,\n",
       " 2568,\n",
       " 2569,\n",
       " 2570,\n",
       " 2571,\n",
       " 2572,\n",
       " 2573,\n",
       " 2574,\n",
       " 2575,\n",
       " 2576,\n",
       " 2577,\n",
       " 2578,\n",
       " 2579,\n",
       " 2580,\n",
       " 2581,\n",
       " 2582,\n",
       " 2583,\n",
       " 2584,\n",
       " 2585,\n",
       " 2586,\n",
       " 2587,\n",
       " 2588,\n",
       " 2589,\n",
       " 2590,\n",
       " 2591,\n",
       " 2592,\n",
       " 2593,\n",
       " 2594,\n",
       " 2595,\n",
       " 2596,\n",
       " 2597,\n",
       " 2598,\n",
       " 2599,\n",
       " 2600,\n",
       " 2601,\n",
       " 2602,\n",
       " 2603,\n",
       " 2604,\n",
       " 2605,\n",
       " 2606,\n",
       " 2607,\n",
       " 2608,\n",
       " 2609,\n",
       " 2610,\n",
       " 2611,\n",
       " 2612,\n",
       " 2613,\n",
       " 2614,\n",
       " 2615,\n",
       " 2616,\n",
       " 2617,\n",
       " 2618,\n",
       " 2619,\n",
       " 2620,\n",
       " 2621,\n",
       " 2622,\n",
       " 2623,\n",
       " 2624,\n",
       " 2625,\n",
       " 2626,\n",
       " 2627,\n",
       " 2628,\n",
       " 2629,\n",
       " 2630,\n",
       " 2631,\n",
       " 2632,\n",
       " 2633,\n",
       " 2634,\n",
       " 2635,\n",
       " 2636,\n",
       " 2637,\n",
       " 2638,\n",
       " 2639,\n",
       " 2640,\n",
       " 2641,\n",
       " 2642,\n",
       " 2643,\n",
       " 2644,\n",
       " 2645,\n",
       " 2646,\n",
       " 2647,\n",
       " 2648,\n",
       " 2649,\n",
       " 2650,\n",
       " 2651,\n",
       " 2652,\n",
       " 2653,\n",
       " 2654,\n",
       " 2655,\n",
       " 2656,\n",
       " 2657,\n",
       " 2658,\n",
       " 2659,\n",
       " 2660,\n",
       " 2661,\n",
       " 2662,\n",
       " 2663,\n",
       " 2664,\n",
       " 2665,\n",
       " 2666,\n",
       " 2667,\n",
       " 2668,\n",
       " 2669,\n",
       " 2670,\n",
       " 2671,\n",
       " 2672,\n",
       " 2673,\n",
       " 2674,\n",
       " 2675,\n",
       " 2676,\n",
       " 2677,\n",
       " 2678,\n",
       " 2679,\n",
       " 2680,\n",
       " 2681,\n",
       " 2682,\n",
       " 2683,\n",
       " 2684,\n",
       " 2685,\n",
       " 2686,\n",
       " 2687,\n",
       " 2688,\n",
       " 2689,\n",
       " 2690,\n",
       " 2691,\n",
       " 2692,\n",
       " 2693,\n",
       " 2694,\n",
       " 2695,\n",
       " 2696,\n",
       " 2697,\n",
       " 2698,\n",
       " 2699,\n",
       " 2700,\n",
       " 2701,\n",
       " 2702,\n",
       " 2703,\n",
       " 2704,\n",
       " 2705,\n",
       " 2706,\n",
       " 2707,\n",
       " 2708,\n",
       " 2709,\n",
       " 2710,\n",
       " 2711,\n",
       " 2712,\n",
       " 2713,\n",
       " 2714,\n",
       " 2715,\n",
       " 2716,\n",
       " 2717,\n",
       " 2718,\n",
       " 2719,\n",
       " 2720,\n",
       " 2721,\n",
       " 2722,\n",
       " 2723,\n",
       " 2724,\n",
       " 2725,\n",
       " 2726,\n",
       " 2727,\n",
       " 2728,\n",
       " 2729,\n",
       " 2730]"
      ]
     },
     "execution_count": 83,
     "metadata": {},
     "output_type": "execute_result"
    }
   ],
   "source": [
    "json_index['year']['2015']"
   ]
  },
  {
   "cell_type": "code",
   "execution_count": 203,
   "metadata": {
    "collapsed": true
   },
   "outputs": [],
   "source": [
    "lists = []\n",
    "s = 'author'\n",
    "json_index[s] = {}\n",
    "n = 0\n",
    "for paper in papers:\n",
    "    for author in paper[s]:\n",
    "        author = re.sub('[^a-z ]','', author.lower())\n",
    "        if author in json_index[s]:\n",
    "            json_index['author'][author].append(paper['id'])\n",
    "        else:\n",
    "            json_index['author'][author] = [paper['id']]"
   ]
  },
  {
   "cell_type": "code",
   "execution_count": null,
   "metadata": {
    "collapsed": false,
    "scrolled": true
   },
   "outputs": [],
   "source": []
  },
  {
   "cell_type": "code",
   "execution_count": 205,
   "metadata": {
    "collapsed": true
   },
   "outputs": [],
   "source": [
    "lists = []\n",
    "s = 'institution'\n",
    "json_index[s] = {}\n",
    "n = 0\n",
    "for paper in papers:\n",
    "    for author in paper['authorInstitution']:\n",
    "        author = re.sub('[^a-z ]','', author.lower())\n",
    "        if not word or len(word)<2: continue\n",
    "        if word in stop_words: continue\n",
    "        if author in json_index[s]:\n",
    "            json_index[s][author].append(paper['id'])\n",
    "        else:\n",
    "            json_index[s][author] = [paper['id']]"
   ]
  },
  {
   "cell_type": "code",
   "execution_count": 206,
   "metadata": {
    "collapsed": true
   },
   "outputs": [],
   "source": [
    "json_index['authorWords'] = {}\n",
    "for name in json_index['author'].keys():\n",
    "    for word in re.sub('[^a-z]',' ',name.lower()).split():\n",
    "        if not word or len(word)<2: continue\n",
    "        if word.lower() in json_index['authorWords']:\n",
    "            json_index['authorWords'][word.lower()].append(name)\n",
    "        else:\n",
    "            json_index['authorWords'][word.lower()] = [name]"
   ]
  },
  {
   "cell_type": "code",
   "execution_count": 162,
   "metadata": {
    "collapsed": false
   },
   "outputs": [
    {
     "data": {
      "text/plain": [
       "dict_keys(['elizabeth', 'finkel', 'patrick', 'jansen', 'helene', 'muller', 'landau', 'joseph', 'wright', 'jeremy', 'bruskotter', 'eric', 'toman', 'sherry', 'enzler', 'robert', 'schmidt', 'rosemary', 'gillespie', 'kenneth', 'lang', 'david', 'cole', 'hamilton', 'hua', 'hu', 'marco', 'martina', 'peter', 'jonas', 'dovi', 'poznanski', 'ryan', 'chornock', 'nugent', 'joshua', 'bloom', 'alexei', 'filippenko', 'mohan', 'ganeshalingam', 'douglas', 'leonard', 'weidong', 'li', 'rollin', 'thomas', 'john', 'simon', 'vladimir', 'protasenko', 'chuanxin', 'lian', 'huili', 'xing', 'debdeep', 'jena', 'fuquan', 'liu', 'sebastian', 'marquardt', 'clare', 'lister', 'szymon', 'swiezewski', 'caroline', 'dean', 'erik', 'stokstad', 'michael', 'bawaya', 'brad', 'wray', 'palmer', 'bernhardt', 'schlesinger', 'eshleman', 'foufoula', 'georgiou', 'hendryx', 'lemly', 'likens', 'loucks', 'power', 'white', 'wilcock', 'nichola', 'raihani', 'alexandra', 'grutter', 'redouan', 'bshary', 'shannon', 'boettcher', 'spurgeon', 'morgan', 'putnam', 'emily', 'warren', 'daniel', 'turner', 'evans', 'kelzenberg', 'james', 'maiolo', 'harry', 'atwater', 'nathan', 'lewis', 'tetsuo', 'irifune', 'toru', 'shinmei', 'catherine', 'mccammon', 'nobuyoshi', 'miyajima', 'rubie', 'frost', 'lanford', 'elisabeth', 'hildebrandt', 'eriksen', 'andreas', 'petri', 'persson', 'morten', 'lindow', 'martin', 'munk', 'sakari', 'kauppinen', 'henrik', 'rum', 'jan', 'rehwinkel', 'caetano', 'reis', 'sousa', 'paul', 'doherty', 'service', 'enserink', 'nicolaas', 'rupke', 'werren', 'stephen', 'richards', 'christopher', 'desjardins', 'oliver', 'niehuis', 'rgen', 'gadau', 'colbourne', 'the', 'nasonia', 'genome', 'working', 'group', 'richard', 'stone', 'hao', 'xin', 'balter', 'jill', 'mesirov', 'costanzo', 'anastasia', 'baryshnikova', 'bellay', 'yungil', 'kim', 'spear', 'carolyn', 'sevier', 'huiming', 'ding', 'judice', 'koh', 'kiana', 'toufighi', 'sara', 'mostafavi', 'jeany', 'prinz', 'st', 'onge', 'benjamin', 'vandersluis', 'taras', 'makhnevych', 'franco', 'vizeacoumar', 'solmaz', 'alizadeh', 'sondra', 'bahr', 'renee', 'brost', 'yiqun', 'chen', 'murat', 'cokol', 'raamesh', 'deshpande', 'zhijian', 'zhen', 'yuan', 'lin', 'wendy', 'liang', 'michaela', 'marback', 'jadine', 'paw', 'bryan', 'san', 'luis', 'ermira', 'shuteriqi', 'amy', 'hin', 'yan', 'tong', 'nydia', 'van', 'dyk', 'iain', 'wallace', 'whitney', 'matthew', 'weirauch', 'guoqing', 'zhong', 'hongwei', 'zhu', 'walid', 'houry', 'brudno', 'sasan', 'ragibizadeh', 'bal', 'zs', 'papp', 'csaba', 'frederick', 'roth', 'guri', 'giaever', 'corey', 'nislow', 'olga', 'troyanskaya', 'howard', 'bussey', 'gary', 'bader', 'anne', 'claude', 'gingras', 'quaid', 'morris', 'philip', 'chris', 'kaiser', 'chad', 'myers', 'brenda', 'andrews', 'charles', 'boone', 'atsushi', 'tero', 'seiji', 'takagi', 'tetsu', 'saigusa', 'kentaro', 'ito', 'dan', 'bebber', 'mark', 'fricker', 'kenji', 'yumiki', 'ryo', 'kobayashi', 'toshiyuki', 'nakagaki', 'rajesh', 'ganapathy', 'buckley', 'sharon', 'gerbode', 'itai', 'cohen', 'eyal', 'rotenberg', 'yakir', 'pennisi', 'zen', 'faulkes', 'cyrus', 'safinya', 'youli', 'terry', 'harrison', 'zenghui', 'wang', 'jiang', 'wei', 'morse', 'gregory', 'dash', 'oscar', 'vilches', 'cobden', 'christina', 'ann', 'gibbons', 'felicity', 'alcock', 'abigail', 'clements', 'chaille', 'webb', 'trevor', 'lithgow', 'frederic', 'geissmann', 'markus', 'manz', 'steffen', 'jung', 'sieweke', 'miriam', 'merad', 'klaus', 'ley', 'ehre', 'etay', 'lavert', 'meir', 'lahav', 'igor', 'lubomirsky', 'dalin', 'shi', 'xu', 'brian', 'hopkinson', 'fran', 'ois', 'morel', 'peng', 'ge', 'jun', 'tsao', 'stan', 'schein', 'todd', 'green', 'ming', 'luo', 'hong', 'zhou', 'smith', 'justin', 'okano', 'kahn', 'erin', 'bodine', 'sally', 'blower', 'magda', 'claeys', 'gebisa', 'ejeta', 'adrian', 'cho', 'eli', 'kintisch', 'timothy', 'searchinger', 'steven', 'hamburg', 'jerry', 'melillo', 'william', 'chameides', 'petr', 'havlik', 'kammen', 'gene', 'obersteiner', 'oppenheimer', 'robertson', 'tilman', 'ruben', 'lubowski', 'vivian', 'cheung', 'stephanie', 'sherman', 'eleanor', 'feingold', 'baudat', 'buard', 'grey', 'fledel', 'alon', 'ober', 'przeworski', 'coop', 'de', 'massy', 'feng', 'tao', 'sefa', 'dag', 'zhi', 'derek', 'butcher', 'hendrik', 'bluhm', 'miquel', 'salmeron', 'gabor', 'somorjai', 'jeffrey', 'dorale', 'bogdan', 'onac', 'joan', 'forn', 'joaquin', 'gin', 'angel', 'paola', 'tuccimei', 'peate', 'petya', 'krasteva', 'jiunn', 'fong', 'nicholas', 'shikuma', 'sinem', 'beyhan', 'marcos', 'navarro', 'fitnat', 'yildiz', 'holger', 'sondermann', 'rory', 'bowden', 'afidalina', 'tumian', 'ronald', 'bontrop', 'colin', 'freeman', 'tammie', 'macfie', 'gil', 'mcvean', 'donnelly', 'mccormack', 'lauren', 'young', 'sumitha', 'vasudevan', 'graaf', 'rosalind', 'codrington', 'terence', 'rabbitts', 'jane', 'curtis', 'jiao', 'barry', 'cipra', 'detlef', 'schulze', 'inge', 'alexander', 'barbara', 'jasny', 'schreiner', 'axel', 'mogk', 'bernd', 'bukau', 'constance', 'holden', 'mervis', 'grimm', 'jocelyn', 'stanley', 'kidder', 'vonder', 'haar', 'lisa', 'grant', 'ludwig', 'sinan', 'ak', 'iz', 'gabriela', 'noriega', 'olaf', 'zielke', 'ram', 'arrowsmith', 'clark', 'kerr', 'pingoud', 'annette', 'cowie', 'neil', 'bird', 'leif', 'gustavsson', 'ter', 'roger', 'sathre', 'sampo', 'soimakallio', 'rk', 'susanne', 'woess', 'gallasch', 'norreys', 'heimann', 'frank', 'kirchhoff', 'edouard', 'bard', 'bruno', 'hamelin', 'doriane', 'delanghe', 'sabatier', 'francis', 'macdonald', 'schmitz', 'crowley', 'roots', 'jones', 'adam', 'maloof', 'strauss', 'phoebe', 'johnston', 'schrag', 'hotez', 'greg', 'miller', 'heather', 'pringle', 'tim', 'dixon', 'falk', 'amelung', 'shimon', 'wdowinksi', 'khalid', 'salaita', 'pradeep', 'nair', 'rebecca', 'petit', 'neve', 'debopriya', 'das', 'joe', 'gray', 'jay', 'groves', 'hugo', 'snippert', 'andrea', 'haegebarth', 'maria', 'kasper', 'viljar', 'jaks', 'johan', 'es', 'nick', 'barker', 'marc', 'wetering', 'maaike', 'den', 'born', 'begthel', 'vries', 'stange', 'rune', 'toftg', 'rd', 'hans', 'clevers', 'ronny', 'merken', 'faidra', 'bazigou', 'nico', 'koedam', 'dutton', 'cuzzi', 'burns', 'charnoz', 'colwell', 'dones', 'esposito', 'filacchione', 'french', 'hedman', 'kempf', 'marouf', 'murray', 'nicholson', 'porco', 'showalter', 'spilker', 'spitale', 'srama', 'srem', 'evi', 'tiscareno', 'weiss', 'bj', 'rn', 'hof', 'alberto', 'lozar', 'avila', 'xiaoyun', 'tu', 'tobias', 'schneider', 'wenrui', 'dong', 'chunlei', 'xiao', 'dongxu', 'dai', 'xueming', 'yang', 'zhang', 'hidenori', 'harold', 'hwang', 'rogers', 'takao', 'someya', 'yonggang', 'huang', 'mannhart', 'schlom', 'hauer', 'clint', 'muhlfeld', 'nye', 'hamb', 'ck', 'gerald', 'dorn', 'cdms', 'ii', 'collaboration', 'agnel', 'sfeir', 'shaheen', 'kabir', 'megan', 'overbeek', 'giulia', 'celli', 'titia', 'lange', 'jon', 'skibbe', 'gunther', 'doehlemann', 'fernandes', 'virginia', 'walbot', 'tomasz', 'religa', 'remco', 'sprangers', 'kay', 'reyes', 'tirado', 'darleen', 'sandoval', 'randy', 'seeley', 'ravi', 'prasher', 'lee', 'berger', 'darryl', 'ruiter', 'churchill', 'schmid', 'kristian', 'carlson', 'dirks', 'job', 'kibii', 'kuhn', 'christine', 'steininger', 'kramers', 'robyn', 'pickering', 'farber', 'sophie', 'riaux', 'andy', 'herries', 'geoffrey', 'king', 'schenkman', 'bohannon', 'jacob', 'phelps', 'edward', 'arun', 'agrawal', 'meijer', 'luigi', 'fontana', 'linda', 'partridge', 'valter', 'longo', 'qiushi', 'yin', 'miles', 'tan', 'claire', 'besson', 'yurii', 'geletii', 'djamaladdin', 'musaev', 'aleksey', 'kuznetsov', 'ken', 'hardcastle', 'craig', 'hill', 'pearson', 'moje', 'cynthia', 'greenleaf', 'bruce', 'alberts', 'yudhijit', 'bhattacharjee', 'or', 'syd', 'amit', 'samuel', 'etienne', 'hanaguri', 'niitaka', 'kuroki', 'jennifer', 'couzin', 'frankel', 'claus', 'christian', 'carbon', 'gunawardena', 'ezequiel', 'treister', 'priyamvada', 'natarajan', 'sanders', 'urry', 'kevin', 'schawinski', 'jeyhan', 'kartaltepe', 'ilana', 'kolodkin', 'gal', 'diego', 'romero', 'shugeng', 'cao', 'clardy', 'roberto', 'kolter', 'losick', 'shermer', 'carlene', 'zindl', 'chaplin', 'spike', 'norbert', 'schwarz', 'chenggang', 'cullen', 'williams', 'jacqueline', 'shields', 'iraklis', 'kourtis', 'alice', 'tomei', 'joanna', 'roberts', 'melody', 'swartz', 'clery', 'bill', 'luckin', 'alex', 'london', 'jonathan', 'kimmelman', 'marina', 'elena', 'emborg', 'albert', 'jeltsch', 'nudds', 'gareth', 'dyke', 'sinervo', 'fausto', 'ndez', 'la', 'cruz', 'donald', 'benoit', 'heulin', 'bastiaans', 'maricela', 'villagr', 'santa', 'rafael', 'lara', 'resendiz', 'norberto', 'mart', 'nez', 'martha', 'luc', 'calder', 'espinosa', 'rubi', 'nelsi', 'meza', 'zaro', 'ctor', 'gadsden', 'luciano', 'javier', 'mariana', 'morando', 'ignacio', 'riva', 'pedro', 'victoriano', 'sepulveda', 'carlos', 'frederico', 'duarte', 'rocha', 'nora', 'ibarg', 'engoyt', 'sar', 'aguilar', 'puntriano', 'manuel', 'massot', 'virginie', 'lepetz', 'tuula', 'oksanen', 'chapple', 'aaron', 'bauer', 'branch', 'jean', 'clobert', 'jack', 'sites', 'archibald', 'clemens', 'padian', 'rowe', 'norman', 'macleod', 'barrett', 'andrew', 'gale', 'pat', 'holroyd', 'dieter', 'sues', 'nan', 'crystal', 'arens', 'horner', 'wilson', 'goodwin', 'brochu', 'lofgren', 'stuart', 'hurlbert', 'hartman', 'eberth', 'wignall', 'currie', 'weil', 'guntupalli', 'prasad', 'lowell', 'dingus', 'vincent', 'courtillot', 'angela', 'milner', 'sunil', 'bajpai', 'ward', 'ashok', 'sahni', 'gerta', 'keller', 'thierry', 'adatte', 'alfonso', 'pardo', 'ashu', 'khosla', 'bandana', 'samant', 'schulte', 'laia', 'alegret', 'arenillas', 'jos', 'arz', 'penny', 'barton', 'bown', 'bralower', 'gail', 'christeson', 'philippe', 'cockell', 'collins', 'deutsch', 'tamara', 'goldin', 'kazuhisa', 'goto', 'grajales', 'nishimura', 'grieve', 'sean', 'gulick', 'kirk', 'johnson', 'wolfgang', 'kiessling', 'koeberl', 'kring', 'takafumi', 'matsui', 'melosh', 'alessandro', 'montanari', 'clive', 'neal', 'norris', 'elisabetta', 'pierazzo', 'ravizza', 'mario', 'rebolledo', 'vieyra', 'wolf', 'uwe', 'reimold', 'robin', 'salge', 'speijer', 'arthur', 'sweet', 'jaime', 'urrutia', 'fucugauchi', 'vivi', 'vajda', 'whalen', 'pi', 'willumsen', 'skinner', 'lawrence', 'krauss', 'scott', 'dodelson', 'stephan', 'meyer', 'nadine', 'samara', 'ajit', 'datta', 'berndsen', 'xiangbin', 'tingting', 'yao', 'wolberger', 'xiu', 'yu', 'kieran', 'mcgourty', 'mei', 'kate', 'unsworth', 'bolon', 'barthold', 'kelli', 'boyd', 'cory', 'brayton', 'cardiff', 'cork', 'kathryn', 'eaton', 'trenton', 'schoeb', 'sundberg', 'jerrold', 'collinge', 'coffman', 'anderson', 'mary', 'carr', 'fendorf', 'holly', 'geen', 'marcus', 'zachariah', 'jason', 'cyster', 'fallon', 'waelbroeck', 'michel', 'yanhui', 'lu', 'kongming', 'wu', 'yuying', 'bing', 'xia', 'ping', 'hongqiang', 'kris', 'wyckhuys', 'yuyuan', 'guo', 'butchart', 'matt', 'walpole', 'ben', 'collen', 'arco', 'strien', 'scharlemann', 'rosamunde', 'almond', 'baillie', 'bastian', 'bomhard', 'brown', 'kent', 'carpenter', 'genevi', 've', 'janice', 'chanson', 'anna', 'chenery', 'jorge', 'csirke', 'davidson', 'dentener', 'foster', 'galli', 'galloway', 'piero', 'genovesi', 'hockings', 'valerie', 'kapos', 'francois', 'lamarque', 'fiona', 'leverington', 'loh', 'melodie', 'mcgeoch', 'louise', 'mcrae', 'anahit', 'minasyan', 'monica', 'hern', 'morcillo', 'thomasina', 'oldfield', 'pauly', 'suhel', 'quader', 'carmen', 'revenga', 'sauer', 'skolnik', 'dian', 'damon', 'stanwell', 'symes', 'tierney', 'tristan', 'tyrrell', 'christophe', 'vi', 'reg', 'watson', 'joanne', 'connell', 'kislay', 'parvatiyar', 'harhaj', 'gustafson', 'lim', 'bastien', 'le', 'picard', 'meryem', 'tizniti', 'andr', 'canosa', 'ian', 'sims', 'lawler', 'joly', 'ricardo', 'rodrigues', 'metzger', 'lio', 'haddad', 'verdade', 'oliveira', 'vanderlan', 'bolzani', 'bongaarts', 'mead', 'over', 'renyi', 'zhongqing', 'debin', 'suenne', 'soo', 'yike', 'yakes', 'arnaldo', 'laracuente', 'zhenting', 'seth', 'marder', 'walter', 'heer', 'sheehan', 'elisa', 'riedo', 'carsten', 'dreu', 'lindred', 'greer', 'handgraaf', 'shaul', 'shalvi', 'gerben', 'kleef', 'matthijs', 'baas', 'femke', 'ten', 'velden', 'dijk', 'sander', 'feith', 'malakoff', 'nicholls', 'anny', 'cazenave', 'naomi', 'lubick', 'stefan', 'leu', 'cooke', 'sidney', 'holt', 'russell', 'leaper', 'vassili', 'papastavrou', 'george', 'philander', 'bruins', 'vijaykrishna', 'poon', 'ma', 'peiris', 'guan', 'herbert', 'laura', 'cleaveland', 'peterson', 'kira', 'zhonghui', 'josh', 'vura', 'weis', 'sameh', 'abdelwahed', 'ruchi', 'shukla', 'rajendra', 'rathore', 'ratner', 'wasielewski', 'budd', 'pandolfi', 'shuhei', 'nakamura', 'kayo', 'toshiya', 'shin', 'ichi', 'higashijima', 'minoru', 'tanaka', 'hutton', 'barney', 'dickson', 'walker', 'stiles', 'olivier', 'hanotte', 'tadelle', 'dessie', 'steve', 'kemp', 'tate', 'schultze', 'fie', 'karpowicz', 'gagnon', 'korbman', 'hofstetter', 'neppl', 'cavalieri', 'komninos', 'th', 'mercouris', 'nicolaides', 'pazourek', 'nagele', 'feist', 'burgd', 'rfer', 'azzeer', 'ernstorfer', 'kienberger', 'kleineberg', 'goulielmakis', 'krausz', 'yakovlev', 'ackerman', 'nocera', 'bargh', 'vittorio', 'sgaramella', 'rachel', 'behrman', 'janet', 'woodcock', 'mildred', 'relman', 'storz', 'di', 'santo', 'wade', 'hicks', 'minlee', 'haber', 'didier', 'trono', 'carine', 'lint', 'rouzioux', 'verdin', 'oise', 'barr', 'sinoussi', 'tae', 'wook', 'chun', 'nicolas', 'chomont', 'jessica', 'justman', 'wafaa', 'el', 'sadr', 'sifers', 'ramberg', 'pei', 'jiun', 'laurent', 'jie', 'min', 'schellart', 'stegman', 'farrington', 'moresi', 'utne', 'palm', 'salvanes', 'bronwen', 'stein', 'kaartvedt', 'ran', 'nilsson', 'victoria', 'braithwaite', 'stecyk', 'matthias', 'hundt', 'der', 'bank', 'bradley', 'flynn', 'guro', 'sandvik', 'thor', 'klevjer', 'sweetman', 'volker', 'br', 'chert', 'karin', 'pittman', 'kathleen', 'peard', 'ida', 'lunde', 'nnaug', 'strandab', 'seymour', 'rafel', 'sim', 'tanvir', 'ahmed', 'roman', 'stocker', 'silverstein', 'baumard', 'pascal', 'boyer', 'sperber', 'henrich', 'ensminger', 'mcelreath', 'bolyanatz', 'juan', 'camilo', 'cardenas', 'gurven', 'edwins', 'gwako', 'natalie', 'lesorogol', 'marlowe', 'tracer', 'ziker', 'dwight', 'whitaker', 'edwards', 'hiroyasu', 'furukawa', 'nakeun', 'ko', 'yong', 'bok', 'go', 'naoki', 'aratani', 'sang', 'beom', 'choi', 'eunwoo', 'zg', 'yazaydin', 'randall', 'snurr', 'keeffe', 'jaheon', 'omar', 'yaghi', 'volkan', 'coskun', 'jifang', 'xie', 'weihong', 'kazuaki', 'yoshikawa', 'en', 'yi', 'eve', 'sun', 'mctaggart', 'webster', 'roope', 'mannikko', 'iberl', 'patrik', 'rorsman', 'maike', 'glitsch', 'beeson', 'frances', 'ashcroft', 'gretchen', 'vogel', 'antonio', 'pe', 'meredith', 'hay', 'ar', 'mburo', 'hoz', 'ruiz', 'dickersin', 'ralph', 'lorenz', 'petersen', 'calle', 'liping', 'zhao', 'eun', 'liqiong', 'gui', 'michasam', 'raredon', 'kseniya', 'gavrilov', 'tai', 'zhuang', 'breuer', 'erica', 'herzog', 'niklason', 'bakr', 'gillen', 'lling', 'pollet', 'greiner', 'stolfi', 'blair', 'gainous', 'mori', 'levine', 'lionel', 'christiaen', 'dutkiewicz', 'glenn', 'flierl', 'bragg', 'follows', 'wilkinson', 'marcel', 'franz', 'gregg', 'jiangwen', 'brandon', 'weissbourd', 'shujun', 'schroth', 'haig', 'dulac', 'tiziana', 'sacco', 'benedetto', 'sacchetti', 'shiff', 'phil', 'thuma', 'bergin', 'mckenna', 'millard', 'perez', 'prival', 'rainey', 'sevian', 'vanderputten', 'hamos', 'salma', 'kaochar', 'paek', 'ted', 'weinert', 'marcelo', 'far', 'as', 'gabriel', 'vargas', 'tassara', 'carretier', 'phane', 'baize', 'melnick', 'bataille', 'margarida', 'almeida', 'santos', 'zhibin', 'chongzhi', 'zang', 'kristopher', 'schwab', 'mila', 'jankovic', 'darius', 'filsuf', 'tang', 'gazumyan', 'arito', 'yamane', 'kai', 'weiqun', 'nussenzweig', 'casellas', 'dressler', 'keji', 'watters', 'robinson', 'ross', 'beyer', 'banks', 'bell', 'pritchard', 'harald', 'hiesinger', 'bogert', 'turtle', 'ller', 'heide', 'peters', 'julia', 'bl', 'mer', 'wulf', 'blankenfeldt', 'goody', 'aymelt', 'itzen', 'yigong', 'rao', 'janardan', 'pandey', 'boggs', 'wells', 'quarraisha', 'abdool', 'karim', 'salim', 'frohlich', 'anneke', 'grobler', 'cheryl', 'baxter', 'leila', 'mansoor', 'ayesha', 'kharsany', 'sengeziwe', 'sibeko', 'koleka', 'mlisana', 'zaheen', 'tanuja', 'gengiah', 'silvia', 'maarschalk', 'natasha', 'arulappan', 'mukelisiwe', 'mlotshwa', 'lynn', 'taylor', 'on', 'behalf', 'of', 'caprisa', 'trial', 'rottmann', 'case', 'mcnamara', 'yeung', 'bin', 'zou', 'seitz', 'plouffe', 'neekesh', 'dharia', 'spencer', 'gonzalo', 'gonz', 'lez', 'ez', 'suresh', 'lakshminarayana', 'goh', 'rossarin', 'suwanarusk', 'jegla', 'esther', 'schmitt', 'beck', 'reto', 'brun', 'nosten', 'renia', 'veronique', 'dartois', 'fidock', 'winzeler', 'diagana', 'cami', 'jeronimo', 'bernard', 'salas', 'els', 'peeters', 'sarah', 'malek', 'ke', 'peigen', 'heath', 'petra', 'muenzner', 'verena', 'bachmann', 'zimmermann', 'jochen', 'hentschel', 'christof', 'hauck', 'jixin', 'cui', 'qing', 'shan', 'xiaojun', 'qiuhe', 'haibin', 'mao', 'ning', 'zheng', 'she', 'shao', 'regalado', 'fernanda', 'michalski', 'darren', 'peres', 'benford', 'traas', 'teva', 'vernoux', 'te', 'swarup', 'bhunia', 'mehran', 'mehregany', 'chang', 'wonjoon', 'jae', 'hee', 'han', 'strano', 'davis', 'caldeira', 'matthews', 'su', 'kyoung', 'asako', 'shindo', 'joo', 'park', 'edwin', 'oh', 'srimoyee', 'ghosh', 'tania', 'attie', 'bittach', 'katsanis', 'wallingford', 'shubha', 'tole', 'vale', 'von', 'hippel', 'brusatte', 'norell', 'erickson', 'hutchinson', 'balanoff', 'gabe', 'bever', 'jonah', 'choiniere', 'makovicky', 'schl', 'sinha', 'gunthe', 'huffman', 'borrmann', 'farmer', 'garland', 'helas', 'jimenez', 'manzi', 'mikhailov', 'pauliquevis', 'petters', 'prenni', 'roldin', 'rose', 'zorn', 'artaxo', 'andreae', 'enfield', 'packer', 'alain', 'destexhe', 'outlaw', 'holloway', 'tiago', 'branco', 'beverley', 'usser', 'bortnik', 'thorne', 'lyons', 'angelopoulos', 'mende', 'bonnell', 'contel', 'cully', 'ergun', 'auster', 'snelgrove', 'patricia', 'jackson', 'hardison', 'brett', 'noerager', 'kinloch', 'gaggar', 'shastry', 'yun', 'shim', 'tracy', 'hussell', 'blalock', 'youjun', 'xiaoxiang', 'deng', 'salvatore', 'mancarella', 'eunan', 'hendron', 'satoru', 'eguchi', 'soboloff', 'xiang', 'gill', 'dennis', 'normile', 'mcguire', 'caulfield', 'wylie', 'burke', 'musacchio', 'lafferty', 'navrotsky', 'chengcheng', 'kristina', 'lilova', 'nancy', 'birkner', 'gustav', 'vaaje', 'kolstad', 'rge', 'westereng', 'svein', 'horn', 'zhanliang', 'zhai', 'rlie', 'eijsink', 'fangwei', 'daum', 'ewa', 'niedzialkowska', 'budhaditya', 'banerjee', 'stukenberg', 'gorbsky', 'higgins', 'kelly', 'cristina', 'ghenoiu', 'xue', 'zierhut', 'hiroshi', 'kimura', 'hironori', 'funabiki', 'sandra', 'telfer', 'xavier', 'lambin', 'birtles', 'pablo', 'beldomenico', 'burthe', 'paterson', 'mike', 'begon', 'fredric', 'coe', 'asplin', 'srikanth', 'wall', 'ana', 'maldonado', 'contreras', 'hai', 'daoguo', 'zachary', 'demma', 'karen', 'mumy', 'beth', 'mccormick', 'nina', 'vogt', 'desplan', 'anthony', 'colaprete', 'schultz', 'heldmann', 'diane', 'wooden', 'shirley', 'kimberly', 'ennico', 'brendan', 'hermalyn', 'marshall', 'ricco', 'elphic', 'goldstein', 'dustin', 'summy', 'gwendolyn', 'bart', 'asphaug', 'don', 'korycansky', 'landis', 'luke', 'sollitt', 'gladstone', 'dana', 'hurley', 'kurt', 'retherford', 'feldman', 'wayne', 'pryor', 'yves', 'chaufray', 'maarten', 'versteeg', 'greathouse', 'steffl', 'henry', 'throop', 'joel', 'wm', 'parker', 'kaufmann', 'egan', 'slater', 'joey', 'mukherjee', 'amanda', 'hendrix', 'alan', 'stern', 'fanghao', 'wenbin', 'neafsey', 'lawniczak', 'redmond', 'coulibaly', 'traor', 'sagnon', 'costantini', 'wiegand', 'lander', 'wirth', 'kafatos', 'besansky', 'christophides', 'muskavitch', 'guy', 'riddihough', 'zahn', 'randal', 'halfmann', 'susan', 'lindquist', 'kettle', 'jaboury', 'ghazoul', 'ashton', 'cannon', 'lucy', 'chong', 'bibia', 'diway', 'eny', 'faridah', 'rhett', 'hector', 'pete', 'hollingsworth', 'pin', 'eyen', 'khoo', 'kanehiro', 'kitayama', 'kuswata', 'kartawinata', 'maycock', 'satoshi', 'nanami', 'paoli', 'potts', 'sheil', 'sylvester', 'ichie', 'tomoaki', 'campbell', 'takuo', 'yamakura', 'burslem', 'felix', 'pithan', 'brien', 'schofield', 'janan', 'eppig', 'eva', 'huala', 'hrabe', 'angelis', 'harvey', 'duncan', 'tom', 'weaver', 'damian', 'smedley', 'nadia', 'rosenthal', 'schughart', 'vassilis', 'aidinis', 'glauco', 'tocchini', 'valentini', 'hancock', 'grill', 'qu', 'mourre', 'villa', 'henshilwood', 'frenkel', 'chyba', 'mattia', 'negrello', 'hopwood', 'zotti', 'cooray', 'verma', 'bock', 'frayer', 'gurwell', 'omont', 'neri', 'dannerbauer', 'leeuw', 'da', 'cunha', 'rodighiero', 'cox', 'bonfield', 'jarvis', 'serjeant', 'ivison', 'dye', 'aretxaga', 'hughes', 'ibar', 'bertoldi', 'valtchanov', 'eales', 'dunne', 'driver', 'auld', 'buttiglione', 'cava', 'grady', 'dariush', 'fritz', 'hornbeck', 'kelvin', 'lagache', 'lopez', 'caniego', 'gonzalez', 'nuevo', 'maddox', 'pascale', 'pohlen', 'rigby', 'robotham', 'simpson', 'temi', 'thompson', 'woodgate', 'york', 'aguirre', 'beelen', 'blain', 'baker', 'birkinshaw', 'blundell', 'bradford', 'burgarella', 'danese', 'dunlop', 'fleuren', 'harris', 'kamenetzky', 'lupu', 'maddalena', 'madore', 'maloney', 'matsuhara', 'michaowski', 'murphy', 'naylor', 'nguyen', 'popescu', 'rawlings', 'rigopoulou', 'seibert', 'smail', 'tuffs', 'vieira', 'werf', 'zmuidzinas', 'reed', 'uchoa', 'il', 'gan', 'casa', 'eduardo', 'fradkin', 'abbamonte', 'bret', 'lane', 'jillian', 'orans', 'ja', 'seol', 'koo', 'madhukumar', 'venkatesh', 'jobin', 'an', 'yeh', 'sridhar', 'mani', 'redinbo', 'quinn', 'mitrovich', 'tuch', 'francisco', 'vega', 'guthrie', 'florent', 'ginhoux', 'melanie', 'greter', 'marylene', 'leboeuf', 'sayan', 'nandi', 'see', 'solen', 'gokhan', 'mehler', 'conway', 'lai', 'ng', 'samokhvalov', 'julius', 'keeling', 'ford', 'doolittle', 'beloqui', 'mar', 'eugenia', 'guazzaroni', 'florencio', 'pazos', 'vieites', 'marta', 'godoy', 'golyshina', 'tatyana', 'chernikova', 'agnes', 'waliczek', 'silva', 'yamal', 'al', 'ramahi', 'violetta', 'cono', 'mendez', 'solano', 'michail', 'yakimov', 'timmis', 'golyshin', 'ferrer', 'jaramillo', 'diana', 'ochoa', 'lineth', 'pagani', 'humberto', 'carvajal', 'ortiz', 'pratt', 'srinath', 'krishnan', 'agustin', 'cardona', 'millerlandy', 'quiroz', 'guillermo', 'rodriguez', 'milton', 'rueda', 'felipe', 'parra', 'mor', 'walton', 'german', 'bayona', 'montes', 'quintero', 'ramirez', 'germ', 'mora', 'schouten', 'hermann', 'bermudez', 'rosa', 'navarrete', 'mauricio', 'alvar', 'jose', 'osorno', 'victor', 'valencia', 'jeff', 'vervoort', 'devesh', 'rustagi', 'stefanie', 'engel', 'kosfeld', 'rudy', 'juliano', 'mann', 'wabl', 'burk', 'roberta', 'millstein', 'baoxi', 'wen', 'jing', 'bo', 'donglai', 'lv', 'yaran', 'miao', 'shen', 'ellen', 'chien', 'qiang', 'vsevolod', 'katritch', 'gye', 'won', 'hanson', 'lei', 'newman', 'javitch', 'vadim', 'cherezov', 'raymond', 'stevens', 'marx', 'reich', 'trenberth', 'arkin', 'defelipe', 'sunghwan', 'aristoff', 'carlotta', 'giorgi', 'keisuke', 'hui', 'kuan', 'clara', 'santangelo', 'mariusz', 'wieckowski', 'magdalena', 'lebiedzinska', 'bononi', 'massimo', 'bonora', 'jerzy', 'duszynski', 'bernardi', 'rosario', 'rizzuto', 'carlo', 'tacchetti', 'paolo', 'pinton', 'pier', 'blight', 'ainley', 'ackley', 'ballard', 'tosca', 'ballerini', 'brownell', 'cheng', 'mariachiara', 'chiantore', 'costa', 'malcolm', 'coulter', 'dayton', 'devries', 'dunbar', 'sylvia', 'earle', 'eastman', 'emslie', 'garrott', 'stacy', 'kooyman', 'am', 'lie', 'lescro', 'lizotte', 'massaro', 'olmastroni', 'ponganis', 'joellen', 'siniff', 'brent', 'stewart', 'stirling', 'willis', 'woehler', 'fern', 'manjarr', 'tschanz', 'futaba', 'takeo', 'yamada', 'motoo', 'yumura', 'hata', 'canfield', 'thamdrup', 'loreto', 'brabandere', 'tage', 'dalsgaard', 'delong', 'niels', 'revsbech', 'osvaldo', 'ulloa', 'marchitto', 'raimund', 'muscheler', 'carriquiry', 'jianguo', 'shuxin', 'kessin', 'vijayraghavan', 'bate', 'takahashi', 'kono', 'dessler', 'bloomfield', 'skelton', 'alasdair', 'ivens', 'yoshimasa', 'andrius', 'baskys', 'valda', 'vinson', 'pierre', 'mo', 'nne', 'loccoz', 'fee', 'betz', 'johny', 'setiawan', 'rainer', 'klement', 'henning', 'rix', 'boyke', 'rochau', 'jens', 'rodmann', 'hartung', 'aicha', 'gharbi', 'ayachi', 'labb', 'burgess', 'suzanne', 'vigneron', 'strub', 'estelle', 'brioudes', 'dorsselaer', 'castro', 'lorca', 'rabinowitz', 'carl', 'schoonover', 'bridson', 'batty', 'gerstein', 'nostrand', 'chao', 'arshinoff', 'yip', 'robilotto', 'rechtsteiner', 'kohta', 'ikegami', 'alves', 'aurelien', 'chateigner', 'perry', 'mitzi', 'auerbach', 'leng', 'vielle', 'niu', 'rhrissorrakrai', 'ashish', 'agarwal', 'galt', 'barber', 'cathleen', 'brdlik', 'brennan', 'brouillet', 'sin', 'hiram', 'clawson', 'sergio', 'contrino', 'dannenberg', 'abby', 'dernburg', 'arshad', 'desai', 'lindsay', 'dick', 'dos', 'du', 'thea', 'egelhofer', 'sevinc', 'ercan', 'ghia', 'euskirchen', 'ewing', 'elise', 'gassmann', 'good', 'gullier', 'michelle', 'gutwein', 'guyer', 'lukas', 'habegger', 'ting', 'jorja', 'henikoff', 'henz', 'angie', 'hinrichs', 'holster', 'tony', 'hyman', 'leo', 'iniguez', 'judith', 'janette', 'jensen', 'masaomi', 'kato', 'kephart', 'vishal', 'khivansara', 'ekta', 'khurana', 'paulina', 'kolasinska', 'zwierz', 'isabel', 'latorre', 'amber', 'leahey', 'suzanna', 'lloyd', 'lucas', 'lochovsky', 'lowdon', 'yaniv', 'lubling', 'lyne', 'maccoss', 'mackowiak', 'mangone', 'sheldon', 'mckay', 'desirea', 'mecenas', 'gennifer', 'merrihew', 'muroyama', 'siew', 'loon', 'ooi', 'hoang', 'pham', 'taryn', 'phippen', 'elicia', 'preston', 'nikolaus', 'rajewsky', 'gunnar', 'tsch', 'heidi', 'rosenbaum', 'rozowsky', 'rutherford', 'ruzanov', 'mihail', 'sarov', 'rajkumar', 'sasidharan', 'sboner', 'scheid', 'eran', 'segal', 'hyunjin', 'shou', 'slack', 'cindie', 'slightam', 'stinson', 'taing', 'teruaki', 'takasaki', 'dionne', 'vafeados', 'ksenia', 'voronina', 'guilin', 'nicole', 'washington', 'whittle', 'beijing', 'koon', 'kiu', 'georg', 'zeller', 'zha', 'xingliang', 'modencode', 'consortium', 'julie', 'ahringer', 'strome', 'kristin', 'gunsalus', 'gos', 'micklem', 'reinke', 'ladeana', 'hillier', 'fabio', 'piano', 'snyder', 'lincoln', 'lieb', 'waterston', 'chueh', 'christoph', 'falter', 'mandy', 'abbott', 'danien', 'scipio', 'philipp', 'furler', 'sossina', 'haile', 'aldo', 'steinfeld', 'rg', 'wunderlich', 'byong', 'guk', 'irvine', 'liviu', 'rbo', 'rozkotov', 'nemec', 'nov', 'jairo', 'sinova', 'jungwirth', 'federico', 'forneris', 'ricklin', 'jin', 'apostolia', 'tzekou', 'lambris', 'piet', 'gros', 'jakub', 'famulski', 'niraj', 'trivedi', 'danielle', 'howell', 'yiai', 'gilbertson', 'solecki', 'swing', 'isaksen', 'dals', 'ren', 'montzka', 'krol', 'dlugokencky', 'hall', 'ckel', 'lelieveld', 'isabelle', 'kruta', 'landman', 'rouget', 'fabrizio', 'cecca', 'tafforeau', 'hrabowski', 'zaitsev', 'debomoy', 'lahiri', 'mccray', 'rust', 'golden', 'shea', 'trinidad', 'fullerton', 'ludman', 'jarvik', 'larson', 'yosuke', 'matsumoto', 'nakatsuji', 'kuga', 'yoshitomo', 'karaki', 'horie', 'yasuyuki', 'shimura', 'toshiro', 'sakakibara', 'andriy', 'nevidomskyy', 'piers', 'coleman', 'koji', 'atarashi', 'takeshi', 'tanoue', 'tatsuichiro', 'shima', 'akemi', 'imaoka', 'tomomi', 'kuwahara', 'yoshika', 'momose', 'genhong', 'sho', 'yamasaki', 'takashi', 'saito', 'yusuke', 'ohba', 'tadatsugu', 'taniguchi', 'kiyoshi', 'takeda', 'shohei', 'hori', 'ivaylo', 'ivanov', 'yoshinori', 'umesaki', 'kikuji', 'itoh', 'kenya', 'honda', 'hoorn', 'wesselingh', 'steege', 'sevink', 'sanmart', 'sanchez', 'meseguer', 'figueiredo', 'riff', 'negri', 'hooghiemstra', 'lundberg', 'stadler', 'rkinen', 'antonelli', 'armando', 'fox', 'okazaki', 'shibauchi', 'haga', 'matsuda', 'yamamoto', 'onuki', 'ikeda', 'shackelford', 'mihaylova', 'gelino', 'kohnz', 'mair', 'debbie', 'vasquez', 'aashish', 'joshi', 'gwinn', 'asara', 'fitzpatrick', 'dillin', 'viollet', 'mondira', 'kundu', 'malene', 'hansen', 'reuben', 'shaw', 'leslie', 'jolly', 'raynard', 'kington', 'lopatto', 'jim', 'cortada', 'demenocal', 'sergej', 'djuranovic', 'ali', 'nahvi', 'bolinger', 'traub', 'takuji', 'adachi', 'culyba', 'price', 'apratim', 'dhar', 'chi', 'huey', 'wong', 'gruebele', 'evan', 'powers', 'jeffery', 'riehle', 'wamdaogo', 'guelbeogo', 'awa', 'gneme', 'eiglmeier', 'holm', 'emmanuel', 'bischoff', 'garnier', 'xuanzhong', 'kyriacos', 'markianos', 'fale', 'vernick', 'reichman', 'schildhauer', 'hendler', 'gade', 'pardis', 'sabeti', 'schadt', 'carol', 'kimbel', 'johanson', 'murim', 'ute', 'scholl', 'yue', 'peyman', 'rklund', 'bixiao', 'nelson', 'weizhen', 'ji', 'yoonsang', 'aniruddh', 'patel', 'men', 'elias', 'lolis', 'max', 'wisgerhof', 'geller', 'shrikant', 'mane', 'per', 'hellman', 'westin', 'kerstr', 'wenhui', 'carling', 'lifton', 'sheila', 'jasanoff', 'geert', 'rikken', 'gerhard', 'heldmaier', 'marimuthu', 'sylvie', 'jolivet', 'maruthachalam', 'lucie', 'pereira', 'jayeshkumar', 'davda', 'laurence', 'cromer', 'lili', 'fabien', 'nogu', 'chan', 'imran', 'siddiqi', 'rapha', 'mercier', 'jang', 'felker', 'bark', 'niranjan', 'folkman', 'baek', 'janicka', 'pan', 'tsymbal', 'rzchowski', 'eom', 'wenjie', 'wan', 'yidong', 'heeso', 'noh', 'fengyan', 'jui', 'kopin', 'rik', 'op', 'camp', 'arend', 'streng', 'mita', 'qingqin', 'polone', 'jetty', 'ammiraju', 'dave', 'kudrna', 'rod', 'wing', 'untergasser', 'ton', 'bisseling', 'geurts', 'toney', 'cagan', 'sekercioglu', 'jikui', 'song', 'rechkoblit', 'bestor', 'dinshaw', 'weiguo', 'fang', 'rodr', 'guez', 'anil', 'jacobs', 'lorena', 'angray', 'kang', 'leger', 'claudia', 'val', 'rie', 'vidal', 'american', 'society', 'human', 'genetics', 'for', 'reproductive', 'medicine', 'endocrine', 'america', 'developmental', 'biology', 'pediatric', 'urology', 'study', 'reproduction', 'gynecologic', 'investigation', 'gibson', 'navjot', 'sodhi', 'gunlycke', 'erlandson', 'torben', 'rick', 'braje', 'molly', 'casperson', 'culleton', 'fulfrost', 'garcia', 'jew', 'kennett', 'madonna', 'moss', 'reeder', 'watts', 'yuchen', 'chanjuan', 'barish', 'edil', 'roeland', 'wilde', 'klimstra', 'anirban', 'maitra', 'schulick', 'choti', 'velculescu', 'diaz', 'bert', 'vogelstein', 'kinzler', 'hruban', 'nickolas', 'papadopoulos', 'mills', 'patti', 'tereskerz', 'gollin', 'rohde', 'curt', 'stager', 'ryves', 'chase', 'francesco', 'pausata', 'graf', 'lutz', 'weiherm', 'huisman', 'herbst', 'vereecken', 'miguel', 'mahecha', 'reichstein', 'nuno', 'carvalhais', 'gitta', 'lasslop', 'sonia', 'seneviratne', 'rodrigo', 'ammann', 'altaf', 'arain', 'cescatti', 'ivan', 'janssens', 'mirco', 'migliavacca', 'leonardo', 'montagnani', 'richardson', 'gaia', 'vince', 'conde', 'flesness', 'colchero', 'scheuerlein', 'leinwand', 'schaller', 'daigo', 'takeuchi', 'hirabayashi', 'keita', 'tamura', 'yasushi', 'miyashita', 'soutourina', 'wydau', 'ambroise', 'boschiero', 'werner', 'szl', 'turi', 'madar', 'sz', 'dennell', 'tianbo', 'melissa', 'langston', 'pigga', 'line', 'pichon', 'todea', 'achim', 'ferraccioli', 'creyts', 'braaten', 'hugh', 'corr', 'indrani', 'damaske', 'frearson', 'jordan', 'studinger', 'wolovick', 'cisneros', 'fernando', 'abdala', 'rubidge', 'paula', 'camboim', 'dentzien', 'dias', 'bueno', 'persha', 'ashwini', 'chhatre', 'julien', 'guizetti', 'lothar', 'schermelleh', 'jana', 'ntler', 'maar', 'ina', 'poser', 'heinrich', 'leonhardt', 'reichert', 'gerlich', 'lambertucci', 'karina', 'speziale', 'apostolos', 'christou', 'hilbert', 'priscila', 'pez', 'wenlu', 'gaetani', 'florian', 'fusseis', 'mont', 'si', 'bobban', 'subhadra', 'grumbine', 'jianchu', 'yarus', 'gira', 'bhabha', 'jeeyeon', 'ekiert', 'jongsik', 'gam', 'dyson', 'benkovic', 'diederik', 'stapel', 'siegwart', 'lindenberg', 'simons', 'neto', 'asaro', 'rainville', 'ramsey', 'harcourt', 'noriyuki', 'benichi', 'yuishi', 'takeno', 'shuntaro', 'elanor', 'huntington', 'akira', 'furusawa', 'yiqiao', 'wilms', 'cadolle', 'bel', 'pottschmidt', 'grinberg', 'jeong', 'andrej', 'susor', 'conti', 'toxicology', 'environmental', 'mutagen', 'teratology', 'sanjay', 'kumar', 'uniyal', 'sakaguchi', 'kajsa', 'allemann', 'duttwyler', 'romanato', 'baldridge', 'siegel', 'koenig', 'ashley', 'linder', 'leutgeb', 'qureshi', 'kyoko', 'kesley', 'attridge', 'manzotti', 'louisa', 'satdip', 'kaur', 'zoe', 'briggs', 'tie', 'hou', 'futter', 'graham', 'sansom', 'weimin', 'heikki', 'salo', 'benoist', 'nir', 'hacohen', 'hwan', 'yoon', 'ramunas', 'stepanauskas', 'veeran', 'rajah', 'sieracki', 'siobain', 'duffy', 'debashish', 'bhattacharya', 'bae', 'hoon', 'avinash', 'shenoy', 'rituparna', 'sangeeta', 'tiwari', 'macmicking', 'jingru', 'varsha', 'singh', 'kajino', 'sakamoto', 'alejandro', 'aballay', 'atchley', 'caballero', 'emmanuelle', 'despagnet', 'ayoub', 'az', 'requejo', 'alba', 'rossella', 'mello', 'bianca', 'mu', 'oz', 'wilfried', 'solo', 'ojo', 'gregorio', 'asensio', 'rez', 'innocenti', 'morrow', 'dowling', 'boly', 'garrido', 'olivia', 'gosseries', 'marie', 'aur', 'boveroux', 'schnakers', 'marcello', 'massimini', 'litvak', 'laureys', 'karl', 'friston', 'asai', 'reardon', 'wills', 'cary', 'moskovitz', 'kellogg', 'payne', 'helander', 'qiu', 'puzzo', 'arjen', 'nicola', 'edmonds', 'dal', 'kov', 'franti', 'ek', 'marec', 'ilik', 'saccheri', 'meyers', 'kormish', 'dent', 'zaret', 'schindler', 'julio', 'barreiro', 'monz', 'volckmar', 'nebendahl', 'nigg', 'chwalla', 'hennrich', 'blatt', 'ako', 'khajetoorians', 'wiebe', 'chilian', 'roland', 'wiesendanger', 'ueno', 'fukumura', 'shimotani', 'iwasa', 'gu', 'tsukimoto', 'ikuhara', 'kawasaki', 'gevorg', 'grigoryan', 'ho', 'rudresh', 'acharya', 'axelrod', 'rishabh', 'jain', 'marija', 'drndic', 'kikkawa', 'degrado', 'rosell', 'ros', 'torres', 'kessler', 'valentine', 'mengran', 'tina', 'lolitika', 'mandal', 'utpal', 'haak', 'janneke', 'hillerislambers', 'emile', 'pitre', 'bennett', 'sinnott', 'armstrong', 'jenkins', 'dominik', 'ruckerl', 'cook', 'fred', 'finkelman', 'rooijen', 'allen', 'aurel', 'bulgac', 'lung', 'piotr', 'magierski', 'roche', 'yongle', 'deborah', 'stipek', 'reiss', 'tinker', 'pallant', 'damelin', 'boris', 'berenfeld', 'susana', 'cerritelli', 'hyongi', 'chon', 'crouch', 'hyowon', 'gweon', 'schulz', 'sourendu', 'gupta', 'xiaofeng', 'bedangadas', 'mohanty', 'ritter', 'nu', 'liad', 'levi', 'mikael', 'rechtsman', 'barak', 'freedman', 'tal', 'schwartz', 'ofer', 'manela', 'mordechai', 'segev', 'jongwook', 'sabuj', 'yuriy', 'choliy', 'emge', 'karsten', 'krogh', 'jespersen', 'goldman', 'monique', 'jager', 'weissing', 'herman', 'nolet', 'koppel', 'fauci', 'chandross', 'sub', 'tanja', 'bosak', 'ono', 'meinema', 'justyna', 'laba', 'rizqiya', 'hapsari', 'otten', 'frans', 'mulder', 'annemarie', 'kralt', 'bogaart', 'lusk', 'poolman', 'liesbeth', 'veenhoff', 'konstance', 'knox', 'carrigan', 'simmons', 'teque', 'yanchen', 'hackett', 'xiaoxing', 'ka', 'luk', 'schochetman', 'allyn', 'kogelnik', 'levy', 'daniele', 'viviani', 'alexandre', 'charlet', 'erwin', 'burg', 'camille', 'robinet', 'hurni', 'marios', 'abatis', 'fulvio', 'magara', 'ron', 'stoop', 'coontz', 'raf', 'aerts', 'honnay', 'giere', 'steen', 'levan', 'cenko', 'perley', 'wiersema', 'fruchter', 'ugarte', 'postigo', 'butler', 'horst', 'leloudas', 'misra', 'bower', 'farihi', 'tunnicliffe', 'modjaz', 'silverman', 'hjorth', 'ne', 'cucchiara', 'cer', 'arnold', 'bremer', 'brodie', 'carroll', 'cooper', 'curran', 'cutri', 'ehle', 'forbes', 'fynbo', 'gorosabel', 'hoffman', 'guziy', 'jakobsson', 'kamble', 'kasliwal', 'kouveliotou', 'kocevski', 'law', 'ofek', 'quimby', 'rol', 'romanowsky', 'nchez', 'spaandonk', 'starling', 'strom', 'tello', 'vaduvescu', 'wheatley', 'wijers', 'winters', 'izawa', 'doris', 'pun', 'stahl', 'morran', 'gelarden', 'parrish', 'lively', 'faiyaz', 'notta', 'sergei', 'doulatov', 'laurenti', 'poeppl', 'jurisica', 'dom', 'nguez', 'escobar', 'arnaud', 'chastanet', 'alvaro', 'crevenna', 'fromion', 'wedlich', 'ldner', 'rut', 'carballido', 'suman', 'eder', 'schauer', 'diwoky', 'hannes', 'temmel', 'guertl', 'gregor', 'gorkiewicz', 'kuppusamy', 'tamilarasan', 'pooja', 'kumari', 'trauner', 'vesely', 'guenter', 'haemmerle', 'rudolf', 'zechner', 'hoefler', 'marsteller', 'boyles', 'cryan', 'mccracken', 'kunz', 'guarnieri', 'horne', 'badovinac', 'munro', 'lambertini', 'leape', 'marton', 'lef', 'vre', 'mittermeier', 'waldman', 'lori', 'marino', 'jake', 'baum', 'cowman', 'heaphy', 'alison', 'klein', 'chetan', 'bettegowda', 'eberhart', 'sachidanand', 'hebbar', 'offerhaus', 'mclendon', 'rasheed', 'yiping', 'he', 'darell', 'bigner', 'sueli', 'mieko', 'oba', 'shinjo', 'suely', 'kazue', 'nagahashi', 'riggins', 'meeker', 'ramona', 'neunuebel', 'gaspar', 'backlund', 'alfred', 'yergey', 'machner', 'phillip', 'sharp', 'langer', 'colville', 'anders', 'beard', 'hatfield', 'stoner', 'ullman', 'paige', 'samie', 'jaffrey', 'chiara', 'franzoni', 'giuseppe', 'scellato', 'junge', 'mattaj', 'menachem', 'elimelech', 'lars', 'ckman', 'nyberg', 'soveri', 'jarkko', 'johansson', 'micael', 'andersson', 'erika', 'dahlin', 'neely', 'jere', 'virta', 'matti', 'laine', 'juha', 'rinne', 'zhisheng', 'xiaoke', 'zhangdong', 'youbin', 'prell', 'jingjia', 'sumin', 'yanjun', 'cai', 'weijian', 'xiaodong', 'zhengguo', 'libin', 'xiayun', 'ai', 'wolff', 'haug', 'timmermann', 'jaap', 'sinninghe', 'damst', 'brauer', 'sigman', 'cane', 'dirk', 'verschuren', 'akre', 'farris', 'lea', 'page', 'eastwood', 'dimitrios', 'floudas', 'manfred', 'binder', 'andrzej', 'majcherczyk', 'asiegbu', 'kerrie', 'mika', 'bendiksby', 'blumentritt', 'coutinho', 'gathman', 'goodell', 'henrissat', 'katarina', 'ihrmark', 'vard', 'kauserud', 'annegret', 'kohler', 'labutti', 'alla', 'lapidus', 'lavin', 'walt', 'lilly', 'morin', 'oguiza', 'jongsun', 'pisabarro', 'riley', 'rosling', 'asaf', 'salamov', 'schmutz', 'inger', 'skrede', 'stenlid', 'ad', 'wiebenga', 'xinfeng', 'ursula', 'hibbett', 'hoffmeister', 'nils', 'gberg', 'grigoriev', 'watkinson', 'gerrienne', 'gensel', 'strullu', 'derrien', 'hubert', 'lardeux', 'steemans', 'cyrille', 'prestianni', 'monte', 'helm', 'bullock', 'rakowski', 'dubois', 'hung', 'kristal', 'kaan', 'hackney', 'kozielski', 'kazuya', 'hashiyama', 'yoshiki', 'hayashi', 'dickinson', 'moore', 'stettenheim', 'tabak', 'smyth', 'kershaw', 'bergstrom', 'ruud', 'brakenhoff', 'krzysztof', 'matyjaszewski', 'lorenzo', 'galluzzi', 'guido', 'kroemer', 'jiuxing', 'jorda', 'jihong', 'baumes', 'enrico', 'mugnaioli', 'cabanas', 'kolb', 'avelino', 'corma', 'xianfeng', 'zhenyu', 'xuan', 'goldshmidt', 'philippa', 'borrill', 'nisha', 'hariharan', 'yean', 'hideru', 'togashi', 'kanoko', 'kominami', 'masazumi', 'waseda', 'hitomi', 'komura', 'miyoshi', 'masatoshi', 'takeichi', 'yoshimi', 'takai', 'belinda', 'medlyn', 'sam', 'kean', 'nagarajan', 'nandagopal', 'elowitz', 'rina', 'carole', 'torgerson', 'nabel', 'rahul', 'kohli', 'mccoy', 'israelachvili', 'swan', 'martinez', 'sczyrba', 'woyke', 'dominique', 'lamy', 'reinthaler', 'poulton', 'dashiell', 'masland', 'lluesma', 'gomez', 'herndl', 'octavio', 'mondrag', 'palomino', 'danino', 'jangir', 'selimkhanov', 'lev', 'tsimring', 'hasty', 'leibfarth', 'vermaak', 'hoover', 'grove', 'gardner', 'mcneil', 'slavicek', 'wenqin', 'chongyi', 'sunney', 'xiaowei', 'nishant', 'sausen', 'wood', 'cahill', 'mccook', 'dove', 'yann', 'bartha', 'knoppers', 'nordholt', 'bette', 'korber', 'gnanakaran', 'ines', 'drinnenberg', 'fink', 'bartel', 'acu', 'ngel', 'wanliang', 'xuelian', 'haiming', 'jong', 'seok', 'clifton', 'honghai', 'wenhong', 'ying', 'johannes', 'mouquet', 'beatrix', 'ueberheide', 'diskin', 'thiago', 'pietzsch', 'fenyo', 'abadir', 'klara', 'velinzon', 'arlene', 'sunnie', 'myung', 'farid', 'boulad', 'poignard', 'burton', 'florencia', 'pereyra', 'seaman', 'pamela', 'bjorkman', 'chait', 'knutson', 'hahn', 'pushpa', 'bhargava', 'neill', 'nnichsen', 'oakhill', 'rohan', 'steel', 'ling', 'shanna', 'tam', 'dongping', 'wenwei', 'xiquan', 'gao', 'shujing', 'julian', 'antje', 'heese', 'devarenne', 'libo', 'leung', 'lena', 'mammen', 'butt', 'vollmer', 'terrence', 'blackburn', 'bowring', 'perron', 'mahan', 'dudas', 'katherine', 'barnhart', 'casanueva', 'burga', 'lehner', 'chia', 'hsu', 'weiyu', 'dhaya', 'seshasayee', 'yung', 'hsiang', 'zhonghua', 'suto', 'zhiyu', 'wyne', 'hyunjoo', 'rangell', 'lutman', 'ulufatu', 'stefanich', 'cecile', 'chalouni', 'sagolla', 'lauri', 'diehl', 'fielder', 'mercedesz', 'balazs', 'flavius', 'burch', 'safina', 'midgley', 'fratzl', 'marston', 'lichtenthaler', 'fermi', 'lat', 'farrell', 'sivasakthivel', 'thirugnanam', 'lorestani', 'dvorin', 'keith', 'eidell', 'ferguson', 'brooke', 'manoj', 'duraisingh', 'marth', 'gubbels', 'adrain', 'zettl', 'yonka', 'christova', 'ludovic', 'slimak', 'svendsen', 'mangerud', 'hugues', 'plisson', 'herbj', 'presthus', 'heggen', 'alexis', 'brug', 're', 'pavel', 'yurievich', 'pavlov', 'beddington', 'asaduzzaman', 'bremauntz', 'guillou', 'howlett', 'jahn', 'mamo', 'negra', 'nobre', 'scholes', 'wakhungu', 'vlatko', 'vedral', 'carey', 'lisse', 'moselio', 'schaechter', 'leblanc', 'garc', 'beeler', 'phillips', 'spielman', 'hideto', 'yoshida', 'yasufumi', 'kuwauchi', 'joerg', 'jinschek', 'keju', 'shingo', 'masanori', 'kohyama', 'shimada', 'masatake', 'haruta', 'yongki', 'issa', 'moody', 'hunt', 'corso', 'israel', 'lia', 'dicte', 'allemand', 'cameron', 'wellard', 'markham', 'holmberg', 'hawkins', 'jhagvaral', 'hasbold', 'hodgkin', 'malow', 'swinnen', 'pasquamaria', 'squicciarini', 'herberstein', 'darrel', 'hanne', 'poulsen', 'poul', 'nissen', 'thaunat', 'aitor', 'granja', 'barral', 'filby', 'beatriz', 'montaner', 'collinson', 'nuria', 'harwood', 'bruckbauer', 'facundo', 'batista', 'fedoroff', 'gramling', 'gloria', 'brar', 'moran', 'yassour', 'friedman', 'aviv', 'regev', 'ingolia', 'weissman', 'czaja', 'kosei', 'yamaguchi', 'mico', 'tatalovic', 'kinzig', 'perrings', 'chapin', 'polasky', 'kerry', 'june', 'jameson', 'zwier', 'hsuan', 'tsung', 'pai', 'tsai', 'fu', 'tully', 'shyn', 'chiang', 'coulston', 'geng', 'oren', 'scherman', 'abell', 'cysouw', 'dediu', 'chuan', 'qi', 'huan', 'tuyl', 'asya', 'pereltsvaig', 'treves', 'macarthur', 'suganthi', 'balasubramanian', 'frankish', 'ni', 'klaudia', 'jostins', 'pickrell', 'montgomery', 'cornelis', 'albers', 'zhengdong', 'conrad', 'gerton', 'lunter', 'hancheng', 'qasim', 'ayub', 'depristo', 'handsaker', 'rosenfeld', 'fromer', 'xinmeng', 'jasmine', 'ye', 'saunders', 'marthe', 'suner', 'toby', 'if', 'barnes', 'amid', 'denise', 'carvalho', 'bignell', 'snow', 'bryndis', 'yngvadottir', 'suzannah', 'bumpstead', 'yali', 'irene', 'gallego', 'genomes', 'project', 'yingrui', 'gibbs', 'mccarroll', 'emmanouil', 'dermitzakis', 'harrow', 'hurles', 'tyler', 'garrett', 'adler', 'britnell', 'gorbachev', 'jalil', 'belle', 'schedin', 'mishchenko', 'katsnelson', 'eaves', 'morozov', 'leist', 'geim', 'novoselov', 'ponomarenko', 'treacy', 'borisenko', 'silhavy', 'lihadh', 'gazali', 'bielas', 'kiley', 'iannicelli', 'brancati', 'stacey', 'russ', 'logan', 'saghira', 'malik', 'sharif', 'masumi', 'abe', 'friedhelm', 'diplas', 'atti', 'bitach', 'rajab', 'roshan', 'koul', 'laszlo', 'sztriha', 'waters', 'ferro', 'novick', 'woods', 'enza', 'valente', 'maha', 'zaki', 'gleeson', 'elyse', 'blum', 'abraham', 'yoshimura', 'shai', 'shaham', 'pocock', 'memmott', 'sills', 'abdulaziz', 'khedhairy', 'sprang', 'chief', 'elk', 'mathieu', 'touboul', 'puchtel', 'prospero', 'bullard', 'hodgkins', 'omi', 'xiuxiang', 'meng', 'deguang', 'jinchao', 'lynch', 'maryann', 'druckman', 'lupia', 'razzell', 'thinh', 'duc', 'wenjiao', 'cuong', 'xiuhuai', 'chrysi', 'kanellopoulou', 'muljo', 'kimball', 'troy', 'zars', 'claudiu', 'falub', 'nel', 'isa', 'bergamaschini', 'marzegalli', 'chrastina', 'giovanni', 'isella', 'niedermann', 'miglio', 'dhuime', 'hawkesworth', 'cawood', 'storey', 'alder', 'muhammad', 'jamil', 'marzorati', 'vermathen', 'bigler', 'sandro', 'ghisla', 'harro', 'bouwmeester', 'babili', 'kiel', 'melia', 'rothman', 'fr', 'ric', 'pincet', 'piskol', 'how', 'billy', 'mingyao', 'mackenzie', 'uttam', 'babu', 'shrestha', 'tomonori', 'haijun', 'felser', 'grzegorz', 'milczarek', 'olle', 'ingan', 'morandi', 'erick', 'carreira', 'cusick', 'younggy', 'fitoussi', 'bourdon', 'rule', 'brook', 'haberle', 'turney', 'aizen', 'malena', 'sabatino', 'tylianakis', 'xubin', 'fengqiao', 'mi', 'fridley', 'grime', 'huston', 'pierce', 'smart', 'luca', 'rger', 'rob', 'brooker', 'cerabolini', 'gross', 'liancourt', 'michalet', 'yoann', 'bagousse', 'pinguet', 'grace', 'seabloom', 'borer', 'helmut', 'hillebrand', 'hautier', 'harpole', 'lydia', 'halloran', 'bakker', 'yvonne', 'cottingham', 'crawley', 'damschen', 'kendi', 'davies', 'decrappeo', 'fay', 'firn', 'gruner', 'hagenah', 'kirkman', 'knops', 'lambrinos', 'melbourne', 'mitchell', 'joslin', 'orrock', 'prober', 'carly', 'wragg', 'louie', 'klitzman', 'appelbaum', 'hare', 'zilles', 'katrin', 'amunts', 'claudine', 'bloch', 'queen', 'rajamani', 'krishna', 'zadrozny', 'long', 'saleha', 'bakht', 'gutierrez', 'wes', 'panizzon', 'jernigan', 'eyler', 'fennema', 'notestine', 'jak', 'neale', 'fischl', 'larry', 'seidman', 'tsuang', 'kremen', 'dale', 'qian', 'xianli', 'yangjian', 'massey', 'esque', 'los', 'ojos', 'alcala', 'catalan', 'gruverman', 'cin', 'ty', 'luffi', 'chin', 'romain', 'bouchet', 'rajdeep', 'dasgupta', 'morton', 'roux', 'daphne', 'greenwood', 'abdelmouhcine', 'gannoun', 'cheeseman', 'becky', 'shalini', 'standwell', 'nkhoma', 'saai', 'aung', 'pyae', 'phyo', 'carit', 'ler', 'moo', 'khin', 'maung', 'lwin', 'mcgready', 'mallika', 'imwong', 'kasia', 'stepniewska', 'poravuth', 'dondorp', 'mayfong', 'mayxay', 'newton', 'ferdig', 'munsky', 'neuert', 'oudenaarden', 'cartlidge', 'ariel', 'bazzini', 'miler', 'giraldez', 'suraj', 'bhat', 'siegfried', 'kristen', 'panfilio', 'foti', 'babho', 'devadoss', 'winkler', 'vitor', 'pinheiro', 'cozens', 'mikhail', 'abramov', 'marleen', 'renders', 'chaput', 'jesper', 'wengel', 'sew', 'yeu', 'peak', 'chew', 'mclaughlin', 'herdewijn', 'holliger', 'asher', 'koriat', 'astudillo', 'blondel', 'norambuena', 'katia', 'soto', 'elisabet', 'lindgren', 'suk', 'bertrand', 'sudre', 'semenza', 'riding', 'ciesla', 'sandford', 'pontus', 'skoglund', 'helena', 'malmstr', 'maanasa', 'raghavan', 'stor', 'eske', 'willerslev', 'gilbert', 'therstr', 'mattias', 'wellington', 'hilina', 'kassa', 'booth', 'cresswell', 'shimpei', 'kawamoto', 'tran', 'mikako', 'maruya', 'keiichiro', 'suzuki', 'yasuko', 'doi', 'yumi', 'tsutsui', 'lucia', 'sidonia', 'fagarasan', 'yicong', 'shigeru', 'carlisle', 'lederer', 'hagen', 'guiling', 'slavin', 'church', 'cardinale', 'eimear', 'kenny', 'timpson', 'sikora', 'muh', 'ching', 'yee', 'moreno', 'estrada', 'celeste', 'eng', 'huntsman', 'esteban', 'burchard', 'stoneking', 'bustamante', 'myles', 'luqiao', 'tseng', 'buhrman', 'satake', 'katayama', 'nishibori', 'sawa', 'ishii', 'hagiwara', 'bridges', 'higemoto', 'halim', 'nugroho', 'rivera', 'broholm', 'schuetz', 'zamboni', 'zampieri', 'heinemann', 'rudovsky', 'marzena', 'szyma', 'ska', 'joon', 'drew', 'robson', 'sharad', 'ramanathan', 'schier', 'france', 'langelier', 'jamie', 'planck', 'swati', 'roy', 'batool', 'akhtar', 'zaidi', 'cowper', 'sal', 'lari', 'corradin', 'alina', 'saiakhova', 'bartels', 'dheepa', 'lois', 'myeroff', 'lutterbaugh', 'awad', 'jarrar', 'kalady', 'tesar', 'laframboise', 'sanford', 'markowitz', 'lupien', 'scacheri', 'keinan', 'culotta', 'sacha', 'vignieri', 'mayoral', 'debraj', 'ray', 'crisp', 'meleady', 'waal', 'bowles', 'cantley', 'wesley', 'beaulieu', 'clay', 'subra', 'hillel', 'chiel', 'mcmanus', 'kendrick', 'bowerman', 'rourke', 'brouwer', 'qun', 'tassadite', 'dahmane', 'zahra', 'assur', 'brasch', 'shapiro', 'filippo', 'mancia', 'hendrickson', 'schirle', 'macrae', 'dickman', 'hauke', 'tagliacozzo', 'maciej', 'lewenstein', 'yen', 'duilio', 'cascio', 'yeates', 'preskill', 'nesvorn', 'kipping', 'buchhave', 'sp', 'bakos', 'allan', 'tsen', 'lola', 'levendorf', 'fereshte', 'ghahari', 'pinshane', 'havener', 'jiwoong', 'tagliabracci', 'jianzhong', 'wiley', 'worby', 'kinch', 'junyu', 'grishin', 'zixu', 'chuanjun', 'yunfei', 'zhifu', 'fangfang', 'fan', 'jiawei', 'changwen', 'junbiao', 'jian', 'jijie', 'chai', 'breitsprecher', 'richa', 'jaiswal', 'bombardier', 'gould', 'gelles', 'goode', 'yuanli', 'hustedt', 'johanna', 'schafer', 'arina', 'hadziselimovic', 'beel', 'haiser', 'turnbaugh', 'costello', 'keaton', 'stagaman', 'les', 'dethlefsen', 'bohannan', 'leroy', 'hood', 'kupferschmidt', 'rath', 'vanessa', 'sperandio', 'boehme', 'dane', 'mccamey', 'maurer', 'kucsko', 'latta', 'pastawski', 'hunger', 'chisholm', 'twitchen', 'cirac', 'lukin', 'tenio', 'popmintchev', 'dimitar', 'arpin', 'susannah', 'skirmantas', 'auskas', 'giedrius', 'andriukaitis', 'tadas', 'iunas', 'cke', 'audrius', 'pugzlys', 'baltu', 'bonggu', 'schrauth', 'gaeta', 'plaja', 'becker', 'agnieszka', 'jaron', 'margaret', 'murnane', 'kapteyn', 'meckler', 'clarkson', 'cobb', 'sodemann', 'adkins', 'brucker', 'arrigo', 'perovich', 'pickart', 'gert', 'dijken', 'lowry', 'balch', 'bates', 'benitez', 'bowler', 'brownlee', 'ehn', 'frey', 'garley', 'laney', 'lubelczyk', 'mathis', 'matsuoka', 'ortega', 'retuerta', 'sharmila', 'pal', 'polashenski', 'reynolds', 'schieber', 'sosik', 'stephens', 'swift', 'braunschweig', 'rian', 'dewhurst', 'hammond', 'mies', 'radacki', 'alfredo', 'woodward', 'gessner', 'giller', 'vladislav', 'gulis', 'hladyz', 'antoine', 'lecerf', 'malmqvist', 'mckie', 'tiegs', 'helen', 'cariss', 'dobson', 'arturo', 'elosegi', 'ver', 'nica', 'ferreira', 'gra', 'tadeusz', 'fleituch', 'lacoursi', 'marius', 'nistorescu', 'jes', 'pozo', 'geta', 'risnoveanu', 'angheluta', 'vadineanu', 'vought', 'chauvet', 'guillaume', 'moissiard', 'shawn', 'cokus', 'suhua', 'allison', 'billi', 'hume', 'stroud', 'dylan', 'husmann', 'zhan', 'lajoie', 'patton', 'mccord', 'hale', 'michaels', 'frand', 'matteo', 'pellegrini', 'dekker', 'jacobsen', 'tamar', 'dugladze', 'dietmar', 'whittington', 'imre', 'vida', 'tengis', 'gloveli', 'prusiner', 'bernstein', 'hashimoto', 'kasahara', 'mizukami', 'katsumata', 'tsuruhara', 'terashima', 'tanatar', 'kitano', 'salovich', 'giannetta', 'walmsley', 'carrington', 'prozorov', 'fekret', 'osman', 'weili', 'saikat', 'steinacher', 'whitby', 'hines', 'hodges', 'hittinger', 'lazar', 'birnbaum', 'moritz', 'kreysing', 'pusch', 'dorothee', 'haverkate', 'meik', 'landsberger', 'engelmann', 'janina', 'elke', 'ulbricht', 'grosche', 'franze', 'streif', 'schumacher', 'makarov', 'kacza', 'guck', 'hartwig', 'wolburg', 'bowmaker', 'emde', 'schuster', 'joachim', 'wagner', 'reichenbach', 'francke', 'shelley', 'starck', 'pavon', 'eternod', 'sharanya', 'mccarthy', 'nilabh', 'shastri', 'rampal', 'rosindell', 'truog', 'kesselheim', 'joffe', 'amala', 'mahadevan', 'greaves', 'herzig', 'raemy', 'montessuit', 'veuthey', 'benedikt', 'westermann', 'edmund', 'kunji', 'martinou', 'edella', 'schlager', 'gottschling', 'crane', 'tommaso', 'jucker', 'coomes', 'gitler', 'ruth', 'lehmann', 'bruch', 'mikiyasu', 'nakayama', 'unruh', 'chelsie', 'eller', 'hubbell', 'ashutosh', 'chilkoti', 'aral', 'ire', 'geoghegan', 'bergland', 'klyczek', 'lundeberg', 'tosado', 'acevedo', 'arlin', 'toro', 'dinitra', 'bjorn', 'wolter', 'erb', 'kiefer', 'bodo', 'hattendorf', 'nther', 'vorholt', 'fender', 'tomaso', 'belloni', 'saini', 'hedin', 'kj', 'shfaqat', 'khan', 'korsgaard', 'wahr', 'bamber', 'hurkmans', 'michiel', 'broeke', 'timm', 'kjeldsen', 'nicolaj', 'larsen', 'tyge', 'rgensen', 'rch', 'marloes', 'bagijn', 'sapetschnig', 'weick', 'samir', 'bouasker', 'lehrbach', 'simard', 'miska', 'reck', 'graedel', 'dargusch', 'lavik', 'ustin', 'arnout', 'schepers', 'ingram', 'tranquada', 'matouschek', 'finley', 'weichao', 'mccool', 'neeti', 'kapur', 'guang', 'uschi', 'burtron', 'kyeongjae', 'xianghong', 'emlen', 'annika', 'johns', 'dworkin', 'corley', 'lavine', 'maartens', 'ellis', 'radoje', 'drmanac', 'hillary', 'mckinney', 'lum', 'dickey', 'mattaini', 'vander', 'heiden', 'button', 'heng', 'mehmet', 'kesimer', 'boucher', 'rubinstein', 'ltekin', 'strohmayer', 'mason', 'keenan', 'collin', 'goddard', 'driggers', 'hsieh', 'mitch', 'youle', 'bliek', 'mock', 'urzhumov', 'maier', 'pendry', 'kasavajhala', 'bao', 'carrie', 'olson', 'manning', 'ruei', 'schranz', 'windsor', 'clauss', 'manzaneda', 'ibtehaj', 'naqvi', 'reichelt', 'gershenzon', 'sanjeewa', 'rupasinghe', 'schuler', 'olds', 'hojung', 'nam', 'lerman', 'dae', 'donghyuk', 'bernhard', 'palsson', 'morlon', 'rollins', 'browne', 'pusede', 'wooldridge', 'gentner', 'day', 'ioannou', 'guttal', 'previs', 'robbins', 'warshaw', 'jesse', 'zalatan', 'coyle', 'saravanan', 'rajan', 'sachdev', 'sidhu', 'wendell', 'otto', 'cordero', 'wildschutte', 'kirkup', 'proehl', 'ngo', 'fatima', 'hussain', 'frederique', 'mincer', 'polz', 'berg', 'josep', 'rizo', 'state', 'nenad', 'estan', 'ota', 'kotani', 'malaeb', 'ishida', 'shimojima', 'kiss', 'watanabe', 'kihou', 'iyo', 'eisaki', 'fukazawa', 'kohori', 'miyahara', 'arita', 'chainani', 'gring', 'kuhnert', 'langen', 'kitagawa', 'rauer', 'schreitl', 'mazets', 'adu', 'demler', 'schmiedmayer', 'xiongyi', 'jeng', 'nielsen', 'nicol', 'briner', 'rood', 'ibarra', 'xiaoqi', 'vera', 'schoft', 'tzung', 'uzawa', 'assaf', 'zemach', 'chumak', 'adriana', 'machlicova', 'denisse', 'rojas', 'fischer', 'hisashi', 'tamaru', 'zilberman', 'bijal', 'chessa', 'lutter', 'bygbjerg', 'denardis', 'running', 'madan', 'kriwacki', 'rohit', 'pappu', 'redwine', 'rogelio', 'sirui', 'andres', 'leschziner', 'kaelin', 'mcgowan', 'ntzel', 'roelke', 'pino', 'pontius', 'hermogenes', 'swanson', 'laurie', 'marker', 'cindy', 'harper', 'bisong', 'mullikin', 'eizirik', 'lidia', 'kos', 'barsh', 'marilyn', 'menotti', 'micka', 'maxime', 'guin', 'fabrice', 'requier', 'orianne', 'odoux', 'pierrick', 'aupinel', 'aptel', 'tchamitchian', 'decourtye', 'bada', 'aardema', 'edgar', 'medina', 'schumer', 'andolfatto', 'bush', 'emilio', 'venditti', 'scanu', 'michele', 'santoro', 'tullio', 'spaar', 'renato', 'gaibisso', 'galina', 'beznoussenko', 'mironov', 'leopoldo', 'zelante', 'rosaria', 'piemontese', 'angelo', 'notarangelo', 'vivek', 'malhotra', 'vertel', 'cathal', 'antonietta', 'matteis', 'berton', 'gyu', 'thase', 'owusu', 'agyei', 'ghez', 'sch', 'del', 'yelda', 'boehle', 'do', 'becklin', 'baudouin', 'gaudias', 'gerharz', 'laetitia', 'hatstatt', 'kuikui', 'punnakkal', 'will', 'spooren', 'rene', 'hen', 'zeeuw', 'kaspar', 'scheiffele', 'karlsson', 'dougal', 'tervo', 'karpova', 'amack', 'herrmann', 'gopa', 'iyer', 'aphrothiti', 'hanrahan', 'milowsky', 'hikmat', 'ahmadie', 'sasinya', 'manickam', 'janakiraman', 'mono', 'pirun', 'socci', 'irina', 'ostrovnaya', 'viale', 'heguy', 'bochner', 'bajorin', 'solit', 'prettyman', 'mittlefehldt', 'naoyuki', 'yamashita', 'mcsween', 'toplis', 'titus', 'pasquale', 'tricarico', 'reedy', 'hendricks', 'forni', 'lucille', 'corre', 'hugau', 'mizzon', 'vishnu', 'reddy', 'behrndt', 'salbreux', 'campinho', 'hauschild', 'oswald', 'roensch', 'heisenberg', 'pinker', 'camillia', 'matuk', 'rok', 'ro', 'kar', 'debattista', 'bottjer', 'reimer', 'marten', 'scheffer', 'lenton', 'jordi', 'bascompte', 'brock', 'vasilis', 'dakos', 'ingrid', 'leemput', 'levin', 'egbert', 'nes', 'mercedes', 'pascual', 'vandermeer', 'bronk', 'staff', 'charlotte', 'bryant', 'hiroyuki', 'plicht', 'gordon', 'schlolaut', 'lamb', 'tarasov', 'tsuyoshi', 'haraguchi', 'katsuya', 'gotanda', 'hitoshi', 'yonenobu', 'yokoyama', 'ryuji', 'tada', 'nakagawa', 'urszula', 'awi', 'serge', 'rossignol', 'frigon', 'fouad', 'meghna', 'candace', 'larue', 'padilla', 'panagiotis', 'metaxas', 'eni', 'mustafaraj', 'pikitch', 'emmons', 'honggen', 'glorius', 'mcbain', 'darla', 'zelenitsky', 'therrien', 'debuhr', 'yoshitsugu', 'hadfield', 'dickie', 'hurst', 'bellingham', 'peruzzo', 'shadbolt', 'brunner', 'sandu', 'connelly', 'bizzarro', 'krot', 'nordlund', 'wielandt', 'ivanova', 'lorang', 'kidarsa', 'tzeng', 'wolpert', 'lotze', 'katharina', 'franke', 'oppen', 'chennaoui', 'aoudjehane', 'avice', 'barrat', 'boudouma', 'duke', 'franchi', 'gattacceca', 'herd', 'hewins', 'jambon', 'marty', 'rochette', 'sautter', 'verchovsky', 'weber', 'zanda', 'zhiliang', 'ajlan', 'muzykantov', 'tsourkas', 'elwyn', 'berlekamp', 'slippers', 'georgina', 'barbier', 'hoy', 'stefania', 'span', 'andrei', 'krivtsov', 'savage', 'salazar', 'dotson', 'bressler', 'celia', 'parodi', 'glaucius', 'oliva', 'kimihiko', 'hirao', 'rowena', 'hamer', 'qinghui', 'fanlu', 'hongliang', 'dayuan', 'yijun', 'agar', 'crida', 'aviezer', 'yaacov', 'trope', 'todorov', 'miroslav', 'sirota', 'juanchich', 'nephi', 'stella', 'leanne', 'pedi', 'melinda', 'diver', 'melli', 'caselli', 'riboli', 'wiersma', 'staffaroni', 'choo', 'ogletree', 'aloni', 'bokor', 'cabrini', 'intonti', 'yablonovitch', 'schuck', 'bargioni', 'allon', 'kirschner', 'wenjing', 'nossoni', 'tetyana', 'berbasova', 'ipek', 'yapici', 'kin', 'sing', 'chrysoula', 'vasileiou', 'geiger', 'babak', 'borhan', 'mcmorran', 'wieczorski', 'drysdale', 'jo', 'chalachew', 'mitiku', 'gaetan', 'burgio', 'foote', 'eliot', 'underwood', 'adami', 'sydney', 'brenner', 'giacomo', 'cavalli', 'hashmi', 'connor', 'marion', 'dorer', 'isberg', 'nemmen', 'georganopoulos', 'guiriec', 'gehrels', 'sambruna', 'katie', 'lutker', 'selva', 'vennila', 'raju', 'jinyuan', 'waruntorn', 'kanitpanyacharoen', 'jialin', 'shizhong', 'wenk', 'kwang', 'quentin', 'kexin', 'zhenhua', 'groner', 'housheng', 'changmeng', 'rosina', 'lis', 'xiaoqiu', 'stack', 'loda', 'cato', 'thornton', 'colm', 'morrissey', 'vessella', 'rodolfo', 'montironi', 'magi', 'kantoff', 'balk', 'lanza', 'halla', 'thorsteinsd', 'ttir', 'tirso', 'enz', 'della', 'jenni', 'virdee', 'gang', 'sijia', 'chenghang', 'zong', 'mingyu', 'jinsen', 'alec', 'chapman', 'xuesong', 'liya', 'liying', 'bai', 'qiao', 'fuchou', 'ruiqiang', 'sjoerd', 'roorda', 'maharaj', 'pandit', 'buskirk', 'baxevanis', 'bner', 'schlenk', 'krause', 'wehling', 'lounis', 'lichtenstein', 'daniela', 'pfannkuche', 'lessard', 'borregaard', 'ara', 'dimitrov', 'henri', 'fabre', 'graves', 'knud', 'nsson', 'bravo', 'zhiheng', 'whittaker', 'fjelds', 'rahbek', 'milinkovitch', 'liana', 'manukyan', 'adrien', 'debry', 'po', 'daljit', 'lambert', 'zwicker', 'sumit', 'chakraborty', 'gruber', 'boshoff', 'kyu', 'rhee', 'quoidbach', 'ira', 'tabas', 'glass', 'mingming', 'meijaard', 'arild', 'angelsen', 'sayer', 'jerome', 'vanclay', 'pesic', 'mcewen', 'lucey', 'coussens', 'zitvogel', 'karolina', 'palucka', 'coelho', 'brustad', 'arvind', 'kannan', 'jacques', 'barik', 'marti', 'fernandez', 'lanteri', 'rard', 'godeheu', 'pol', 'tassin', 'dric', 'mombereau', 'faure', 'tronche', 'minae', 'niwa', 'hanna', 'jaaro', 'peled', 'tankou', 'saurav', 'seshadri', 'takatoshi', 'hikida', 'yurie', 'cascella', 'kano', 'norio', 'ozaki', 'toshitaka', 'nabeshima', 'halley', 'yoh', 'despoina', 'vokou', 'rader', 'singer', 'jodi', 'cathryn', 'manduca', 'iverson', 'may', 'sonja', 'maki', 'doyle', 'sharmistha', 'majumdar', 'anita', 'rio', 'farida', 'korobova', 'vinay', 'ramabhadran', 'higgs', 'hemmer', 'selvarajoo', 'masaru', 'tomita', 'hannah', 'landecker', 'jiri', 'sami', 'asmar', 'head', 'konopliv', 'lemoine', 'isamu', 'matsuyama', 'erwan', 'mazarico', 'mcgovern', 'neumann', 'nimmo', 'solomon', 'wieczorek', 'zuber', 'bourassa', 'robock', 'randel', 'deshler', 'landon', 'rieger', 'llewellyn', 'degenstein', 'broome', 'fedrizzi', 'saleh', 'rahimi', 'keshari', 'aaronson', 'jiaxi', 'lijun', 'fenghe', 'heping', 'chuo', 'pim', 'edelaar', 'abajo', 'hunter', 'peck', 'ang', 'markku', 'kulmala', 'kontkanen', 'junninen', 'katrianne', 'lehtipalo', 'manninen', 'tuomo', 'nieminen', 'tuukka', 'pet', 'mikko', 'sipil', 'schobesberger', 'pekka', 'rantala', 'franchin', 'tuija', 'jokinen', 'emma', 'rvinen', 'ij', 'kangasluoma', 'jani', 'hakala', 'pasi', 'aalto', 'pauli', 'paasonen', 'jyri', 'mikkil', 'joonas', 'vanhanen', 'juho', 'hannele', 'hakola', 'ulla', 'makkonen', 'taina', 'ruuskanen', 'mauldin', 'duplissy', 'vehkam', 'ki', 'jaana', 'aki', 'kortelainen', 'ilona', 'riipinen', 'theo', 'mentel', 'kari', 'lehtinen', 'ari', 'laaksonen', 'veli', 'kerminen', 'worsnop', 'franklin', 'hodis', 'jue', 'kryukov', 'lynda', 'garraway', 'tanser', 'till', 'rnighausen', 'erofili', 'grapsa', 'jaffer', 'newell', 'gurwitz', 'patterson', 'duan', 'biggs', 'franck', 'courchamp', 'rowan', 'possingham', 'nenberger', 'niswander', 'finnell', 'fraser', 'fani', 'sani', 'vick', 'wallentin', 'nicklas', 'anttu', 'damir', 'asoli', 'ingvar', 'magnusson', 'siefer', 'fuss', 'kailuweit', 'dimroth', 'witzigmann', 'samuelson', 'knut', 'deppert', 'magnus', 'borgstr', 'zeynep', 'erson', 'omay', 'akdes', 'serin', 'cotney', 'koray', 'zduman', 'timu', 'in', 'av', 'octavian', 'henegariu', 'saliha', 'yilmaz', 'moliterno', 'geneive', 'carri', 'baran', 'lmaz', 'conor', 'bahattin', 'tanr', 'kulu', 'bak', 'rc', 'hande', 'kaymak', 'ahmet', 'okay', 'caglayan', 'leman', 'sencar', 'emre', 'ceyhun', 'fatih', 'atik', 'ya', 'bayri', 'hanwen', 'hebert', 'bulent', 'ketu', 'mishra', 'gorur', 'overton', 'holland', 'kaya', 'bilg', 'var', 'baehring', 'gutin', 'piepmeier', 'vortmeyer', 'necmettin', 'pamir', 'rker', 'noonan', 'katsuhito', 'yasuno', 'hulya', 'karatas', 'sefik', 'evren', 'erdener', 'yasemin', 'gursoy', 'ozdemir', 'sevda', 'lule', 'emine', 'eren', 'mr', 'duygu', 'sen', 'turgay', 'dalkara', 'yadong', 'joachimski', 'chunbo', 'yanlong', 'haishui', 'lina', 'xulong', 'ady', 'netanel', 'lindner', 'macy', 'shlomo', 'benartzi', 'thaler', 'chittka', 'fei', 'ziff', 'shijie', 'lishan', 'daqiang', 'yinong', 'zhenyang', 'shengcheng', 'yandong', 'xiaobing', 'xiangdong', 'cun', 'xiaobin', 'minshu', 'ze', 'ju', 'huete', 'parson', 'poulain', 'barkay', 'kildishev', 'boltasseva', 'shalaev', 'dell', 'anniyev', 'beye', 'coffee', 'hlisch', 'gladh', 'krupin', 'gelh', 'rskov', 'ogasawara', 'str', 'pettersson', 'schlotter', 'sellberg', 'sorgenfrei', 'wurth', 'yaolin', 'xingjian', 'volkow', 'kwan', 'kaplan', 'goodchild', 'croyle', 'jaewoo', 'nagaphani', 'aetukuri', 'schladt', 'mahesh', 'parkin', 'tingnan', 'jaccard', 'hayes', 'hodell', 'boetius', 'albrecht', 'karel', 'bienhold', 'janine', 'felden', 'katlein', 'lalande', 'krumpen', 'nicolaus', 'ilka', 'peeken', 'rabe', 'antonina', 'rogacheva', 'rybakova', 'raquel', 'somavilla', 'wenzh', 'fer', 'rv', 'polarstern', 'ark', 'shipboard', 'science', 'party', 'cruciat', 'dolde', 'reinoud', 'groot', 'bisei', 'ohkawara', 'reinhard', 'korswagen', 'niehrs', 'mcgann', 'bob', 'rami', 'hannoush', 'jennie', 'lill', 'kakunda', 'jinfeng', 'hymowitz', 'hongo', 'wynshaw', 'polakis', 'harland', 'vishva', 'dixit', 'tucker', 'suv', 'nicolo', 'riggi', 'audra', 'wolfe', 'jenny', 'jessie', 'creamean', 'kaitlyn', 'suski', 'cazorla', 'demott', 'sullivan', 'minnis', 'comstock', 'tomlinson', 'prather', 'jinsong', 'zu', 'peizhe', 'zuocheng', 'xi', 'chaoxing', 'kun', 'xucun', 'yayu', 'aurore', 'losman', 'looper', 'peppi', 'koivunen', 'sungwoo', 'rebekka', 'mcmahon', 'cowley', 'root', 'ebert', 'bassam', 'shakhashiri', 'evelyn', 'sheng', 'jia', 'chenglin', 'ignas', 'cerniauskas', 'debora', 'ledergerber', 'britt', 'moser', 'edvard', 'apps', 'haoyan', 'xiaojiang', 'rasmi', 'yuko', 'yuki', 'prete', 'goulder', 'zabrina', 'brumme', 'mina', 'mallal', 'bosch', 'heckerman', 'judy', 'soderberg', 'denny', 'zeng', 'jingyuan', 'moffett', 'lifson', 'goedert', 'buchbinder', 'fellay', 'mclaren', 'deeks', 'weintrob', 'wolinsky', 'liao', 'holliday', 'tea', 'jashashvili', 'marisa', 'macias', 'mathews', 'tawnee', 'sparling', 'lorraine', 'milam', 'taatjes', 'welz', 'arkke', 'eskola', 'savee', 'scheer', 'dudley', 'shallcross', 'rotavera', 'edmond', 'mok', 'osborn', 'percival', 'kanekal', 'hoxie', 'henderson', 'spence', 'elkington', 'friedel', 'hudson', 'reeves', 'kletzing', 'claudepierre', 'shinya', 'radman', 'livaja', 'rando', 'elsaesser', 'herskovitz', 'aronow', 'karp', 'brooks', 'valorie', 'salimpoor', 'iris', 'natasa', 'kovacevic', 'mcintosh', 'dagher', 'zatorre', 'shu', 'whitten', 'stage', 'asturias', 'cheuk', 'daro', 'hampton', 'nader', 'engheta', 'fortu', 'ginzburg', 'wurtz', 'anatoly', 'zayats', 'houben', 'bijl', 'pross', 'bohaty', 'passchier', 'stickley', 'hl', 'saiko', 'sugisaki', 'tauxe', 'flierdt', 'olney', 'francesca', 'sangiorgi', 'appy', 'sluijs', 'carlota', 'escutia', 'henk', 'brinkhuis', 'and', 'expedition', 'scientists', 'barde', 'rauwel', 'marin', 'florez', 'corsinotti', 'verp', 'offner', 'marquis', 'adamandia', 'kapopoulou', 'vanicek', 'yartsev', 'nachum', 'ulanovsky', 'sid', 'kouider', 'stahlhut', 'sofie', 'gelskov', 'barbosa', 'dutat', 'gardelle', 'stanislas', 'dehaene', 'ghislaine', 'lambertz', 'immel', 'wilusz', 'kabalah', 'amitai', 'boaz', 'mayzel', 'yaron', 'kauffmann', 'fitch', 'leonid', 'pupa', 'pokroy', 'christ', 'borgeaud', 'whiten', 'newsome', 'glimcher', 'gottlieb', 'daeyeol', 'platt', 'pallava', 'bagla', 'corden', 'yael', 'steneck', 'mansi', 'palczewski', 'kiser', 'fletcher', 'harniman', 'aimee', 'boyle', 'mantell', 'antognozzi', 'noah', 'linden', 'mervyn', 'sessions', 'verkade', 'woolfson', 'bonnet', 'pakpoom', 'subsoontorn', 'endy', 'veit', 'buchholz', 'flossdorf', 'hensel', 'kretschmer', 'weissbrich', 'gr', 'admar', 'verschoor', 'schiemann', 'busch', 'trisha', 'gura', 'lindenmayer', 'xiong', 'shun', 'fam', 'crowe', 'denis', 'weaire', 'leigh', 'baxt', 'garza', 'mayers', 'marcia', 'goldberg', 'randow', 'chiayu', 'chiu', 'gyorgy', 'lur', 'carnevale', 'higley', 'bowman', 'vittert', 'welsh', 'padgett', 'koletsky', 'banaszynski', 'muir', 'becher', 'allis', 'rock', 'lasse', 'stach', 'roksana', 'ogrodowicz', 'keck', 'yates', 'winey', 'smerdon', 'yaffe', 'angelika', 'amon', 'lazic', 'fisher', 'ridley', 'kleizen', 'ineke', 'braakman', 'schreiber', 'sivakoff', 'knigge', 'rding', 'templeton', 'waagen', 'myoung', 'taekyung', 'seung', 'byungkwon', 'kyung', 'willinger', 'hwa', 'seo', 'byung', 'hyo', 'gee', 'kisuk', 'sung', 'pinna', 'taeghwan', 'hyeon', 'molina', 'lindsey', 'garver', 'alabaster', 'bangiolo', 'jared', 'winikor', 'corrie', 'schaijk', 'sauerwein', 'salmon', 'carolina', 'barillas', 'mury', 'ashleigh', 'guilian', 'siemienski', 'smithson', 'borchelt', 'golde', 'felsenstein', 'tesseur', 'lo', 'anouk', 'roberfroid', 'dietvorst', 'broeck', 'marianne', 'borgers', 'harrie', 'gijsen', 'moechars', 'mercken', 'rudi', 'hooge', 'strooper', 'mara', 'hvistendahl', 'jacobus', 'roode', 'corinna', 'zeitlin', 'hassler', 'cucinotta', 'ehresmann', 'wimmer', 'schweingruber', 'brinza', 'weigle', 'ttcher', 'hm', 'burmeister', 'hler', 'posner', 'rafkin', 'reitz', 'bergonzi', 'albani', 'emiel', 'loren', 'themaat', 'nordstr', 'renhou', 'korbinian', 'schneeberger', 'moerland', 'coupland', 'nozomu', 'umeharu', 'ohto', 'tatsufumi', 'hiramatsu', 'michiko', 'urabe', 'yasunori', 'uchida', 'satow', 'arai', 'charl', 'guillot', 'lecuit', 'beverly', 'purnell', 'efron', 'armitage', 'clifford', 'tabin', 'tiecke', 'leon', 'akimov', 'gullans', 'zibrov', 'vuleti', 'doran', 'christandl', 'ahmari', 'spellman', 'neria', 'douglass', 'mazen', 'kheirbek', 'deisseroth', 'chou', 'zoila', 'babot', 'leing', 'rtner', 'studer', 'leary', 'santamar', 'valladares', 'cziczo', 'froyd', 'hoose', 'minghui', 'diao', 'zondlo', 'twohy', 'dominguez', 'fuhrer', 'bettencourt', 'foley', 'jee', 'widelitz', 'chuong', 'cornelius', 'rietveld', 'medland', 'derringer', 'esko', 'harm', 'westra', 'konstantin', 'shakhbazov', 'abdel', 'abdellaoui', 'arpana', 'behrooz', 'najaf', 'amin', 'barnard', 'baumeister', 'benke', 'bielak', 'boatman', 'christiaan', 'niina', 'eklund', 'ferhmann', 'krista', 'gieger', 'kon', 'gjessing', 'gg', 'hayward', 'holzapfel', 'carla', 'ibrahim', 'verbaas', 'ingelsson', 'jacobsson', 'astanand', 'jugessur', 'marika', 'kaakinen', 'stavroula', 'kanoni', 'karjalainen', 'ivana', 'kolcic', 'kati', 'kristiansson', 'zolt', 'kutalik', 'jari', 'lahti', 'penelope', 'lind', 'yongmei', 'lohman', 'loitfelder', 'marques', 'osorio', 'meirelles', 'milani', 'myhre', 'marja', 'liisa', 'nuotio', 'oldmeadow', 'katja', 'petrovic', 'wouter', 'peyrot', 'ozren', 'pola', 'quaye', 'reinmaa', 'rice', 'thais', 'rizzi', 'reinhold', 'toshiko', 'terracciano', 'loos', 'vitart', 'lzke', 'wellmann', 'ri', 'allik', 'attia', 'bandinelli', 'bastardot', 'beauchamp', 'bierut', 'dorret', 'boomsma', 'ltmann', 'chabris', 'cherkas', 'chung', 'cucca', 'mariza', 'andrade', 'deary', 'dedoussis', 'panos', 'deloukas', 'dimitriou', 'eir', 'ksd', 'elderson', 'eriksson', 'faul', 'ferrucci', 'nberg', 'vilmundur', 'nason', 'juliette', 'hastie', 'dena', 'hernandez', 'hoffmann', 'adriaan', 'hofman', 'rolf', 'holle', 'jouke', 'hottenga', 'iacono', 'illig', 'marjo', 'riitta', 'rvelin', 'nen', 'jaakko', 'kaprio', 'kirkpatrick', 'kowgier', 'antti', 'latvala', 'lenore', 'launer', 'lawlor', 'terho', 'lehtim', 'jingmei', 'lichtner', 'liewald', 'madden', 'tomi', 'kinen', 'masala', 'mcgue', 'metspalu', 'mielck', 'sutapa', 'nyholt', 'oostra', 'lyle', 'aarno', 'palotie', 'penninx', 'perola', 'peyser', 'preisig', 'katri', 'ikk', 'olli', 'raitakari', 'anu', 'realo', 'ring', 'samuli', 'ripatti', 'rivadeneira', 'rudan', 'rustichini', 'veikko', 'salomaa', 'sarin', 'schlessinger', 'rodney', 'snieder', 'beate', 'pourcain', 'starr', 'sul', 'surakka', 'rauli', 'svento', 'teumer', 'lifelines', 'cohort', 'tiemeier', 'rooij', 'wagoner', 'erkki', 'vartiainen', 'jorma', 'viikari', 'vollenweider', 'vonk', 'waeber', 'weir', 'erich', 'wichmann', 'widen', 'gonneke', 'willemsen', 'dalton', 'conley', 'davey', 'lude', 'groenen', 'johannesson', 'kardia', 'krueger', 'laibson', 'posthuma', 'thurik', 'uitterlinden', 'cornelia', 'duijn', 'visscher', 'cesarini', 'koellinger', 'kondro', 'maiken', 'nedergaard', 'rodnina', 'montesi', 'lancaster', 'donohue', 'noller', 'soren', 'yulia', 'yuzenkova', 'nikolay', 'zenkin', 'natkanski', 'yiu', 'bhakti', 'mistry', 'casal', 'molloy', 'tolar', 'pokrovsky', 'cordes', 'bouch', 'kacprzak', 'contini', 'dessauges', 'zavadsky', 'stappers', 'bailes', 'barsdell', 'burgay', 'spolaor', 'champion', 'coster', 'amico', 'kramer', 'milia', 'possenti', 'straten', 'scholz', 'himmel', 'schleyer', 'krossing', 'rozbeh', 'jafari', 'ignatushchenko', 'takahiro', 'seki', 'larsson', 'lekshmy', 'sreekumar', 'yihai', 'mcnutt', 'guizhen', 'mol', 'yonglong', 'arti', 'rai', 'deegan', 'burlaga', 'ness', 'cummings', 'mcdonald', 'heikkila', 'lal', 'webber', 'trinajstic', 'dupret', 'gavin', 'senden', 'boisvert', 'ahlberg', 'zehan', 'chuangye', 'peiyuan', 'zhiwei', 'rui', 'chenlu', 'ruiyong', 'yueteng', 'martinon', 'haiteng', 'itkin', 'heinig', 'tzfadia', 'bhide', 'shinde', 'bocobza', 'unger', 'malitsky', 'finkers', 'tikunov', 'bovy', 'chikate', 'rogachev', 'beekwilder', 'giri', 'aharoni', 'riper', 'timonen', 'latikka', 'ludwik', 'leibler', 'ras', 'ikkala', 'masato', 'shwetha', 'ramachandrappa', 'rong', 'nikhil', 'nuthalapati', 'visali', 'strochlic', 'ferket', 'kirsten', 'linhart', 'tatiana', 'novoselova', 'sumedha', 'garg', 'ridderstr', 'hirschhorn', 'keogh', 'rahilly', 'sadaf', 'farooqi', 'majzoub', 'quental', 'gootenberg', 'chatman', 'gopal', 'sirasani', 'balskus', 'ayelet', 'voskoboynik', 'debashis', 'sahoo', 'dmitry', 'pushkarev', 'norma', 'neff', 'passarelli', 'winston', 'ishizuka', 'karla', 'palmeri', 'dimov', 'keasar', 'mantalas', 'lolita', 'penland', 'quake', 'irving', 'denning', 'eiichi', 'imanishi', 'horvitz', 'shigekazu', 'nagata', 'kreft', 'jetz', 'agudo', 'servick', 'xiaoyong', 'eskandarian', 'impens', 'nahori', 'soubigou', 'copp', 'cossart', 'lanie', 'hamon', 'shinsuke', 'uda', 'takamasa', 'kudo', 'kokaji', 'takaho', 'tsuchiya', 'kubota', 'komori', 'kuroda', 'fouchier', 'yoshihiro', 'kawaoka', 'compans', 'adolfo', 'sastre', 'govorkova', 'herfst', 'orenstein', 'juergen', 'richt', 'cherry', 'tompkins', 'topham', 'treanor', 'tripp', 'webby', 'bishof', 'swallows', 'benko', 'stecher', 'gorshkov', 'rey', 'gong', 'timkovsky', 'fares', 'karlik', 'holzinger', 'szymborska', 'nathalie', 'daigle', 'ellenberg', 'roukos', 'voss', 'seungtaek', 'darawalee', 'wangsa', 'misteli', 'kathrin', 'fenner', 'silvio', 'canonica', 'wackett', 'elsner', 'heinz', 'rita', 'triebskorn', 'woteki', 'luetge', 'rusch', 'redpath', 'sabol', 'soliday', 'pianta', 'burchinal', 'mccann', 'baserga', 'xueqian', 'kong', 'hexiang', 'fangyong', 'jihan', 'swisher', 'berend', 'smit', 'lester', 'hedges', 'raiteri', 'waychunas', 'whitelam', 'banfield', 'yoreo', 'keplinger', 'choon', 'foo', 'rothemund', 'whitesides', 'zhigang', 'suo', 'morley', 'funsten', 'blake', 'fennell', 'kurth', 'niehof', 'lujian', 'zhongfei', 'henn', 'malinow', 'hailan', 'viola', 'piergiorgio', 'casavecchia', 'frisch', 'bzowski', 'livadiotis', 'mccomas', 'moebius', 'mueller', 'schwadron', 'sok', 'vallerga', 'ajello', 'graven', 'piper', 'patra', 'wofsy', 'welp', 'sweeney', 'tans', 'kelley', 'daube', 'kort', 'santoni', 'bent', 'thuronyi', 'charkoudian', 'chaitan', 'chefdeville', 'kalugina', 'sebastiaan', 'meerakker', 'naulin', 'lique', 'costes', 'shunsuke', 'shogo', 'matoba', 'akiyoshi', 'matsumura', 'miyachi', 'mise', 'kuniya', 'atsuo', 'ogura', 'dagmar', 'wilhelm', 'koopman', 'masami', 'nozaki', 'yoshiakira', 'kanai', 'yoichi', 'shinkai', 'makoto', 'tachibana', 'gerberding', 'tapia', 'granados', 'schaedler', 'wiliam', 'carter', 'gurarie', 'hinkley', 'schioppo', 'lemke', 'beloy', 'pizzocaro', 'oates', 'ludlow', 'woong', 'mayer', 'gall', 'opwis', 'choong', 'eui', 'gutmann', 'list', 'monaco', 'tremante', 'priscilla', 'biswas', 'cranage', 'donato', 'zipeto', 'beretta', 'patrizio', 'giacomini', 'taeho', 'maja', 'djurisic', 'shatz', 'leellen', 'solter', 'kyei', 'poku', 'shajahan', 'grotzinger', 'meslin', 'gasnault', 'schr', 'cousin', 'clegg', 'lasue', 'maurice', 'mou', 'lic', 'wiens', 'goetz', 'bish', 'mangold', 'ehlmann', 'harri', 'rampe', 'mcconnochie', 'pinet', 'blaney', 'veill', 'archer', 'barraclough', 'bender', 'blank', 'deflores', 'delapp', 'dromart', 'dyar', 'fisk', 'gondet', 'herkenhoff', 'lacour', 'langevin', 'leshin', 'lewin', 'madsen', 'melikechi', 'mezzacappa', 'mischna', 'moores', 'newsom', 'ollila', 'renno', 'sirven', 'tokar', 'torre', 'uston', 'vaniman', 'yingst', 'msl', 'team', 'mcinerney', 'baulcombe', 'bauch', 'galvani', 'nneker', 'beatrice', 'lugger', 'rochaix', 'karol', 'ugo', 'cki', 'pper', 'wild', 'willitsch', 'arne', 'weiberg', 'zhihong', 'isgouhi', 'kaloshian', 'hsien', 'hailing', 'dashun', 'chaoming', 'barab', 'bridget', 'wilcken', 'yeshaiahu', 'fainman', 'porter', 'shyer', 'tuomas', 'tallinen', 'nandan', 'nerurkar', 'zhiyan', 'malinee', 'sririyanum', 'milathianaki', 'boutet', 'higginbotham', 'gleason', 'messerschmidt', 'hering', 'wark', 'maillard', 'ciaudo', 'marchais', 'voinnet', 'sophia', 'kamran', 'fujiwara', 'canver', 'elenoe', 'pinello', 'sabo', 'vierstra', 'voit', 'porteus', 'stamatoyannopoulos', 'lettre', 'orkin', 'salah', 'ramtani', 'kornecki', 'briones', 'vyacheslav', 'boyarskikh', 'felicia', 'fullilove', 'autschbach', 'kaitlin', 'schrote', 'kyle', 'huw', 'berry', 'fites', 'collier', 'danica', 'sutherland', 'reinert', 'gayek', 'dermody', 'aune', 'kyra', 'richter', 'yasmine', 'belkaid', 'grainger', 'steinberg', 'jarillo', 'herrero', 'gedik', 'benjam', 'martorell', 'lidunka', 'vo', 'adlo', 'brodholt', 'goodman', 'sriram', 'kosuri', 'ruff', 'ugazio', 'fehr', 'nikola', 'markov', 'ria', 'ercsey', 'ravasz', 'essen', 'knoblauch', 'toroczkai', 'kennedy', 'sothmann', 'flindt', 'vlastakis', 'kirchmair', 'leghtas', 'frunzio', 'girvin', 'mazyar', 'mirrahimi', 'devoret', 'schoelkopf', 'yair', 'braddock', 'linsley', 'delia', 'oppo', 'salman', 'hameed', 'daley', 'furey', 'praveen', 'sethupathy', 'murakami', 'elmlund', 'kalisman', 'bushnell', 'adams', 'maia', 'azubel', 'dominika', 'levitt', 'kornberg', 'yufeng', 'bharathi', 'yuanyue', 'nie', 'xiaohan', 'fallahazad', 'ramanarayan', 'magnuson', 'emanuel', 'tutuc', 'yakobson', 'mccarty', 'hone', 'colombo', 'ruoff', 'xiaofei', 'darcy', 'ruhn', 'stubblefield', 'masaki', 'kashiwada', 'lora', 'hooper', 'dorothy', 'fragaszy', 'yonat', 'eshchar', 'zarin', 'yosca', 'rittle', 'courtney', 'krest', 'onderko', 'alexey', 'silakov', 'calixto', 'behan', 'kenney', 'yanguang', 'hongjie', 'brimioulle', 'bach', 'hazel', 'kaspars', 'krutkramelis', 'mooney', 'tomschik', 'gerow', 'oakey', 'gatlin', 'donley', 'natalia', 'naumova', 'maxim', 'imakaev', 'fudenberg', 'mirny', 'bewsher', 'viaud', 'fabiana', 'goire', 'mignot', 'yamazaki', 'daill', 'dalil', 'hannani', 'enot', 'pfirschke', 'camilla', 'engblom', 'pittet', 'schlitzer', 'apetoh', 'chachaty', 'louis', 'woerther', 'eberl', 'chantal', 'ecobichon', 'clermont', 'bizet', 'gaboriau', 'routhiau', 'cerf', 'bensussan', 'paule', 'opolon', 'yessaad', 'vivier', 'ryffel', 'elson', 'dor', 'lepage', 'ivo', 'gomperts', 'boneca', 'ghiringhelli', 'sergienko', 'hindmarsh', 'shenyu', 'eugene', 'ryohei', 'yasuda', 'neufang', 'solway', 'armin', 'brandt', 'trippel', 'mader', 'hefft', 'merkow', 'polyn', 'kahana', 'bonhage', 'disis', 'victora', 'martti', 'kauranen', 'itaru', 'imayoshi', 'akihiro', 'isomura', 'yukiko', 'harima', 'kyogo', 'kawaguchi', 'kori', 'fumiyoshi', 'ishidate', 'ryoichiro', 'kageyama', 'fulton', 'brodsky', 'chester', 'ishikawa', 'toczko', 'kr', 'dhanya', 'cheerambathur', 'oegema', 'armelagos', 'muchnik', 'raffaele', 'bolla', 'bruschi', 'flavio', 'cucchietti', 'davoli', 'mclean', 'sale', 'ketan', 'pang', 'schnitzler', 'anh', 'dao', 'travis', 'moreland', 'koch', 'havlak', 'haddock', 'casey', 'dunn', 'tyra', 'wolfsberg', 'martindale', 'brockmann', 'helbing', 'wiser', 'ribeck', 'lenski', 'kyungin', 'chryshanthi', 'sa', 'kourrich', 'yoo', 'vitaterna', 'villena', 'antonello', 'bonci', 'wacker', 'gati', 'dingjie', 'weierstall', 'anton', 'barty', 'zatsepin', 'dianfan', 'garth', 'koglin', 'marvin', 'syed', 'shah', 'shibom', 'basu', 'fromme', 'kupitz', 'kimberley', 'rendek', 'ingo', 'grotjohann', 'kirian', 'beyerlein', 'caffrey', 'melana', 'yanos', 'ernst', 'kayser', 'quintana', 'maya', 'sangesland', 'castanza', 'uhde', 'arni', 'gagnidze', 'wasko', 'fresnida', 'ramos', 'palmiter', 'rabinovitch', 'sedensky', 'kaeberlein', 'blanche', 'capel', 'phyllis', 'coley', 'kursar', 'dalziel', 'crispin', 'scanlan', 'zitzmann', 'dwek', 'umansky', 'bar', 'kirmani', 'dheera', 'venkatraman', 'dongeek', 'cola', 'goyal', 'nathanson', 'gini', 'mottahedeh', 'koppany', 'visnyei', 'tomoyuki', 'koga', 'ascia', 'eskin', 'kiwook', 'kenta', 'masui', 'paucar', 'huijun', 'minori', 'ohashi', 'shaojun', 'wykosky', 'cloughesy', 'nagesh', 'harley', 'kornblum', 'cavenee', 'furnari', 'mischel', 'teruhiro', 'okuyama', 'saori', 'yokoi', 'hideki', 'isoe', 'yuji', 'suehiro', 'haruka', 'imada', 'yuba', 'yoshihito', 'yasuhiro', 'kamei', 'kataaki', 'okubo', 'atsuko', 'naruse', 'yoshitaka', 'oka', 'kubo', 'hideaki', 'vall', 'vitiello', 'bellocchio', 'chatelain', 'phanie', 'monlezun', 'kasanetz', 'gemma', 'panin', 'adeline', 'cathala', 'roullot', 'lacarri', 'sandy', 'dow', 'shore', 'ronique', 'deroche', 'gamonet', 'umberto', 'spampinato', 'revest', 'reggio', 'marsicano', 'vincenzo', 'piazza', 'keeve', 'nachman', 'tarpley', 'monticone', 'castaldi', 'galdi', 'jewook', 'kendal', 'basile', 'idrobo', 'joop', 'vermeer', 'wangenheim', 'barberon', 'yuree', 'stelzer', 'maizel', 'niko', 'geldner', 'krasnow', 'qiaolin', 'ramsk', 'ld', 'reinius', 'rickard', 'sandberg', 'hochkirch', 'taubman', 'baicker', 'finkelstein', 'luterbacher', 'rand', 'alonso', 'jeehoon', 'youngquist', 'christos', 'maravelias', 'pfleger', 'dumesic', 'berndt', 'feseker', 'treude', 'krastel', 'liebetrau', 'niemann', 'bertics', 'dumke', 'nnbier', 'ferr', 'hissmann', 'hnerbach', 'lieser', 'steinle', 'mclennan', 'calef', 'des', 'marais', 'gellert', 'hurowitz', 'nachon', 'perrett', 'schwenzer', 'stolper', 'sumner', 'treiman', 'vanbommel', 'vasavada', 'arvidson', 'squyres', 'catalano', 'crumpler', 'souza', 'fair', 'farrand', 'golombek', 'guinness', 'jolliff', 'knoll', 'murchie', 'paulsen', 'traystman', 'paco', 'herson', 'elaine', 'ostrander', 'pegor', 'aynajian', 'frano', 'riccardo', 'comin', 'schierle', 'eugen', 'weschke', 'gyenis', 'jinsheng', 'schneeloch', 'zhijun', 'genda', 'tacon', 'yazdani', 'halfwerk', 'monroe', 'zhiyuan', 'gilad', 'doitsh', 'nevan', 'krogan', 'warner', 'greene', 'martyn', 'poliakoff', 'plotkin', 'bernardo', 'coaker', 'xiaoyu', 'ewelina', 'bolcun', 'filas', 'rinaldi', 'schimenti', 'coleen', 'suomeng', 'stam', 'liliana', 'cano', 'sklenar', 'tolga', 'bozkurt', 'miaoying', 'tian', 'win', 'renier', 'sophien', 'kamoun', 'mouyue', 'fortun', 'guangnan', 'jayson', 'paulose', 'vinothan', 'manoharan', 'morell', 'rena', 'steinzor', 'tron', 'jordaan', 'wilcox', 'gopstein', 'arent', 'stucky', 'eardley', 'harriss', 'sherwood', 'rash', 'pasko', 'rakic', 'eivind', 'valen', 'zimmerman', 'dubrulle', 'deepak', 'reyon', 'shengdar', 'joung', 'saghatelian', 'werfel', 'kirstin', 'radhika', 'nagpal', 'brette', 'machado', 'cros', 'incardona', 'nathaniel', 'block', 'vlad', 'kierzkowski', 'madlen', 'rast', 'vuolo', 'dello', 'ioio', 'galinha', 'xiangchao', 'mohsen', 'hajheidari', 'huijser', 'donovan', 'bailey', 'miltos', 'tsiantis', 'hyde', 'taishi', 'gai', 'trobaugh', 'tonelli', 'slobodan', 'paessler', 'gaya', 'amarasinghe', 'diamond', 'mamoru', 'tobisu', 'naoto', 'chatani', 'lovett', 'barron', 'kaifosh', 'danielson', 'zaremba', 'gergely', 'zemelman', 'attila', 'losonczy', 'weikai', 'bonini', 'burle', 'geois', 'chauvel', 'gis', 'kitamura', 'pignatelli', 'junghyup', 'suh', 'keigo', 'kohara', 'susumu', 'tonegawa', 'leszek', 'borysiewicz', 'rabesandratana', 'jeantine', 'lunshof', 'prainsack', 'szell', 'lerner', 'tirole', 'nima', 'mesgarani', 'connie', 'honeyman', 'elana', 'robine', 'chiaroni', 'clarke', 'rosenberg', 'teegan', 'constantin', 'takacs', 'botero', 'belote', 'germer', 'vacic', 'umesh', 'bhanot', 'laquaglia', 'lebrun', 'vernot', 'akey', 'fahrenkamp', 'uppenbrink', 'gautam', 'desiraju', 'datry', 'barcel', 'dahm', 'ginebreda', 'mcgregor', 'sabater', 'tockner', 'queitsch', 'eirik', 'vinje', 'galaasen', 'ulysses', 'ninnemann', 'nil', 'irval', 'helga', 'kikki', 'kleiven', 'kissel', 'chasity', 'spreen', 'mohri', 'agegnehu', 'gettie', 'kasi', 'lodrigue', 'bohm', 'cecilia', 'sanderson', 'alana', 'conner', 'correll', 'corinne', 'racusin', 'lucifora', 'reisinger', 'xiaoming', 'sprinzl', 'herwig', 'koppensteiner', 'zuzanna', 'makowska', 'tassilo', 'volz', 'remouchamps', 'thasler', 'ser', 'durantel', 'nk', 'heim', 'browning', 'dejardin', 'maura', 'dandri', 'mathias', 'heikenwalder', 'ulrike', 'protzer', 'soria', 'godfrey', 'kuntz', 'lenc', 'stockdale', 'hawthorn', 'melko', 'subir', 'deschene', 'peggy', 'panteleimon', 'rompolas', 'zito', 'taketo', 'ichiko', 'saotome', 'valentina', 'greco', 'je', 'hyuk', 'daugharthy', 'scheiman', 'reza', 'kalhor', 'joyce', 'ferrante', 'sauveur', 'jeanty', 'ryoji', 'amamoto', 'turczyk', 'marblestone', 'inverso', 'prashant', 'mali', 'rios', 'aach', 'ruths', 'hlbrandt', 'misato', 'ohtani', 'kiminori', 'toyooka', 'mayumi', 'wakazaki', 'mayuko', 'sato', 'nakano', 'ryosuke', 'sano', 'hiwatashi', 'murata', 'tetsuya', 'kurata', 'arata', 'yoneda', 'mitsuyasu', 'hasebe', 'taku', 'demura', 'shafer', 'curry', 'harun', 'rosie', 'woodroffe', 'durant', 'iess', 'stevenson', 'parisi', 'hemingway', 'jacobson', 'lunine', 'ducci', 'tortora', 'colleen', 'langmuir', 'bryson', 'barcellos', 'crossley', 'bros', 'facer', 'burrone', 'greensmith', 'lieberam', 'pardoll', 'cheetham', 'belluscio', 'bayer', 'artur', 'widera', 'haas', 'gehr', 'jakob', 'reichel', 'me', 'est', 'ducrot', 'yulan', 'bulters', 'rint', 'sijbesma', 'costantino', 'creton', 'teri', 'loose', 'giulio', 'srubek', 'tomassy', 'hsin', 'narayanan', 'kasthuri', 'hayworth', 'vercelli', 'lichtman', 'arlotta', 'britaldo', 'soares', 'filho', 'raoni', 'raj', 'macedo', 'carneiro', 'ane', 'alencar', 'anand', 'neier', 'youngser', 'tomoko', 'ohyama', 'rex', 'truman', 'priebe', 'zlatic', 'juana', 'kazimer', 'skubi', 'tehshik', 'masamune', 'oguri', 'anupreeta', 'more', 'surhud', 'moriya', 'masayuki', 'gaston', 'folatelli', 'melina', 'bersten', 'keiichi', 'maeda', 'nomoto', 'bierman', 'corbett', 'graly', 'lini', 'crosby', 'baldauf', 'desimone', 'jaffe', 'dupont', 'lieberman', 'kolfschooten', 'talhelm', 'oishi', 'shimin', 'lan', 'boston', 'schnepp', 'nemoto', 'yoshio', 'sakka', 'lida', 'katsimpardi', 'litterman', 'loffredo', 'wojtkiewicz', 'wagers', 'rubin', 'brunecky', 'alahuhta', 'bryon', 'donohoe', 'kataeva', 'resch', 'lunin', 'yannick', 'bomble', 'ragauskas', 'beckham', 'biddy', 'chandra', 'davison', 'gilna', 'langan', 'naskar', 'saddler', 'tschaplinski', 'tuskan', 'wyman', 'chow', 'rakesh', 'reid', 'skepper', 'wai', 'maggie', 'bihan', 'farndale', 'slatter', 'shanahan', 'duer', 'ay', 'omrak', 'valdiosera', 'torsten', 'kristiina', 'tambets', 'parik', 'sj', 'gren', 'apel', 'karthik', 'anantharaman', 'duhaime', 'breier', 'wendt', 'brandy', 'toner', 'maldacena', 'dipak', 'nixon', 'christen', 'dipetrillo', 'sunthorn', 'pond', 'tor', 'pischel', 'ailin', 'michelow', 'conteh', 'sabrina', 'absalon', 'holte', 'michal', 'fried', 'kurtis', 'kieren', 'llamas', 'soubrier', 'rawlence', 'worthy', 'schwientek', 'rinke', 'amrita', 'pati', 'huntemann', 'visel', 'nikos', 'kyrpides', 'friedrich', 'finster', 'pimm', 'gittleman', 'joppa', 'raven', 'sexton', 'shaner', 'beardslee', 'lichterman', 'brunschwig', 'sunit', 'mandad', 'sven', 'truckenbrodt', 'hnert', 'burkhard', 'rammner', 'seong', 'gala', 'cla', 'haucke', 'urlaub', 'rizzoli', 'lampert', 'hastings', 'grosholz', 'sunny', 'jardine', 'sanchirico', 'theodore', 'loughlin', 'bhoopesh', 'dichristina', 'kemner', 'tricia', 'windgassen', 'dhananjaya', 'nayak', 'landick', 'dara', 'hollowed', 'sundby', 'remer', 'ilan', 'koren', 'dagan', 'orit', 'altaratz', 'caprio', 'mami', 'shimohara', 'takayuki', 'marui', 'shuitsu', 'harada', 'sadao', 'kiyohara', 'haihuai', 'yoshiaki', 'kise', 'azadeh', 'izadifar', 'urwyler', 'derya', 'ayaz', 'akhila', 'parthasarthy', 'luise', 'erfurth', 'dascenco', 'schmucker', 'blanpain', 'fuchs', 'zhuhao', 'antipenko', 'dorothea', 'tzvetkova', 'robev', 'minchenko', 'nardi', 'dei', 'kanagalaghatta', 'rajashankar', 'himanen', 'tessier', 'lavigne', 'nikolov', 'gignoux', 'zakharia', 'alejandra', 'alonzo', 'hidalgo', 'robles', 'ismael', 'arana', 'barquera', 'lozano', 'gast', 'mac', 'arriola', 'galanter', 'via', 'roc', 'chapela', 'cintron', 'santana', 'romieu', 'sienra', 'monge', 'blanca', 'linares', 'herrera', 'miranda', 'gerardo', 'alessandra', 'sober', 'canizales', 'quinteros', 'rangel', 'villalobos', 'irma', 'zolezzi', 'arsuaga', 'aranburu', 'gracia', 'llez', 'quam', 'falgu', 'res', 'pantoja', 'poza', 'par', 'carretero', 'demuro', 'sala', 'alc', 'zar', 'velasco', 'cuenca', 'besc', 'mez', 'olivencia', 'pablos', 'bonmat', 'berm', 'dez', 'carbonell', 'nikitin', 'golmar', 'centeno', 'pesquera', 'navickaite', 'koppens', 'zurutuza', 'casanova', 'hueso', 'hillenbrand', 'danylo', 'zherebetskyy', 'scheele', 'yingjie', 'bronstein', 'alivisatos', 'anoop', 'itay', 'tirosh', 'trombetta', 'shalek', 'hiroaki', 'wakimoto', 'nahed', 'martuza', 'rozenblatt', 'rosen', 'pizer', 'raimi', 'monk', 'szyszka', 'tononi', 'donoso', 'koechlin', 'schreppler', 'spethmann', 'brahms', 'botter', 'maryrose', 'barrios', 'stamper', 'kurn', 'mak', 'mcgill', 'mceuen', 'riffell', 'shlizerman', 'elischa', 'abrell', 'billie', 'hinterwirth', 'kutz', 'wible', 'duur', 'aanen', 'prejean', 'haney', 'ant', 'aiello', 'kayoung', 'jiamin', 'dillen', 'kyounghwan', 'fanyang', 'guangbin', 'chelsea', 'wald', 'casadei', 'gumiero', 'metcalfe', 'jaswir', 'basran', 'grazia', 'concilio', 'teixeira', 'schrader', 'alistair', 'fielding', 'ostermann', 'blakeley', 'medford', 'jess', 'wellendorff', 'aleksandra', 'vojvodic', 'studt', 'abild', 'pedersen', 'bligaard', 'gulde', 'schweda', 'gero', 'storeck', 'manisankar', 'maiti', 'hak', 'wodtke', 'sascha', 'ropers', 'zhongwen', 'helmberger', 'hiroo', 'kanamori', 'shearer', 'ottesen', 'gifford', 'eppley', 'scholin', 'soroldoni', 'morelli', 'richmond', 'schindelin', 'licher', 'choulet', 'alberti', 'theil', 'glover', 'barbe', 'josquin', 'daron', 'lise', 'pingault', 'sourdille', 'couloux', 'paux', 'mangenot', 'guilhot', 'gouis', 'balfourier', 'alaux', 'jamilloux', 'durand', 'bellec', 'gaspin', 'safar', 'jaroslav', 'dolezel', 'klaas', 'vandepoele', 'aury', 'berges', 'hadi', 'quesneville', 'wincker', 'feuillet', 'fanuel', 'muindi', 'alexa', 'fritzsche', 'anyi', 'linfeng', 'ku', 'tongfa', 'yaoguang', 'jiangzhao', 'tzel', 'kaufman', 'foss', 'feig', 'hazzard', 'regal', 'pena', 'sze', 'gardiner', 'zhiwen', 'fun', 'lau', 'mendlein', 'nangle', 'fai', 'au', 'mingjie', 'schimmel', 'tewksbury', 'haldre', 'chatters', 'tellis', 'primer', 'molander', 'zuo', 'ahneman', 'lingling', 'chu', 'terrett', 'macmillan', 'keranen', 'weingarten', 'abers', 'bekins', 'jampani', 'nageswara', 'yadaiah', 'madasu', 'pala', 'lizzie', 'temkin', 'jurado', 'kook', 'heifets', 'jai', 'polepalli', 'malenka', 'laurel', 'mellor', 'bishopp', 'you', 'felton', 'tolley', 'demaine', 'rus', 'berelson', 'thunell', 'caitlin', 'tems', 'crusius', 'taka', 'baumgartner', 'vicente', 'mey', 'merolla', 'alvarez', 'icaza', 'cassidy', 'sawada', 'filipp', 'akopyan', 'nabil', 'imam', 'yutaka', 'brezzo', 'esser', 'rathinakumar', 'appuswamy', 'taba', 'arnon', 'amir', 'myron', 'flickner', 'risk', 'rajit', 'manohar', 'dharmendra', 'modha', 'kraft', 'halina', 'tegetmeyer', 'ritin', 'sharma', 'klotz', 'ferdelman', 'hettich', 'jeanine', 'geelhoed', 'strous', 'robker', 'rilling', 'hand', 'blaise', 'arena', 'janez', 'toma', 'zwitter', 'wyse', 'bienaym', 'binney', 'joss', 'bland', 'gerry', 'gilmore', 'grebel', 'amina', 'helmi', 'georges', 'kordopatis', 'ulisse', 'munari', 'seabroke', 'sanjib', 'siebert', 'siviero', 'steinmetz', 'rich', 'liaw', 'hoegger', 'mcmenimen', 'ostedgaard', 'maged', 'awadalla', 'moninger', 'zabner', 'stoltz', 'karzbrun', 'tayar', 'noireaux', 'ziv', 'yuning', 'weng', 'viviane', 'callier', 'vanderford', 'fatimah', 'clarence', 'sherese', 'johnny', 'huard', 'kamp', 'trucco', 'camila', 'bacellar', 'rico', 'mayro', 'tanyag', 'schorb', 'anielski', 'belkacem', 'bernando', 'boll', 'bozek', 'carron', 'tjark', 'delmas', 'englert', 'epp', 'erk', 'foucar', 'hartmann', 'hexemer', 'huth', 'kwok', 'leone', 'filipe', 'malmerberg', 'stefano', 'marchesini', 'neumark', 'rolles', 'rudek', 'artem', 'rudenko', 'seifrid', 'siefermann', 'sturm', 'swiggers', 'ullrich', 'fabian', 'weise', 'petrus', 'zwart', 'bostedt', 'andrey', 'vilesov', 'byron', 'crump', 'kling', 'girardi', 'horwitz', 'dyani', 'blockstein', 'temple', 'meer', 'huppert', 'holmes', 'mare', 'gales', 'mangel', 'alexej', 'pashkin', 'leitenstorfer', 'dani', 'zamir', 'susanna', 'bidgood', 'mcewan', 'gurvinder', 'baskin', 'elijah', 'gelman', 'nikita', 'repnin', 'rafal', 'klajn', 'metois', 'fuenzalida', 'leyton', 'grandin', 'vigny', 'madariaga', 'campos', 'christo', 'buizert', 'vasileios', 'gkinis', 'severinghaus', 'lecavalier', 'kindler', 'leuenberger', 'vinther', 'masson', 'delmotte', 'zhengyu', 'bliesner', 'deb', 'niemeier', 'gombachika', 'kortum', 'rothschild', 'storch', 'kassandra', 'ferdi', 'hellweger', 'sebille', 'fredrick', 'rebesco', 'domack', 'zgur', 'lavoie', 'leventer', 'brachfeld', 'willmott', 'halverson', 'truffer', 'scambos', 'pettit', 'mcmenamin', 'bain', 'larissa', 'waller', 'hamill', 'kuhlman', 'eisen', 'parichy', 'prateek', 'mahalwar', 'brigitte', 'walderich', 'ajeet', 'pratap', 'christiane', 'sslein', 'volhard', 'beatson', 'malissa', 'kavand', 'schooten', 'burn', 'vardeny', 'saam', 'lupton', 'warwick', 'sadia', 'saeed', 'quintin', 'hindrik', 'kerstens', 'nagesha', 'aghajanirefah', 'filomena', 'matarese', 'shih', 'ratter', 'berentsen', 'martijn', 'ent', 'nilofar', 'sharifi', 'janssen', 'megens', 'menno', 'huurne', 'mandoli', 'schaik', 'aylwin', 'burden', 'downes', 'frontini', 'vinod', 'evangelos', 'giamarellos', 'bourboulis', 'willem', 'ouwehand', 'joosten', 'cisca', 'wijmenga', 'joost', 'martens', 'ramnik', 'logie', 'mihai', 'netea', 'stunnenberg', 'roel', 'nusse', 'arno', 'rauschenbeutel', 'caspeta', 'payam', 'ghiaci', 'feizi', 'buskov', 'hallstr', 'dina', 'petranovic', 'schenkel', 'lalit', 'beura', 'pauken', 'vaiva', 'vezys', 'masopust', 'auke', 'ijspeert', 'ayanna', 'yolanda', 'haym', 'hirsh', 'rusko', 'ruskov', 'tahan', 'brindley', 'berriman', 'zhiqiang', 'xiaolei', 'shuanhu', 'xianghui', 'yuyong', 'rheingold', 'victorio', 'bambini', 'junior', 'gustavo', 'flora', 'nunes', 'carmem', 'gottfried', 'holgate', 'schinn', 'albertazzi', 'ciardi', 'nakatsutsumi', 'vinci', 'ard', 'bonito', 'billette', 'borghesi', 'burkley', 'cowan', 'herrmannsd', 'higginson', 'kroll', 'pikuz', 'naughton', 'romagnani', 'riconda', 'revet', 'riquier', 'schlenvoigt', 'skobelev', 'faenov', 'soloviev', 'huarte', 'portugall', 'smolka', 'wuester', 'haupt', 'faelt', 'wegscheider', 'ata', 'imamoglu', 'koschowitz', 'butz', 'kc', 'scherbov', 'sheu', 'gruttadauria', 'hepburn', 'prajsnar', 'klapholz', 'loynes', 'ogryzko', 'schiebler', 'krisztina', 'hegyi', 'antrobus', 'connolly', 'bas', 'surewaard', 'suranjith', 'grogono', 'cachat', 'ny', 'kaser', 'peacock', 'lihui', 'petros', 'ligoxygakis', 'minichiello', 'geoff', 'renshaw', 'floto', 'katriona', 'arag', 'barlow', 'barreto', 'berenguer', 'lees', 'lima', 'louzada', 'pardini', 'parry', 'pompeu', 'tabarelli', 'zuanon', 'yuichiro', 'walle', 'liran', 'einav', 'indrajit', 'tamal', 'bardagi', 'nig', 'zemcov', 'smidt', 'toshiaki', 'asantha', 'korngut', 'anson', 'lam', 'toshio', 'shuji', 'matsuura', 'uk', 'gael', 'roudier', 'kohji', 'tsumura', 'takehiko', 'wada', 'paris', 'gorman', 'xiaochu', 'arthos', 'koff', 'courter', 'amos', 'kwong', 'blanchard', 'walther', 'mothes', 'ausl', 'nder', 'fussenegger', 'fahim', 'farzadfard', 'jorik', 'groep', 'polman', 'shulmeister', 'zawadzki', 'woodard', 'phong', 'ha', 'costacurta', 'chavez', 'heller', 'ruby', 'segre', 'xingli', 'giam', 'wilcove', 'griffiths', 'kelin', 'whipple', 'lessler', 'lonfat', 'montavon', 'darbellay', 'gitto', 'duboule', 'raya', 'muttarak', 'striessnig', 'rehling', 'doudna', 'charpentier', 'desch', 'denton', 'ebel', 'cl', 'ment', 'suavet', 'huapei', 'sage', 'kasama', 'walsworth', 'harbauer', 'opali', 'carolin', 'gerbeth', 'josip', 'sanjana', 'birgit', 'nfisch', 'guiard', 'pfanner', 'meisinger', 'gille', 'amoyel', 'berganti', 'os', 'cova', 'schertel', 'basler', 'ahren', 'jasper', 'kenley', 'pelzer', 'kamarchik', 'harding', 'klippenstein', 'sunke', 'schmidtko', 'heywood', 'aoki', 'braun', 'earl', 'ngan', 'hickey', 'vandewege', 'salvador', 'capella', 'guti', 'rrez', 'castoe', 'kern', 'fujita', 'opazo', 'jurka', 'kojima', 'hubley', 'arian', 'meganathan', 'ramakodi', 'finger', 'weerachai', 'jaratlerdsiri', 'gongora', 'iriarte', 'shane', 'breen', 'cathy', 'gresham', 'pollock', 'haussler', 'triplett', 'guojie', 'irie', 'brant', 'faircloth', 'toni', 'gabald', 'benedict', 'paten', 'perkins', 'gutchess', 'hal', 'drakesmith', 'krupa', 'ramasesha', 'pemmaraju', 'whitmore', 'gandman', 'borja', 'prendergast', 'yabana', 'mansour', 'berezovskaya', 'durbin', 'etchin', 'lawton', 'sallan', 'mignon', 'takaomi', 'sanda', 'look', 'russo', 'passmore', 'lupas', 'eleni', 'anastasiadou', 'lecia', 'sequist', 'friboulet', 'niederst', 'lockerman', 'frias', 'gainor', 'amzallag', 'greninger', 'anuj', 'kalsy', 'caraballo', 'elamine', 'howe', 'wooyoung', 'hur', 'lifshits', 'hayley', 'faber', 'ramaswamy', 'mari', 'mino', 'kenudson', 'iafrate', 'cyril', 'benes', 'engelman', 'chunhua', 'dionigi', 'strasser', 'woon', 'akif', 'tezcan', 'yuka', 'hiroyoshi', 'nishikawa', 'daisuke', 'sugiyama', 'danbee', 'masahide', 'hamaguchi', 'takuro', 'megumi', 'nishioka', 'adeegbe', 'ichiro', 'ravelo', 'trillium', 'fedorov', 'bonaccorso', 'guihua', 'meryl', 'stoller', 'tozzini', 'ferrari', 'fontaine', 'pease', 'steele', 'waterhouse', 'sharakhov', 'xiaofang', 'flaminia', 'catteruccia', 'evdoxia', 'kakani', 'chieh', 'hilary', 'love', 'slotman', 'emrich', 'buitrago', 'santanilla', 'shevlin', 'bateman', 'campeau', 'schneeweis', 'berritt', 'nantermet', 'helmy', 'welch', 'vachal', 'cernak', 'dreher', 'sandrine', 'scrignari', 'blokesch', 'guerrero', 'juarez', 'tissa', 'sagar', 'bapat', 'raul', 'maksim', 'plikus', 'gallo', 'loretz', 'rosskopf', 'boss', 'pezzagna', 'degen', 'chunhong', 'tsukruk', 'kirshenbaum', 'marschilok', 'anastas', 'gabriele', 'sandrian', 'sharpe', 'penner', 'litman', 'jeitany', 'alysia', 'bryll', 'ganem', 'bersani', 'pineda', 'boussin', 'penaloza', 'macmaster', 'wherry', 'provine', 'teigler', 'lily', 'parenteau', 'blackmore', 'borducchi', 'larocca', 'haining', 'sommerstein', 'pinschewer', 'rafi', 'barouch', 'capaccioni', 'coradini', 'erard', 'drossart', 'sanctis', 'bockelee', 'morvan', 'capria', 'tosi', 'leyrat', 'quirico', 'cerroni', 'mennella', 'raponi', 'ciarniello', 'moroz', 'palomba', 'ammannito', 'barucci', 'bellucci', 'benkhoff', 'bibring', 'blanco', 'blecka', 'carsenty', 'colangeli', 'combes', 'combi', 'crovisier', 'encrenaz', 'fonti', 'ip', 'irwin', 'jaumann', 'kuehrt', 'magni', 'mottola', 'orofino', 'palumbo', 'piccioni', 'schade', 'tiphene', 'tozzi', 'biver', 'bonal', 'ph', 'combe', 'despan', 'flamini', 'fornasier', 'frigeri', 'grassi', 'gudipati', 'longobardo', 'merlin', 'orosei', 'cartacci', 'cicchetti', 'giuppi', 'hello', 'jacquinod', 'noschese', 'politi', 'reess', 'semery', 'sierks', 'cesare', 'barbieri', 'koschny', 'rickman', 'hearn', 'angrilli', 'therese', 'auger', 'antonella', 'loup', 'bertaux', 'ivano', 'bertini', 'sebastien', 'besse', 'bodewits', 'capanna', 'cremonese', 'vania', 'deppo', 'davidsson', 'debei', 'mariolino', 'cecco', 'ferri', 'fulle', 'gaskell', 'lorenza', 'groussin', 'ttler', 'hoekzema', 'stubbe', 'hviid', 'huen', 'knollenberg', 'kovacs', 'kramm', 'ekkehard', 'hrt', 'ppers', 'fiorangela', 'forgia', 'luisa', 'lazzarin', 'magrin', 'simone', 'marchi', 'marzari', 'massironi', 'michalik', 'moissl', 'giampiero', 'naletto', 'nilda', 'oklay', 'maurizio', 'pajola', 'pertile', 'preusker', 'sabau', 'scholten', 'snodgrass', 'tubiana', 'baptiste', 'wenzel', 'zaccariotto', 'tzold', 'pain', 'straimer', 'gn', 'dig', 'witkowski', 'chanaki', 'amaratunga', 'duru', 'arba', 'pramundita', 'ramadani', 'dacheux', 'nimol', 'khim', 'fyodor', 'urnov', 'odile', 'mercereau', 'puijalon', 'vical', 'fairhurst', 'nard', 'viktor', 'nberger', 'hibbing', 'larrondo', 'consuelo', 'olivares', 'loros', 'dunlap', 'valerio', 'adinolfi', 'mingjian', 'alarousu', 'buin', 'hoogland', 'rothenberger', 'khabiboulakh', 'katsiev', 'yaroslav', 'losovyj', 'dowben', 'mohammed', 'sargent', 'wanyi', 'hsinhan', 'asadpour', 'blancon', 'neukirch', 'crochet', 'manish', 'chhowalla', 'tretiak', 'alam', 'hsing', 'aditya', 'mohite', 'agaronyan', 'anikin', 'temiakov', 'garavito', 'shelagh', 'guzman', 'vermeulen', 'yaser', 'atlasi', 'crawford', 'sewell', 'golembeski', 'carmel', 'yanofsky', 'brunkard', 'runkel', 'zambryski', 'kloor', 'potter', 'prentice', 'plummer', 'freddie', 'bray', 'straif', 'zavadil', 'zink', 'bressanelli', 'tongxiang', 'wheeler', 'rockstr', 'cornell', 'fetzer', 'reinette', 'wim', 'wit', 'folke', 'gerten', 'heinke', 'mace', 'linn', 'veerabhadran', 'reyers', 'sverker', 'rlin', 'zhe', 'april', 'neander', 'jenna', 'jambeck', 'geyer', 'siegler', 'perryman', 'andrady', 'ramani', 'narayan', 'kara', 'lavender', 'anuradha', 'illendula', 'pulikkan', 'jolanta', 'grembecka', 'liting', 'siddhartha', 'yunpeng', 'boulton', 'aravinda', 'kuntimaddi', 'rajewski', 'lucio', 'castilla', 'bushweller', 'dantzer', 'sambles', 'menche', 'amitabh', 'kitsak', 'ghiassian', 'loscalzo', 'premi', 'wallisch', 'mano', 'weiner', 'bacchiocchi', 'kazumasa', 'wakamatsu', 'etelvino', 'bechara', 'halaban', 'douki', 'brash', 'winter', 'taube', 'priyanka', 'pulla', 'dov', 'greenbaum', 'hull', 'hertel', 'lubchenco', 'seto', 'gleick', 'banzer', 'ebrahim', 'karimi', 'orlov', 'rubano', 'marrucci', 'santamato', 'gerd', 'leuchs', 'sher', 'afzal', 'hasse', 'ruf', 'heckel', 'arner', 'daub', 'kristoffer', 'vitting', 'seerup', 'berit', 'lilje', 'finn', 'drabl', 'lennartsson', 'nnerblad', 'hrydziuszko', 'morana', 'vitezic', 'ahmad', 'alhendi', 'axton', 'beckhouse', 'bodega', 'brombacher', 'detmar', 'ehrlund', 'mitsuhiro', 'endoh', 'afsaneh', 'eslami', 'michela', 'fagiolini', 'lynsey', 'fairbairn', 'faulkner', 'carmelo', 'ferrai', 'lesley', 'forrester', 'goldowitz', 'guler', 'mitsuko', 'hara', 'meenhard', 'herlyn', 'tomokatsu', 'ikawa', 'chieko', 'levon', 'khachigian', 'klinken', 'soichi', 'haruhiko', 'koseki', 'niklas', 'mejhert', 'miyaguchi', 'mizuno', 'mitsuru', 'morimoto', 'mummery', 'nakachi', 'ogishima', 'mariko', 'okada', 'hatakeyama', 'orlando', 'ovchinnikov', 'passier', 'patrikakis', 'pombo', 'xian', 'qin', 'sugata', 'hiroki', 'suzana', 'savvi', 'alka', 'saxena', 'schwegmann', 'swoboda', 'andru', 'tomoiu', 'winteringham', 'wolvetang', 'chiyo', 'yanagi', 'mizuochi', 'misako', 'zabierowski', 'imad', 'abugessaisa', 'bertin', 'shiro', 'fukuda', 'masaaki', 'furuno', 'harshbarger', 'hasegawa', 'fumi', 'sachi', 'yuri', 'ishizu', 'masayoshi', 'tsugumi', 'kawashima', 'miki', 'kondo', 'lizio', 'meehan', 'mungall', 'mitsuyoshi', 'hiromi', 'nishiyori', 'sueki', 'serkan', 'sahin', 'sayaka', 'nagao', 'severin', 'kawai', 'takeya', 'kasukawa', 'timo', 'lassmann', 'harukazu', 'hideya', 'kawaji', 'summers', 'fantom', 'forrest', 'albin', 'sandelin', 'carninci', 'yoshihide', 'hayashizaki', 'moerchen', 'blandford', 'gomes', 'liam', 'mcguinness', 'fedor', 'jelezko', 'marko', 'jovanovic', 'rooney', 'mertins', 'dariusz', 'przybylski', 'chevrier', 'satija', 'fields', 'schraga', 'raktima', 'raychowdhury', 'maxwell', 'mumbach', 'eisenhaure', 'rabani', 'gennert', 'delorey', 'treu', 'brammer', 'adi', 'zitrin', 'sonnenfeld', 'strolger', 'graur', 'saurabh', 'jha', 'riess', 'marusa', 'bradac', 'scolnic', 'malkan', 'anja', 'trenti', 'raphael', 'gavazzi', 'adriano', 'merten', 'mccully', 'postman', 'kolkowitz', 'safira', 'high', 'devlin', 'unterreithmeier', 'manucharyan', 'zeisel', 'manchado', 'codeluppi', 'nnerberg', 'gioele', 'manno', 'jur', 'us', 'hermany', 'munguba', 'liqun', 'christer', 'betsholtz', 'rolny', 'gon', 'alo', 'castelo', 'hjerling', 'leffler', 'sten', 'linnarsson', 'stuwe', 'correia', 'marcin', 'paduch', 'kossiakoff', 'hoelz', 'guillem', 'anglada', 'escud', 'tuomi', 'saleem', 'hotchkiss', 'siqi', 'cong', 'tuo', 'junyao', 'heesterbeek', 'viggo', 'andreasen', 'shweta', 'bansal', 'eames', 'edmunds', 'funk', 'deirdre', 'house', 'isham', 'klepac', 'metcalf', 'mollison', 'pellis', 'juliet', 'pulliam', 'mick', 'viboud', 'isaac', 'institute', 'idd', 'camasso', 'saki', 'shaun', 'truelove', 'tatem', 'grenfell', 'nimal', 'perera', 'oshan', 'wedage', 'siran', 'deraniyagala', 'jude', 'saman', 'eregama', 'gledhill', 'petraglia', 'thorp', 'gaudet', 'ocampo', 'izpisua', 'belmonte', 'oskar', 'asvany', 'koichi', 'nken', 'potapov', 'schlemmer', 'jingyi', 'digvijay', 'qiucen', 'seongjin', 'divya', 'ido', 'golding', 'carin', 'vanderpool', 'taekjip', 'puneet', 'kollipara', 'vitule', 'azevedo', 'salete', 'daga', 'dilermando', 'barroso', 'magalh', 'orsi', 'pelicice', 'ngelo', 'nio', 'agostinho', 'casper', 'borsanyi', 'durr', 'fodor', 'hoelbling', 'katz', 'krieg', 'lellouch', 'lippert', 'portelli', 'szabo', 'toth', 'kitching', 'tittley', 'florio', 'mareike', 'taverna', 'namba', 'brandl', 'lewitus', 'haffner', 'sykes', 'jula', 'guhr', 'klemroth', 'pr', 'kelso', 'naumann', 'dahl', 'lachmann', 'svante', 'wieland', 'huttner', 'byrne', 'klueglein', 'pearce', 'rosso', 'appel', 'kappler', 'ruddiman', 'erle', 'jed', 'dorian', 'fuller', 'gosvami', 'bares', 'mangolini', 'konicek', 'yablon', 'carpick', 'hyoung', 'mun', 'hyun', 'sik', 'woo', 'roh', 'weon', 'wng', 'pauline', 'audergon', 'catania', 'kagansky', 'manu', 'pidoux', 'allshire', 'weiwen', 'gowen', 'iannello', 'jianfeng', 'tihana', 'rovis', 'na', 'raulet', 'fadri', 'moskwik', 'montjoye', 'pentland', 'jiaqi', 'nyhart', 'vohr', 'villanueva', 'mumma', 'novak', 'ufl', 'hartogh', 'tokunaga', 'khayat', 'altwegg', 'balsiger', 'nun', 'berthelier', 'bieler', 'bochsler', 'briois', 'calmonte', 'keyser', 'dhooghe', 'eberhardt', 'fiethe', 'fuselier', 'gasc', 'gombosi', 'ssig', 'kopp', 'korth', 'mall', 'mousis', 'owen', 'mon', 'tzou', 'waite', 'wurz', 'rajiv', 'demko', 'milena', 'banjevic', 'styrmir', 'sigurjonsson', 'dmitri', 'petrov', 'prado', 'sudmant', 'vagheesh', 'narasimhan', 'szpak', 'frandsen', 'lobon', 'siegismund', 'quail', 'hvilsom', 'mudakikwa', 'eichler', 'cranfield', 'tomas', 'bonet', 'aylwyn', 'scally', 'ulmer', 'beckmann', 'basil', 'greber', 'bieri', 'leibundgut', 'leitner', 'ruedi', 'aebersold', 'boehringer', 'ban', 'pyenson', 'emmrich', 'ferdinand', 'huber', 'pielmeier', 'welker', 'hofmann', 'maximilian', 'schneiderbauer', 'meuer', 'svitlana', 'polesya', 'sergiy', 'mankovsky', 'diemo', 'dderitzsch', 'giessibl', 'tacchella', 'carollo', 'renzini', 'rster', 'wuyts', 'cresci', 'dekel', 'genzel', 'mancini', 'onodera', 'shapley', 'tacconi', 'zamorani', 'miho', 'nagasawa', 'shouhei', 'mitsui', 'shiori', 'nobuyo', 'mitsuaki', 'ohta', 'yasuo', 'sakuma', 'tatsushi', 'onaka', 'kazutaka', 'mogi', 'takefumi', 'kikusui', 'masakatsu', 'nigel', 'brady', 'allred', 'kolby', 'dirac', 'twidwell', 'haggerty', 'naugle', 'fuhlendorf', 'penn', 'agha', 'marzi', 'batorski', 'friederike', 'feldmann', 'shupert', 'jianwei', 'borisevich', 'morozovska', 'eliseev', 'pennycook', 'shuo', 'yoshimitsu', 'takuya', 'masuda', 'seishi', 'shimizu', 'shugo', 'kou', 'okuro', 'noguchi', 'kohei', 'uosaki', 'takuzo', 'aida', 'finnegan', 'harnik', 'tittensor', 'jarrett', 'byrnes', 'lindberg', 'liow', 'lockwood', 'heike', 'mcclain', 'dea', 'zef', 'lewandowski', 'meghan', 'halse', 'blackledge', 'lyndon', 'emsley', 'katharine', 'suding', 'baird', 'callicott', 'gutrich', 'hondula', 'lafevor', 'brendon', 'ruhl', 'katrina', 'swart', 'osterhaus', 'samantha', 'nikolina', 'sekulic', 'smoak', 'tomoyasu', 'glennis', 'logsdon', 'kushol', 'duyne', 'vinogradov', 'lampson', 'black', 'pastrana', 'bretheau', 'campagne', 'ibarcq', 'flurin', 'mallet', 'mohn', 'handler', 'brennecke', 'voelkle', 'charlie', 'skovran', 'guiteras', 'levinsohn', 'mushfiq', 'mobarak', 'aashiq', 'kachroo', 'yellman', 'austin', 'wilke', 'marcotte', 'jade', 'alpoim', 'guedes', 'bocinsky', 'ethan', 'herton', 'hinnebusch', 'croce', 'feld', 'rachael', 'rhodes', 'blunier', 'maselli', 'mcconnell', 'romanini', 'devaki', 'bhaya', 'ilima', 'loomis', 'lui', 'kleypas', 'kula', 'qikai', 'mamie', 'vernon', 'thumbi', 'ndung', 'kiat', 'ruxrungtham', 'brander', 'larman', 'elledge', 'masakazu', 'matsubara', 'masahito', 'mochizuki', 'teresa', 'kubacka', 'ayato', 'iyama', 'nadir', 'aliouane', 'meier', 'fiebig', 'babbin', 'bianchi', 'amal', 'jayakumar', 'bess', 'bartesaghi', 'merk', 'soojay', 'doreen', 'matthies', 'xiongwu', 'milne', 'subramaniam', 'roach', 'sauermann', 'rossi', 'lamastra', 'wigard', 'kloosterman', 'hussey', 'kessel', 'aarestrup', 'kocik', 'flemming', 'whoriskey', 'joong', 'jeon', 'seungchan', 'ryu', 'jangwon', 'tabor', 'machlis', 'lavelle', 'vasek', 'tamayo', 'glaser', 'zia', 'mian', 'srokosz', 'bryden', 'godt', 'buschman', 'gonen', 'dimaio', 'tamir', 'villmoare', 'seyoum', 'campisano', 'dimaggio', 'ramon', 'kaye', 'bekerman', 'shirit', 'jinqi', 'dolan', 'nosek', 'alter', 'borsboom', 'breckler', 'buck', 'chambers', 'christensen', 'contestabile', 'dafoe', 'eich', 'freese', 'glennerster', 'goroff', 'hesse', 'humphreys', 'ishiyama', 'karlan', 'kraut', 'mabry', 'madon', 'mayo', 'paluck', 'simonsohn', 'turitto', 'vandenbos', 'vazire', 'wagenmakers', 'yarkoni', 'thijn', 'brummelkamp', 'steensel', 'congping', 'shang', 'zhihui', 'zijun', 'yingchao', 'dapeng', 'yuxiang', 'emmett', 'manashree', 'damle', 'armour', 'remsberg', 'soccio', 'steger', 'tholl', 'roering', 'obal', 'trajtenberg', 'larrieux', 'pritsch', 'buschiazzo', 'cally', 'carswell', 'garber', 'wedding', 'reiter', 'gjerde', 'kittinger', 'friedlander', 'gaines', 'thurnherr', 'hardy', 'crowder', 'deconto', 'horton', 'rahmstorf', 'raymo', 'rogier', 'marit', 'gils', 'derking', 'devin', 'ketas', 'burger', 'ozorowski', 'cupo', 'cassandra', 'simonich', 'goo', 'arendt', 'pugach', 'gargi', 'debnath', 'moldt', 'lle', 'breemen', 'zde', 'isik', 'back', 'rakasz', 'miklos', 'guttman', 'klasse', 'labranche', 'schief', 'overbaugh', 'montefiori', 'hansi', 'ruobing', 'xinhui', 'jianping', 'xiaohui', 'yixuan', 'xiaoguang', 'radhakrishnan', 'nieng', 'minajigi', 'froberg', 'chunyao', 'hongjae', 'sunwoo', 'kesner', 'colognori', 'lessing', 'payer', 'myriam', 'boukhali', 'jeannie', 'lauchlan', 'pither', 'anke', 'jentsch', 'sternberg', 'zobel', 'askarizadeh', 'sandor', 'beierkuhnlein', 'bittel', 'bazartseren', 'boldgiv', 'ilsi', 'boldrini', 'bork', 'cabido', 'carlyle', 'giandiego', 'campetella', 'chelli', 'csergo', 'ensing', 'fidelis', 'garris', 'goheen', 'hohn', 'mohammad', 'hassan', 'jouri', 'klironomos', 'kadri', 'koorem', 'lodge', 'ruijun', 'moora', 'nabinger', 'kamal', 'naseri', 'overbeck', 'sheena', 'parsons', 'pesek', 'pillar', 'kathy', 'roccaforte', 'zhanhuan', 'stahlmann', 'gisela', 'stotz', 'szil', 'szentes', 'radnaakhand', 'tungalag', 'sainbileg', 'undrakhbold', 'margaretha', 'rooyen', 'wellstein', 'bastow', 'talita', 'zupo', 'leshner', 'sudhakaran', 'prabakaran', 'alta', 'charo', 'tabuchi', 'seiichiro', 'ishino', 'toyofumi', 'rekishu', 'usami', 'yasunobu', 'inagaki', 'heuer', 'hoshino', 'ijiri', 'imachi', 'kaneko', 'lever', 'meth', 'morita', 'morono', 'tanikawa', 'elvert', 'glombitza', 'harrington', 'limmer', 'murayama', 'ohkouchi', 'prieto', 'mollar', 'purkey', 'riedinger', 'sanada', 'sauvage', 'susilawati', 'takano', 'tasumi', 'terada', 'tomaru', 'trembath', 'ulrich', 'istvan', 'apathy', 'berghofer', 'fornacon', 'anatoli', 'remizov', 'haerendel', 'heinisch', 'hercik', 'hilchenbach', 'magnes', 'motschmann', 'przyklenk', 'konrad', 'schwingenschuh', 'glassmeier', 'biele', 'ulamec', 'maibaum', 'roll', 'witte', 'casas', 'cinzia', 'fantinati', 'finke', 'koen', 'herique', 'nter', 'kargl', 'knapmeyer', 'wlodek', 'kofman', 'mle', 'lommatsch', 'santayana', 'remetean', 'seidensticker', 'spohn', 'mand', 'holford', 'nichols', 'smarty', 'hoekstra', 'bunn', 'shubhankar', 'bose', 'veronica', 'nieves', 'patzert', 'conn', 'bythell', 'drexel', 'satoko', 'westwood', 'shirasu', 'bond', 'dyer', 'sebasti', 'duch', 'inouye', 'hughen', 'bradshaw', 'markle', 'elissa', 'deenick', 'mele', 'averbuch', 'macarena', 'lagos', 'alzahrani', 'muhsen', 'rabih', 'halwani', 'soudais', 'hiyam', 'marzouqa', 'jamal', 'shamma', 'marcela', 'rub', 'barricarte', 'chizuru', 'avery', 'deswarte', 'fabienne', 'jabot', 'hanin', 'egidio', 'torrado', 'fountain', 'aziz', 'belkadi', 'yuval', 'itan', 'boisson', 'migaud', 'lindestam', 'arlehamn', 'sette', 'sylvain', 'breton', 'mccluskey', 'rossjohn', 'villartay', 'despina', 'moshous', 'hambleton', 'latour', 'arkwright', 'capucine', 'lantz', 'engelhard', 'masao', 'abel', 'dupuis', 'puel', 'federica', 'sallusto', 'jacinta', 'tangye', 'ilya', 'belopolski', 'nasser', 'alidoust', 'madhab', 'neupane', 'bian', 'chenglong', 'raman', 'sankar', 'zhujun', 'baokai', 'bansil', 'fangcheng', 'shibayev', 'shuang', 'zahid', 'hasan', 'dexin', 'lixin', 'joannopoulos', 'solja', 'shelly', 'hanley', 'strong', 'kobinger', 'best', 'worm', 'teague', 'amstad', 'manesh', 'gopinadhan', 'holtze', 'chinedum', 'osuji', 'spaepen', 'weitz', 'yil', 'terakawa', 'sy', 'redding', 'youngho', 'kwon', 'weixing', 'hinson', 'anant', 'chopra', 'navid', 'nafissi', 'polacheck', 'benson', 'swist', 'gorham', 'luhan', 'calvin', 'alireza', 'haghighi', 'homsy', 'hubner', 'linke', 'esen', 'naama', 'geva', 'zatorsky', 'sungwhan', 'liza', 'konnikova', 'zemmour', 'manson', 'dalia', 'burzyn', 'lobera', 'jianfei', 'shomir', 'ashlee', 'snapper', 'jupp', 'wellerstein', 'hatton', 'fryxell', 'smerlak', 'sinclair', 'loreau', 'sachin', 'handa', 'gallou', 'lipshutz', 'galetzka', 'melgar', 'genrich', 'avouac', 'adhikari', 'upreti', 'sitaula', 'bhattarai', 'hudnut', 'szeliga', 'normandeau', 'fend', 'flouzat', 'bollinger', 'koirala', 'bhatterai', 'kandel', 'timsina', 'sapkota', 'rajaure', 'maharjan', 'galanie', 'thodey', 'isis', 'trenchard', 'filsinger', 'interrante', 'smolke', 'liddicoat', 'chalk', 'gokul', 'ramaswami', 'miyoko', 'higuchi', 'hartner', 'seeburg', 'walkley', 'huybers', 'col', 'duane', 'peltzer', 'hulme', 'traniello', 'meckling', 'kelsey', 'biber', 'zysman', 'landsch', 'tzer', 'haumann', 'denbeck', 'heuven', 'hoppema', 'metzl', 'taro', 'bronte', 'tilbrook', 'wanninkhof', 'tanno', 'miyuki', 'kawamura', 'sugimura', 'gorte', 'paudel', 'mikheev', 'stemmer', 'tenne', 'kaila', 'margrey', 'tay', 'nicewicz', 'nouamane', 'laanait', 'callagon', 'sturchio', 'fenter', 'shendure', 'rau', 'enrique', 'guerra', 'pujol', 'happ', 'stuhl', 'aycock', 'genkina', 'mutti', 'knaus', 'scrutton', 'shiota', 'kenichiro', 'imai', 'hewitt', 'khershing', 'sakiyama', 'fukasawa', 'sikander', 'hayat', 'kamiya', 'elofsson', 'tomii', 'wiedemann', 'endo', 'julija', 'krupic', 'field', 'barros', 'maureen', 'boyu', 'ameri', 'virendra', 'sarohia', 'schmitigal', 'kornfield', 'renne', 'sprain', 'self', 'vanderkluysen', 'kanchan', 'pande', 'lodato', 'mollie', 'woodworth', 'semin', 'evrony', 'bhaven', 'mehta', 'karger', 'soohyun', 'chittenden', 'alissa', 'gama', 'xuyu', 'lovelace', 'luquette', 'eunjung', 'walsh', 'ick', 'subhashree', 'ganesan', 'gubin', 'gayathri', 'manokaran', 'finol', 'chunling', 'jayantha', 'gunaratne', 'bahl', 'ong', 'hwee', 'october', 'gubler', 'mariano', 'eong', 'lozier', 'duennes', 'strange', 'goulson', 'morales', 'sarina', 'jepsen', 'cori', 'fata', 'hartley', 'jardeleza', 'krajcik', 'laverty', 'matz', 'lynmarie', 'posey', 'tee', 'chortos', 'andre', 'ariane', 'allister', 'ziliang', 'tien', 'huiliang', 'hsiu', 'bianxiao', 'tse', 'nga', 'zhenan', 'clement', 'katinka', 'bellomo', 'thorsten', 'mauritsen', 'gaby', 'bernie', 'heap', 'tsan', 'xuefeng', 'hyung', 'yuichi', 'jianting', 'tsutomu', 'nojima', 'woodson', 'joens', 'sinson', 'gilkerson', 'patrice', 'salom', 'weigel', 'chory', 'ueda', 'shujie', 'nobumichi', 'fujioka', 'tokura', 'xun', 'jakosky', 'grebowsky', 'luhmann', 'connerney', 'eparvier', 'halekas', 'mahaffy', 'mcfadden', 'zurek', 'bougher', 'brain', 'mazelle', 'benna', 'chaffin', 'chamberlin', 'crary', 'cravens', 'crismani', 'deighan', 'delory', 'dewey', 'dibraccio', 'elrod', 'england', 'espley', 'fillingim', 'fortier', 'fowler', 'guzewich', 'holsclaw', 'jolitz', 'lefevre', 'lillis', 'livi', 'mayyasi', 'mcclintock', 'mcenulty', 'modolo', 'montmessin', 'morooka', 'nagy', 'olsen', 'rahmati', 'ruhunusiri', 'sakai', 'sauvaud', 'steckiewicz', 'stiepen', 'tenishev', 'thiemann', 'tolson', 'toublanc', 'withers', 'yelle', 'gawne', 'siklenka', 'serap', 'erkek', 'maren', 'godmann', 'lambrot', 'mcgraw', 'lafleur', 'suderman', 'hallett', 'jacquetta', 'trasler', 'kimmins', 'perelis', 'biliana', 'marcheva', 'moynihan', 'schipma', 'hutchison', 'akihiko', 'taguchi', 'bien', 'peek', 'heekyung', 'wenyu', 'chiaki', 'omura', 'bradfield', 'dinner', 'bass', 'martiny', 'lennon', 'moses', 'covey', 'miecnikowski', 'bryce', 'gadway', 'leah', 'makley', 'devree', 'brittney', 'mcglasson', 'ponni', 'rajagopal', 'dunyak', 'mcquade', 'sunahara', 'klevit', 'usha', 'andley', 'gestwicki', 'cornwall', 'bris', 'vogels', 'jolijn', 'onvlee', 'avoird', 'gerrit', 'groenenboom', 'joao', 'picao', 'landgraf', 'jimena', 'berni', 'claudio', 'penghua', 'ruaidhri', 'yunjiang', 'rongvaux', 'qiangming', 'shandian', 'rongtuan', 'fuping', 'flavell', 'erol', 'fikrig', 'north', 'agee', 'aplet', 'ful', 'sessolo', 'bolink', 'sonal', 'singhal', 'keerthi', 'sannareddy', 'venn', 'alva', 'strand', 'qiye', 'raney', 'balakrishnan', 'griffith', 'kashiwagi', 'kosuke', 'reiko', 'ando', 'kanuka', 'shigeyoshi', 'itohara', 'jaworski', 'gildea', 'lino', 'blackwell', 'marilyne', 'beheim', 'trumble', 'stieglitz', 'hillard', 'vacchelli', 'yuting', 'baracco', 'sistigu', 'pietrocola', 'adjemian', 'kariman', 'chaba', 'semeraro', 'signore', 'adele', 'ninno', 'valeria', 'lucarini', 'peschiaroli', 'businaro', 'annamaria', 'gerardino', 'gwenola', 'manic', 'ulas', 'kepp', 'gautier', 'stoll', 'lefebvre', 'mulot', 'castoldi', 'rusakiewicz', 'ladoire', 'lucattelli', 'cile', 'delarasse', 'boige', 'ducreux', 'suzette', 'delaloge', 'borg', 'giovanna', 'schiavoni', 'ilio', 'vitale', 'puig', 'mattei', 'caglar', 'cekic', 'sag', 'tacke', 'heba', 'nowyhed', 'herrley', 'rasquinha', 'mcardle', 'runpei', 'peluso', 'ichinose', 'iftach', 'shaked', 'chodaczek', 'subhra', 'hedrick', 'dario', 'gerhardinger', 'melo', 'moura', 'bio', 'luiz', 'frazzetto', 'jacquelyn', 'xiaolong', 'cadwell', 'berens', 'sinz', 'ecker', 'saumil', 'tolias', 'sivan', 'leticia', 'corrales', 'keston', 'aquino', 'earley', 'benyamin', 'yuk', 'man', 'bana', 'jabri', 'alegre', 'gajewski', 'amigo', 'ludmil', 'alexandrov', 'guohua', 'moshi', 'csordas', 'scot', 'matkovich', 'dollar', 'mancuso', 'amelia', 'hankla', 'maryam', 'tarazkar', 'romanov', 'levis', 'gaffney', 'foord', 'libby', 'fish', 'sheperd', 'doeleman', 'marrone', 'plambeck', 'wardle', 'kazunori', 'akiyama', 'asada', 'beaudoin', 'lindy', 'brinkerink', 'broderick', 'cappallo', 'chael', 'crew', 'dexter', 'freund', 'friberg', 'gold', 'mareki', 'honma', 'inoue', 'kosowsky', 'krichbaum', 'loeb', 'ru', 'macmahon', 'ramesh', 'rurik', 'primiani', 'psaltis', 'soohoo', 'remo', 'tilanus', 'vertatschitsch', 'weintroub', 'melvyn', 'zensus', 'ziurys', 'suderow', 'brune', 'ahnert', 'marsh', 'teichmann', 'baraban', 'changala', 'ch', 'mellau', 'stanton', 'merer', 'zheliuk', 'leermakers', 'zeitler', 'yiyang', 'grewe', 'yanping', 'eismann', 'schnitzer', 'zhanyun', 'tomoyoshi', 'nakadai', 'roeder', 'wehner', 'easterling', 'schuman', 'uchino', 'krinner', 'lebrat', 'giamarchi', 'esslinger', 'brantut', 'nitin', 'phadnis', 'emilyclare', 'frizzell', 'flor', 'kitzman', 'harmit', 'gwen', 'buel', 'blenis', 'ferenczi', 'zalocusky', 'liston', 'grosenick', 'warden', 'debha', 'amatya', 'katovich', 'hershel', 'patenaude', 'charu', 'ramakrishnan', 'kalanithi', 'etkin', 'lozada', 'grigorenko', 'dryfe', 'radha', 'grigorieva', 'haagmans', 'brand', 'stalin', 'asisa', 'wohlsein', 'saskia', 'smits', 'debby', 'schipper', 'bestebroer', 'nisreen', 'okba', 'fux', 'bensaid', 'solanes', 'foz', 'thijs', 'kuiken', 'baumg', 'joaquim', 'sutter', 'poore', 'cabezas', 'wallscheid', 'trumpp', 'zalasiewicz', 'summerhayes', 'barnosky', 'poirier', 'ga', 'uszka', 'cearreta', 'edgeworth', 'jeandel', 'leinfelder', 'mcneill', 'syvitski', 'davor', 'vidas', 'wagreich', 'grinevald', 'odada', 'oreskes', 'bakelar', 'buchanan', 'noinaj', 'pieter', 'frenne', 'verheyen', 'allyson', 'byrd', 'payre', 'shira', 'gabbay', 'shani', 'kirma', 'ronit', 'gritsenko', 'noam', 'ginossar', 'zohar', 'yakhini', 'adina', 'weinberger', 'hanushek', 'ludger', 'woessmann', 'rudnick', 'phalan', 'rhys', 'dicks', 'graziela', 'dotta', 'feniuk', 'strassburg', 'erasmus', 'ermgassen', 'balmford', 'devkota', 'keling', 'shodiya', 'kinnosuke', 'yahiro', 'manuela', 'martins', 'ruixue', 'laerte', 'patera', 'africh', 'lund', 'asimow', 'farley', 'durham', 'ossendrijver', 'schuberth', 'tippmann', 'steinke', 'lausberg', 'steppke', 'brando', 'krellner', 'geibel', 'qimiao', 'steglich', 'mishanina', 'kalani', 'karunaratne', 'dibyendu', 'mondal', 'corcoran', 'amnon', 'kohen', 'yamauchi', 'riel', 'ruthig', 'egl', 'monika', 'ndor', 'cserg', 'hn', 'yasuaki', 'thanh', 'binh', 'hironobu', 'morinaga', 'sotaro', 'hoeijmakers', 'emi', 'palac', 'guibert', 'achkar', 'zwiebler', 'sutarto', 'isaiah', 'djianto', 'zhihao', 'cker', 'revcolevschi', 'geck', 'wenyan', 'tagawa', 'huolin', 'hamed', 'emamy', 'huilin', 'yager', 'tkachenko', 'oleg', 'wilfert', 'leggett', 'hempel', 'butlin', 'boots', 'ramdane', 'alkama', 'siegenthaler', 'dowell', 'aijun', 'pu', 'weikang', 'xiaoliang', 'xiujin', 'canfa', 'junn', 'workman', 'erinn', 'soucie', 'ziming', 'laufey', 'geirsd', 'kaaweh', 'molawi', 'fenouil', 'noushine', 'mossadegh', 'gimenez', 'vanhille', 'meryam', 'beniazza', 'favret', 'berruyer', 'perrin', 'andrau', 'ferrier', 'dubreuil', 'sidow', 'reyad', 'elbarbary', 'bronwyn', 'lynne', 'maquat', 'lethien', 'pinaud', 'brousse', 'laloo', 'turq', 'respaud', 'demorti', 'daffos', 'taberna', 'chaudret', 'gogotsi', 'forkel', 'thonicke', 'nke', 'zaehle', 'parak', 'seiichi', 'glancy', 'lachaud', 'marchesi', 'blow', 'rouse', 'soon', 'daehee', 'jaeu', 'jisun', 'gie', 'minji', 'surh', 'boxing', 'tadross', 'tsien', 'iva', 'kelava', 'kalinka', 'tomancak', 'rijt', 'chirag', 'gheewala', 'freakley', 'harrhy', 'crole', 'ntainjua', 'carley', 'albina', 'kiely', 'hutchings', 'mahamid', 'pfeffer', 'miroslava', 'schaffer', 'radostin', 'danev', 'cuellar', 'plitzko', 'govert', 'schilling', 'zaanen', 'diwakar', 'pattabiraman', 'bierie', 'kober', 'prathapan', 'thiru', 'krall', 'zill', 'ferenc', 'reinhardt', 'leong', 'weinberg', 'bandurin', 'shalom', 'tomadin', 'principi', 'auton', 'khestanova', 'polini', 'moll', 'pallavi', 'kushwaha', 'nabhanila', 'yoav', 'voichek', 'raz', 'barkai', 'pettigrew', 'junsheng', 'axmacher', 'yuanyuan', 'yanpeng', 'mccauley', 'bergman', 'jablonicky', 'roan', 'hirshfield', 'boerder', 'zanoni', 'sumeet', 'khetarpal', 'larach', 'cerutti', 'millar', 'cuchel', 'derohannessian', 'anatol', 'kontush', 'surendran', 'danish', 'saleheen', 'trompet', 'jukema', 'craen', 'naveed', 'sattar', 'packard', 'abdullah', 'shafi', 'majumder', 'dewan', 'emanuele', 'angelantonio', 'goncalo', 'abecasis', 'chowdhury', 'jeanette', 'erdmann', 'nordestgaard', 'sune', 'tybj', 'frikke', 'kuulasmaa', 'dajiang', 'blankenberg', 'satu', 'nnist', 'amouyel', 'arveiler', 'ferrieres', 'nurasyid', 'ferrario', 'kee', 'cristen', 'willer', 'nilesh', 'samani', 'heribert', 'schunkert', 'butterworth', 'howson', 'gina', 'peloso', 'stitziel', 'danesh', 'sekar', 'kathiresan', 'chd', 'exome', 'cardiogram', 'global', 'lipids', 'ambrosetti', 'distasio', 'tkatchenko', 'bidinosti', 'botta', 'ttner', 'catia', 'proenca', 'natacha', 'stoehr', 'fruh', 'bonenfant', 'voshol', 'carbone', 'mctighe', 'guglielmo', 'roma', 'dolmetsch', 'pico', 'caroni', 'tewis', 'thi', 'galimberti', 'galit', 'konstantinos', 'mavrakis', 'schlabach', 'deweck', 'ruddy', 'kavitha', 'venkatesan', 'jianjun', 'mcallister', 'stump', 'rosalie', 'debeaumont', 'yingzi', 'guizhi', 'kipp', 'songping', 'sprague', 'ciccone', 'vitari', 'capka', 'hurov', 'tallarico', 'mickanin', 'pagliarini', 'keen', 'schmelzle', 'stegmeier', 'sellers', 'waqas', 'struzhkin', 'bridwell', 'rabb', 'drennan', 'clary', 'olkin', 'darrell', 'strobel', 'kammer', 'linscott', 'cunningham', 'kelsi', 'constantine', 'tsang', 'schindhelm', 'curdt', 'panayotis', 'lavvas', 'new', 'horizons', 'davide', 'corti', 'misasi', 'sabue', 'mulangu', 'kanekiyo', 'wollen', 'ploquin', 'doria', 'staupe', 'misook', 'choe', 'hadar', 'cagigi', 'silacci', 'fabrizia', 'vanzetta', 'agatic', 'cameroni', 'neville', 'kisalu', 'ingelise', 'ledgerwood', 'mascola', 'muyembe', 'tamfun', 'trefry', 'lanzavecchia', 'fecher', 'feeley', 'shadlen', 'roozbeh', 'kiani', 'zylberberg', 'ditterich', 'lafuente', 'tianming', 'roitman', 'latimer', 'meister', 'huk', 'pillow', 'lear', 'lunt', 'nsicke', 'blanc', 'kepler', 'detlev', 'koester', 'ourique', 'varmus', 'veilleux', 'dar', 'shamir', 'mellin', 'koutero', 'rotem', 'sorek', 'soong', 'taejong', 'paik', 'pil', 'jinwoo', 'xingchen', 'tianshuo', 'diroll', 'cherie', 'kagan', 'wenan', 'tavor', 'mars', 'behrens', 'jbabdi', 'ferdinando', 'pucci', 'andita', 'sprachman', 'evavold', 'andrian', 'glatz', 'xandra', 'breakefield', 'mempel', 'weissleder', 'heijden', 'altobelli', 'postberg', 'fiege', 'trieloff', 'sterken', 'khawaja', 'moragas', 'klostermeyer', 'gruen', 'nagel', 'dawkins', 'tolazzi', 'obinna', 'abah', 'kaler', 'kilian', 'denmark', 'faria', 'raimunda', 'socorro', 'kraemer', 'sequetin', 'bonsall', 'rissanen', 'iray', 'rocco', 'juliana', 'nogueira', 'yurika', 'giseli', 'vasami', 'guerreiro', 'ribeiro', 'tardeli', 'medeiros', 'louize', 'queiroz', 'eliana', 'pinto', 'freitas', 'henriques', 'salbe', 'travassos', 'livia', 'caricio', 'baldez', 'vasconcelos', 'neves', 'casseb', 'darlene', 'brito', 'simith', 'messina', 'leandro', 'abade', 'louren', 'alcantara', 'maric', 'giovanetti', 'poliana', 'lemos', 'layanna', 'clayton', 'patroca', 'janaina', 'mota', 'jedson', 'cardoso', 'dio', 'vianez', 'nior', 'daiana', 'mir', 'bello', 'edson', 'delatorre', 'creatore', 'giovanini', 'evelim', 'wanderson', 'kleber', 'tesh', 'pybus', 'marcio', 'josephine', 'siregar', 'mollard', 'din', 'syafruddin', 'motomichi', 'matsuzaki', 'toyama', 'cozijnsen', 'kita', 'sangkot', 'marzuki', 'celine', 'denais', 'isermann', 'mariska', 'lindert', 'bettina', 'weigelin', 'friedl', 'lammerding', 'matacic', 'monahan', 'assad', 'sarrazin', 'lecomte', 'wilker', 'rasmussen', 'nimesh', 'khadka', 'hayden', 'hamby', 'keable', 'gordana', 'dukovic', 'lance', 'seefeldt', 'saveliev', 'ukasiak', 'hodson', 'bolland', 'balmanno', 'ahlfors', 'ciullini', 'mannurita', 'blaser', 'falony', 'joossens', 'youssef', 'darzi', 'karoline', 'faust', 'kurilshikov', 'bonder', 'mireia', 'valles', 'colomer', 'vandeputte', 'tito', 'chaffron', 'leen', 'rymenans', 'chlo', 'verspecht', 'gipsi', 'hoe', 'jonckheere', 'homola', 'ettje', 'tigchelaar', 'eeckhaudt', 'liesbet', 'henckaerts', 'zhernakova', 'jeroen', 'raes', 'shein', 'idelson', 'janie', 'ondracek', 'gilles', 'geijn', 'knowles', 'allegra', 'petti', 'golan', 'deepshika', 'ramanan', 'rowann', 'bowcutt', 'kurtz', 'gause', 'bonneau', 'loke', 'jerolmack', 'schwandt', 'kanupriya', 'groenhof', 'aquila', 'josef', 'tenboer', 'deponte', 'mengning', 'oleksandr', 'yefanov', 'oberthuer', 'ganesh', 'subramanian', 'koralek', 'brayshaw', 'shatabdi', 'metz', 'paulraj', 'lourdu', 'gihan', 'ketawala', 'vukica', 'rajer', 'abbas', 'ourmazd', 'schwander', 'moffat', 'dou', 'goushcha', 'goloverda', 'oleh', 'kotsyuba', 'dmitrii', 'perepichka', 'oksana', 'seumenicht', 'ladokhin', 'zahirul', 'pengxin', 'ruixuan', 'shiguang', 'guangxu', 'dandan', 'binghui', 'nanfeng', 'hanika', 'horan', 'sujoy', 'mukhopadhyay', 'vicky', 'manthos', 'tongqing', 'lemmin', 'cinque', 'taft', 'bailer', 'cale', 'gwo', 'chuang', 'aliaksandr', 'druz', 'ivelin', 'georgiev', 'jinghe', 'louder', 'krisha', 'mckee', 'sijy', 'pancera', 'yongping', 'connors', 'sunter', 'armistead', 'culligan', 'karnamadakala', 'emani', 'navin', 'ramankutty', 'snezhko', 'leonidas', 'ocola', 'ralu', 'divan', 'crabtree', 'amet', 'borzenets', 'deacon', 'bomze', 'tarucha', 'ferrell', 'henty', 'ridilla', 'aneliya', 'rankova', 'katelyn', 'zeeya', 'merali', 'orsini', 'ball', 'kuile', 'devyn', 'orr', 'georgia', 'titcomb', 'pope', 'ruslan', 'medzhitov', 'putzig', 'kracher', 'scheiblbrandner', 'alfons', 'felice', 'breslmayr', 'marita', 'preims', 'ludwicka', 'haltrich', 'ghassan', 'ghssein', 'brutesco', 'ouerdane', 'mentine', 'fojcik', 'izaute', 'shuanglong', 'hajjar', 'ryszard', 'lobinski', 'lemaire', 'richaud', 'rom', 'voulhoux', 'akbar', 'espaillat', 'pignol', 'borez', 'arnoux', 'tamm', 'mohammadreza', 'khorasaninejad', 'jaewon', 'capasso', 'piunti', 'shilatifard', 'imke', 'pater', 'sault', 'deboer', 'oona', 'nnstedt', 'ekl', 'frantz', 'mullin', 'maud', 'pionnier', 'capitan', 'oph', 'lebrasseur', 'morgane', 'ollivier', 'perri', 'linderholm', 'mattiangeli', 'teasdale', 'dimopoulos', 'tresset', 'duffraisse', 'finbar', 'bartosiewicz', 'va', 'nyerges', 'sablin', 'hard', 'marjan', 'mashkour', 'escu', 'gillet', 'chassaing', 'hitte', 'vigne', 'dobney', 'nni', 'greger', 'proudfoot', 'junle', 'lapusta', 'shurtleff', 'cuthbertson', 'juerg', 'matter', 'stute', 'sn', 'rnsdottir', 'oelkers', 'sigurdur', 'gislason', 'edda', 'aradottir', 'bergur', 'sigfusson', 'ingvi', 'gunnarsson', 'holmfridur', 'sigurdardottir', 'einar', 'gunnlaugsson', 'gudni', 'axelsson', 'helgi', 'alfredsson', 'domenik', 'boenisch', 'kiflom', 'mesfin', 'reguera', 'taya', 'dideriksen', 'broecker', 'miyamoto', 'hirai', 'fung', 'inutsuka', 'odagawa', 'adaikkan', 'matsuki', 'fukai', 'mchugh', 'yamanaka', 'mozafari', 'trencher', 'beynaghi', 'salil', 'xiaolu', 'cambronne', 'dongho', 'brunette', 'farrens', 'blanton', 'barratt', 'charbonneau', 'tahmeed', 'veneziano', 'sakul', 'ratanalert', 'kaiming', 'wah', 'bathe', 'simoes', 'bronner', 'graeme', 'reczek', 'etterson', 'mazer', 'sinkins', 'kazushige', 'obara', 'aitaro', 'sweatt', 'wasserman', 'pirnot', 'shishi', 'dirocco', 'buchwald', 'luckman', 'vaughan', 'antone', 'martinho', 'kacelnik', 'noelia', 'urb', 'forget', 'andersen', 'demmers', 'ayrault', 'guillemot', 'olive', 'behn', 'escart', 'zulma', 'cucunub', 'ilaria', 'dorigatti', 'nedjati', 'gilani', 'christl', 'nouvellet', 'ogawa', 'sutou', 'junichi', 'koike', 'dorand', 'nthale', 'barkauskas', 'avril', 'chirieleison', 'tej', 'pareek', 'stearns', 'letterio', 'agne', 'petrosiute', 'schmittner', 'zhifeng', 'jingbo', 'wiktor', 'walasik', 'longhi', 'litchinitser', 'piotrowski', 'keigwin', 'schur', 'obr', 'jakobi', 'sachse', 'usslich', 'narry', 'bong', 'kiun', 'kaang', 'mathew', 'mullan', 'blusztajn', 'nor', 'chauvenet', 'sedm', 'pilch', 'kope', 'sedl', 'ittner', 'jil', 'henneberg', 'mata', 'tittmann', 'stark', 'gleb', 'bourenkov', 'ashwin', 'chari', 'siyuan', 'beliveau', 'bintu', 'moffitt', 'cronin', 'johnsen', 'vaida', 'rasmus', 'hedeholm', 'heinemeier', 'christiansen', 'brill', 'kirstine', 'steffensen', 'yari', 'carlomagno', 'gendron', 'prudencio', 'marka', 'blitterswijk', 'belzil', 'couthouis', 'west', 'lillian', 'daughrity', 'aliesha', 'pregent', 'lilia', 'tabassian', 'rademakers', 'boylan', 'graff', 'radford', 'josephs', 'knopman', 'boeve', 'yanan', 'tzu', 'link', 'fen', 'biao', 'petrucelli', 'mcgavern', 'kapovich', 'raili', 'ermel', 'ariella', 'cohain', 'akers', 'narzo', 'husain', 'talukdar', 'foroughi', 'asl', 'giambartolomei', 'fullard', 'katyayani', 'sukhavasi', 'sulev', 'ks', 'giannarelli', 'kovacic', 'bojan', 'losic', 'michoel', 'roussos', 'josefin', 'skogsberg', 'ruusalepp', 'rkegren', 'voosen', 'brage', 'rugstad', 'knudsen', 'dellibovi', 'ragheb', 'gerstoft', 'bromirski', 'voulgarelis', 'tsichlis', 'yunting', 'stowe', 'youn', 'cavalier', 'desiree', 'alpen', 'manzini', 'blaner', 'loredana', 'quadro', 'news', 'sue', 'gabrielle', 'randeria', 'eleonora', 'carrozzo', 'kynan', 'hughson', 'linsey', 'dickens', 'nishio', 'hikita', 'montoya', 'norskov', 'dinghai', 'pinhong', 'guosheng', 'barraquer', 'mier', 'teran', 'laydon', 'lipsitch', 'cowling', 'naldini', 'inder', 'perli', 'elvira', 'mass', 'ballesteros', 'farlik', 'halbritter', 'lucile', 'crozet', 'jacome', 'galarza', 'ndler', 'klughammer', 'perdiguero', 'tamma', 'carleton', 'laurenz', 'morbidelli', 'palme', 'weidmann', 'suso', 'baleato', 'hunziker', 'eduard', 'xenofontas', 'dimitropoulos', 'wittlinger', 'rippen', 'kuzma', 'tara', 'garnett', 'greenville', 'emery', 'dryflor', 'banda', 'delgado', 'salinas', 'reynaldo', 'ary', 'dari', 'pullan', 'catalina', 'ricarda', 'riina', 'weintritt', 'adarve', 'lvarez', 'anairamiz', 'aranguren', 'juli', 'arteaga', 'aymard', 'casta', 'ceballos', 'mago', 'lvaro', 'cogollo', 'hermes', 'cuadros', 'freddy', 'devia', 'hilda', 'due', 'fajardo', 'freid', 'galetti', 'reina', 'gonto', 'graveson', 'eileen', 'helmer', 'id', 'rraga', 'humfredo', 'marcano', 'maturo', 'morag', 'mijares', 'mogni', 'pilar', 'jafet', 'nassar', 'danilo', 'oakley', 'oatham', 'alma', 'olvera', 'luna', 'fl', 'pezzini', 'nelly', 'alicia', 'tiina', 'melvin', 'pennington', 'gretel', 'kamm', 'pohle', 'heppenstall', 'wende', 'siemens', 'hawley', 'yujie', 'trumbore', 'torn', 'harden', 'vaughn', 'randerson', 'baltimore', 'bengt', 'autzen', 'henrique', 'kapil', 'mendl', 'biran', 'burney', 'harshil', 'henser', 'brownhill', 'hashahar', 'shapira', 'yilong', 'hamo', 'dene', 'probir', 'chakravarty', 'sol', 'efroni', 'nik', 'meshorer', 'scaffidi', 'menyoung', 'wallbank', 'gallagher', 'fal', 'goldhaber', 'powell', 'mckenzie', 'gord', 'fishell', 'youjin', 'shuai', 'huai', 'lfen', 'kuo', 'krupenye', 'fumihiro', 'hirata', 'call', 'tomasello', 'fatma', 'annas', 'dodds', 'rashid', 'sumaila', 'thygesen', 'welte', 'jingjing', 'crowther', 'giorgio', 'bozzato', 'pretzsch', 'paquette', 'rault', 'scherer', 'lorenzen', 'glick', 'geerten', 'hengeveld', 'nabuurs', 'pfautsch', 'helder', 'viana', 'vibrans', 'ammer', 'schall', 'verbyla', 'nadja', 'tchebakova', 'schelhaas', 'huicui', 'damiano', 'gianelle', 'parfenova', 'eungul', 'boknam', 'helge', 'bruelheide', 'piotto', 'sunderland', 'gourlet', 'fleury', 'bonaventure', 'sonk', 'tavani', 'vayreda', 'fumiaki', 'kitahara', 'searle', 'neldner', 'ngugi', 'baraloto', 'frizzera', 'radomir', 'ba', 'azy', 'jacek', 'oleksyn', 'zawi', 'nied', 'wiecki', 'bouriaud', 'bussotti', 'leena', 'fin', 'jaroszewicz', 'jagodzinski', 'peri', 'christelle', 'gonmadje', 'marthy', 'rovero', 'bitariho', 'niklaus', 'loayza', 'nurdin', 'chamuya', 'mortier', 'verginia', 'wortel', 'nestor', 'engone', 'obiang', 'odeke', 'siddappa', 'byrareddy', 'cicala', 'villinger', 'dawn', 'little', 'sidell', 'kane', 'jianshi', 'jace', 'zurla', 'mckinnon', 'woody', 'roos', 'noll', 'ryk', 'katija', 'jelicic', 'raffaello', 'cimbro', 'sanjeev', 'gumber', 'adsay', 'amancha', 'mayne', 'tristram', 'parslow', 'aftab', 'ansari', 'related', 'influenza', 'viruses', 'bansak', 'hainmueller', 'hangartner', 'bagasra', 'aran', 'labrijn', 'parren', 'worden', 'wilken', 'huaizong', 'wenting', 'xiaojing', 'ruiwu', 'fengcheng', 'huiwen', 'wec', 'nyakatura', 'holtsberg', 'bakken', 'mittler', 'christin', 'sergey', 'shulenin', 'jangra', 'sushma', 'bharrhan', 'kuehne', 'bornholdt', 'flyak', 'ollmann', 'saphire', 'javad', 'aman', 'kartik', 'chandran', 'winograd', 'moseley', 'dublyansky', 'pythoud', 'yanbin', 'boch', 'tl', 'wadman', 'baoguo', 'terasaki', 'vito', 'zanotelli', 'wenxin', 'goya', 'junyoung', 'perlman', 'gibney', 'botstein', 'damiana', 'mariela', 'trinchero', 'temprana', 'beltramone', 'schinder', 'kuhlwilm', 'tariq', 'dupanloup', 'lao', 'pille', 'hallast', 'heredia', 'genestar', 'benazzo', 'barbujani', 'kuderna', 'ferran', 'casals', 'angedakin', 'mimi', 'arandjelovic', 'boesch', 'hjalmar', 'vigilant', 'langergraber', 'novembre', 'gut', 'arcadi', 'frands', 'carlsen', 'excoffier', 'sergi', 'castellano', 'sommer', 'pierfrancesco', 'riccardi', 'jinnan', 'xiahui', 'beyeler', 'tabashnik', 'haribara', 'igarashi', 'tomohiro', 'sonobe', 'tamate', 'toshimori', 'honjo', 'marandi', 'umeki', 'enbutsu', 'osamu', 'tadanaga', 'hirokazu', 'takenouchi', 'kazuyuki', 'aihara', 'kawarabayashi', 'kyo', 'shoko', 'utsunomiya', 'takesue', 'zaringhalam', 'arcangioli', 'martienssen', 'notz', 'julienne', 'stroeve', 'telis', 'ziyue', 'gaulton', 'loic', 'yengo', 'ghislain', 'rocheleau', 'froguel', 'jiyu', 'xinshou', 'ouyang', 'naniye', 'malli', 'cetinbas', 'strowig', 'henao', 'mejia', 'omer', 'fitzgerald', 'eisenbarth', 'elinav', 'fulco', 'munschauer', 'rockwell', 'anyoha', 'glen', 'munson', 'grossman', 'cleary', 'engreitz', 'ploeger', 'shugar', 'dastmalchi', 'facchini', 'satsukawa', 'mohammadi', 'fueta', 'nakajima', 'sook', 'wern', 'chua', 'josefine', 'bertz', 'volkerling', 'hoven', 'amadeus', 'gladbach', 'przybyla', 'bi', 'hummel', 'ippati', 'kril', 'mackay', 'poljak', 'delerue', 'yazi', 'musiek', 'holtzman', 'boddy', 'bernadette', 'kees', 'jaco', 'hagoort', 'bree', 'besselink', 'froukje', 'kanter', 'tyas', 'veldhuis', 'babette', 'bais', 'reggie', 'schildmeijer', 'ruijter', 'roelof', 'christoffels', 'antoon', 'moorman', 'lluc', 'mosteiro', 'alcazar', 'dafni', 'chondronasiou', 'rovira', 'maribel', 'aparicio', 'pastor', 'martino', 'blasco', 'abad', 'serrano', 'haotian', 'shicheng', 'yuzhang', 'yayuan', 'hongyuan', 'seekell', 'turcotte', 'jinhua', 'pinho', 'toshihide', 'mizoguchi', 'fumio', 'runnels', 'alt', 'teruya', 'feldstein', 'rajat', 'suda', 'frenette', 'wudan', 'tobler', 'culumber', 'araki', 'bandi', 'yoko', 'yazaki', 'ryckelynck', 'faith', 'coldren', 'gyi', 'jossinet', 'nghe', 'rs', 'szathm', 'ry', 'proestou', 'sibel', 'karchner', 'nacci', 'marjorie', 'oleksiak', 'whitehead', 'ifan', 'erfyl', 'rossmeisl', 'ib', 'chorkendorff', 'mufan', 'zipeng', 'fortunelli', 'chih', 'qinghua', 'merinov', 'zhaoyang', 'enbo', 'qingying', 'jinghua', 'xiangfeng', 'rbel', 'onur', 'dagliyan', 'miroslaw', 'tarnawski', 'shirvanyants', 'ilme', 'schlichting', 'dokholyan', 'scheucher', 'hilico', 'chenjie', 'kirschbaum', 'lambright', 'rongchao', 'lianying', 'sebastiano', 'nata', 'ulj', 'no', 'malod', 'dognin', 'haifeng', 'delariva', 'hien', 'sivakumar', 'challa', 'gongshin', 'se', 'isidro', 'abhaya', 'datye', 'sedeer', 'showk', 'rademacher', 'galsworthy', 'horlbeck', 'harjus', 'birk', 'malatesta', 'attenello', 'villalta', 'yuwen', 'mandegar', 'conklin', 'arie', 'trouwborst', 'chapron', 'floor', 'fleurke', 'yaffa', 'epstein', 'alava', 'nastenka', 'seh', 'kibsgaard', 'teste', 'kardol', 'zemunik', 'renton', 'lalibert', 'boccara', 'schoenenberger', 'csicsvari', 'delva', 'kizilcec', 'saltarelli', 'rema', 'droege', 'mawdsley', 'golbeck', 'zetka', 'cimpian', 'shaofeng', 'zhiyun', 'jiayi', 'kaifu', 'jianxun', 'norby', 'kauwe', 'zak', 'athey', 'bongers', 'braga', 'junqueira', 'pitman', 'marielos', 'claros', 'flavia', 'olivera', 'sherratt', 'diering', 'raja', 'nirujogi', 'worley', 'akhilesh', 'huganir', 'bancinyane', 'sibanda', 'dimitri', 'chirgadze', 'ascher', 'lindzi', 'wessel', 'esvelt', 'hush', 'cantalapiedra', 'alberdi', 'miralles', 'fust', 'tatevik', 'simavorian', 'bartocci', 'karlseder', 'eros', 'lazzerini', 'denchi', 'gasparrini', 'aggarwal', 'mauro', 'tsui', 'burbage', 'selina', 'keppler', 'jefferies', 'domart', 'tooze', 'mohamed', 'hilmar', 'donna', 'zhenchuan', 'tianqiao', 'yeqiang', 'yachun', 'haiyang', 'wenwu', 'xiaobo', 'yuanchao', 'ranga', 'silvera', 'fonte', 'formisano', 'giardino', 'pieters', 'zambon', 'katsowich', 'elbaz', 'ritesh', 'ranjan', 'erez', 'simi', 'kobi', 'kahan', 'rosenshine', 'bisson', 'erkin', 'kuru', 'fabai', 'calum', 'jukes', 'cees', 'seamus', 'vannieuwenhze', 'garner', 'pingfang', 'ettwiller', 'irit', 'reisman', 'irine', 'ronin', 'gefen', 'braniss', 'shoresh', 'balaban', 'fuster', 'maclauchlan', 'zuriaga', 'polackal', 'ostriker', 'sujatha', 'muralidharan', 'rius', 'vuong', 'muralidhar', 'hirschi', 'hup', 'frischkorn', 'haixin', 'sangmin', 'spellings', 'glotzer', 'mirkin', 'goud', 'suttmeier', 'igo', 'liberal', 'mahmoud', 'noushin', 'emami', 'raimondas', 'mozuraitis', 'birgersson', 'karlson', 'ignell', 'faye', 'nicolette', 'goularte', 'archana', 'chavan', 'luu', 'heisler', 'sarvind', 'tripathi', 'liwang', 'partch', 'longji', 'wonho', 'sunghoon', 'kl', 'ckner', 'nielaba', 'cuevas', 'meyhofer', 'pramod', 'guilliams', 'ariana', 'orvell', 'kross', 'salje', 'maljkovic', 'melendrez', 'siripen', 'kalayanarooj', 'atchareeya', 'nuegoonpipat', 'sumalee', 'chanama', 'somchai', 'sangkijporn', 'chonticha', 'klungthong', 'butsaya', 'thaisomboonsuk', 'ananda', 'nisalak', 'sopon', 'iamsirithaworn', 'macareo', 'areerat', 'sangarsang', 'jarman', 'thelen', 'moldavski', 'feltes', 'reini', 'welle', 'mydock', 'mcgrane', 'xuntian', 'eijkeren', 'rushika', 'nomura', 'ory', 'zoncu', 'byoung', 'choul', 'chenghao', 'shinako', 'kakuda', 'mehdi', 'roein', 'peikar', 'haltiwanger', 'peplow', 'anya', 'ibisch', 'pooya', 'sareh', 'mirko', 'kovac', 'maryline', 'minoux', 'holwerda', 'vitobello', 'kitazawa', 'hubertus', 'rijli', 'venteicher', 'keren', 'yizhak', 'neftel', 'mariella', 'filbin', 'hovestadt', 'escalante', 'rodman', 'hiranmayi', 'ravichandran', 'ravindra', 'mylvaganam', 'mount', 'maristela', 'onozato', 'frosch', 'golub', 'brastianos', 'gad', 'getz', 'monje', 'noorduin', 'sadza', 'folkertsma', 'aizenberg', 'yackle', 'kaiwen', 'kam', 'sorokin', 'huguenard', 'dawidowski', 'emmanouilidis', 'kalel', 'tripsianes', 'schorpp', 'hadian', 'kolonko', 'tanghe', 'schliebs', 'sattler', 'popowicz', 'qinglong', 'granger', 'xiaohong', 'maolin', 'yosef', 'peizhen', 'daoyang', 'wuyun', 'linhai', 'shibiao', 'bouziat', 'hinterleitner', 'stencel', 'baerenwald', 'mine', 'ikizler', 'toufic', 'mayassi', 'marlies', 'meisel', 'sangman', 'discepolo', 'pruijssers', 'ernest', 'iskarpatyoti', 'palanski', 'mukund', 'varma', 'zurenski', 'solomiia', 'khomandiak', 'pavithra', 'aravamudhan', 'fengling', 'samsom', 'reinecker', 'kupfer', 'guandalini', 'semrad', 'abadie', 'ttger', 'trystan', 'domenech', 'weegen', 'breuillac', 'renaud', 'dudchenko', 'sanjit', 'batra', 'nyquist', 'hoeger', 'neva', 'shamim', 'machol', 'aviva', 'presser', 'aiden', 'jepson', 'seewald', 'gearhart', 'zoloth', 'pyeritz', 'josie', 'ladinsky', 'beeby', 'knowlton', 'polyakov', 'pnyushkov', 'alkire', 'ashik', 'baumann', 'eddy', 'carmack', 'goszczko', 'kanzow', 'krishfield', 'sundfjord', 'morison', 'rember', 'yulin', 'pengpeng', 'cannavino', 'mcanally', 'shelton', 'efrain', 'rhonda', 'bassel', 'duby', 'khaledi', 'nasab', 'golubov', 'mendoza', 'bramsiepe', 'durme', 'shinichiro', 'komaki', 'ada', 'prusicki', 'maruyama', 'forner', 'medzihradszky', 'wijnker', 'hirofumi', 'harashima', 'guth', 'rl', 'sah', 'logro', 'yonsheng', 'pochon', 'ueli', 'grossniklaus', 'laux', 'higashiyama', 'lohmann', 'nowack', 'arp', 'schnittger', 'chetty', 'grusky', 'hell', 'hendren', 'jimmy', 'narang', 'chervin', 'meinrad', 'machler', 'burz', 'debra', 'rolison', 'rorai', 'hennawi', 'orbe', 'prochaska', 'girish', 'kulkarni', 'zarija', 'luki', 'khee', 'hulet', 'mickley', 'gila', 'yimeng', 'ekaterina', 'morgunova', 'arttu', 'jolma', 'eevi', 'kaasinen', 'biswajyoti', 'sahu', 'khund', 'sayeed', 'pratyush', 'teemu', 'kivioja', 'kashyap', 'kazuhiro', 'nitta', 'minna', 'taipale', 'popov', 'ginno', 'domcke', 'beler', 'jussi', 'matej', 'morav', 'viliam', 'morrill', 'nolan', 'waugh', 'bowling', 'shrike', 'khademhosseini', 'kyungtae', 'akash', 'arora', 'hillmyer', 'dorfman', 'vitaly', 'sushkevich', 'palagin', 'ranocchiari', 'bokhoven', 'qili', 'masashi', 'sha', 'lay', 'kodama', 'wakako', 'horiuchi', 'daniels', 'lucinda', 'baldoni', 'medvedev', 'bushmarinov', 'perdew', 'lyssenko', 'vernita', 'slon', 'hopfe', 'mafessoni', 'rasilla', 'carles', 'lalueza', 'rosas', 'soressi', 'knul', 'derevianko', 'zenobia', 'shunkov', 'lumley', 'perrenoud', 'eljko', 'pavao', 'ayinuer', 'aximu', 'essel', 'nickel', 'burbano', 'malliakas', 'gualdr', 'howarth', 'layla', 'dohnalkova', 'farha', 'bound', 'gaurav', 'khanna', 'reese', 'tezanos', 'jongmin', 'shrividhya', 'srinivasan', 'awe', 'brehm', 'kensy', 'cooperrider', 'tuddenham', 'khalil', 'ghanem', 'milliken', 'dehouck', 'eigenbrode', 'frydenvang', 'siebach', 'sindy', 'urpelainen', 'tiffany', 'bouchery', 'oswalt', 'dutertre', 'jinmiao', 'erdal', 'irac', 'merry', 'gunawan', 'kaibo', 'hermi', 'rizal', 'sumatoh', 'ruffin', 'mabel', 'jouve', 'ester', 'gea', 'mallorqu', 'raoul', 'hennekam', 'malleret', 'ivy', 'low', 'nurhidaya', 'binte', 'shadan', 'charlene', 'foong', 'anis', 'larbi', 'poidinger', 'qingfeng', 'nia', 'muzlifah', 'haniffa', 'benaroch', 'gushchin', 'melnikov', 'polovinkin', 'andrii', 'ishchenko', 'yuzhakova', 'buslaev', 'grudinin', 'round', 'balandin', 'valentin', 'borshchevskiy', 'willbold', 'ldt', 'gordeliy', 'kailash', 'casertano', 'bergeron', 'nelan', 'pueyo', 'bellini', 'zoltan', 'levay', 'sokol', 'annalisa', 'calamida', 'kains', 'livio', 'arnab', 'jiaqiang', 'knolle', 'lumsden', 'mandrus', 'tennant', 'roderich', 'moessner', 'nagler', 'bhawal', 'bosurgi', 'cabeza', 'cabrerizo', 'tucci', 'weinstein', 'licona', 'limon', 'pelorosso', 'gagliani', 'craft', 'sourav', 'rothlin', 'mcdermott', 'cassels', 'mcclary', 'groh', 'burcham', 'diseroad', 'kallman', 'polster', 'cashman', 'declan', 'moylan', 'desmond', 'gowran', 'villeneuve', 'hockett', 'vrakking', 'hiromichi', 'niikura', 'christy', 'fidel', 'maitrayee', 'gravley', 'deering', 'eiichiro', 'demian', 'saffer', 'kopf', 'toshinori', 'yuya', 'machida', 'ide', 'iodp', 'rgmann', 'yesu', 'merritt', 'maccoun', 'caswell', 'stoddard', 'ee', 'akkaynak', 'sheard', 'aussignargues', 'kerfeld', 'darby', 'franziska', 'barham', 'cesar', 'izaurralde', 'swinton', 'tiedje', 'jina', 'rising', 'shashank', 'houser', 'dung', 'retzker', 'nabeel', 'aslam', 'pfender', 'reuter', 'zappe', 'varo', 'denisenko', 'sumiya', 'shinobu', 'onoda', 'isoya', 'wrachtrup', 'ash', 'halliday', 'hampson', 'lembo', 'haydon', 'gilarranz', 'rayfield', 'cembrano', 'fides', 'zenk', 'loeser', 'schiavo', 'kilpert', 'bogdanovi', 'iovino', 'eugenio', 'frixione', 'laclette', 'moher', 'tilmes', 'triantafyllou', 'seema', 'jayachandran', 'laat', 'audy', 'gideon', 'diffley', 'alyssa', 'huanqian', 'zwierlein', 'celiz', 'wamala', 'whyte', 'vasilyev', 'vlassak', 'michalak', 'balaji', 'coons', 'hoogstraten', 'grahame', 'hardie', 'steed', 'christophi', 'gerard', 'kaiko', 'lulu', 'umang', 'esaulova', 'artyomov', 'adrianus', 'boon', 'lenschow', 'thaddeus', 'stappenbeck', 'bonaventura', 'wojciech', 'lesniak', 'polina', 'sysa', 'richie', 'dannals', 'pomper', 'michaelides', 'additional', 'authors', 'shafee', 'mietchen', 'grantly', 'galland', 'madl', 'ahmadpoor', 'sofia', 'landi', 'winrich', 'freiwald', 'migle', 'kazlauskiene', 'georgij', 'kostiuk', 'eslovas', 'venclovas', 'gintautas', 'tamulaitis', 'virginijus', 'siksnys', 'mattiroli', 'sudipta', 'bhattacharyya', 'sandman', 'burkhart', 'ahn', 'reeve', 'karolin', 'luger', 'boehnke', 'brako', 'tahmassian', 'bierer', 'abram', 'rjan', 'bodin', 'cross', 'dubas', 'wigginton', 'bubela', 'hustad', 'kiermer', 'lazer', 'manrai', 'phimister', 'strandburg', 'shyamal', 'peddada', 'hellmut', 'augustin', 'gou', 'cardesa', 'vela', 'nahalka', 'halil', 'okur', 'roke', 'hey', 'adashi', 'damien', 'sorigu', 'geret', 'phan', 'cuin', 'blangy', 'moulin', 'billon', 'sabine', 'brugi', 'yohann', 'cout', 'nurizzo', 'brettel', 'yonghua', 'beisson', 'peltier', 'maire', 'westoby', 'bonnie', 'leishman', 'niinemets', 'lawren', 'sack', 'villar', 'wilf', 'zenker', 'templin', 'parton', 'thorn', 'seshold', 'bissiere', 'plachta', 'jelena', 'stajic', 'yeston', 'aurora', 'delbo', 'bolin', 'chrysa', 'avdellidou', 'greif', 'zseb', 'schmieder', 'siemers', 'lixing', 'moulet', 'klostermann', 'guggenmos', 'danhua', 'leore', 'barzily', 'rokni', 'shental', 'nejman', 'gavert', 'yaara', 'zwang', 'shee', 'thaiss', 'livny', 'roi', 'avraham', 'dennie', 'ligorio', 'mosher', 'brandis', 'garold', 'fuks', 'candice', 'gurbatri', 'vancheswaran', 'gopalakrishnan', 'hurd', 'fleming', 'skalak', 'bu', 'monia', 'michaud', 'sunia', 'trauger', 'barshack', 'talia', 'sandbank', 'flaherty', 'mandinova', 'thayer', 'ferrone', 'huttenhower', 'bhatia', 'gevers', 'wargo', 'ravid', 'straussman', 'bergstr', 'mentzer', 'auckland', 'attenborough', 'alpers', 'koki', 'pomat', 'siba', 'manjinder', 'sandhu', 'obura', 'tilker', 'robichaud', 'ngoc', 'vu', 'linh', 'shurter', 'comizzoli', 'radoslaw', 'ratajszczak', 'lex', 'bouter', 'taehoon', 'shablovsky', 'casasanto', 'geels', 'sovacool', 'schwanen', 'sorrell', 'halzen', 'aab', 'abreu', 'aglietta', 'samarai', 'albuquerque', 'allekotte', 'almela', 'castillo', 'anastasi', 'anchordoqui', 'andrada', 'andringa', 'aramo', 'arqueros', 'arsene', 'asorey', 'assis', 'aublin', 'badescu', 'balaceanu', 'barbato', 'barreira', 'luz', 'beatty', 'bellido', 'berat', 'bertaina', 'bertou', 'biermann', 'billoir', 'biteau', 'blaess', 'blazek', 'bleve', 'boh', 'ov', 'boncioli', 'bonifazi', 'borodai', 'botti', 'brack', 'brancus', 'bretz', 'bridgeman', 'briechle', 'buitink', 'buscemi', 'caccianiga', 'cancio', 'canfora', 'caramete', 'caruso', 'castellina', 'cataldi', 'cazon', 'chinellato', 'chudoba', 'cobos', 'colalillo', 'collica', 'coluccia', 'concei', 'consolati', 'coutu', 'covault', 'dasso', 'daumiller', 'dawson', 'mitri', 'debatin', 'deligny', 'diogo', 'dobrigkeit', 'olivo', 'dorosti', 'anjos', 'dova', 'dundovic', 'ebr', 'erfani', 'espadanal', 'etchegoyen', 'falcke', 'farrar', 'fauth', 'fazzini', 'fenu', 'fick', 'figueira', 'filip', 'fratu', 'freire', 'fujii', 'gaior', 'gat', 'gemmeke', 'gherghel', 'lascu', 'giaccari', 'giammarchi', 'golup', 'berisso', 'gorgi', 'grillo', 'grubb', 'guarino', 'hampel', 'harari', 'harton', 'haungs', 'hebbeker', 'heck', 'herve', 'hojvat', 'horvath', 'hrabovsk', 'huege', 'hulsman', 'insolia', 'isar', 'jandt', 'josebachuili', 'jurysek', 'kambeitz', 'kampert', 'katkov', 'keilhauer', 'kemmerich', 'kieckhafer', 'klages', 'kleifges', 'kleinfeller', 'krohm', 'kuempel', 'kukec', 'mezek', 'kunka', 'kuotb', 'lahurd', 'lauscher', 'legumina', 'leigui', 'letessier', 'selvon', 'lhenry', 'yvon', 'presti', 'lopes', 'casado', 'luce', 'lucero', 'malacari', 'mallamaci', 'mandat', 'mantsch', 'mariazzi', 'marsella', 'martello', 'mas', 'mathes', 'mathys', 'matthiae', 'mayotte', 'mazur', 'tanco', 'menshikov', 'merenda', 'micheletti', 'middendorf', 'miramonti', 'mitrica', 'mockler', 'mollerach', 'montanet', 'morello', 'mostaf', 'mussa', 'naranjo', 'nellen', 'niculescu', 'oglinzanu', 'niechciol', 'niemietz', 'niggemann', 'nitz', 'novotny', 'ochilo', 'oikonomou', 'olinto', 'palatka', 'pallotta', 'papenbreer', 'parente', 'pech', 'pedreira', 'pkala', 'pelayo', 'perl', 'perrone', 'petrera', 'phuntsok', 'piegaia', 'pierog', 'pieroni', 'pimenta', 'pirronello', 'platino', 'plum', 'porowski', 'privitera', 'prouza', 'quel', 'querchfeld', 'pollan', 'rautenberg', 'ravignani', 'revenu', 'ridky', 'riehn', 'risse', 'ristori', 'rizi', 'rojo', 'rogozin', 'roncoroni', 'roulet', 'ruehl', 'saffi', 'saftoiu', 'salamida', 'salesa', 'greus', 'salina', 'sarazin', 'sarmento', 'sarmiento', 'scherini', 'schieler', 'schimp', 'schov', 'nek', 'sciutto', 'segreto', 'settimo', 'shadkam', 'shellard', 'sigl', 'silli', 'sima', 'mia', 'kowski', 'sommers', 'sonntag', 'squartini', 'stanca', 'stani', 'stasielak', 'stassi', 'strafella', 'suarez', 'dur', 'sudholz', 'suomij', 'rvi', 'supanitsky', 'up', 'swain', 'szadkowski', 'taboada', 'taborda', 'theodoro', 'timmermans', 'todero', 'peixoto', 'tomankova', 'torralba', 'elipe', 'travnicek', 'trini', 'urban', 'vald', 'galicia', 'vali', 'valore', 'aar', 'bodegom', 'vliet', 'varela', 'rdenas', 'varner', 'zquez', 'veberi', 'ventura', 'vergara', 'quispe', 'verzi', 'vicha', 'villase', 'vorobiov', 'wahlberg', 'wainberg', 'walz', 'weindl', 'wiencke', 'wilczy', 'ski', 'wirtz', 'wittkowski', 'wundheiler', 'yushkov', 'zas', 'zavrtanik', 'zepeda', 'ziolkowski', 'zuccarello', 'haydy', 'yinan', 'kan', 'shrock', 'emal', 'lesha', 'yonglun', 'yubo', 'deling', 'xiaoyang', 'shouqi', 'ell', 'edo', 'waks', 'goldschmidt', 'puri', 'ionel', 'simbotin', 'suits', 'carlton', 'mcculler', 'treneman', 'steves', 'ed', 'lein', 'borm', 'deangelis', 'pold', 'knorr', 'grandy', 'gremer', 'lzel', 'schenk', 'reinartz', 'labahn', 'raimond', 'ravelli', 'tusche', 'iglesias', 'hoyer', 'henrike', 'heise', 'frankenberg', 'schimel', 'guanter', 'drewry', 'porcar', 'castell', 'griffis', 'magney', 'yuen', 'dalmeet', 'chawla', 'weitzner', 'fulg', 'ncio', 'laschi', 'ervin', 'gitlin', 'jovana', 'golijanin', 'viant', 'joy', 'escolano', 'yiwen', 'prashanta', 'kharel', 'renninger', 'rakich', 'pikul', 'hanlon', 'shepherd', 'hacker', 'altounian', 'zellmer', 'gerber', 'quiroga', 'jessalyn', 'devine', 'marissa', 'weichman', 'laws', 'babin', 'garikoitz', 'balerdi', 'changjian', 'malbon', 'lineberger', 'yarkony', 'jianyi', 'wataru', 'chengwei', 'takaaki', 'iori', 'seiko', 'narushima', 'kiguchi', 'keiko', 'yasuma', 'said', 'yamagami', 'kolls', 'hidetoshi', 'masahira', 'hattori', 'em', 'bouquin', 'antonin', 'crumi', 'abderrahman', 'khila', 'gnac', 'wessner', 'emmanouela', 'filippidi', 'cristiani', 'eisenbach', 'kollbe', 'chunfeng', 'muyang', 'yanhua', 'panhan', 'yongqun', 'hemmungs', 'wirt', 'mcnally', 'puchades', 'rampello', 'giuliano', 'wiseman', 'glynn', 'hunki', 'pernice', 'jinoh', 'parsa', 'raczkowski', 'petrey', 'pon', 'polleux', 'rubio', 'prada', 'tardajos', 'izquierdo', 'ares', 'llombart', 'macdowell', 'alcolea', 'palafox', 'liz', 'marz', 'ovidio', 'szuromi', 'grocholski', 'marcott', 'shakun', 'adel', 'jord', 'asm', 'shihavuddin', 'servignat', 'aout', 'faucourt', 'auguste', 'genovesio', 'anthi', 'karaiskou', 'sobczak', 'pot', 'spassky', 'meunier', 'mette', 'bendixen', 'iversen', 'overeem', 'jeannette', 'tenthorey', 'haloupek', 'grob', 'adamson', 'ella', 'hartenian', 'bourgeois', 'chac', 'nogales', 'vance', 'aditi', 'raghanti', 'kitchen', 'onorati', 'tebbenkamp', 'stutz', 'mingfeng', 'imamura', 'kawasawa', 'fuchen', 'skarica', 'gulden', 'mihovil', 'pletikos', 'shibata', 'stephenson', 'edler', 'ely', 'elsworth', 'tamas', 'kleinman', 'reimers', 'chet', 'sestan', 'shari', 'tomer', 'tenenbaum', 'spelke', 'mooser', 'bohman', 'nagahama', 'sellner', 'smorra', 'blaum', 'quint', 'eeri', 'reconnaissance', 'vedrana', 'maibach', 'leiserowitz', 'lewandowsky', 'corboz', 'ehlers', 'noack', 'shiwei', 'garnet', 'mahon', 'dinoi', 'maron', 'ruperto', 'mckelvey', 'kanan', 'xiaoyan', 'scheiner', 'mcmeekin', 'zhiping', 'killian', 'haiwei', 'ievgen', 'levchuk', 'schrenker', 'spiecker', 'stubhan', 'luechinger', 'hirsch', 'schmuki', 'steinr', 'halik', 'snaith', 'brabec', 'aliyah', 'cassey', 'shiheng', 'xueni', 'lingdi', 'jiansen', 'yanxiang', 'fica', 'galej', 'nagai', 'nowakowski', 'aparna', 'bhaduri', 'pollen', 'alvarado', 'mostajo', 'radji', 'lullo', 'haeussler', 'velmeshev', 'johain', 'ryad', 'ounadjela', 'shuga', 'kriegstein', 'duester', 'ackerveken', 'nowotny', 'onard', 'zupancic', 'donner', 'donghai', 'zhibo', 'libor', 'kovarik', 'lenar', 'isabell', 'vesna', 'hodnik', 'pirc', 'apolonija', 'zavec', 'marjetka', 'podobnik', 'pahovnik', 'ema', 'pruitt', 'greimel', 'akiko', 'yamaji', 'zienkiewicz', 'jasmin', 'mortimer', 'adiilah', 'mamode', 'cassim', 'magali', 'deleu', 'lins', 'oecking', 'feussner', 'mongrand', 'anderluh', 'rnberger', 'qiong', 'rauscher', 'wojtecki', 'hore', 'dominic', 'kenrick', 'hallinan', 'corsi', 'mooley', 'hotokezaka', 'nakar', 'frail', 'dobie', 'bannister', 'bhalerao', 'giacintucci', 'horesh', 'kassim', 'lockman', 'nissanke', 'palliyaguru', 'piran', 'rana', 'sadler', 'kawakatsu', 'hajime', 'shiobara', 'takehi', 'isse', 'hiroko', 'sugioka', 'utada', 'grieshop', 'asfa', 'istaq', 'teider', 'worringer', 'rajeev', 'sivasankaran', 'deeba', 'asuka', 'md', 'ashraf', 'mousheng', 'mukhtar', 'achal', 'srivastava', 'faruq', 'bradner', 'aseem', 'edelsparre', 'gruszczyk', 'usheer', 'kanjee', 'menant', 'weekes', 'griffin', 'kanlaya', 'sriprawat', 'menezes', 'tham', 'acome', 'radakovitz', 'vyara', 'matson', 'fessler', 'riyue', 'chongsuwat', 'lilian', 'kabeche', 'dang', 'buisson', 'belser', 'tumpey', 'perrigo', 'eitan', 'thorben', 'antonino', 'ingargiola', 'yazan', 'alhadid', 'sangyoon', 'ferwerda', 'dillon', 'giorgia', 'guglielmi', 'hohwy', 'boxtel', 'lamme', 'ned', 'naotsugu', 'brantley', 'vidic', 'brasier', 'yoxtheimer', 'pollak', 'wilderman', 'saliba', 'jiwen', 'yuwei', 'giangrande', 'zhanqing', 'paulo', 'wenhua', 'helber', 'hlker', 'mira', 'damith', 'brahmbhatt', 'helal', 'sach', 'alpeggiani', 'beniamino', 'sciacca', 'kuipers', 'marlee', 'hning', 'gaese', 'fagan', 'bram', 'moorter', 'abdullahi', 'attias', 'avgar', 'hattie', 'bartlam', 'buuveibaatar', 'bayarbaatar', 'belant', 'bertassoni', 'bidner', 'floris', 'beest', 'chloe', 'bracis', 'bruyn', 'cagnacci', 'calabrese', 'constan', 'chamaill', 'jammes', 'chiaradia', 'destefano', 'diefenbach', 'fennessy', 'fichtel', 'fiedler', 'fischhoff', 'eliezer', 'hebblewhite', 'heurich', 'hewison', 'hurme', 'isbell', 'kaczensky', 'kappeler', 'kauffman', 'kays', 'kimuyu', 'kranstauber', 'lapoint', 'leimgruber', 'linnell', 'mattisson', 'emilia', 'medici', 'mellone', 'merrill', 'guilherme', 'mour', 'ronaldo', 'morato', 'morellet', 'morrison', 'atle', 'mysterud', 'dejid', 'nandintsetseg', 'aidin', 'niamir', 'odden', 'rogerio', 'pedrotti', 'reineking', 'rimmler', 'tracey', 'moe', 'rolandsen', 'rosenberry', 'rubenstein', 'safi', 'sapir', 'sawyer', 'sergiel', 'enkhtuvshin', 'shiilegdamba', 'navinder', 'erling', 'solberg', 'spiegel', 'olav', 'siva', 'sundaresan', 'wiebke', 'ullmann', 'voigt', 'wattles', 'wikelski', 'wilmers', 'wittemyer', 'zi', 'zwijacz', 'kozica', 'grillet', 'villegas', 'oletta', 'tami', 'bonan', 'doney', 'kowal', 'jillianne', 'eyring', 'elsy', 'ngwa', 'aebi', 'locher', 'setvin', 'reticcioli', 'poelzleitner', 'hulva', 'boatner', 'franchini', 'diebold', 'rajasekaran', 'okamoto', 'mathey', 'fechner', 'thampy', 'cavalleri', 'roni', 'dengler', 'mingguo', 'flower', 'roslyn', 'dakin', 'straw', 'altshuler', 'junki', 'daeho', 'kyungwon', 'jarad', 'zhongyang', 'butun', 'byeongdu', 'vinayak', 'dravid', 'aydin', 'vampa', 'nesrallah', 'naumov', 'corkum', 'weitemier', 'linmeng', 'xiyu', 'yanqiu', 'hashimotodani', 'masanobu', 'hirohide', 'iwasaki', 'laxmi', 'parajuli', 'shigeo', 'okabe', 'loong', 'teh', 'all', 'iku', 'xiaogang', 'gandal', 'neelroop', 'parikshak', 'virpi', 'leppa', 'hartl', 'schork', 'appadurai', 'buil', 'werge', 'chunyu', 'commonmind', 'psychencode', 'ipsych', 'broad', 'geschwind', 'hutson', 'calisi', 'leighton', 'alastair', 'aya', 'adrienne', 'luoma', 'tsoucas', 'xintao', 'klothilda', 'prakash', 'doench', 'wucherpfennig', 'morinaka', 'edgars', 'lakis', 'verest', 'helf', 'thibault', 'scalvenzi', 'vagstad', 'shinichi', 'sunagawa', 'muriel', 'gugger', 'piel', 'boutier', 'vanderplasschen', 'poloczanska', 'peining', 'dolado', 'alfaro', 'mozaz', 'lix', 'youngjin', 'yuxuan', 'thoburn', 'bahman', 'afsari', 'ludmila', 'danilova', 'douville', 'ammar', 'javed', 'mattox', 'goggins', 'molin', 'roden', 'ptak', 'dobbyn', 'schaefer', 'silliman', 'popoli', 'schoen', 'jeanne', 'mansfield', 'jen', 'hanash', 'falconi', 'shibin', 'cristian', 'tomasetti', 'prosanta', 'chakrabarty', 'festa', 'bianchet', 'boyce', 'darling', 'ahin', 'zdemir', 'tremain', 'rongjuan', 'wenlong', 'hongchao', 'yuanjiang', 'hibbins', 'mikaelian', 'citi', 'jafar', 'chavali', 'nabhan', 'brownfield', 'pehr', 'harbury', 'tushar', 'saien', 'lijie', 'yimo', 'lujie', 'kibum', 'un', 'preeti', 'poddar', 'chibeom', 'manfredo', 'hiltensperger', 'zegarra', 'dehner', 'tiniakou', 'greiling', 'kriegel', 'knight', 'millius', 'cesana', 'arlotti', 'ern', 'gl', 'vorobyova', 'cetnarski', 'bonatti', 'ollion', 'xiaohu', 'matic', 'elez', 'appenzeller', 'riccio', 'xuri', 'carmeliet', 'maayan', 'inna', 'grosheva', 'danping', 'eliran', 'soffer', 'blacher', 'braverman', 'tengeler', 'elazar', 'zeev', 'lehavi', 'meirav', 'pevsner', 'arieh', 'gertler', 'halpern', 'harmelin', 'suhail', 'aamar', 'serradas', 'grosfeld', 'hagit', 'geeson', 'cummins', 'arrieta', 'studart', 'wasin', 'sakulkoo', 'soanes', 'littlejohn', 'valent', 'talbot', 'draguhn', 'amartya', 'jangid', 'bausier', 'dufr', 'nobuya', 'tsuji', 'kennemur', 'buyck', 'sunggi', 'vost', 'kaib', 'dmytro', 'bykov', 'norimoto', 'kenichi', 'makino', 'mengxuan', 'shikano', 'kazuki', 'tomoe', 'sasaki', 'hioki', 'fujisawa', 'ikegaya', 'milles', 'schulten', 'gaub', 'rochman', 'maximiliano', 'alessi', 'sammler', 'skowyra', 'naismith', 'jialing', 'dongjie', 'wenyuan', 'junzhi', 'xinzheng', 'hongrong', 'zihe', 'xiangxi', 'spanton', 'haoxin', 'zaletel', 'merchant', 'kruszyk', 'guanda', 'che', 'olugbeminiyi', 'fadeyi', 'mousseau', 'nuhant', 'otsuki', 'waldrop', 'lyerly', 'palacios', 'zorrilla', 'lussier', 'weixin', 'koichiro', 'yaji', 'kozo', 'shik', 'trosman', 'deverka', 'tunis', 'garrison', 'weldon', 'lanuza', 'vestweber', 'srigokul', 'upadhyayula', 'milkie', 'ved', 'swinburne', 'kishore', 'mosaliganti', 'zach', 'hiscock', 'jamien', 'kohrman', 'medwig', 'dambournet', 'forster', 'cunniff', 'ruan', 'hanako', 'yashiro', 'scholpp', 'elliot', 'meyerowitz', 'hockemeyer', 'drubin', 'matus', 'koyama', 'megason', 'kirchhausen', 'betzig', 'felisa', 'elliott', 'prave', 'kirsim', 'romashkin', 'rychanchik', 'zerkle', 'paiste', 'kreitsmann', 'hayles', 'turchyn', 'warke', 'lepland', 'romina', 'cavalcanti', 'klenerman', 'haritz', 'sardon', 'chertow', 'rupert', 'proctor', 'phipps', 'pavan', 'vasanta', 'putluri', 'snowman', 'nagireddy', 'calabresi', 'purcell', 'reznikov', 'bilton', 'ger', 'pulin', 'markson', 'siheng', 'vipul', 'vachharajani', 'zainzinger', 'holleley', 'mumm', 'keun', 'tulip', 'nandu', 'jiyeon', 'sridevi', 'deberardinis', 'kraus', 'tianyu', 'aina', 'rongsheng', 'sanglard', 'gurr', 'magris', 'pressey', 'pickett', 'tilghman', 'ager', 'lapkin', 'jihwan', 'rojesh', 'chengxiang', 'ayano', 'shizheng', 'werth', 'barasch', 'katalin', 'suszt', 'oshima', 'atsutomo', 'katsuyuki', 'matsunaga', 'qianchun', 'komiyama', 'zhenghua', 'pingping', 'svend', 'age', 'biehs', 'kajihara', 'dongsheng', 'yanling', 'hulei', 'fangyuan', 'kedong', 'jiaqing', 'donaldson', 'mazmanian', 'caupin', 'holten', 'guillerm', 'frenz', 'soper', 'harshad', 'pathak', 'fivos', 'perakis', 'mariedahl', 'amann', 'winkel', 'sangsoo', 'jaehyun', 'zhenkun', 'jingguang', 'crooks', 'bren', 'marcetta', 'darensbourg', 'janik', 'mercouri', 'kanatzidis', 'lymar', 'pfromm', 'schrock', 'chenhao', 'jonghwan', 'iqbal', 'bakti', 'utama', 'regan', 'kleemann', 'yuxia', 'shinner', 'arjun', 'sengupta', 'sefaattin', 'tongay', 'hutzler', 'rosenband', 'flack', 'mimee', 'nadeau', 'carim', 'flanagan', 'jerger', 'mcdonnell', 'swartwout', 'citorik', 'bulovi', 'traverso', 'anantha', 'chandrakasan', 'lamanna', 'mangan', 'bourg', 'brockelman', 'sarayudh', 'bunyavejchewin', 'jyh', 'chuyong', 'cordell', 'furniss', 'giardina', 'gunatilleke', 'savitri', 'fangliang', 'inman', 'narahari', 'kenfack', 'korte', 'kamil', 'mcshea', 'herv', 'memiaghe', 'anuttara', 'nathalang', 'vojtech', 'orwig', 'ostertag', 'dilys', 'vr', 'weiblen', 'yap', 'achilli', 'olivieri', 'ornella', 'semino', 'torroni', 'yeongin', 'wentao', 'yuxin', 'donghee', 'son', 'jiheong', 'foudeh', 'chenxin', 'yeongjun', 'simiao', 'pfattner', 'frieden', 'asia', 'dowtin', 'delphis', 'levia', 'tittl', 'aleksandrs', 'leitis', 'mingkai', 'filiz', 'yesilkoy', 'duk', 'dragomir', 'neshev', 'kivshar', 'hatice', 'altug', 'popkin', 'goyette', 'yingzhu', 'chunping', 'guangming', 'zhongwu', 'jiachao', 'malin', 'pinsky', 'reygondeau', 'caddell', 'abrantes', 'spijkers', 'pommier', 'naishitha', 'anaparthy', 'nicoletta', 'memos', 'larkin', 'aliz', 'gouronnec', 'auffray', 'albrengues', 'mikala', 'egeblad', 'iacobuzio', 'donahue', 'fearon', 'caputi', 'farrow', 'khoa', 'trinh', 'thu', 'thuy', 'teto', 'carqueijeiro', 'koudounas', 'dug', 'bernonville', 'ameyaw', 'curcino', 'courdavault', 'ryoichi', 'horisaki', 'ugawa', 'issei', 'kamesawa', 'kotaro', 'setoyama', 'fujiu', 'waki', 'noji', 'forzieri', 'anurag', 'inamine', 'spanagel', 'kalinin', 'turvey', 'bruun', 'hansford', 'songmei', 'tianen', 'chatterjee', 'boustani', 'jacque', 'provencher', 'knott', 'okuno', 'bito', 'mriganka', 'sur', 'cuyer', 'guosong', 'viveros', 'sanes', 'lieber', 'sales', 'puretzky', 'nitzan', 'futtner', 'isabella', 'salamone', 'shiela', 'samson', 'sekido', 'poulat', 'maatouk', 'lovell', 'badge', 'elinor', 'bellwood', 'parent', 'flanders', 'bisbey', 'edon', 'vitaku', 'gianneschi', 'dichtel', 'christi', 'guerrini', 'meaganne', 'lewellyn', 'zavala', 'araiza', 'lyon', 'barkley', 'herndon', 'karion', 'lauvaux', 'joannes', 'maasakkers', 'marchese', 'omara', 'pacala', 'peischl', 'shepson', 'townsend', 'small', 'reichmann', 'nijmeijer', 'hossain', 'eguren', 'roberti', 'hufnagel', 'hiiragi', 'deepti', 'pradhan', 'chico', 'camargo', 'dry', 'kortenkamp', 'abudayyeh', 'roderick', 'tas', 'kapitein', 'godfray', 'aveyard', 'key', 'lorimer', 'pierrehumbert', 'scarborough', 'springmann', 'jebb', 'santer', 'chedley', 'zelinka', 'cvijanovic', 'bonfils', 'durack', 'kiehl', 'mears', 'painter', 'giuliana', 'wentz', 'garmash', 'stephany', 'buenrostro', 'mazon', 'mingyi', 'xinke', 'hangfei', 'bowen', 'dongfang', 'qingyan', 'fuhai', 'hongli', 'jianmin', 'takada', 'jonasch', 'xiaosai', 'tean', 'xingnan', 'cortney', 'xijuan', 'lianxin', 'chengheng', 'giada', 'zurlo', 'auman', 'perou', 'kimryn', 'rathmell', 'baldwin', 'soden', 'eisenberg', 'shasha', 'dugast', 'darzacq', 'dailey', 'cattoglio', 'heckert', 'sambashiva', 'banala', 'lavis', 'tjian', 'sabari', 'dall', 'agnese', 'boija', 'coffey', 'shrinivas', 'hannett', 'zamudio', 'manteiga', 'jurian', 'schuijers', 'eliza', 'vasile', 'sohail', 'denes', 'hnisz', 'ihn', 'cisse', 'arup', 'vikram', 'fetter', 'pruneda', 'oxley', 'ritger', 'libbrecht', 'kronauer', 'dinh', 'farinholt', 'shigenori', 'hirose', 'zhuchenko', 'kuspa', 'poffenberger', 'samborska', 'gravel', 'devorkin', 'izreig', 'loginicheva', 'beauchemin', 'zogopoulos', 'blagih', 'silveira', 'perillo', 'carmo', 'schluttenhofer', 'womble', 'jasechko', 'szeptycki', 'gorelick', 'diez', 'brande', 'wulff', 'kanwarpal', 'dhugga', 'pelkmans', 'troth', 'puzey', 'bauska', 'serena', 'wenqing', 'gludhug', 'purnomo', 'herawati', 'sudoyo', 'bay', 'harrigan', 'buermann', 'vinh', 'lisle', 'ruegg', 'boczek', 'dames', 'garret', 'califf', 'bruggen', 'yinchuan', 'xiaoyuan', 'xiqu', 'tamlin', 'pavelsky', 'doctor', 'roneet', 'henu', 'menchine', 'maxine', 'collord', 'botting', 'dorin', 'mirel', 'loudon', 'roser', 'vento', 'tormo', 'farndon', 'guzzo', 'richoz', 'lira', 'mamanova', 'tevita', 'aho', 'antony', 'riddick', 'mushtaq', 'dyanne', 'rampling', 'burge', 'lisgo', 'sebire', 'menna', 'clatworthy', 'behjati', 'hobbie', 'tali', 'pastore', 'maloy', 'international', 'wheat', 'sequencing', 'iwgsc', 'refseq', 'principal', 'investigators', 'appels', 'kellye', 'eversole', 'beat', 'whole', 'assembly', 'pozniak', 'distelfeld', 'poland', 'ronen', 'barad', 'baruch', 'keeble', 'gagn', 'mascher', 'zvi', 'ambre', 'josselin', 'hi', 'data', 'based', 'scaffolding', 'himmelbach', 'quality', 'control', 'analyses', 'chushin', 'muehlbauer', 'pasam', 'rigault', 'tibbits', 'vijay', 'pseudomolecule', 'structure', 'spannagl', 'heidrun', 'gundlach', 'haberer', 'danara', 'ormanbekova', 'prade', 'hana', 'imkov', 'wicker', 'automated', 'annotation', 'swarbreck', 'rimbert', 'felder', 'gemy', 'kaithakottil', 'keilwagen', 'lux', 'twardziok', 'venturini', 'manual', 'curation', 'juh', 'subgenome', 'comparative', 'abrouk', 'transposable', 'elements', 'phylogenomic', 'transcriptome', 'rna', 'seq', 'cristobal', 'uauy', 'smahane', 'chalabi', 'boulos', 'chalhoub', 'aron', 'datla', 'steuernagel', 'ex', 'methylome', 'histone', 'moussa', 'benhamed', 'abdelhafid', 'bendahmane', 'concia', 'latrasse', 'bac', 'chromosome', 'mtp', 'profiling', 'wgp', 'tags', 'barto', 'dole', 'bikram', 'korol', 'letellier', 'odd', 'kuldeep', 'vossen', 'vautrin', 'weining', 'ltc', 'mapping', 'physical', 'tzion', 'fahima', 'glikson', 'raats', 'rh', 'optical', 'jarmila', 'toegelov', 'recombination', 'darrier', 'family', 'cbf', 'delfina', 'barabaschi', 'cattivelli', 'dehydrin', 'galvez', 'hikmet', 'budak', 'nlr', 'witek', 'guotai', 'ppr', 'melonek', 'ruonan', 'prolamin', 'belova', 'wak', 'kostya', 'kanyuka', 'stem', 'solidness', 'sst', 'qtl', 'kirby', 'nilsen', 'walkowiak', 'cuthbert', 'krysta', 'daoquan', 'flowering', 'locus', 'flc', 'golds', 'size', 'analysis', 'microrna', 'trna', 'bala', 'ani', 'akpinar', 'sezgi', 'biyiklioglu', 'genetic', 'maps', 'liangliang', 'amidou', 'daiye', 'libraries', 'sorting', 'kubal', 'af', 'pooling', 'library', 'repository', 'access', 'sequence', 'alfama', 'blondon', 'flores', 'guerche', 'loaec', 'sequences', 'condie', 'ens', 'maclachlan', 'yifang', 'cruaud', 'karine', 'labadie', 'gaganpreet', 'mingcheng', 'sunish', 'sehgal', 'parveen', 'chhuneja', 'om', 'suruchi', 'jindal', 'parampreet', 'palvi', 'priti', 'bharat', 'yadav', 'nagendra', 'jitendrap', 'chanderkant', 'chaudhary', 'paramjit', 'ajay', 'mahato', 'saloni', 'mathur', 'amitha', 'sevanthi', 'naveen', 'sewak', 'tomar', 'dl', 'ds', 'holu', 'ond', 'ej', 'pl', 'heavens', 'kettleborough', 'barbora', 'balc', 'rkov', 'yuqin', 'bs', 'nikolai', 'ravin', 'skryabin', 'beletsky', 'kadnikov', 'mardanov', 'nesterov', 'rakitin', 'sergeeva', 'katagiri', 'fuminori', 'nasuda', 'cattonaro', 'jiumeng', 'kugler', 'pfeifer', 'simen', 'sandve', 'bujie', 'batley', 'satomi', 'zuzana', 'tulpov', 'visendi', 'licao', 'kewei', 'figures', 'manuscript', 'writing', 'altmann', 'hero', 'faccio', 'dainis', 'kaldre', 'immo', 'klose', 'maulide', 'monaenkova', 'linevich', 'savoie', 'dutta', 'betterton', 'goodisman', 'grandjean', 'couti', 'tuan', 'fron', 'baekelant', 'aghakhani', 'philomena', 'schlexer', 'acapito', 'dipanjan', 'roeffaers', 'minh', 'tho', 'hofkens', 'lievens', 'yuter', 'hader', 'mechem', 'manolis', 'pasparakis', 'kelliher', 'xinwei', 'motoaki', 'bamba', 'yage', 'zuanming', 'guohong', 'shixun', 'turchinovich', 'junichiro', 'weiqi', 'paytan', 'wortmann', 'delphine', 'cuchet', 'eletto', 'changxin', 'plagnol', 'papapietro', 'lourdes', 'ceron', 'bacon', 'badr', 'alsaleem', 'mailis', 'maes', 'alisaac', 'goss', 'eman', 'alidrissi', 'siegmund', 'wajant', 'dinakantha', 'kumararatne', 'mofareh', 'abinun', 'doffinger', 'nejentsev', 'greytak', 'budowle', 'cece', 'armentrout', 'kolch', 'riegler', 'bugaj', 'sabnis', 'garbarino', 'toettcher', 'bivona', 'fuertes', 'niccolo', 'banterle', 'kiersten', 'aritra', 'svergun', 'portegies', 'shoji', 'katoh', 'yokota', 'gershman', 'vinas', 'giles', 'strangeway', 'aravena', 'thermin', 'breuck', 'hezaveh', 'litke', 'morningstar', 'phadke', 'sreevani', 'jesmer', 'jerod', 'merkle', 'aikens', 'alyson', 'courtemanch', 'mcwhirter', 'hollie', 'miyasaki', 'monteith', 'mawsheng', 'chern', 'junjie', 'weitao', 'jiali', 'jichun', 'xiaoqiong', 'yuping', 'guifu', 'wenming', 'xianjun', 'lihuang', 'shigui', 'jiayang', 'xuewei', 'plautz', 'lucka', 'bibic', 'demmer', 'beschta', 'ditoro', 'winstead', 'duy', 'rakieb', 'andargachew', 'luther', 'silberger', 'motunrayo', 'kolawole', 'henrietta', 'moon', 'way', 'slay', 'tyukavina', 'qiuliyang', 'hiblot', 'griss', 'fabritz', 'clothilde', 'binz', 'okun', 'johnsson', 'conlin', 'luedeman', 'luthman', 'ramsden', 'jop', 'vrieze', 'sonne', 'desforges', 'aage', 'alstrup', 'eulaers', 'letcher', 'dietz', 'kaelberer', 'marguerita', 'barth', 'xiling', 'rquez', 'furlong', 'barbuy', 'mlot', 'kami', 'ham', 'canuto', 'belli', 'houston', 'milan', 'marken', 'nond', 'castanet', 'chiriboga', 'dr', 'pela', 'tibor', 'lieskovsk', 'tokovinine', 'antol', 'velasquez', 'brunson', 'mckinnie', 'chekan', 'mccrow', 'bielinski', 'luhavaya', 'oborn', 'hutchins', 'shuonan', 'viso', 'aissam', 'ikmi', 'kroesen', 'junyue', 'cusanovich', 'delasa', 'aghamirzaie', 'pliner', 'riza', 'daza', 'mcfaline', 'figueroa', 'steemers', 'adey', 'trapnell', 'sei', 'shengyi', 'mih', 'ly', 'hor', 'nyi', 'nozair', 'spahn', 'schirdewahn', 'donoghue', 'geraint', 'ralf', 'sheikhi', 'divyansh', 'isaacson', 'theresa', 'oehmke', 'brijesh', 'shuen', 'cusimano', 'negi', 'tiper', 'bakermans', 'sanganyado', 'santiago', 'lella', 'ezcurra', 'farragher', 'vandana', 'regester', 'ae', 'schwendimann', 'reichardt', 'antarip', 'halder', 'ellwanger', 'cyan', 'kareta', 'vishik', 'nagaosa', 'devereaux', 'aidan', 'couzens', 'prideaux', 'chanhyung', 'jara', 'oseguera', 'kenton', 'mitra', 'chul', 'verardi', 'teruko', 'danjo', 'toyoizumi', 'shir', 'maimon', 'liora', 'las', 'henriette', 'myasnikov', 'asarnow', 'yifan'])"
      ]
     },
     "execution_count": 162,
     "metadata": {},
     "output_type": "execute_result"
    }
   ],
   "source": [
    "json_index['authorWords'].keys()"
   ]
  },
  {
   "cell_type": "code",
   "execution_count": 207,
   "metadata": {
    "collapsed": true
   },
   "outputs": [],
   "source": [
    "json_index['institutionWords'] = {}\n",
    "for name in json_index['institution'].keys():\n",
    "    for word in re.sub('[^a-z]',' ',name.lower()).split():\n",
    "        if not word: continue\n",
    "        if len(word) <2 or word in stop_words : continue\n",
    "        if word in json_index['institutionWords']:\n",
    "            json_index['institutionWords'][word.lower()].append(name)\n",
    "        else:\n",
    "            json_index['institutionWords'][word.lower()] = [name]"
   ]
  },
  {
   "cell_type": "code",
   "execution_count": 121,
   "metadata": {
    "collapsed": true
   },
   "outputs": [],
   "source": [
    "json_index['textWords'] = {}\n",
    "for paper in papers:\n",
    "    text = paper['text']\n",
    "    for word in re.sub('[^a-z]',' ',text.lower()).split():\n",
    "        if not word: continue\n",
    "        if word in stop_words: continue\n",
    "        if word in json_index['textWords']:\n",
    "            json_index['textWords'][word].append(paper['id'])\n",
    "        else:\n",
    "            json_index['textWords'][word] = [ paper['id']]"
   ]
  },
  {
   "cell_type": "code",
   "execution_count": 119,
   "metadata": {
    "collapsed": true
   },
   "outputs": [],
   "source": [
    "stop_words = set(stopwords.words('english')) "
   ]
  },
  {
   "cell_type": "code",
   "execution_count": 123,
   "metadata": {
    "collapsed": false
   },
   "outputs": [
    {
     "data": {
      "text/plain": [
       "91490"
      ]
     },
     "execution_count": 123,
     "metadata": {},
     "output_type": "execute_result"
    }
   ],
   "source": [
    "len(json_index['textWords'])"
   ]
  },
  {
   "cell_type": "code",
   "execution_count": 124,
   "metadata": {
    "collapsed": true
   },
   "outputs": [],
   "source": [
    "json_index['titleWords'] = {}\n",
    "for paper in papers:\n",
    "    text = paper['title']\n",
    "    for word in re.sub('[^a-z]',' ',text.lower()).split():\n",
    "        if not word: continue\n",
    "        if word in stop_words: continue\n",
    "        if word in json_index['titleWords']:\n",
    "            json_index['titleWords'][word].append(paper['id'])\n",
    "        else:\n",
    "            json_index['titleWords'][word] = [ paper['id']]"
   ]
  },
  {
   "cell_type": "code",
   "execution_count": 126,
   "metadata": {
    "collapsed": false
   },
   "outputs": [
    {
     "data": {
      "text/plain": [
       "7545"
      ]
     },
     "execution_count": 126,
     "metadata": {},
     "output_type": "execute_result"
    }
   ],
   "source": [
    "len(json_index['titleWords'])"
   ]
  },
  {
   "cell_type": "code",
   "execution_count": 127,
   "metadata": {
    "collapsed": true
   },
   "outputs": [],
   "source": [
    "json_index['publisherWords'] = {}\n",
    "for paper in papers:\n",
    "    text = paper['publisher']\n",
    "    for word in re.sub('[^a-z]',' ',text.lower()).split():\n",
    "        if not word: continue\n",
    "        if word in stop_words: continue\n",
    "        if word in json_index['publisherWords']:\n",
    "            json_index['publisherWords'][word].append(paper['id'])\n",
    "        else:\n",
    "            json_index['publisherWords'][word] = [ paper['id']]"
   ]
  },
  {
   "cell_type": "code",
   "execution_count": 142,
   "metadata": {
    "collapsed": false
   },
   "outputs": [
    {
     "data": {
      "text/plain": [
       "dict_keys(['category', 'type', 'title', 'author', 'authorInstitution', 'publisher', 'date', 'doi', 'textLink', 'text', 'pdfLink', 'id'])"
      ]
     },
     "execution_count": 142,
     "metadata": {},
     "output_type": "execute_result"
    }
   ],
   "source": [
    "papers[0].keys()"
   ]
  },
  {
   "cell_type": "code",
   "execution_count": 130,
   "metadata": {
    "collapsed": false
   },
   "outputs": [
    {
     "data": {
      "text/plain": [
       "dict_keys(['category', 'type', 'publisher', 'author', 'institution', 'year', 'authorWords', 'institutionWords', 'textWords', 'titleWords', 'publisherWords'])"
      ]
     },
     "execution_count": 130,
     "metadata": {},
     "output_type": "execute_result"
    }
   ],
   "source": [
    "json_index.keys()"
   ]
  },
  {
   "cell_type": "code",
   "execution_count": 143,
   "metadata": {
    "collapsed": true
   },
   "outputs": [],
   "source": [
    "json_index['id'] = {}\n",
    "for paper in papers:\n",
    "    idx = paper['id']\n",
    "    del paper['id']\n",
    "    json_index['id'][idx] =paper"
   ]
  },
  {
   "cell_type": "code",
   "execution_count": 188,
   "metadata": {
    "collapsed": false
   },
   "outputs": [
    {
     "ename": "TypeError",
     "evalue": "'int' object does not support item assignment",
     "output_type": "error",
     "traceback": [
      "\u001b[1;31m---------------------------------------------------------------------------\u001b[0m",
      "\u001b[1;31mTypeError\u001b[0m                                 Traceback (most recent call last)",
      "\u001b[1;32m<ipython-input-188-218685730891>\u001b[0m in \u001b[0;36m<module>\u001b[1;34m()\u001b[0m\n\u001b[0;32m      4\u001b[0m     \u001b[1;32mfor\u001b[0m \u001b[0mweek\u001b[0m \u001b[1;32min\u001b[0m \u001b[0mp\u001b[0m\u001b[1;33m[\u001b[0m\u001b[0myear\u001b[0m\u001b[1;33m]\u001b[0m\u001b[1;33m:\u001b[0m\u001b[1;33m\u001b[0m\u001b[0m\n\u001b[0;32m      5\u001b[0m         \u001b[1;32mfor\u001b[0m \u001b[0mpaper\u001b[0m \u001b[1;32min\u001b[0m \u001b[0mp\u001b[0m\u001b[1;33m[\u001b[0m\u001b[0myear\u001b[0m\u001b[1;33m]\u001b[0m\u001b[1;33m[\u001b[0m\u001b[0mweek\u001b[0m\u001b[1;33m]\u001b[0m\u001b[1;33m:\u001b[0m\u001b[1;33m\u001b[0m\u001b[0m\n\u001b[1;32m----> 6\u001b[1;33m             \u001b[0mpaper\u001b[0m\u001b[1;33m[\u001b[0m\u001b[1;34m'id'\u001b[0m\u001b[1;33m]\u001b[0m \u001b[1;33m=\u001b[0m \u001b[0midx\u001b[0m\u001b[1;33m\u001b[0m\u001b[0m\n\u001b[0m\u001b[0;32m      7\u001b[0m             \u001b[0midx\u001b[0m\u001b[1;33m+=\u001b[0m\u001b[1;36m1\u001b[0m\u001b[1;33m\u001b[0m\u001b[0m\n\u001b[0;32m      8\u001b[0m             \u001b[0mpapers\u001b[0m\u001b[1;33m.\u001b[0m\u001b[0mappend\u001b[0m\u001b[1;33m(\u001b[0m\u001b[0mpaper\u001b[0m\u001b[1;33m)\u001b[0m\u001b[1;33m\u001b[0m\u001b[0m\n",
      "\u001b[1;31mTypeError\u001b[0m: 'int' object does not support item assignment"
     ]
    }
   ],
   "source": [
    "papers = []\n",
    "idx = 0\n",
    "for year in p:\n",
    "    for week in p[year]:\n",
    "        for paper in p[year][week]:\n",
    "            paper['id'] = idx\n",
    "            idx+=1\n",
    "            papers.append(paper)"
   ]
  },
  {
   "cell_type": "code",
   "execution_count": 144,
   "metadata": {
    "collapsed": false,
    "scrolled": true
   },
   "outputs": [
    {
     "data": {
      "text/plain": [
       "{'category': 'None',\n",
       " 'type': 'Other',\n",
       " 'title': 'New Products',\n",
       " 'author': [],\n",
       " 'authorInstitution': [],\n",
       " 'publisher': 'American Association for the Advancement of Science',\n",
       " 'date': '2010/01/01',\n",
       " 'doi': '10.1126/science.327.5961.100-a',\n",
       " 'textLink': '/content/327/5961/100.1.full.txt',\n",
       " 'text': 'The MaxDiscovery Toxicity Assay Kits monitor in vivo toxicity by measuring liver and heart function in serum samples. These simple and convenient tests allow the rapid, colorimetirc determination of well-characterized functional markers of liver and heart toxicity. They can be used to monitor toxic effects caused by administration of small-interfering RNA, DNA plasmids, transfection agents, or other therapeutic treatments during preclinical studies. The assays can be used in a range of mammals, including mice and rats, providing a powerful tool to assess and reduce the toxicity of drug formulations and to improve drug delivery methods.  Bioo Scientific  For info: 512-707-8993 www.biooscientific.com The Protein Fractionation Kit enables the stepwise separation and preparation of cytoplasmic, membrane, nuclear soluble, chromatin-bound, and cytoskeletal protein extracts from mammalian cultured cells or tissue for protein localization studies or enrichment of specific cellular compartments. The simple protocol is completed in less than three hours and requires no ultracentrifugation over gradients during any of the steps. The subcellular extracts obtained are compatible with a variety of downstream applications, including protein assays, protein immunoblotting, electrophoretic mobility assays, and enzyme activity assays. The kit includes four extraction buffers, a stabilized nuclease, and the Halt Protease Inhibitor Cocktail.  Thermo Fisher Scientific  For info: 815-968-0747 www.thermo.com/pierce Gyrolab xP is a second generation of a platform for miniaturized protein quantification at all stages of drug development. The system offers enhanced ease-of-use,21 CFR part 11 compliance, and extended validation support for smooth implementation in good laboratory practice–regulated environments.  Gyros  For info: +46-18-56-64-00 www.gyros.com The AllostericProfiler service is aimed at researchers developing new drugs using G-protein coupled receptors (GPCRs). The service provides drug developers with cell-based assays to evaluate the functional selectivity of drugs against GPCRs. Although 40 percent of all marketed drugs are targeted to GPCRs, the similarity of GPCR binding sites coupled with saturated intellectual property around this chemical space have hampered GPCR drug discovery efforts. Increasingly, drug makers are instead focusing on novel allosteric GPCR sites to open up new chemical spaces, and this service is designed to help in that effort. The service allows researchers to screen the selectivity of their allosteric compounds for more than 150 GPCRs. Millipore can also provide custom services to help researchers identify new positive allosteric modulators of a GPCR target of interest.  Millipore  For info: 800-548-7853 www.millipore.com/gpcr The AutoloopPRO is a fully automatic carousel for flame sterilizing inoculation loops. The stable housing of the AutoloopPRO enables comfortable and easy access to inoculation loops. Removal positions on both sides make the carousel equally suitable for right- and left-handers. It can be used with up to four inoculation loops. Flaming and cooling time can be adjusted to the second. The carousel rotates and controls flaming automatically. It is fabricated of stainless steel and anodized aluminum and features a graphic display protected by heat-resistant glass.  WLD-TEC  For info: +49-(0)-551-793789 www.WLD-TEC.com The Stacis FP active vibration cancellation floor platform system is designed for use with scanning electron microscopes (SEMs). It features subhertz vibration cancellation in an active hard-mount floor platform that fits most commercial SEMs. SEMs generally incorporate an internal vibration isolation system, and Stacis FP is compatible with all of them. The system is only seven inches tall, measures three inches by 40 inches, weighs less than 400 pounds, and can support 2,500 pounds or more with no soft air suspension. It is available with three or six degrees of freedom.  Technical Manufacturing Corporation For info: 978-532-6330  www.techmfg.com Electronically submit your new product description or product literature information! Go to www.sciencemag.org/products/newproducts.dtl for more information. Newly offered instrumentation, apparatus, and laboratory materials of interest to researchers in all disciplines in academic, industrial, and governmental organizations are featured in this space. Emphasis is given to purpose, chief characteristics, and availabilty of products and materials. Endorsement by Science or AAAS of any products or materials mentioned is not implied. Additional information may be obtained from the manufacturer or supplier. A weekly roundup of information on newly offered instrumentation, apparatus, and laboratory materials of potential interest to researchers. A weekly roundup of information on newly offered instrumentation, apparatus, and laboratory materials of potential interest to researchers. ',\n",
       " 'pdfLink': 'http://science.sciencemag.org/content/327/5961/100.1.full.pdf'}"
      ]
     },
     "execution_count": 144,
     "metadata": {},
     "output_type": "execute_result"
    }
   ],
   "source": [
    "json_index['id'][0]"
   ]
  },
  {
   "cell_type": "code",
   "execution_count": 212,
   "metadata": {
    "collapsed": true
   },
   "outputs": [],
   "source": [
    "with open('../data/json/metadata.json','w',encoding='utf-8') as json_file:\n",
    "    json.dump(json_index, json_file)"
   ]
  },
  {
   "cell_type": "code",
   "execution_count": 173,
   "metadata": {
    "collapsed": true
   },
   "outputs": [],
   "source": [
    "with open(\"../data/json/metadata.json\",'r',encoding='utf-8') as json_file:\n",
    "    p = json.load(json_file)"
   ]
  },
  {
   "cell_type": "code",
   "execution_count": 8,
   "metadata": {
    "collapsed": false
   },
   "outputs": [
    {
     "data": {
      "text/plain": [
       "dict_keys(['category', 'type', 'publisher', 'author', 'institution', 'year', 'authorWords', 'institutionWords', 'textWords', 'titleWords', 'publisherWords', 'id', 'authorInstitution', 'catesearch'])"
      ]
     },
     "execution_count": 8,
     "metadata": {},
     "output_type": "execute_result"
    }
   ],
   "source": [
    "p.keys()"
   ]
  },
  {
   "cell_type": "code",
   "execution_count": 9,
   "metadata": {
    "collapsed": false
   },
   "outputs": [
    {
     "data": {
      "text/plain": [
       "<Response [200]>"
      ]
     },
     "execution_count": 9,
     "metadata": {},
     "output_type": "execute_result"
    }
   ],
   "source": [
    "import requests\n",
    "requests.put('https://inf551-project-f33cc.firebaseio.com/metadata1.json', json.dumps(p))"
   ]
  },
  {
   "cell_type": "code",
   "execution_count": 210,
   "metadata": {
    "collapsed": false
   },
   "outputs": [
    {
     "name": "stdout",
     "output_type": "stream",
     "text": [
      "Editors' Choice\n"
     ]
    }
   ],
   "source": [
    "for s in ['category', 'type', 'publisher', 'author', 'institution', 'year', 'authorWords', 'institutionWords', 'textWords', 'titleWords', 'publisherWords']:\n",
    "    for word in json_index[s].keys():\n",
    "        if re.findall('[^a-zA-Z0-9 ]',word):\n",
    "            print( word)"
   ]
  },
  {
   "cell_type": "code",
   "execution_count": 178,
   "metadata": {
    "collapsed": false
   },
   "outputs": [
    {
     "data": {
      "text/plain": [
       "[]"
      ]
     },
     "execution_count": 178,
     "metadata": {},
     "output_type": "execute_result"
    }
   ],
   "source": [
    "re.findall('[^a-z]','pedro')"
   ]
  },
  {
   "cell_type": "code",
   "execution_count": 3,
   "metadata": {
    "collapsed": false
   },
   "outputs": [
    {
     "ename": "KeyboardInterrupt",
     "evalue": "",
     "output_type": "error",
     "traceback": [
      "\u001b[0;31m---------------------------------------------------------------------------\u001b[0m",
      "\u001b[0;31mTypeError\u001b[0m                                 Traceback (most recent call last)",
      "\u001b[0;32m/Users/wangyuhan/anaconda/lib/python3.6/site-packages/requests/packages/urllib3/connectionpool.py\u001b[0m in \u001b[0;36m_make_request\u001b[0;34m(self, conn, method, url, timeout, chunked, **httplib_request_kw)\u001b[0m\n\u001b[1;32m    383\u001b[0m             \u001b[0;32mtry\u001b[0m\u001b[0;34m:\u001b[0m  \u001b[0;31m# Python 2.7, use buffering of HTTP responses\u001b[0m\u001b[0;34m\u001b[0m\u001b[0m\n\u001b[0;32m--> 384\u001b[0;31m                 \u001b[0mhttplib_response\u001b[0m \u001b[0;34m=\u001b[0m \u001b[0mconn\u001b[0m\u001b[0;34m.\u001b[0m\u001b[0mgetresponse\u001b[0m\u001b[0;34m(\u001b[0m\u001b[0mbuffering\u001b[0m\u001b[0;34m=\u001b[0m\u001b[0;32mTrue\u001b[0m\u001b[0;34m)\u001b[0m\u001b[0;34m\u001b[0m\u001b[0m\n\u001b[0m\u001b[1;32m    385\u001b[0m             \u001b[0;32mexcept\u001b[0m \u001b[0mTypeError\u001b[0m\u001b[0;34m:\u001b[0m  \u001b[0;31m# Python 2.6 and older, Python 3\u001b[0m\u001b[0;34m\u001b[0m\u001b[0m\n",
      "\u001b[0;31mTypeError\u001b[0m: getresponse() got an unexpected keyword argument 'buffering'",
      "\nDuring handling of the above exception, another exception occurred:\n",
      "\u001b[0;31mKeyboardInterrupt\u001b[0m                         Traceback (most recent call last)",
      "\u001b[0;32m<ipython-input-3-15a80771b622>\u001b[0m in \u001b[0;36m<module>\u001b[0;34m()\u001b[0m\n\u001b[0;32m----> 1\u001b[0;31m \u001b[0mrequests\u001b[0m\u001b[0;34m.\u001b[0m\u001b[0mget\u001b[0m\u001b[0;34m(\u001b[0m\u001b[0;34m'https://inf551-project-f33cc.firebaseio.com/author.json'\u001b[0m\u001b[0;34m)\u001b[0m\u001b[0;34m.\u001b[0m\u001b[0mjson\u001b[0m\u001b[0;34m(\u001b[0m\u001b[0;34m)\u001b[0m\u001b[0;34m\u001b[0m\u001b[0m\n\u001b[0m",
      "\u001b[0;32m/Users/wangyuhan/anaconda/lib/python3.6/site-packages/requests/api.py\u001b[0m in \u001b[0;36mget\u001b[0;34m(url, params, **kwargs)\u001b[0m\n\u001b[1;32m     68\u001b[0m \u001b[0;34m\u001b[0m\u001b[0m\n\u001b[1;32m     69\u001b[0m     \u001b[0mkwargs\u001b[0m\u001b[0;34m.\u001b[0m\u001b[0msetdefault\u001b[0m\u001b[0;34m(\u001b[0m\u001b[0;34m'allow_redirects'\u001b[0m\u001b[0;34m,\u001b[0m \u001b[0;32mTrue\u001b[0m\u001b[0;34m)\u001b[0m\u001b[0;34m\u001b[0m\u001b[0m\n\u001b[0;32m---> 70\u001b[0;31m     \u001b[0;32mreturn\u001b[0m \u001b[0mrequest\u001b[0m\u001b[0;34m(\u001b[0m\u001b[0;34m'get'\u001b[0m\u001b[0;34m,\u001b[0m \u001b[0murl\u001b[0m\u001b[0;34m,\u001b[0m \u001b[0mparams\u001b[0m\u001b[0;34m=\u001b[0m\u001b[0mparams\u001b[0m\u001b[0;34m,\u001b[0m \u001b[0;34m**\u001b[0m\u001b[0mkwargs\u001b[0m\u001b[0;34m)\u001b[0m\u001b[0;34m\u001b[0m\u001b[0m\n\u001b[0m\u001b[1;32m     71\u001b[0m \u001b[0;34m\u001b[0m\u001b[0m\n\u001b[1;32m     72\u001b[0m \u001b[0;34m\u001b[0m\u001b[0m\n",
      "\u001b[0;32m/Users/wangyuhan/anaconda/lib/python3.6/site-packages/requests/api.py\u001b[0m in \u001b[0;36mrequest\u001b[0;34m(method, url, **kwargs)\u001b[0m\n\u001b[1;32m     54\u001b[0m     \u001b[0;31m# cases, and look like a memory leak in others.\u001b[0m\u001b[0;34m\u001b[0m\u001b[0;34m\u001b[0m\u001b[0m\n\u001b[1;32m     55\u001b[0m     \u001b[0;32mwith\u001b[0m \u001b[0msessions\u001b[0m\u001b[0;34m.\u001b[0m\u001b[0mSession\u001b[0m\u001b[0;34m(\u001b[0m\u001b[0;34m)\u001b[0m \u001b[0;32mas\u001b[0m \u001b[0msession\u001b[0m\u001b[0;34m:\u001b[0m\u001b[0;34m\u001b[0m\u001b[0m\n\u001b[0;32m---> 56\u001b[0;31m         \u001b[0;32mreturn\u001b[0m \u001b[0msession\u001b[0m\u001b[0;34m.\u001b[0m\u001b[0mrequest\u001b[0m\u001b[0;34m(\u001b[0m\u001b[0mmethod\u001b[0m\u001b[0;34m=\u001b[0m\u001b[0mmethod\u001b[0m\u001b[0;34m,\u001b[0m \u001b[0murl\u001b[0m\u001b[0;34m=\u001b[0m\u001b[0murl\u001b[0m\u001b[0;34m,\u001b[0m \u001b[0;34m**\u001b[0m\u001b[0mkwargs\u001b[0m\u001b[0;34m)\u001b[0m\u001b[0;34m\u001b[0m\u001b[0m\n\u001b[0m\u001b[1;32m     57\u001b[0m \u001b[0;34m\u001b[0m\u001b[0m\n\u001b[1;32m     58\u001b[0m \u001b[0;34m\u001b[0m\u001b[0m\n",
      "\u001b[0;32m/Users/wangyuhan/anaconda/lib/python3.6/site-packages/requests/sessions.py\u001b[0m in \u001b[0;36mrequest\u001b[0;34m(self, method, url, params, data, headers, cookies, files, auth, timeout, allow_redirects, proxies, hooks, stream, verify, cert, json)\u001b[0m\n\u001b[1;32m    486\u001b[0m         }\n\u001b[1;32m    487\u001b[0m         \u001b[0msend_kwargs\u001b[0m\u001b[0;34m.\u001b[0m\u001b[0mupdate\u001b[0m\u001b[0;34m(\u001b[0m\u001b[0msettings\u001b[0m\u001b[0;34m)\u001b[0m\u001b[0;34m\u001b[0m\u001b[0m\n\u001b[0;32m--> 488\u001b[0;31m         \u001b[0mresp\u001b[0m \u001b[0;34m=\u001b[0m \u001b[0mself\u001b[0m\u001b[0;34m.\u001b[0m\u001b[0msend\u001b[0m\u001b[0;34m(\u001b[0m\u001b[0mprep\u001b[0m\u001b[0;34m,\u001b[0m \u001b[0;34m**\u001b[0m\u001b[0msend_kwargs\u001b[0m\u001b[0;34m)\u001b[0m\u001b[0;34m\u001b[0m\u001b[0m\n\u001b[0m\u001b[1;32m    489\u001b[0m \u001b[0;34m\u001b[0m\u001b[0m\n\u001b[1;32m    490\u001b[0m         \u001b[0;32mreturn\u001b[0m \u001b[0mresp\u001b[0m\u001b[0;34m\u001b[0m\u001b[0m\n",
      "\u001b[0;32m/Users/wangyuhan/anaconda/lib/python3.6/site-packages/requests/sessions.py\u001b[0m in \u001b[0;36msend\u001b[0;34m(self, request, **kwargs)\u001b[0m\n\u001b[1;32m    607\u001b[0m \u001b[0;34m\u001b[0m\u001b[0m\n\u001b[1;32m    608\u001b[0m         \u001b[0;31m# Send the request\u001b[0m\u001b[0;34m\u001b[0m\u001b[0;34m\u001b[0m\u001b[0m\n\u001b[0;32m--> 609\u001b[0;31m         \u001b[0mr\u001b[0m \u001b[0;34m=\u001b[0m \u001b[0madapter\u001b[0m\u001b[0;34m.\u001b[0m\u001b[0msend\u001b[0m\u001b[0;34m(\u001b[0m\u001b[0mrequest\u001b[0m\u001b[0;34m,\u001b[0m \u001b[0;34m**\u001b[0m\u001b[0mkwargs\u001b[0m\u001b[0;34m)\u001b[0m\u001b[0;34m\u001b[0m\u001b[0m\n\u001b[0m\u001b[1;32m    610\u001b[0m \u001b[0;34m\u001b[0m\u001b[0m\n\u001b[1;32m    611\u001b[0m         \u001b[0;31m# Total elapsed time of the request (approximately)\u001b[0m\u001b[0;34m\u001b[0m\u001b[0;34m\u001b[0m\u001b[0m\n",
      "\u001b[0;32m/Users/wangyuhan/anaconda/lib/python3.6/site-packages/requests/adapters.py\u001b[0m in \u001b[0;36msend\u001b[0;34m(self, request, stream, timeout, verify, cert, proxies)\u001b[0m\n\u001b[1;32m    421\u001b[0m                     \u001b[0mdecode_content\u001b[0m\u001b[0;34m=\u001b[0m\u001b[0;32mFalse\u001b[0m\u001b[0;34m,\u001b[0m\u001b[0;34m\u001b[0m\u001b[0m\n\u001b[1;32m    422\u001b[0m                     \u001b[0mretries\u001b[0m\u001b[0;34m=\u001b[0m\u001b[0mself\u001b[0m\u001b[0;34m.\u001b[0m\u001b[0mmax_retries\u001b[0m\u001b[0;34m,\u001b[0m\u001b[0;34m\u001b[0m\u001b[0m\n\u001b[0;32m--> 423\u001b[0;31m                     \u001b[0mtimeout\u001b[0m\u001b[0;34m=\u001b[0m\u001b[0mtimeout\u001b[0m\u001b[0;34m\u001b[0m\u001b[0m\n\u001b[0m\u001b[1;32m    424\u001b[0m                 )\n\u001b[1;32m    425\u001b[0m \u001b[0;34m\u001b[0m\u001b[0m\n",
      "\u001b[0;32m/Users/wangyuhan/anaconda/lib/python3.6/site-packages/requests/packages/urllib3/connectionpool.py\u001b[0m in \u001b[0;36murlopen\u001b[0;34m(self, method, url, body, headers, retries, redirect, assert_same_host, timeout, pool_timeout, release_conn, chunked, **response_kw)\u001b[0m\n\u001b[1;32m    592\u001b[0m                                                   \u001b[0mtimeout\u001b[0m\u001b[0;34m=\u001b[0m\u001b[0mtimeout_obj\u001b[0m\u001b[0;34m,\u001b[0m\u001b[0;34m\u001b[0m\u001b[0m\n\u001b[1;32m    593\u001b[0m                                                   \u001b[0mbody\u001b[0m\u001b[0;34m=\u001b[0m\u001b[0mbody\u001b[0m\u001b[0;34m,\u001b[0m \u001b[0mheaders\u001b[0m\u001b[0;34m=\u001b[0m\u001b[0mheaders\u001b[0m\u001b[0;34m,\u001b[0m\u001b[0;34m\u001b[0m\u001b[0m\n\u001b[0;32m--> 594\u001b[0;31m                                                   chunked=chunked)\n\u001b[0m\u001b[1;32m    595\u001b[0m \u001b[0;34m\u001b[0m\u001b[0m\n\u001b[1;32m    596\u001b[0m             \u001b[0;31m# If we're going to release the connection in ``finally:``, then\u001b[0m\u001b[0;34m\u001b[0m\u001b[0;34m\u001b[0m\u001b[0m\n",
      "\u001b[0;32m/Users/wangyuhan/anaconda/lib/python3.6/site-packages/requests/packages/urllib3/connectionpool.py\u001b[0m in \u001b[0;36m_make_request\u001b[0;34m(self, conn, method, url, timeout, chunked, **httplib_request_kw)\u001b[0m\n\u001b[1;32m    385\u001b[0m             \u001b[0;32mexcept\u001b[0m \u001b[0mTypeError\u001b[0m\u001b[0;34m:\u001b[0m  \u001b[0;31m# Python 2.6 and older, Python 3\u001b[0m\u001b[0;34m\u001b[0m\u001b[0m\n\u001b[1;32m    386\u001b[0m                 \u001b[0;32mtry\u001b[0m\u001b[0;34m:\u001b[0m\u001b[0;34m\u001b[0m\u001b[0m\n\u001b[0;32m--> 387\u001b[0;31m                     \u001b[0mhttplib_response\u001b[0m \u001b[0;34m=\u001b[0m \u001b[0mconn\u001b[0m\u001b[0;34m.\u001b[0m\u001b[0mgetresponse\u001b[0m\u001b[0;34m(\u001b[0m\u001b[0;34m)\u001b[0m\u001b[0;34m\u001b[0m\u001b[0m\n\u001b[0m\u001b[1;32m    388\u001b[0m                 \u001b[0;32mexcept\u001b[0m \u001b[0mException\u001b[0m \u001b[0;32mas\u001b[0m \u001b[0me\u001b[0m\u001b[0;34m:\u001b[0m\u001b[0;34m\u001b[0m\u001b[0m\n\u001b[1;32m    389\u001b[0m                     \u001b[0;31m# Remove the TypeError from the exception chain in Python 3;\u001b[0m\u001b[0;34m\u001b[0m\u001b[0;34m\u001b[0m\u001b[0m\n",
      "\u001b[0;32m/Users/wangyuhan/anaconda/lib/python3.6/http/client.py\u001b[0m in \u001b[0;36mgetresponse\u001b[0;34m(self)\u001b[0m\n\u001b[1;32m   1329\u001b[0m         \u001b[0;32mtry\u001b[0m\u001b[0;34m:\u001b[0m\u001b[0;34m\u001b[0m\u001b[0m\n\u001b[1;32m   1330\u001b[0m             \u001b[0;32mtry\u001b[0m\u001b[0;34m:\u001b[0m\u001b[0;34m\u001b[0m\u001b[0m\n\u001b[0;32m-> 1331\u001b[0;31m                 \u001b[0mresponse\u001b[0m\u001b[0;34m.\u001b[0m\u001b[0mbegin\u001b[0m\u001b[0;34m(\u001b[0m\u001b[0;34m)\u001b[0m\u001b[0;34m\u001b[0m\u001b[0m\n\u001b[0m\u001b[1;32m   1332\u001b[0m             \u001b[0;32mexcept\u001b[0m \u001b[0mConnectionError\u001b[0m\u001b[0;34m:\u001b[0m\u001b[0;34m\u001b[0m\u001b[0m\n\u001b[1;32m   1333\u001b[0m                 \u001b[0mself\u001b[0m\u001b[0;34m.\u001b[0m\u001b[0mclose\u001b[0m\u001b[0;34m(\u001b[0m\u001b[0;34m)\u001b[0m\u001b[0;34m\u001b[0m\u001b[0m\n",
      "\u001b[0;32m/Users/wangyuhan/anaconda/lib/python3.6/http/client.py\u001b[0m in \u001b[0;36mbegin\u001b[0;34m(self)\u001b[0m\n\u001b[1;32m    295\u001b[0m         \u001b[0;31m# read until we get a non-100 response\u001b[0m\u001b[0;34m\u001b[0m\u001b[0;34m\u001b[0m\u001b[0m\n\u001b[1;32m    296\u001b[0m         \u001b[0;32mwhile\u001b[0m \u001b[0;32mTrue\u001b[0m\u001b[0;34m:\u001b[0m\u001b[0;34m\u001b[0m\u001b[0m\n\u001b[0;32m--> 297\u001b[0;31m             \u001b[0mversion\u001b[0m\u001b[0;34m,\u001b[0m \u001b[0mstatus\u001b[0m\u001b[0;34m,\u001b[0m \u001b[0mreason\u001b[0m \u001b[0;34m=\u001b[0m \u001b[0mself\u001b[0m\u001b[0;34m.\u001b[0m\u001b[0m_read_status\u001b[0m\u001b[0;34m(\u001b[0m\u001b[0;34m)\u001b[0m\u001b[0;34m\u001b[0m\u001b[0m\n\u001b[0m\u001b[1;32m    298\u001b[0m             \u001b[0;32mif\u001b[0m \u001b[0mstatus\u001b[0m \u001b[0;34m!=\u001b[0m \u001b[0mCONTINUE\u001b[0m\u001b[0;34m:\u001b[0m\u001b[0;34m\u001b[0m\u001b[0m\n\u001b[1;32m    299\u001b[0m                 \u001b[0;32mbreak\u001b[0m\u001b[0;34m\u001b[0m\u001b[0m\n",
      "\u001b[0;32m/Users/wangyuhan/anaconda/lib/python3.6/http/client.py\u001b[0m in \u001b[0;36m_read_status\u001b[0;34m(self)\u001b[0m\n\u001b[1;32m    256\u001b[0m \u001b[0;34m\u001b[0m\u001b[0m\n\u001b[1;32m    257\u001b[0m     \u001b[0;32mdef\u001b[0m \u001b[0m_read_status\u001b[0m\u001b[0;34m(\u001b[0m\u001b[0mself\u001b[0m\u001b[0;34m)\u001b[0m\u001b[0;34m:\u001b[0m\u001b[0;34m\u001b[0m\u001b[0m\n\u001b[0;32m--> 258\u001b[0;31m         \u001b[0mline\u001b[0m \u001b[0;34m=\u001b[0m \u001b[0mstr\u001b[0m\u001b[0;34m(\u001b[0m\u001b[0mself\u001b[0m\u001b[0;34m.\u001b[0m\u001b[0mfp\u001b[0m\u001b[0;34m.\u001b[0m\u001b[0mreadline\u001b[0m\u001b[0;34m(\u001b[0m\u001b[0m_MAXLINE\u001b[0m \u001b[0;34m+\u001b[0m \u001b[0;36m1\u001b[0m\u001b[0;34m)\u001b[0m\u001b[0;34m,\u001b[0m \u001b[0;34m\"iso-8859-1\"\u001b[0m\u001b[0;34m)\u001b[0m\u001b[0;34m\u001b[0m\u001b[0m\n\u001b[0m\u001b[1;32m    259\u001b[0m         \u001b[0;32mif\u001b[0m \u001b[0mlen\u001b[0m\u001b[0;34m(\u001b[0m\u001b[0mline\u001b[0m\u001b[0;34m)\u001b[0m \u001b[0;34m>\u001b[0m \u001b[0m_MAXLINE\u001b[0m\u001b[0;34m:\u001b[0m\u001b[0;34m\u001b[0m\u001b[0m\n\u001b[1;32m    260\u001b[0m             \u001b[0;32mraise\u001b[0m \u001b[0mLineTooLong\u001b[0m\u001b[0;34m(\u001b[0m\u001b[0;34m\"status line\"\u001b[0m\u001b[0;34m)\u001b[0m\u001b[0;34m\u001b[0m\u001b[0m\n",
      "\u001b[0;32m/Users/wangyuhan/anaconda/lib/python3.6/socket.py\u001b[0m in \u001b[0;36mreadinto\u001b[0;34m(self, b)\u001b[0m\n\u001b[1;32m    584\u001b[0m         \u001b[0;32mwhile\u001b[0m \u001b[0;32mTrue\u001b[0m\u001b[0;34m:\u001b[0m\u001b[0;34m\u001b[0m\u001b[0m\n\u001b[1;32m    585\u001b[0m             \u001b[0;32mtry\u001b[0m\u001b[0;34m:\u001b[0m\u001b[0;34m\u001b[0m\u001b[0m\n\u001b[0;32m--> 586\u001b[0;31m                 \u001b[0;32mreturn\u001b[0m \u001b[0mself\u001b[0m\u001b[0;34m.\u001b[0m\u001b[0m_sock\u001b[0m\u001b[0;34m.\u001b[0m\u001b[0mrecv_into\u001b[0m\u001b[0;34m(\u001b[0m\u001b[0mb\u001b[0m\u001b[0;34m)\u001b[0m\u001b[0;34m\u001b[0m\u001b[0m\n\u001b[0m\u001b[1;32m    587\u001b[0m             \u001b[0;32mexcept\u001b[0m \u001b[0mtimeout\u001b[0m\u001b[0;34m:\u001b[0m\u001b[0;34m\u001b[0m\u001b[0m\n\u001b[1;32m    588\u001b[0m                 \u001b[0mself\u001b[0m\u001b[0;34m.\u001b[0m\u001b[0m_timeout_occurred\u001b[0m \u001b[0;34m=\u001b[0m \u001b[0;32mTrue\u001b[0m\u001b[0;34m\u001b[0m\u001b[0m\n",
      "\u001b[0;32m/Users/wangyuhan/anaconda/lib/python3.6/site-packages/requests/packages/urllib3/contrib/pyopenssl.py\u001b[0m in \u001b[0;36mrecv_into\u001b[0;34m(self, *args, **kwargs)\u001b[0m\n\u001b[1;32m    254\u001b[0m     \u001b[0;32mdef\u001b[0m \u001b[0mrecv_into\u001b[0m\u001b[0;34m(\u001b[0m\u001b[0mself\u001b[0m\u001b[0;34m,\u001b[0m \u001b[0;34m*\u001b[0m\u001b[0margs\u001b[0m\u001b[0;34m,\u001b[0m \u001b[0;34m**\u001b[0m\u001b[0mkwargs\u001b[0m\u001b[0;34m)\u001b[0m\u001b[0;34m:\u001b[0m\u001b[0;34m\u001b[0m\u001b[0m\n\u001b[1;32m    255\u001b[0m         \u001b[0;32mtry\u001b[0m\u001b[0;34m:\u001b[0m\u001b[0;34m\u001b[0m\u001b[0m\n\u001b[0;32m--> 256\u001b[0;31m             \u001b[0;32mreturn\u001b[0m \u001b[0mself\u001b[0m\u001b[0;34m.\u001b[0m\u001b[0mconnection\u001b[0m\u001b[0;34m.\u001b[0m\u001b[0mrecv_into\u001b[0m\u001b[0;34m(\u001b[0m\u001b[0;34m*\u001b[0m\u001b[0margs\u001b[0m\u001b[0;34m,\u001b[0m \u001b[0;34m**\u001b[0m\u001b[0mkwargs\u001b[0m\u001b[0;34m)\u001b[0m\u001b[0;34m\u001b[0m\u001b[0m\n\u001b[0m\u001b[1;32m    257\u001b[0m         \u001b[0;32mexcept\u001b[0m \u001b[0mOpenSSL\u001b[0m\u001b[0;34m.\u001b[0m\u001b[0mSSL\u001b[0m\u001b[0;34m.\u001b[0m\u001b[0mSysCallError\u001b[0m \u001b[0;32mas\u001b[0m \u001b[0me\u001b[0m\u001b[0;34m:\u001b[0m\u001b[0;34m\u001b[0m\u001b[0m\n\u001b[1;32m    258\u001b[0m             \u001b[0;32mif\u001b[0m \u001b[0mself\u001b[0m\u001b[0;34m.\u001b[0m\u001b[0msuppress_ragged_eofs\u001b[0m \u001b[0;32mand\u001b[0m \u001b[0me\u001b[0m\u001b[0;34m.\u001b[0m\u001b[0margs\u001b[0m \u001b[0;34m==\u001b[0m \u001b[0;34m(\u001b[0m\u001b[0;34m-\u001b[0m\u001b[0;36m1\u001b[0m\u001b[0;34m,\u001b[0m \u001b[0;34m'Unexpected EOF'\u001b[0m\u001b[0;34m)\u001b[0m\u001b[0;34m:\u001b[0m\u001b[0;34m\u001b[0m\u001b[0m\n",
      "\u001b[0;32m/Users/wangyuhan/anaconda/lib/python3.6/site-packages/OpenSSL/SSL.py\u001b[0m in \u001b[0;36mrecv_into\u001b[0;34m(self, buffer, nbytes, flags)\u001b[0m\n\u001b[1;32m   1332\u001b[0m             \u001b[0mresult\u001b[0m \u001b[0;34m=\u001b[0m \u001b[0m_lib\u001b[0m\u001b[0;34m.\u001b[0m\u001b[0mSSL_peek\u001b[0m\u001b[0;34m(\u001b[0m\u001b[0mself\u001b[0m\u001b[0;34m.\u001b[0m\u001b[0m_ssl\u001b[0m\u001b[0;34m,\u001b[0m \u001b[0mbuf\u001b[0m\u001b[0;34m,\u001b[0m \u001b[0mnbytes\u001b[0m\u001b[0;34m)\u001b[0m\u001b[0;34m\u001b[0m\u001b[0m\n\u001b[1;32m   1333\u001b[0m         \u001b[0;32melse\u001b[0m\u001b[0;34m:\u001b[0m\u001b[0;34m\u001b[0m\u001b[0m\n\u001b[0;32m-> 1334\u001b[0;31m             \u001b[0mresult\u001b[0m \u001b[0;34m=\u001b[0m \u001b[0m_lib\u001b[0m\u001b[0;34m.\u001b[0m\u001b[0mSSL_read\u001b[0m\u001b[0;34m(\u001b[0m\u001b[0mself\u001b[0m\u001b[0;34m.\u001b[0m\u001b[0m_ssl\u001b[0m\u001b[0;34m,\u001b[0m \u001b[0mbuf\u001b[0m\u001b[0;34m,\u001b[0m \u001b[0mnbytes\u001b[0m\u001b[0;34m)\u001b[0m\u001b[0;34m\u001b[0m\u001b[0m\n\u001b[0m\u001b[1;32m   1335\u001b[0m         \u001b[0mself\u001b[0m\u001b[0;34m.\u001b[0m\u001b[0m_raise_ssl_error\u001b[0m\u001b[0;34m(\u001b[0m\u001b[0mself\u001b[0m\u001b[0;34m.\u001b[0m\u001b[0m_ssl\u001b[0m\u001b[0;34m,\u001b[0m \u001b[0mresult\u001b[0m\u001b[0;34m)\u001b[0m\u001b[0;34m\u001b[0m\u001b[0m\n\u001b[1;32m   1336\u001b[0m \u001b[0;34m\u001b[0m\u001b[0m\n",
      "\u001b[0;31mKeyboardInterrupt\u001b[0m: "
     ]
    }
   ],
   "source": [
    "requests.get('https://inf551-project-f33cc.firebaseio.com/author.json').json()"
   ]
  },
  {
   "cell_type": "code",
   "execution_count": 3,
   "metadata": {
    "collapsed": true
   },
   "outputs": [],
   "source": [
    "with open(\"./data/json/metadata.json\",'r',encoding='utf-8') as json_file:\n",
    "    p = json.load(json_file)\n",
    "\n",
    "g= {}\n",
    "for c in p['id']:\n",
    "    key = p['id'][c]['type'].replace(' ','').lower()\n",
    "    if key not in g:\n",
    "        g[key] = [int(c)]\n",
    "    else:\n",
    "        g[key].append(int(c))\n",
    "\n",
    "p['catesearch'] = g"
   ]
  },
  {
   "cell_type": "code",
   "execution_count": 8,
   "metadata": {
    "collapsed": false
   },
   "outputs": [
    {
     "data": {
      "text/plain": [
       "dict_keys(['category', 'type', 'publisher', 'author', 'institution', 'year', 'authorWords', 'institutionWords', 'textWords', 'titleWords', 'publisherWords', 'id', 'authorInstitution', 'catesearch'])"
      ]
     },
     "execution_count": 8,
     "metadata": {},
     "output_type": "execute_result"
    }
   ],
   "source": [
    "p.keys()"
   ]
  },
  {
   "cell_type": "code",
   "execution_count": 10,
   "metadata": {
    "collapsed": false
   },
   "outputs": [],
   "source": [
    "with open('./data/json/metadata.json','w',encoding='utf-8') as json_file:\n",
    "    json.dump(p, json_file)"
   ]
  },
  {
   "cell_type": "code",
   "execution_count": 5,
   "metadata": {
    "collapsed": false
   },
   "outputs": [],
   "source": [
    "ks = ['category', 'type', 'publisher', 'author', 'institution', 'year', 'authorWords',\n",
    "      'institutionWords', 'textWords', 'titleWords', 'publisherWords','authorInstitution', 'catesearch']\n",
    "for k1 in ks:\n",
    "    for k2 in p[k1]:\n",
    "        p[k1][k2] = list(set(p[k1][k2]))"
   ]
  },
  {
   "cell_type": "code",
   "execution_count": 11,
   "metadata": {
    "collapsed": false
   },
   "outputs": [],
   "source": [
    "with open(\"./data/json/metadata.json\",'r',encoding='utf-8') as json_file:\n",
    "    p = json.load(json_file)"
   ]
  },
  {
   "cell_type": "code",
   "execution_count": 15,
   "metadata": {
    "collapsed": false
   },
   "outputs": [
    {
     "data": {
      "text/plain": [
       "{'author': ['Robert Bridson', 'Christopher Batty'],\n",
       " 'authorInstitution': [],\n",
       " 'category': 'Perspective',\n",
       " 'date': '2010/12/24',\n",
       " 'doi': '10.1126/science.1198769',\n",
       " 'imageLink': None,\n",
       " 'pdfLink': 'http://science.sciencemag.org/content/330/6012/1756.full.pdf',\n",
       " 'pptLink': '/content/330/6012/1756.full.txt',\n",
       " 'publisher': 'American Association for the Advancement of Science',\n",
       " 'text': \"Computer simulation of solid and fluid dynamics underlies many visual effects seen in films produced during the past decade. This approach not only is less expensive than filming live action but also can avoid putting actors and crews in dangerous settings and can allow visualization of the impossible. Compared with more traditional animation methods that rely chiefly on artists' efforts, numerical solutions to the equations of physics allow computers to calculate realistic motion, such of that of smoke, fire, explosions, water, rubble, clothing, hair, muscles, and skin. Algorithmic advances now afford artists a higher-level, more efficient role in guiding the physics as they produce animation. We provide an overview here of current challenges in physics-based animation. The movement and collisions of rigid bodies have long been the mainstay of physics-based animation, but modeling and integrating frictional contact remains a serious challenge. Structured stacks of blocks, highly nonconvex geometry, and delicate balances between pressure and friction all can pose torture tests for numerical methods that must exactly balance forces to keep these assemblies stable. Kaufman et al. (1) discuss new methods that use alternating projections (a way to calculate where interactions occur) to solve a constrained optimization formulation of contact. Some objects, such as hair and clothing, are naturally deformable, which complicates the collision problem. In hair simulation, modeling the contacts between individual hairs creates a problem of computational scale. Resolving all of the collisions between the 100,000 hairs on a human head overwhelms brute-force methods. McAdams et al. (2) have taken a multiscale approach by treating hair as a continuum fluid, rather than discrete strands. This approach resolves the motion of the hair as a whole by averaging the motion into a continuous vector field, but truly accurate vector-field equations have yet to be derived. Kaldor et al. (3) have taken the opposite route in clothing simulation. Rather than use models that homogenize the two-dimensional (2D) surface of clothing, they perform a full simulation of every loop and twist in the yarn of knitwear and create subtle behaviors that simpler methods cannot reproduce. However, densely woven fabrics still require more efficient modeling as isometric surfaces, ones that bend but do not stretch or shear. English and Bridson (4) recently resolved the “locking” problem plaguing earlier efforts in which isometry constraints inadvertently prevent the natural bending. Paradoxically, their solution involves allowing holes to open up in the cloth between mesh triangles (the numerical regions into which the surface is decomposed). This finding poses interesting questions in discontinuous geometry, in that the mapping from surface parameters is neither continuous nor differentiable. Volumetric elasticity—handling fully 3D deformation—is used in biomechanical models of the flesh of virtual creatures (5). Studios are rapidly increasing the anatomical detail of their models, from the complexities of muscles and tendons to delicate wrinkles in the skin. The amount of detail in the surface as well as the structures underneath the skin (muscles, tendons, bones, and other organs), and the precise calculation of force response for different materials, all contribute to the ongoing challenge of controlling the motion of characters while making it appear that simulated muscles are doing the work. Objects not only move, they also break. Research efforts in depicting fracture mechanics began with O'Brien and Hodgins's work (6) using remeshing, which improves the geometric fidelity where surfaces break by changing the mesh in that region. More recent techniques embed crack geometry in finite elements models of the mechanics (7, 8). These simulations are still difficult to control and have yet to truly break into film production. Some of the most spectacular examples of physics in film involve fluids, where non-linearities in the underlying Navier-Stokes equations that describe fluid motion lead to accumulation of remarkable geometric complexity. A recent trend for depicting liquids has been the emergence of mesh-based surface tracking. In a preliminary attempt to follow the details of a water surface as closely as possible, Brochu et al. (9), inspired by approaches for cloth collision processing, developed a method that matches the degrees of freedom in the simulation to the geometry of the deforming surface mesh, rather than the other way around. However, the difficulties involved in making this approach truly robust are still daunting; meshes in three dimensions find endless ways to cause numerical and combinatorial troubles. Horvath and Geiger (10) have probably achieved the greatest level of detail yet in fire and smoke with a two-level approach. The hybrid particle-grid method (fluid-implicit particle, or FLIP) (11) provides a high-quality (albeit relatively low resolution) 3D simulation. They use it to guide extremely high-resolution simulations on 2D slices through the volume (oriented to the camera), running in parallel on commodity graphics processing unit (GPU) hardware. This idea of getting the bulk motion from fast, low-resolution simulations and then adding localized detail with secondary simulation is being pursued by many groups, although properly accounting for dynamics within a grid element at low resolutions remains a major hurdle. The problem of scale in general looms large (and small). Consider a ship on a rough sea; the figure shows fairly convincing detail that is achievable on a single workstation today [a full movie clip is available, see (12); a compressed version is available at (13)]. This simulation still falls far short of a shot encompassing stormy waves to the horizon as well as small scales down to the tiny droplets breaking up on the rigging. Brute-force methods of today would require orders of magnitude more computing resources than are available. A simulated ship upon a simulated ocean. Here, the film industry's Naiad software is used to evolve the incompressible Navier-Stokes equations for the water, strongly coupled with the rigid-body dynamics of the longboat, with additional phenomenological simulation of foam and spray. The other performance challenge is increasing speed at the simulation resolutions currently in use. Studios can cope with simulations running overnight, but such time scales do not allow much scope for iterative refinement. When film-quality simulations can run at real-time rates, remarkably more effective artist interaction is possible—not just more design cycles but also experimentation with continuous feedback. With more general simulations emerging that fully couple all of the solid and fluid dynamics mentioned above, we are already beginning to see the advent of “virtual practical effects.” Artists can use their natural intuition about how physics works to build virtual devices to control the virtual world of a shot, rather than awkwardly manipulating parameters in equations. The quality of physics-based animation methods is not simple to evaluate. Ultimately, success is judged by the director, and the worth of the underlying algorithms can be judged by the users based on how well it helps them do their jobs. However, given the time and effort involved in using a new method in production, and the difficulty of creating objective, quantitative metrics, researchers need something better to analyze their efforts. Classic means of evaluating algorithms, such as convergence rates for iterative schemes, have limited use. Qualitatively good results (ones that convince audiences) are usually obtained well before a model simulation converges. Psychophysical results in video compression, for example, also suggest that the mathematically convenient norms commonly used in numerical analysis are not a good match for human-oriented evaluation. Moreover, assessing the errors in underlying models on which algorithms are based is a particular challenge for film. Unlike traditional science, reality does not necessarily provide a ground truth against which film models can be compared. Film production on a set already demands something enhanced beyond reality. Tackling the problem of objective and useful evaluation will likely demand cross-disciplinary efforts in understanding the human perception of complex dynamics. In the short term, success can continue to be judged by increasing calls for “lights, camera, simulation.” Numerical modeling of how objects and fluids move, collide, and break up underlies spellbinding video animations. Numerical modeling of how objects and fluids move, collide, and break up underlies spellbinding video animations. \",\n",
       " 'textLink': '/content/330/6012/1756.full.txt',\n",
       " 'title': 'Computational Physics in Film',\n",
       " 'type': 'Article Commentary'}"
      ]
     },
     "execution_count": 15,
     "metadata": {},
     "output_type": "execute_result"
    }
   ],
   "source": [
    "p['id']['472']"
   ]
  },
  {
   "cell_type": "code",
   "execution_count": null,
   "metadata": {
    "collapsed": true
   },
   "outputs": [],
   "source": []
  }
 ],
 "metadata": {
  "kernelspec": {
   "display_name": "Python 3",
   "language": "python",
   "name": "python3"
  },
  "language_info": {
   "codemirror_mode": {
    "name": "ipython",
    "version": 3
   },
   "file_extension": ".py",
   "mimetype": "text/x-python",
   "name": "python",
   "nbconvert_exporter": "python",
   "pygments_lexer": "ipython3",
   "version": "3.6.0"
  }
 },
 "nbformat": 4,
 "nbformat_minor": 2
}
