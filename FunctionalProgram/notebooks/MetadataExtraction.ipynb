{
 "cells": [
  {
   "cell_type": "code",
   "execution_count": 2,
   "metadata": {
    "collapsed": true
   },
   "outputs": [],
   "source": [
    "import sys\n",
    "import importlib\n",
    "import os\n",
    "from pdfminer.pdfparser import PDFParser,PDFDocument"
   ]
  },
  {
   "cell_type": "code",
   "execution_count": 3,
   "metadata": {
    "collapsed": true
   },
   "outputs": [],
   "source": [
    "file_list = os.listdir(\"data/pdf\")"
   ]
  },
  {
   "cell_type": "code",
   "execution_count": 5,
   "metadata": {
    "collapsed": false,
    "slideshow": {
     "slide_type": "-"
    }
   },
   "outputs": [
    {
     "name": "stdout",
     "output_type": "stream",
     "text": [
      "[{'CreationDate': '', 'Creator': '', 'ModDate': '', 'Producer': '', 'Title': 'A Major Genome Region Underlying Artemisinin Resistance in Malaria', 'Author': b'Ian H. Cheeseman, Becky A. Miller, Shalini Nair, Standwell Nkhoma, Asako Tan, John C. Tan, Salma Al Saai, Aung Pyae, Phyo, Carit Ler Moo, Khin Maung Lwin, Rose McGready, Elizabeth Ashley, Mallika Imwong, Kasia Stepniewska, Poravuth Yi, Arjen M. Dondorp, Mayfong Mayxay, Paul N. Newton, Nicholas J. White, Fran\\xe7ois Nosten, Michael T. Ferdig, Timothy J. C. Anderson', 'Subject': '', 'Keywords': ''}]\n"
     ]
    }
   ],
   "source": [
    "metadata = []\n",
    "for file in file_list:\n",
    "    fp = open('data/pdf/' + file, 'rb')\n",
    "    parser = PDFParser(fp)\n",
    "    doc = PDFDocument()\n",
    "    parser.set_document(doc)\n",
    "    doc.set_parser(parser)\n",
    "    doc.initialize()\n",
    "    metadata.extend(doc.info)\n",
    "    print(doc.info)"
   ]
  },
  {
   "cell_type": "code",
   "execution_count": 9,
   "metadata": {
    "collapsed": false
   },
   "outputs": [
    {
     "name": "stdout",
     "output_type": "stream",
     "text": [
      "[{'CreationDate': 'D:20130311074142Z', 'Creator': '3B2 Total Publishing System 8.07e/W Unicode ', 'ModDate': \"D:20181008173719-07'00'\", 'Producer': 'Acrobat Distiller 5.0 (Windows)', 'Title': '1290 1302..1305'}]\n",
      "[{'CreationDate': 'D:20130311074142Z', 'Creator': '3B2 Total Publishing System 8.07e/W Unicode ', 'ModDate': \"D:20181008173719-07'00'\", 'Producer': 'Acrobat Distiller 5.0 (Windows)', 'Title': '1290 1302..1305'}, {'CreationDate': \"D:20120612073627+08'00'\", 'Creator': '3B2 Total Publishing System 8.07e/W Unicode ', 'ModDate': \"D:20181008172332-07'00'\", 'Producer': 'Acrobat Distiller 5.0 (Windows)', 'Title': '1422 1438..1440'}]\n",
      "[{'CreationDate': 'D:20130311074142Z', 'Creator': '3B2 Total Publishing System 8.07e/W Unicode ', 'ModDate': \"D:20181008173719-07'00'\", 'Producer': 'Acrobat Distiller 5.0 (Windows)', 'Title': '1290 1302..1305'}, {'CreationDate': \"D:20120612073627+08'00'\", 'Creator': '3B2 Total Publishing System 8.07e/W Unicode ', 'ModDate': \"D:20181008172332-07'00'\", 'Producer': 'Acrobat Distiller 5.0 (Windows)', 'Title': '1422 1438..1440'}, {'CreationDate': 'D:20141215150002Z', 'Creator': 'Arbortext Advanced Print Publisher 9.1.440/W Unicode', 'ModDate': \"D:20181008214014-07'00'\", 'Producer': 'Acrobat Distiller 5.0 (Windows)', 'Title': '1480 1480..1486'}]\n",
      "[{'CreationDate': 'D:20130311074142Z', 'Creator': '3B2 Total Publishing System 8.07e/W Unicode ', 'ModDate': \"D:20181008173719-07'00'\", 'Producer': 'Acrobat Distiller 5.0 (Windows)', 'Title': '1290 1302..1305'}, {'CreationDate': \"D:20120612073627+08'00'\", 'Creator': '3B2 Total Publishing System 8.07e/W Unicode ', 'ModDate': \"D:20181008172332-07'00'\", 'Producer': 'Acrobat Distiller 5.0 (Windows)', 'Title': '1422 1438..1440'}, {'CreationDate': 'D:20141215150002Z', 'Creator': 'Arbortext Advanced Print Publisher 9.1.440/W Unicode', 'ModDate': \"D:20181008214014-07'00'\", 'Producer': 'Acrobat Distiller 5.0 (Windows)', 'Title': '1480 1480..1486'}, {'CreationDate': 'D:20110701205641Z', 'Creator': '3B2 Total Publishing System 8.07e/W Unicode ', 'ModDate': \"D:20181008170454-07'00'\", 'Producer': 'Acrobat Distiller 5.0 (Windows)', 'Title': '199 199..202'}]\n",
      "[{'CreationDate': 'D:20130311074142Z', 'Creator': '3B2 Total Publishing System 8.07e/W Unicode ', 'ModDate': \"D:20181008173719-07'00'\", 'Producer': 'Acrobat Distiller 5.0 (Windows)', 'Title': '1290 1302..1305'}, {'CreationDate': \"D:20120612073627+08'00'\", 'Creator': '3B2 Total Publishing System 8.07e/W Unicode ', 'ModDate': \"D:20181008172332-07'00'\", 'Producer': 'Acrobat Distiller 5.0 (Windows)', 'Title': '1422 1438..1440'}, {'CreationDate': 'D:20141215150002Z', 'Creator': 'Arbortext Advanced Print Publisher 9.1.440/W Unicode', 'ModDate': \"D:20181008214014-07'00'\", 'Producer': 'Acrobat Distiller 5.0 (Windows)', 'Title': '1480 1480..1486'}, {'CreationDate': 'D:20110701205641Z', 'Creator': '3B2 Total Publishing System 8.07e/W Unicode ', 'ModDate': \"D:20181008170454-07'00'\", 'Producer': 'Acrobat Distiller 5.0 (Windows)', 'Title': '199 199..202'}, {'CreationDate': 'D:20150223073247Z', 'Creator': 'Arbortext Advanced Print Publisher 9.1.440/W Unicode', 'ModDate': \"D:20181008215433-07'00'\", 'Producer': 'Acrobat Distiller 5.0 (Windows)', 'Title': '1002 1010..1014'}]\n",
      "[{'CreationDate': 'D:20130311074142Z', 'Creator': '3B2 Total Publishing System 8.07e/W Unicode ', 'ModDate': \"D:20181008173719-07'00'\", 'Producer': 'Acrobat Distiller 5.0 (Windows)', 'Title': '1290 1302..1305'}, {'CreationDate': \"D:20120612073627+08'00'\", 'Creator': '3B2 Total Publishing System 8.07e/W Unicode ', 'ModDate': \"D:20181008172332-07'00'\", 'Producer': 'Acrobat Distiller 5.0 (Windows)', 'Title': '1422 1438..1440'}, {'CreationDate': 'D:20141215150002Z', 'Creator': 'Arbortext Advanced Print Publisher 9.1.440/W Unicode', 'ModDate': \"D:20181008214014-07'00'\", 'Producer': 'Acrobat Distiller 5.0 (Windows)', 'Title': '1480 1480..1486'}, {'CreationDate': 'D:20110701205641Z', 'Creator': '3B2 Total Publishing System 8.07e/W Unicode ', 'ModDate': \"D:20181008170454-07'00'\", 'Producer': 'Acrobat Distiller 5.0 (Windows)', 'Title': '199 199..202'}, {'CreationDate': 'D:20150223073247Z', 'Creator': 'Arbortext Advanced Print Publisher 9.1.440/W Unicode', 'ModDate': \"D:20181008215433-07'00'\", 'Producer': 'Acrobat Distiller 5.0 (Windows)', 'Title': '1002 1010..1014'}, {'CreationDate': 'D:20100913023029Z', 'Creator': '3B2 Total Publishing System 8.07e/W Unicode ', 'ModDate': \"D:20181008165433-07'00'\", 'Producer': 'Acrobat Distiller 5.0 (Windows)', 'Title': '1504 1513..1516'}]\n",
      "[{'CreationDate': 'D:20130311074142Z', 'Creator': '3B2 Total Publishing System 8.07e/W Unicode ', 'ModDate': \"D:20181008173719-07'00'\", 'Producer': 'Acrobat Distiller 5.0 (Windows)', 'Title': '1290 1302..1305'}, {'CreationDate': \"D:20120612073627+08'00'\", 'Creator': '3B2 Total Publishing System 8.07e/W Unicode ', 'ModDate': \"D:20181008172332-07'00'\", 'Producer': 'Acrobat Distiller 5.0 (Windows)', 'Title': '1422 1438..1440'}, {'CreationDate': 'D:20141215150002Z', 'Creator': 'Arbortext Advanced Print Publisher 9.1.440/W Unicode', 'ModDate': \"D:20181008214014-07'00'\", 'Producer': 'Acrobat Distiller 5.0 (Windows)', 'Title': '1480 1480..1486'}, {'CreationDate': 'D:20110701205641Z', 'Creator': '3B2 Total Publishing System 8.07e/W Unicode ', 'ModDate': \"D:20181008170454-07'00'\", 'Producer': 'Acrobat Distiller 5.0 (Windows)', 'Title': '199 199..202'}, {'CreationDate': 'D:20150223073247Z', 'Creator': 'Arbortext Advanced Print Publisher 9.1.440/W Unicode', 'ModDate': \"D:20181008215433-07'00'\", 'Producer': 'Acrobat Distiller 5.0 (Windows)', 'Title': '1002 1010..1014'}, {'CreationDate': 'D:20100913023029Z', 'Creator': '3B2 Total Publishing System 8.07e/W Unicode ', 'ModDate': \"D:20181008165433-07'00'\", 'Producer': 'Acrobat Distiller 5.0 (Windows)', 'Title': '1504 1513..1516'}, {'Author': 'American Association for the Advancement of Science', 'CreationDate': 'D:20150624150407Z', 'Creator': 'DALiM Software Applications', 'Keywords': 'Science Magazine Article', 'ModDate': \"D:20181008232815-07'00'\", 'Producer': 'Science Journals - Operations', 'Title': 'Science Magazine', 'Trapped': /True}]\n",
      "[{'CreationDate': 'D:20130311074142Z', 'Creator': '3B2 Total Publishing System 8.07e/W Unicode ', 'ModDate': \"D:20181008173719-07'00'\", 'Producer': 'Acrobat Distiller 5.0 (Windows)', 'Title': '1290 1302..1305'}, {'CreationDate': \"D:20120612073627+08'00'\", 'Creator': '3B2 Total Publishing System 8.07e/W Unicode ', 'ModDate': \"D:20181008172332-07'00'\", 'Producer': 'Acrobat Distiller 5.0 (Windows)', 'Title': '1422 1438..1440'}, {'CreationDate': 'D:20141215150002Z', 'Creator': 'Arbortext Advanced Print Publisher 9.1.440/W Unicode', 'ModDate': \"D:20181008214014-07'00'\", 'Producer': 'Acrobat Distiller 5.0 (Windows)', 'Title': '1480 1480..1486'}, {'CreationDate': 'D:20110701205641Z', 'Creator': '3B2 Total Publishing System 8.07e/W Unicode ', 'ModDate': \"D:20181008170454-07'00'\", 'Producer': 'Acrobat Distiller 5.0 (Windows)', 'Title': '199 199..202'}, {'CreationDate': 'D:20150223073247Z', 'Creator': 'Arbortext Advanced Print Publisher 9.1.440/W Unicode', 'ModDate': \"D:20181008215433-07'00'\", 'Producer': 'Acrobat Distiller 5.0 (Windows)', 'Title': '1002 1010..1014'}, {'CreationDate': 'D:20100913023029Z', 'Creator': '3B2 Total Publishing System 8.07e/W Unicode ', 'ModDate': \"D:20181008165433-07'00'\", 'Producer': 'Acrobat Distiller 5.0 (Windows)', 'Title': '1504 1513..1516'}, {'Author': 'American Association for the Advancement of Science', 'CreationDate': 'D:20150624150407Z', 'Creator': 'DALiM Software Applications', 'Keywords': 'Science Magazine Article', 'ModDate': \"D:20181008232815-07'00'\", 'Producer': 'Science Journals - Operations', 'Title': 'Science Magazine', 'Trapped': /True}, {'CreationDate': 'D:20140714164938Z', 'Creator': 'Arbortext Advanced Print Publisher 9.1.440/W Unicode', 'ModDate': \"D:20181008213029-07'00'\", 'Producer': 'Acrobat Distiller 5.0 (Windows)', 'Title': 'Choulet_pages 1..7'}]\n"
     ]
    },
    {
     "ename": "PDFSyntaxError",
     "evalue": "No /Root object! - Is this really a PDF?",
     "output_type": "error",
     "traceback": [
      "\u001b[0;31m---------------------------------------------------------------------------\u001b[0m",
      "\u001b[0;31mPDFSyntaxError\u001b[0m                            Traceback (most recent call last)",
      "\u001b[0;32m<ipython-input-9-0a8045d8454a>\u001b[0m in \u001b[0;36m<module>\u001b[0;34m()\u001b[0m\n\u001b[1;32m      5\u001b[0m     \u001b[0mdoc\u001b[0m \u001b[0;34m=\u001b[0m \u001b[0mPDFDocument\u001b[0m\u001b[0;34m(\u001b[0m\u001b[0;34m)\u001b[0m\u001b[0;34m\u001b[0m\u001b[0m\n\u001b[1;32m      6\u001b[0m     \u001b[0mparser\u001b[0m\u001b[0;34m.\u001b[0m\u001b[0mset_document\u001b[0m\u001b[0;34m(\u001b[0m\u001b[0mdoc\u001b[0m\u001b[0;34m)\u001b[0m\u001b[0;34m\u001b[0m\u001b[0m\n\u001b[0;32m----> 7\u001b[0;31m     \u001b[0mdoc\u001b[0m\u001b[0;34m.\u001b[0m\u001b[0mset_parser\u001b[0m\u001b[0;34m(\u001b[0m\u001b[0mparser\u001b[0m\u001b[0;34m)\u001b[0m\u001b[0;34m\u001b[0m\u001b[0m\n\u001b[0m\u001b[1;32m      8\u001b[0m     \u001b[0mdoc\u001b[0m\u001b[0;34m.\u001b[0m\u001b[0minitialize\u001b[0m\u001b[0;34m(\u001b[0m\u001b[0;34m)\u001b[0m\u001b[0;34m\u001b[0m\u001b[0m\n\u001b[1;32m      9\u001b[0m     \u001b[0mmetadata\u001b[0m\u001b[0;34m.\u001b[0m\u001b[0mextend\u001b[0m\u001b[0;34m(\u001b[0m\u001b[0mdoc\u001b[0m\u001b[0;34m.\u001b[0m\u001b[0minfo\u001b[0m\u001b[0;34m)\u001b[0m\u001b[0;34m\u001b[0m\u001b[0m\n",
      "\u001b[0;32m/Users/wangyuhan/anaconda/lib/python3.6/site-packages/pdfminer/pdfparser.py\u001b[0m in \u001b[0;36mset_parser\u001b[0;34m(self, parser)\u001b[0m\n\u001b[1;32m    438\u001b[0m                 \u001b[0;32mbreak\u001b[0m\u001b[0;34m\u001b[0m\u001b[0m\n\u001b[1;32m    439\u001b[0m         \u001b[0;32melse\u001b[0m\u001b[0;34m:\u001b[0m\u001b[0;34m\u001b[0m\u001b[0m\n\u001b[0;32m--> 440\u001b[0;31m             \u001b[0;32mraise\u001b[0m \u001b[0mPDFSyntaxError\u001b[0m\u001b[0;34m(\u001b[0m\u001b[0;34m'No /Root object! - Is this really a PDF?'\u001b[0m\u001b[0;34m)\u001b[0m\u001b[0;34m\u001b[0m\u001b[0m\n\u001b[0m\u001b[1;32m    441\u001b[0m         \u001b[0;32mif\u001b[0m \u001b[0mself\u001b[0m\u001b[0;34m.\u001b[0m\u001b[0mcatalog\u001b[0m\u001b[0;34m.\u001b[0m\u001b[0mget\u001b[0m\u001b[0;34m(\u001b[0m\u001b[0;34m'Type'\u001b[0m\u001b[0;34m)\u001b[0m \u001b[0;32mis\u001b[0m \u001b[0;32mnot\u001b[0m \u001b[0mLITERAL_CATALOG\u001b[0m\u001b[0;34m:\u001b[0m\u001b[0;34m\u001b[0m\u001b[0m\n\u001b[1;32m    442\u001b[0m             \u001b[0mhandle_error\u001b[0m\u001b[0;34m(\u001b[0m\u001b[0mPDFSyntaxError\u001b[0m\u001b[0;34m,\u001b[0m \u001b[0;34m'Catalog not found!'\u001b[0m\u001b[0;34m)\u001b[0m\u001b[0;34m\u001b[0m\u001b[0m\n",
      "\u001b[0;31mPDFSyntaxError\u001b[0m: No /Root object! - Is this really a PDF?"
     ]
    }
   ],
   "source": [
    "metadata = []\n",
    "for file in file_list:\n",
    "    fp = open('data/pdf/' + file, 'rb')\n",
    "    parser = PDFParser(fp)\n",
    "    doc = PDFDocument()\n",
    "    parser.set_document(doc)\n",
    "    doc.set_parser(parser)\n",
    "    doc.initialize()\n",
    "    metadata.extend(doc.info)\n",
    "    print(metadata)"
   ]
  },
  {
   "cell_type": "code",
   "execution_count": 8,
   "metadata": {
    "collapsed": false,
    "scrolled": true
   },
   "outputs": [
    {
     "name": "stdout",
     "output_type": "stream",
     "text": [
      "Real-Time Observation of Surface Bond Breaking with an X-ray Laser.pdf\n",
      "[{'CreationDate': 'D:20130311074142Z', 'Creator': '3B2 Total Publishing System 8.07e/W Unicode ', 'ModDate': \"D:20181008173719-07'00'\", 'Producer': 'Acrobat Distiller 5.0 (Windows)', 'Title': '1290 1302..1305'}]\n",
      "Continental-Scale Effects of Nutrient Pollution on Stream Ecosystem Functioning.pdf\n",
      "[{'CreationDate': \"D:20120612073627+08'00'\", 'Creator': '3B2 Total Publishing System 8.07e/W Unicode ', 'ModDate': \"D:20181008172332-07'00'\", 'Producer': 'Acrobat Distiller 5.0 (Windows)', 'Title': '1422 1438..1440'}]\n",
      "Patient-derived models of acquired resistance can identify effective drug combinations for cancer.pdf\n",
      "[{'CreationDate': 'D:20141215150002Z', 'Creator': 'Arbortext Advanced Print Publisher 9.1.440/W Unicode', 'ModDate': \"D:20181008214014-07'00'\", 'Producer': 'Acrobat Distiller 5.0 (Windows)', 'Title': '1480 1480..1486'}]\n",
      "An Extremely Luminous Panchromatic Outburst from the Nucleus of a Distant Galaxy.pdf\n",
      "[{'CreationDate': 'D:20110701205641Z', 'Creator': '3B2 Total Publishing System 8.07e/W Unicode ', 'ModDate': \"D:20181008170454-07'00'\", 'Producer': 'Acrobat Distiller 5.0 (Windows)', 'Title': '199 199..202'}]\n",
      "Transcribed enhancers lead waves of coordinated transcription in transitioning mammalian cells.pdf\n",
      "[{'CreationDate': 'D:20150223073247Z', 'Creator': 'Arbortext Advanced Print Publisher 9.1.440/W Unicode', 'ModDate': \"D:20181008215433-07'00'\", 'Producer': 'Acrobat Distiller 5.0 (Windows)', 'Title': '1002 1010..1014'}]\n",
      "Rainforest Aerosols as Biogenic Nuclei of Clouds and Precipitation in the Amazon.pdf\n",
      "[{'CreationDate': 'D:20100913023029Z', 'Creator': '3B2 Total Publishing System 8.07e/W Unicode ', 'ModDate': \"D:20181008165433-07'00'\", 'Producer': 'Acrobat Distiller 5.0 (Windows)', 'Title': '1504 1513..1516'}]\n",
      "Promoting an open research culture.pdf\n",
      "[{'Author': 'American Association for the Advancement of Science', 'CreationDate': 'D:20150624150407Z', 'Creator': 'DALiM Software Applications', 'Keywords': 'Science Magazine Article', 'ModDate': \"D:20181008232815-07'00'\", 'Producer': 'Science Journals - Operations', 'Title': 'Science Magazine', 'Trapped': /True}]\n",
      "Structural and functional partitioning of bread wheat chromosome 3B.pdf\n",
      "[{'CreationDate': 'D:20140714164938Z', 'Creator': 'Arbortext Advanced Print Publisher 9.1.440/W Unicode', 'ModDate': \"D:20181008213029-07'00'\", 'Producer': 'Acrobat Distiller 5.0 (Windows)', 'Title': 'Choulet_pages 1..7'}]\n",
      "Specifying and Sustaining Pigmentation Patterns in Domestic and Wild Cats.pdf\n",
      "[{'CreationDate': 'D:20120917024940Z', 'Creator': '3B2 Total Publishing System 8.07e/W Unicode ', 'ModDate': \"D:20181008172831-07'00'\", 'Producer': 'Acrobat Distiller 5.0.5 (Windows)', 'Title': '1532 1536..1541'}]\n",
      "Worldwide evidence of a unimodal relationship between productivity and plant species richness.pdf\n",
      "[{'CreationDate': 'D:20150818201755Z', 'Creator': 'Arbortext Advanced Print Publisher 9.1.440/W Unicode', 'ModDate': \"D:20181008233122-07'00'\", 'Producer': 'Acrobat Distiller 5.0 (Windows)', 'Title': '283 302..305'}]\n",
      "Serial Femtosecond Crystallography of G Protein–Coupled Receptors.pdf\n",
      "[{'CreationDate': 'D:20131216102242Z', 'Creator': '3B2 Total Publishing System 8.07e/W Unicode ', 'ModDate': \"D:20181008174826-07'00'\", 'Producer': 'Acrobat Distiller 5.0.5 (Windows)', 'Title': '1508 1521..1524'}]\n",
      "Loss of Function of the Melanocortin 2 Receptor Accessory Protein 2 Is Associated with Mammalian Obesity.pdf\n",
      "[{'CreationDate': 'D:20130805094136Z', 'Creator': '3B2 Total Publishing System 8.07e/W Unicode ', 'ModDate': \"D:20181008174158-07'00'\", 'Producer': 'Acrobat Distiller 5.0.5 (Windows)', 'Title': '253 275..278'}]\n",
      "Massive Phytoplankton Blooms Under Arctic Sea Ice.pdf\n",
      "[{'CreationDate': 'D:20120611232741Z', 'Creator': '3B2 Total Publishing System 8.07e/W Unicode ', 'ModDate': \"D:20181008172139-07'00'\", 'Producer': 'Acrobat Distiller 5.0 (Windows)', 'Title': '1408 1408..1408'}]\n",
      "Specific and Nonhepatotoxic Degradation of Nuclear Hepatitis B Virus cccDNA.pdf\n",
      "[{'CreationDate': 'D:20140311103427Z', 'Creator': '3B2 Total Publishing System 8.07e/W Unicode ', 'ModDate': \"D:20181008162602-07'00'\", 'Producer': 'Acrobat Distiller 5.0.5 (Windows)', 'Title': '1216 1221..1228'}]\n",
      "Elemental Geochemistry of Sedimentary Rocks at Yellowknife Bay, Gale Crater, Mars.pdf\n",
      "[{'CreationDate': 'D:20140117061243Z', 'Creator': '3B2 Total Publishing System 8.07e/W Unicode ', 'ModDate': \"D:20181008212230-07'00'\", 'Producer': 'Acrobat Distiller 5.0 (Windows)', 'Title': 'McLennan_pages 1..10'}]\n",
      "Influence of HLA-C Expression Level on HIV Control.pdf\n",
      "[{'CreationDate': 'D:20130401092358Z', 'Creator': '3B2 Total Publishing System 8.07e/W Unicode ', 'ModDate': \"D:20181008173910-07'00'\", 'Producer': 'Acrobat Distiller 5.0 (Windows)', 'Title': '78 87..91'}]\n",
      "Modeling infectious disease dynamics in the complex landscape of global health.pdf\n",
      "[{'CreationDate': 'D:20150309052141Z', 'Creator': 'Arbortext Advanced Print Publisher 9.1.440/W Unicode', 'ModDate': \"D:20181008215735-07'00'\", 'Producer': 'Acrobat Distiller 5.0 (Windows)', 'Title': 'Heesterbeek_pages 1..10'}]\n",
      "Photonic Crystal Light Collectors in Fish Retina Improve Vision in Turbid Water.pdf\n",
      "[{'CreationDate': 'D:20120625184321Z', 'Creator': '3B2 Total Publishing System 8.07e/W Unicode ', 'ModDate': \"D:20181008172520-07'00'\", 'Producer': 'Acrobat Distiller 5.0 (Windows)', 'Title': '1684 1700..1703'}]\n",
      "Effects of Rapid Global Warming at the Paleocene-Eocene Boundary on Neotropical Vegetation.pdf\n",
      "[{'CreationDate': 'D:20101108052058Z', 'Creator': '3B2 Total Publishing System 8.07e/W Unicode ', 'ModDate': \"D:20181008165954-07'00'\", 'Producer': 'Acrobat Distiller 5.0 (Windows)', 'Title': '949 957..961'}]\n",
      "The Genetic Landscape of a Cell.pdf\n",
      "[{'CreationDate': 'D:20100115112058Z', 'Creator': '3B2 Total Publishing System 8.07e/W Unicode ', 'ModDate': \"D:20181008163708-07'00'\", 'Producer': 'Acrobat Distiller 4.05 for Windows', 'Title': '425 425..431'}]\n",
      "Response to Comments on “Productivity Is a Poor Predictor of Plant Species Richness”.pdf\n",
      "[{'CreationDate': 'D:20120319034041Z', 'Creator': '3B2 Total Publishing System 8.07e/W Unicode ', 'ModDate': \"D:20181008171800-07'00'\", 'Producer': 'Acrobat Distiller 5.0 (Windows)', 'Title': '1441-c 1441..1442'}]\n",
      "Laboratory formation of a scaled protostellar jet by coaligned poloidal magnetic field.pdf\n",
      "[{'CreationDate': 'D:20141009203233Z', 'Creator': 'Arbortext Advanced Print Publisher 9.1.440/W Unicode', 'ModDate': \"D:20181008213554-07'00'\", 'Producer': 'Acrobat Distiller 5.0 (Windows)', 'Title': '318 325..328'}]\n",
      "Direct Observations of Atmospheric Aerosol Nucleation.pdf\n",
      "[{'CreationDate': 'D:20130218225803Z', 'Creator': '3B2 Total Publishing System 8.07e/W Unicode ', 'ModDate': \"D:20181008173216-07'00'\", 'Producer': 'Acrobat Distiller 5.0.5 (Windows)', 'Title': '943 943..946'}]\n",
      "Erosion of Lizard Diversity by Climate Change and Altered Thermal Niches.pdf\n",
      "[{'CreationDate': 'D:20100511153304Z', 'Creator': '3B2 Total Publishing System 8.07e/W Unicode ', 'ModDate': \"D:20181008164540-07'00'\", 'Producer': 'Acrobat Distiller 4.05 for Windows', 'Title': '876 894..899'}]\n",
      "Three crocodilian genomes reveal ancestral patterns of evolution among archosaurs.pdf\n",
      "[{'CreationDate': 'D:20141209124003Z', 'Creator': 'Arbortext Advanced Print Publisher 9.1.440/W Unicode', 'ModDate': \"D:20181008213846-07'00'\", 'Producer': 'Acrobat Distiller 5.0 (Windows)', 'Title': 'Green_pages 1..9'}]\n",
      "HIV-1 neutralizing antibodies induced by native-like envelope trimers.pdf\n",
      "[{'CreationDate': \"D:20150706133442+08'00'\", 'Creator': 'Arbortext Advanced Print Publisher 9.1.440/W Unicode', 'ModDate': \"D:20181008232941-07'00'\", 'Producer': 'Acrobat Distiller 8.1.0 (Windows)', 'Title': '154 154..154'}]\n",
      "An Evolving View of Saturn’s Dynamic Rings.pdf\n",
      "[{'CreationDate': 'D:20100315114052Z', 'Creator': '3B2 Total Publishing System 8.07e/W Unicode ', 'ModDate': \"D:20181008164400-07'00'\", 'Producer': 'Acrobat Distiller 4.05 for Windows', 'Title': '1470 1470..1475'}]\n",
      "Equilibrative Nucleoside Transporter 3 Deficiency Perturbs Lysosome Function and Macrophage Homeostasis.pdf\n",
      "[{'CreationDate': 'D:20111226031406Z', 'Creator': '3B2 Total Publishing System 8.07e/W Unicode ', 'ModDate': \"D:20181008171242-07'00'\", 'Producer': 'Acrobat Distiller 5.0 (Windows)', 'Title': '73 89..92'}]\n",
      "Delay in Photoemission.pdf\n",
      "[{'CreationDate': 'D:20100621094733Z', 'Creator': '3B2 Total Publishing System 8.07e/W Unicode ', 'ModDate': \"D:20181008165139-07'00'\", 'Producer': 'Acrobat Distiller 5.0 (Windows)', 'Title': '1658 1658..1662'}]\n",
      "The landing(s) of Philae and inferences about comet surface mechanical properties.pdf\n",
      "[{'CreationDate': 'D:20150727060512Z', 'Creator': 'Arbortext Advanced Print Publisher 9.1.440/W Unicode', 'ModDate': \"D:20181008233352-07'00'\", 'Producer': 'Acrobat Distiller 5.0 (Windows)', 'Title': 'Biele_pages 1..6'}]\n",
      "A Spaetzle-like role for nerve growth factor β in vertebrate immunity to Staphylococcus aureus.pdf\n",
      "[{'CreationDate': 'D:20141117173818Z', 'Creator': 'Arbortext Advanced Print Publisher 9.1.440/W Unicode', 'ModDate': \"D:20181008213658-07'00'\", 'Producer': 'Acrobat Distiller 5.0 (Windows)', 'Title': '626 641..646'}]\n",
      "A Transforming Metal Nanocomposite with Large Elastic Strain, Low Modulus, and High Strength.pdf\n",
      "[{'CreationDate': 'D:20130304230538Z', 'Creator': '3B2 Total Publishing System 8.07e/W Unicode ', 'ModDate': \"D:20181008173539-07'00'\", 'Producer': 'Acrobat Distiller 5.0 (Windows)', 'Title': '1187 1191..1194'}]\n",
      "The Plant Cell Wall–Decomposing Machinery Underlies the Functional Diversity of Forest Fungi.pdf\n",
      "[{'CreationDate': 'D:20110801190427Z', 'Creator': '3B2 Total Publishing System 8.07e/W Unicode ', 'ModDate': \"D:20181008171003-07'00'\", 'Producer': 'Acrobat Distiller 5.0 (Windows)', 'Title': '758 762..765'}]\n",
      "The Detection of a Population of Submillimeter-Bright, Strongly Lensed Galaxies.pdf\n",
      "[{'CreationDate': 'D:20101101224223Z', 'Creator': '3B2 Total Publishing System 8.07e/W Unicode ', 'ModDate': \"D:20181008165819-07'00'\", 'Producer': 'Acrobat Distiller 5.0 (Windows)', 'Title': '800 800..804'}]\n",
      "Sequence and Structural Convergence of Broad and Potent HIV Antibodies That Mimic CD4 Binding.pdf\n",
      "[{'CreationDate': 'D:20110913030850Z', 'Creator': '3B2 Total Publishing System 8.07e/W Unicode ', 'ModDate': \"D:20181008171134-07'00'\", 'Producer': 'Acrobat Distiller 5.0 (Windows)', 'Title': '1633 1633..1637'}]\n",
      "Exploring deep microbial life in coal-bearing sediment down to ~2.5 km below the ocean floor.pdf\n",
      "[{'CreationDate': \"D:20150720130347+08'00'\", 'Creator': 'Arbortext Advanced Print Publisher 9.1.440/W Unicode', 'ModDate': \"D:20181008233226-07'00'\", 'Producer': 'Acrobat Distiller 8.1.0 (Windows)', 'Title': '405 420..424'}]\n",
      "A Systematic Survey of Loss-of-Function Variants in Human Protein-Coding Genes.pdf\n",
      "[{'CreationDate': 'D:20120213174411Z', 'Creator': '3B2 Total Publishing System 8.07e/W Unicode ', 'ModDate': \"D:20181008171439-07'00'\", 'Producer': 'Acrobat Distiller 5.0 (Windows)', 'Title': '818 823..828'}]\n",
      "The genetics of Mexico recapitulates Native American substructure and affects biomedical traits.pdf\n",
      "[{'Author': 'American Association for the Advancement of Science', 'CreationDate': \"D:20140609103712+08'00'\", 'Creator': 'DALiM T6 Software Applications', 'GTS_PDFXConformance': 'PDF/X-1a', 'GTS_PDFXVersion': 'PDF/X-1a:2003', 'Keywords': 'Science Magazine Digital Edition', 'ModDate': \"D:20181008212807-07'00'\", 'Producer': 'DALiM  T6 Software Applications', 'Title': 'Science Magazine', 'Trapped': /False}]\n",
      "Gain-of-Function Experiments on H7N9.pdf\n",
      "[{'Author': 'American Association for the Advancement of Science', 'CreationDate': 'D:20130806164418Z', 'Creator': 'DALiM Software Applications', 'Keywords': 'Science Magazine Article', 'ModDate': \"D:20181008174348-07'00'\", 'Producer': 'DALiM Software Applications', 'Title': 'Science Magazine', 'Trapped': /True}]\n",
      "Spiroindolones, a Potent Compound Class for the Treatment of Malaria.pdf\n",
      "[{'CreationDate': 'D:20100830034658Z', 'Creator': '3B2 Total Publishing System 8.07e/W Unicode ', 'ModDate': \"D:20181008165322-07'00'\", 'Producer': 'Acrobat Distiller 5.0 (Windows)', 'Title': '1168 1175..1180'}]\n",
      "The Intestinal Microbiota Modulates the Anticancer Immune Effects of Cyclophosphamide.pdf\n",
      "[{'CreationDate': 'D:20131118091054Z', 'Creator': '3B2 Total Publishing System 8.07e/W Unicode ', 'ModDate': \"D:20181008161727-07'00'\", 'Producer': 'Acrobat Distiller 5.0.5 (Windows)', 'Title': '960 971..976'}]\n",
      "Response—Cretaceous Extinctions.pdf\n",
      "[{'Author': 'American Association for the Advancement of Science', 'CreationDate': \"D:20100518095548+04'00'\", 'Creator': 'DALiM Software Applications', 'Keywords': 'Science Magazine Article', 'ModDate': \"D:20181008164831-07'00'\", 'Producer': 'DALiM Software Applications', 'Title': 'Science Magazine', 'Trapped': /True}]\n",
      "Shapes and vorticities of superfluid helium nanodroplets.pdf\n",
      "[{'CreationDate': \"D:20140818180119+08'00'\", 'Creator': 'Arbortext Advanced Print Publisher 9.1.440/W Unicode', 'ModDate': \"D:20181008205410-07'00'\", 'Producer': 'Acrobat Distiller 5.0 (Windows)', 'Title': '903 906..909'}]\n",
      "Pregnenolone Can Protect the Brain from Cannabis Intoxication.pdf\n",
      "[{'CreationDate': 'D:20140211014136Z', 'Creator': '3B2 Total Publishing System 8.07e/W Unicode ', 'ModDate': \"D:20181008212113-07'00'\", 'Producer': 'Acrobat Distiller 5.0.5 (Windows)', 'Title': '80 94..98'}]\n",
      "Octet-Line Node Structure of Superconducting Order Parameter in KFe2As2.pdf\n",
      "[{'CreationDate': 'D:20120911034023Z', 'Creator': '3B2 Total Publishing System 8.07e/W Unicode ', 'ModDate': \"D:20181008172702-07'00'\", 'Producer': 'Acrobat Distiller 5.0.5 (Windows)', 'Title': '1314 1314..1317'}]\n",
      "Molecular nitrogen in comet 67P Churyumov-Gerasimenko indicates a low formation temperature.pdf\n",
      "[{'CreationDate': 'D:20150406155159Z', 'Creator': 'Arbortext Advanced Print Publisher 9.1.440/W Unicode', 'ModDate': \"D:20181008232456-07'00'\", 'Producer': 'Acrobat Distiller 5.0 (Windows)', 'Title': '226 232..235'}]\n",
      "A Major Genome Region Underlying Artemisinin Resistance in Malaria.pdf\n",
      "[{'CreationDate': 'D:20120402063144Z', 'Creator': '3B2 Total Publishing System 8.07e/W Unicode ', 'ModDate': \"D:20181008171959-07'00'\", 'Producer': 'Acrobat Distiller 5.0 (Windows)', 'Title': '64 79..82'}]\n",
      "Evolutionarily Assembled cis-Regulatory Module at a Human Ciliopathy Locus.pdf\n",
      "[{'CreationDate': 'D:20120216065008Z', 'Creator': '3B2 Total Publishing System 8.07e/W Unicode ', 'ModDate': \"D:20181008171637-07'00'\", 'Producer': 'Acrobat Distiller 5.0 (Windows)', 'Title': '956 966..969'}]\n",
      "Integrative Analysis of the Caenorhabditis elegans Genome by the modENCODE Project.pdf\n",
      "[{'CreationDate': 'D:20101220011048Z', 'Creator': '3B2 Total Publishing System 8.07e/W Unicode ', 'ModDate': \"D:20181008170310-07'00'\", 'Producer': 'Acrobat Distiller 5.0 (Windows)', 'Title': '1775 1775..1787'}]\n",
      "Soil Diversity and Hydration as Observed by ChemCam at Gale Crater, Mars.pdf\n",
      "[{'CreationDate': 'D:20130923134503Z', 'Creator': '3B2 Total Publishing System 8.07e/W Unicode ', 'ModDate': \"D:20181008174526-07'00'\", 'Producer': 'Acrobat Distiller 5.0 (Windows)', 'Title': 'Meslin_pages 1..10'}]\n",
      "GWAS of 126,559 Individuals Identifies Genetic Variants Associated with Educational Attainment.pdf\n",
      "[{'CreationDate': 'D:20130618105531Z', 'Creator': '3B2 Total Publishing System 8.07e/W Unicode ', 'ModDate': \"D:20181008174036-07'00'\", 'Producer': 'Acrobat Distiller 5.0 (Windows)', 'Title': '1456 1467..1471'}]\n",
      "Ancient Aqueous Environments at Endeavour Crater, Mars.pdf\n",
      "[{'CreationDate': 'D:20140117061315Z', 'Creator': '3B2 Total Publishing System 8.07e/W Unicode ', 'ModDate': \"D:20181008212436-07'00'\", 'Producer': 'Acrobat Distiller 5.0.5 (Windows)', 'Title': 'Arvidson_pages 1..8'}]\n",
      "Multiple images of a highly magnified supernova formed by an early-type cluster galaxy lens.pdf\n",
      "[{'CreationDate': 'D:20150302060519Z', 'Creator': 'Arbortext Advanced Print Publisher 9.1.440/W Unicode', 'ModDate': \"D:20181008215609-07'00'\", 'Producer': 'Acrobat Distiller 5.0 (Windows)', 'Title': '1123 1123..1126'}]\n",
      "Fishing for Data in the Ross Sea.pdf\n",
      "[{'Author': 'American Association for the Advancement of Science', 'CreationDate': \"D:20101130104258+05'00'\", 'Creator': 'DALiM Software Applications', 'Keywords': 'Science Magazine Article', 'ModDate': \"D:20181008170155-07'00'\", 'Producer': 'DALiM Software Applications', 'Title': 'Science Magazine', 'Trapped': /True}]\n",
      "EZH2 Oncogenic Activity in Castration-Resistant Prostate Cancer Cells Is Polycomb-Independent.pdf\n",
      "[{'CreationDate': 'D:20121210023104Z', 'Creator': '3B2 Total Publishing System 8.07e/W Unicode ', 'ModDate': \"D:20181008173022-07'00'\", 'Producer': 'Acrobat Distiller 5.0.5 (Windows)', 'Title': '1452 1465..1469'}]\n",
      "Mountain gorilla genomes reveal the impact of long-term population decline and inbreeding.pdf\n",
      "[{'CreationDate': 'D:20160211153200Z', 'Creator': 'Arbortext Advanced Print Publisher 9.1.440/W Unicode', 'ModDate': \"D:20181008232643-07'00'\", 'Producer': 'Acrobat Distiller 5.0 (Windows)', 'Title': b'Science Journals \\x84 AAAS'}]\n",
      "Targeted Therapy Resistance Mediated by Dynamic Regulation of Extrachromosomal Mutant EGFR DNA.pdf\n",
      "[{'CreationDate': 'D:20131226004524Z', 'Creator': '3B2 Total Publishing System 8.07e/W Unicode ', 'ModDate': \"D:20181008174952-07'00'\", 'Producer': 'Acrobat Distiller 5.0.5 (Windows)', 'Title': '55 72..76'}]\n",
      "Epigenetic programming of monocyte-to-macrophage differentiation and trained innate immunity.pdf\n",
      "[{'CreationDate': 'D:20140922170445Z', 'Creator': 'Arbortext Advanced Print Publisher 9.1.440/W Unicode', 'ModDate': \"D:20181008213432-07'00'\", 'Producer': 'Acrobat Distiller 5.0 (Windows)', 'Title': 'Saeed 1..11'}]\n",
      "Glacial-Interglacial Indian Summer Monsoon Dynamics.pdf\n",
      "[{'CreationDate': 'D:20110801092913Z', 'Creator': '3B2 Total Publishing System 8.07e/W Unicode ', 'ModDate': \"D:20181008170836-07'00'\", 'Producer': 'Acrobat Distiller 5.0 (Windows)', 'Title': '719 719..723'}]\n",
      "Altered Telomeres in Tumors with ATRX and DAXX Mutations.pdf\n",
      "[{'CreationDate': 'D:20110718143143Z', 'Creator': '3B2 Total Publishing System 8.07e/W Unicode ', 'ModDate': \"D:20181008170632-07'00'\", 'Producer': 'Acrobat Distiller 5.0 (Windows)', 'Title': '425 425..425'}]\n",
      "Pseudo–three-dimensional maps of the diffuse interstellar band at 862 nm.pdf\n",
      "[{'CreationDate': 'D:20140811072904Z', 'Creator': 'Arbortext Advanced Print Publisher 9.1.440/W Unicode', 'ModDate': \"D:20181008213203-07'00'\", 'Producer': 'Acrobat Distiller 5.0 (Windows)', 'Title': '786 791..795'}]\n"
     ]
    }
   ],
   "source": [
    "metadata = []\n",
    "for file in file_list:\n",
    "    fp = open('data/pdf/' + file, 'rb')\n",
    "    print(file)\n",
    "    parser = PDFParser(fp)\n",
    "    doc = PDFDocument()\n",
    "    parser.set_document(doc)\n",
    "    doc.set_parser(parser)\n",
    "    doc.initialize()\n",
    "    metadata.extend(doc.info)\n",
    "    print(doc.info)"
   ]
  },
  {
   "cell_type": "code",
   "execution_count": 7,
   "metadata": {
    "collapsed": false
   },
   "outputs": [],
   "source": [
    "file_list.remove('.DS_Store')"
   ]
  },
  {
   "cell_type": "code",
   "execution_count": 12,
   "metadata": {
    "collapsed": false
   },
   "outputs": [
    {
     "data": {
      "text/plain": [
       "{'CreationDate': 'D:20130311074142Z',\n",
       " 'Creator': '3B2 Total Publishing System 8.07e/W Unicode ',\n",
       " 'ModDate': \"D:20181008173719-07'00'\",\n",
       " 'Producer': 'Acrobat Distiller 5.0 (Windows)',\n",
       " 'Title': '1290 1302..1305'}"
      ]
     },
     "execution_count": 12,
     "metadata": {},
     "output_type": "execute_result"
    }
   ],
   "source": [
    "metadata[0]"
   ]
  },
  {
   "cell_type": "code",
   "execution_count": null,
   "metadata": {
    "collapsed": true
   },
   "outputs": [],
   "source": []
  }
 ],
 "metadata": {
  "kernelspec": {
   "display_name": "Python 3",
   "language": "python",
   "name": "python3"
  },
  "language_info": {
   "codemirror_mode": {
    "name": "ipython",
    "version": 3
   },
   "file_extension": ".py",
   "mimetype": "text/x-python",
   "name": "python",
   "nbconvert_exporter": "python",
   "pygments_lexer": "ipython3",
   "version": "3.6.0"
  }
 },
 "nbformat": 4,
 "nbformat_minor": 2
}
