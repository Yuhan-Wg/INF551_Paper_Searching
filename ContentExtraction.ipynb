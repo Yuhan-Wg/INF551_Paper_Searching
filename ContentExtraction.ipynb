{
 "cells": [
  {
   "cell_type": "code",
   "execution_count": 2,
   "metadata": {
    "collapsed": true
   },
   "outputs": [],
   "source": [
    "import sys\n",
    "import importlib\n",
    "import os\n",
    "importlib.reload(sys)\n",
    "\n",
    "from pdfminer.pdfparser import PDFParser,PDFDocument\n",
    "from pdfminer.pdfinterp import PDFResourceManager, PDFPageInterpreter\n",
    "from pdfminer.converter import PDFPageAggregator\n",
    "from pdfminer.layout import LTTextBoxHorizontal,LAParams\n",
    "from pdfminer.pdfinterp import PDFTextExtractionNotAllowed"
   ]
  },
  {
   "cell_type": "code",
   "execution_count": 4,
   "metadata": {
    "collapsed": true
   },
   "outputs": [],
   "source": [
    "file_list = os.listdir(\"data/pdf\")"
   ]
  },
  {
   "cell_type": "code",
   "execution_count": 23,
   "metadata": {
    "collapsed": true
   },
   "outputs": [],
   "source": [
    "result = []\n",
    "class CPdf2TxtManager():\n",
    "    def __init__(self):\n",
    "        '''''\n",
    "        Constructor\n",
    "        '''\n",
    "\n",
    "    def changePdfToText(self, filePath):\n",
    "        file = open(path, 'rb') # 以二进制读模式打开\n",
    "        #用文件对象来创建一个pdf文档分析器\n",
    "        praser = PDFParser(file)\n",
    "        # 创建一个PDF文档\n",
    "        doc = PDFDocument()\n",
    "        # 连接分析器 与文档对象\n",
    "        praser.set_document(doc)\n",
    "        doc.set_parser(praser)\n",
    "\n",
    "        # 提供初始化密码\n",
    "        # 如果没有密码 就创建一个空的字符串\n",
    "        doc.initialize()\n",
    "\n",
    "        # 检测文档是否提供txt转换，不提供就忽略\n",
    "        if not doc.is_extractable:\n",
    "            raise PDFTextExtractionNotAllowed\n",
    "\n",
    "        # 创建PDf 资源管理器 来管理共享资源\n",
    "        rsrcmgr = PDFResourceManager()\n",
    "        # 创建一个PDF设备对象\n",
    "        laparams = LAParams()\n",
    "        device = PDFPageAggregator(rsrcmgr, laparams=laparams)\n",
    "        # 创建一个PDF解释器对象\n",
    "        interpreter = PDFPageInterpreter(rsrcmgr, device)\n",
    "        pdfStr = ''\n",
    "        # 循环遍历列表，每次处理一个page的内容\n",
    "        for page in doc.get_pages(): # doc.get_pages() 获取page列表\n",
    "            page_result = []\n",
    "            interpreter.process_page(page)\n",
    "            # 接受该页面的LTPage对象\n",
    "            layout = device.get_result()\n",
    "            for x in layout:\n",
    "                if hasattr(x, \"get_text\"):\n",
    "                    # print x.get_text()\n",
    "                    page_result.append(x.get_text())\n",
    "        result.append(page_result)"
   ]
  },
  {
   "cell_type": "code",
   "execution_count": 24,
   "metadata": {
    "collapsed": false
   },
   "outputs": [
    {
     "name": "stderr",
     "output_type": "stream",
     "text": [
      "WARNING:pdfminer.converter:undefined: <PDFType1Font: basefont='Helvetica-Oblique'>, 160\n"
     ]
    }
   ],
   "source": [
    "path = u'data/pdf/' + file_list[0]\n",
    "pdf2TxtManager = CPdf2TxtManager()\n",
    "pdf2TxtManager.changePdfToText(path)\n"
   ]
  },
  {
   "cell_type": "code",
   "execution_count": 25,
   "metadata": {
    "collapsed": false
   },
   "outputs": [
    {
     "data": {
      "text/plain": [
       "['A Major Genome Region Underlying Artemisinin Resistance in Malaria\\n',\n",
       " 'Ian H. Cheeseman, Becky A. Miller, Shalini Nair, Standwell Nkhoma, Asako Tan, John C. Tan, Salma Al Saai, Aung Pyae\\nPhyo, Carit Ler Moo, Khin Maung Lwin, Rose McGready, Elizabeth Ashley, Mallika Imwong, Kasia Stepniewska, Poravuth Yi, \\nArjen M. Dondorp, Mayfong Mayxay, Paul N. Newton, Nicholas J. White, François Nosten, Michael T. Ferdig and Timothy J. C.\\nAnderson\\n',\n",
       " 'Science(cid:160)\\n336\\n (6077), 79-82.\\nDOI: 10.1126/science.1215966\\n',\n",
       " 'Narrowing Down Artemisinin Resistance\\nKnowing that antimalarial drug resistance is characterized by selective sweeps and reduced diversity around\\nresistance mutations, \\nCheeseman \\net al.\\n (p. 79) looked for signatures of selection in a modified genome-wide association\\nstudy in parasite populations from Cambodia, Laos, and Thailand. Thirty-three regions showed evidence of selection and \\nenrichment of known antimalarial resistance genes. Fine-mapping of parasite samples taken during the past decade\\nnarrowed the association down to a 35-kb region of seven genes on chromosome 13 that seemed to explain at least \\n35%\\nof the observed reduction in parasite clearance rate. However, the absence of strong candidate mutations suggests the \\ninvolvement of noncoding regulatory mutations.\\n',\n",
       " 'ARTICLE TOOLS\\n',\n",
       " 'http://science.sciencemag.org/content/336/6077/79\\n',\n",
       " 'SUPPLEMENTARY \\nMATERIALS\\n',\n",
       " 'http://science.sciencemag.org/content/suppl/2012/04/05/336.6077.79.DC2\\nhttp://science.sciencemag.org/content/suppl/2012/04/05/336.6077.79.DC1\\n',\n",
       " 'RELATED \\nCONTENT\\n',\n",
       " 'REFERENCES\\n',\n",
       " 'http://science.sciencemag.org/content/sci/336/6077/99.2.full\\n',\n",
       " 'This article cites 32 articles, 10 of which you can access for free\\nhttp://science.sciencemag.org/content/336/6077/79#BIBL\\n',\n",
       " 'PERMISSIONS\\n',\n",
       " 'http://www.sciencemag.org/help/reprints-and-permissions\\n',\n",
       " 'D\\n',\n",
       " 'o\\n',\n",
       " 'w\\n',\n",
       " 'l\\n',\n",
       " 'n\\no\\na\\nd\\ne\\nd\\n',\n",
       " 'f\\nr\\n',\n",
       " 'o\\n',\n",
       " 'm\\n',\n",
       " 'h\\n',\n",
       " 't\\nt\\n',\n",
       " 'p\\n',\n",
       " ':\\n/\\n/\\n',\n",
       " 'i\\n',\n",
       " 's\\nc\\ne\\nn\\nc\\ne\\n',\n",
       " '.\\n',\n",
       " 'i\\n',\n",
       " 's\\nc\\ne\\nn\\nc\\ne\\n',\n",
       " 'm\\n',\n",
       " 'a\\ng\\n',\n",
       " '.\\n',\n",
       " 'o\\n',\n",
       " 'r\\n',\n",
       " 'g\\n',\n",
       " '/\\n',\n",
       " 'o\\nn\\n',\n",
       " 'O\\n',\n",
       " 'c\\n',\n",
       " 't\\n',\n",
       " 'o\\nb\\ne\\n',\n",
       " 'r\\n',\n",
       " '8\\n',\n",
       " ',\\n',\n",
       " '2\\n0\\n1\\n8\\n',\n",
       " 'Use of this article is subject to the \\nTerms of Service\\n',\n",
       " 'Science \\n(print ISSN 0036-8075; online ISSN 1095-9203) is published by the American Association for the Advancement of\\nScience, 1200 New York Avenue NW, Washington, DC 20005. 2017 © The Authors, some rights reserved; exclusive \\nlicensee American Association for the Advancement of Science. No claim to original U.S. Government Works. The title \\nScience\\n is a registered trademark of AAAS.\\n',\n",
       " ' \\n',\n",
       " ' \\n',\n",
       " ' \\n',\n",
       " ' \\n',\n",
       " ' \\n',\n",
       " ' \\n']"
      ]
     },
     "execution_count": 25,
     "metadata": {},
     "output_type": "execute_result"
    }
   ],
   "source": [
    "result[-1]"
   ]
  },
  {
   "cell_type": "code",
   "execution_count": null,
   "metadata": {
    "collapsed": true
   },
   "outputs": [],
   "source": []
  }
 ],
 "metadata": {
  "kernelspec": {
   "display_name": "Python 3",
   "language": "python",
   "name": "python3"
  },
  "language_info": {
   "codemirror_mode": {
    "name": "ipython",
    "version": 3
   },
   "file_extension": ".py",
   "mimetype": "text/x-python",
   "name": "python",
   "nbconvert_exporter": "python",
   "pygments_lexer": "ipython3",
   "version": "3.6.0"
  }
 },
 "nbformat": 4,
 "nbformat_minor": 2
}
