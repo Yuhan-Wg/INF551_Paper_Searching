{
 "cells": [
  {
   "cell_type": "code",
   "execution_count": 48,
   "metadata": {
    "collapsed": true
   },
   "outputs": [],
   "source": [
    "import json\n",
    "import re\n",
    "import nltk\n",
    "import requests\n",
    "from nltk.corpus import stopwords \n",
    "from gensim.test.utils import common_texts, get_tmpfile\n",
    "from gensim.models import Word2Vec\n",
    "from sklearn.feature_extraction.text import TfidfTransformer\n",
    "from nltk.stem import WordNetLemmatizer"
   ]
  },
  {
   "cell_type": "code",
   "execution_count": 2,
   "metadata": {
    "collapsed": false
   },
   "outputs": [],
   "source": [
    "with open(\"./data/json/metadata.json\",'r',encoding='utf-8') as json_file:\n",
    "    p = json.load(json_file)"
   ]
  },
  {
   "cell_type": "code",
   "execution_count": 5,
   "metadata": {
    "collapsed": false,
    "scrolled": true
   },
   "outputs": [
    {
     "data": {
      "text/plain": [
       "'The MaxDiscovery Toxicity Assay Kits monitor in vivo toxicity by measuring liver and heart function in serum samples. These simple and convenient tests allow the rapid, colorimetirc determination of well-characterized functional markers of liver and heart toxicity. They can be used to monitor toxic effects caused by administration of small-interfering RNA, DNA plasmids, transfection agents, or other therapeutic treatments during preclinical studies. The assays can be used in a range of mammals, including mice and rats, providing a powerful tool to assess and reduce the toxicity of drug formulations and to improve drug delivery methods.  Bioo Scientific  For info: 512-707-8993 www.biooscientific.com The Protein Fractionation Kit enables the stepwise separation and preparation of cytoplasmic, membrane, nuclear soluble, chromatin-bound, and cytoskeletal protein extracts from mammalian cultured cells or tissue for protein localization studies or enrichment of specific cellular compartments. The simple protocol is completed in less than three hours and requires no ultracentrifugation over gradients during any of the steps. The subcellular extracts obtained are compatible with a variety of downstream applications, including protein assays, protein immunoblotting, electrophoretic mobility assays, and enzyme activity assays. The kit includes four extraction buffers, a stabilized nuclease, and the Halt Protease Inhibitor Cocktail.  Thermo Fisher Scientific  For info: 815-968-0747 www.thermo.com/pierce Gyrolab xP is a second generation of a platform for miniaturized protein quantification at all stages of drug development. The system offers enhanced ease-of-use,21 CFR part 11 compliance, and extended validation support for smooth implementation in good laboratory practice–regulated environments.  Gyros  For info: +46-18-56-64-00 www.gyros.com The AllostericProfiler service is aimed at researchers developing new drugs using G-protein coupled receptors (GPCRs). The service provides drug developers with cell-based assays to evaluate the functional selectivity of drugs against GPCRs. Although 40 percent of all marketed drugs are targeted to GPCRs, the similarity of GPCR binding sites coupled with saturated intellectual property around this chemical space have hampered GPCR drug discovery efforts. Increasingly, drug makers are instead focusing on novel allosteric GPCR sites to open up new chemical spaces, and this service is designed to help in that effort. The service allows researchers to screen the selectivity of their allosteric compounds for more than 150 GPCRs. Millipore can also provide custom services to help researchers identify new positive allosteric modulators of a GPCR target of interest.  Millipore  For info: 800-548-7853 www.millipore.com/gpcr The AutoloopPRO is a fully automatic carousel for flame sterilizing inoculation loops. The stable housing of the AutoloopPRO enables comfortable and easy access to inoculation loops. Removal positions on both sides make the carousel equally suitable for right- and left-handers. It can be used with up to four inoculation loops. Flaming and cooling time can be adjusted to the second. The carousel rotates and controls flaming automatically. It is fabricated of stainless steel and anodized aluminum and features a graphic display protected by heat-resistant glass.  WLD-TEC  For info: +49-(0)-551-793789 www.WLD-TEC.com The Stacis FP active vibration cancellation floor platform system is designed for use with scanning electron microscopes (SEMs). It features subhertz vibration cancellation in an active hard-mount floor platform that fits most commercial SEMs. SEMs generally incorporate an internal vibration isolation system, and Stacis FP is compatible with all of them. The system is only seven inches tall, measures three inches by 40 inches, weighs less than 400 pounds, and can support 2,500 pounds or more with no soft air suspension. It is available with three or six degrees of freedom.  Technical Manufacturing Corporation For info: 978-532-6330  www.techmfg.com Electronically submit your new product description or product literature information! Go to www.sciencemag.org/products/newproducts.dtl for more information. Newly offered instrumentation, apparatus, and laboratory materials of interest to researchers in all disciplines in academic, industrial, and governmental organizations are featured in this space. Emphasis is given to purpose, chief characteristics, and availabilty of products and materials. Endorsement by Science or AAAS of any products or materials mentioned is not implied. Additional information may be obtained from the manufacturer or supplier. A weekly roundup of information on newly offered instrumentation, apparatus, and laboratory materials of potential interest to researchers. A weekly roundup of information on newly offered instrumentation, apparatus, and laboratory materials of potential interest to researchers. '"
      ]
     },
     "execution_count": 5,
     "metadata": {},
     "output_type": "execute_result"
    }
   ],
   "source": [
    "p['id']['0']['text']"
   ]
  },
  {
   "cell_type": "code",
   "execution_count": 15,
   "metadata": {
    "collapsed": false
   },
   "outputs": [],
   "source": [
    "path = get_tmpfile(\"word2vec.model\")\n",
    "\n",
    "model = Word2Vec(common_texts, size=100, window=5, min_count=1, workers=4)\n",
    "model.save(\"word2vec.model\")"
   ]
  },
  {
   "cell_type": "code",
   "execution_count": 6,
   "metadata": {
    "collapsed": true
   },
   "outputs": [],
   "source": [
    "sentences = [p['id'][key]['text'] for key in p['id']]"
   ]
  },
  {
   "cell_type": "code",
   "execution_count": 29,
   "metadata": {
    "collapsed": false
   },
   "outputs": [],
   "source": [
    "words = []\n",
    "lemmatizer = WordNetLemmatizer()\n",
    "for s in sentences:\n",
    "    li = []\n",
    "    for w in re.sub('[^a-z]',' ',s.lower()).split():\n",
    "        if w not in sw:\n",
    "            li.append(w)\n",
    "    words.append(li)\n",
    "        "
   ]
  },
  {
   "cell_type": "code",
   "execution_count": 38,
   "metadata": {
    "collapsed": false
   },
   "outputs": [],
   "source": [
    "model = Word2Vec(words, sg=1, size=100, window=5, min_count=5, negative=3, sample=0.001, hs=1, workers=4)"
   ]
  },
  {
   "cell_type": "code",
   "execution_count": 39,
   "metadata": {
    "collapsed": false
   },
   "outputs": [
    {
     "data": {
      "text/plain": [
       "(4330164, 4468634)"
      ]
     },
     "execution_count": 39,
     "metadata": {},
     "output_type": "execute_result"
    }
   ],
   "source": [
    "model.train(words, total_examples=1, epochs=1)"
   ]
  },
  {
   "cell_type": "code",
   "execution_count": 46,
   "metadata": {
    "collapsed": false
   },
   "outputs": [
    {
     "data": {
      "text/plain": [
       "<gensim.models.keyedvectors.Word2VecKeyedVectors at 0x11a29b978>"
      ]
     },
     "execution_count": 46,
     "metadata": {},
     "output_type": "execute_result"
    }
   ],
   "source": [
    "model.wv"
   ]
  },
  {
   "cell_type": "code",
   "execution_count": null,
   "metadata": {
    "collapsed": false,
    "scrolled": true
   },
   "outputs": [],
   "source": [
    "vec = []\n",
    "\n",
    "for "
   ]
  },
  {
   "cell_type": "code",
   "execution_count": 49,
   "metadata": {
    "collapsed": false
   },
   "outputs": [
    {
     "ename": "NameError",
     "evalue": "name 'WordNetLemmatizer' is not defined",
     "output_type": "error",
     "traceback": [
      "\u001b[0;31m---------------------------------------------------------------------------\u001b[0m",
      "\u001b[0;31mNameError\u001b[0m                                 Traceback (most recent call last)",
      "\u001b[0;32m<ipython-input-49-898e0cfff5a4>\u001b[0m in \u001b[0;36m<module>\u001b[0;34m()\u001b[0m\n\u001b[0;32m----> 1\u001b[0;31m \u001b[0mlemmatizer\u001b[0m \u001b[0;34m=\u001b[0m \u001b[0mWordNetLemmatizer\u001b[0m\u001b[0;34m(\u001b[0m\u001b[0;34m)\u001b[0m\u001b[0;34m\u001b[0m\u001b[0m\n\u001b[0m\u001b[1;32m      2\u001b[0m \u001b[0mlemmatizer\u001b[0m\u001b[0;34m.\u001b[0m\u001b[0mlemmalize\u001b[0m\u001b[0;34m(\u001b[0m\u001b[0;34m'weekly'\u001b[0m\u001b[0;34m)\u001b[0m\u001b[0;34m\u001b[0m\u001b[0m\n",
      "\u001b[0;31mNameError\u001b[0m: name 'WordNetLemmatizer' is not defined"
     ]
    }
   ],
   "source": [
    "lemmatizer = WordNetLemmatizer()\n",
    "lemmatizer.lemmalize('weekly')"
   ]
  },
  {
   "cell_type": "code",
   "execution_count": null,
   "metadata": {
    "collapsed": true
   },
   "outputs": [],
   "source": []
  }
 ],
 "metadata": {
  "kernelspec": {
   "display_name": "Python 3",
   "language": "python",
   "name": "python3"
  },
  "language_info": {
   "codemirror_mode": {
    "name": "ipython",
    "version": 3
   },
   "file_extension": ".py",
   "mimetype": "text/x-python",
   "name": "python",
   "nbconvert_exporter": "python",
   "pygments_lexer": "ipython3",
   "version": "3.6.0"
  }
 },
 "nbformat": 4,
 "nbformat_minor": 2
}
