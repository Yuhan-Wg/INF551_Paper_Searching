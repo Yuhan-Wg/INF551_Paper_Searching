{
 "cells": [
  {
   "cell_type": "code",
   "execution_count": 1,
   "metadata": {
    "collapsed": true
   },
   "outputs": [],
   "source": [
    "import sys\n",
    "import importlib\n",
    "import os\n",
    "from pdfminer.pdfparser import PDFParser,PDFDocument"
   ]
  },
  {
   "cell_type": "code",
   "execution_count": 2,
   "metadata": {
    "collapsed": true
   },
   "outputs": [],
   "source": [
    "file_list = os.listdir(\"data/pdf\")"
   ]
  },
  {
   "cell_type": "code",
   "execution_count": 5,
   "metadata": {
    "collapsed": false,
    "slideshow": {
     "slide_type": "-"
    }
   },
   "outputs": [
    {
     "name": "stdout",
     "output_type": "stream",
     "text": [
      "[{'CreationDate': '', 'Creator': '', 'ModDate': '', 'Producer': '', 'Title': 'A Major Genome Region Underlying Artemisinin Resistance in Malaria', 'Author': b'Ian H. Cheeseman, Becky A. Miller, Shalini Nair, Standwell Nkhoma, Asako Tan, John C. Tan, Salma Al Saai, Aung Pyae, Phyo, Carit Ler Moo, Khin Maung Lwin, Rose McGready, Elizabeth Ashley, Mallika Imwong, Kasia Stepniewska, Poravuth Yi, Arjen M. Dondorp, Mayfong Mayxay, Paul N. Newton, Nicholas J. White, Fran\\xe7ois Nosten, Michael T. Ferdig, Timothy J. C. Anderson', 'Subject': '', 'Keywords': ''}]\n"
     ]
    }
   ],
   "source": [
    "metadata = []\n",
    "for file in file_list:\n",
    "    fp = open('data/pdf/' + file, 'rb')\n",
    "    parser = PDFParser(fp)\n",
    "    doc = PDFDocument()\n",
    "    parser.set_document(doc)\n",
    "    doc.set_parser(parser)\n",
    "    doc.initialize()\n",
    "    metadata.extend(doc.info)\n",
    "    print(doc.info)"
   ]
  },
  {
   "cell_type": "code",
   "execution_count": 9,
   "metadata": {
    "collapsed": false
   },
   "outputs": [
    {
     "name": "stdout",
     "output_type": "stream",
     "text": [
      "[{'CreationDate': 'D:20130311074142Z', 'Creator': '3B2 Total Publishing System 8.07e/W Unicode ', 'ModDate': \"D:20181008173719-07'00'\", 'Producer': 'Acrobat Distiller 5.0 (Windows)', 'Title': '1290 1302..1305'}]\n",
      "[{'CreationDate': 'D:20130311074142Z', 'Creator': '3B2 Total Publishing System 8.07e/W Unicode ', 'ModDate': \"D:20181008173719-07'00'\", 'Producer': 'Acrobat Distiller 5.0 (Windows)', 'Title': '1290 1302..1305'}, {'CreationDate': \"D:20120612073627+08'00'\", 'Creator': '3B2 Total Publishing System 8.07e/W Unicode ', 'ModDate': \"D:20181008172332-07'00'\", 'Producer': 'Acrobat Distiller 5.0 (Windows)', 'Title': '1422 1438..1440'}]\n",
      "[{'CreationDate': 'D:20130311074142Z', 'Creator': '3B2 Total Publishing System 8.07e/W Unicode ', 'ModDate': \"D:20181008173719-07'00'\", 'Producer': 'Acrobat Distiller 5.0 (Windows)', 'Title': '1290 1302..1305'}, {'CreationDate': \"D:20120612073627+08'00'\", 'Creator': '3B2 Total Publishing System 8.07e/W Unicode ', 'ModDate': \"D:20181008172332-07'00'\", 'Producer': 'Acrobat Distiller 5.0 (Windows)', 'Title': '1422 1438..1440'}, {'CreationDate': 'D:20141215150002Z', 'Creator': 'Arbortext Advanced Print Publisher 9.1.440/W Unicode', 'ModDate': \"D:20181008214014-07'00'\", 'Producer': 'Acrobat Distiller 5.0 (Windows)', 'Title': '1480 1480..1486'}]\n",
      "[{'CreationDate': 'D:20130311074142Z', 'Creator': '3B2 Total Publishing System 8.07e/W Unicode ', 'ModDate': \"D:20181008173719-07'00'\", 'Producer': 'Acrobat Distiller 5.0 (Windows)', 'Title': '1290 1302..1305'}, {'CreationDate': \"D:20120612073627+08'00'\", 'Creator': '3B2 Total Publishing System 8.07e/W Unicode ', 'ModDate': \"D:20181008172332-07'00'\", 'Producer': 'Acrobat Distiller 5.0 (Windows)', 'Title': '1422 1438..1440'}, {'CreationDate': 'D:20141215150002Z', 'Creator': 'Arbortext Advanced Print Publisher 9.1.440/W Unicode', 'ModDate': \"D:20181008214014-07'00'\", 'Producer': 'Acrobat Distiller 5.0 (Windows)', 'Title': '1480 1480..1486'}, {'CreationDate': 'D:20110701205641Z', 'Creator': '3B2 Total Publishing System 8.07e/W Unicode ', 'ModDate': \"D:20181008170454-07'00'\", 'Producer': 'Acrobat Distiller 5.0 (Windows)', 'Title': '199 199..202'}]\n",
      "[{'CreationDate': 'D:20130311074142Z', 'Creator': '3B2 Total Publishing System 8.07e/W Unicode ', 'ModDate': \"D:20181008173719-07'00'\", 'Producer': 'Acrobat Distiller 5.0 (Windows)', 'Title': '1290 1302..1305'}, {'CreationDate': \"D:20120612073627+08'00'\", 'Creator': '3B2 Total Publishing System 8.07e/W Unicode ', 'ModDate': \"D:20181008172332-07'00'\", 'Producer': 'Acrobat Distiller 5.0 (Windows)', 'Title': '1422 1438..1440'}, {'CreationDate': 'D:20141215150002Z', 'Creator': 'Arbortext Advanced Print Publisher 9.1.440/W Unicode', 'ModDate': \"D:20181008214014-07'00'\", 'Producer': 'Acrobat Distiller 5.0 (Windows)', 'Title': '1480 1480..1486'}, {'CreationDate': 'D:20110701205641Z', 'Creator': '3B2 Total Publishing System 8.07e/W Unicode ', 'ModDate': \"D:20181008170454-07'00'\", 'Producer': 'Acrobat Distiller 5.0 (Windows)', 'Title': '199 199..202'}, {'CreationDate': 'D:20150223073247Z', 'Creator': 'Arbortext Advanced Print Publisher 9.1.440/W Unicode', 'ModDate': \"D:20181008215433-07'00'\", 'Producer': 'Acrobat Distiller 5.0 (Windows)', 'Title': '1002 1010..1014'}]\n",
      "[{'CreationDate': 'D:20130311074142Z', 'Creator': '3B2 Total Publishing System 8.07e/W Unicode ', 'ModDate': \"D:20181008173719-07'00'\", 'Producer': 'Acrobat Distiller 5.0 (Windows)', 'Title': '1290 1302..1305'}, {'CreationDate': \"D:20120612073627+08'00'\", 'Creator': '3B2 Total Publishing System 8.07e/W Unicode ', 'ModDate': \"D:20181008172332-07'00'\", 'Producer': 'Acrobat Distiller 5.0 (Windows)', 'Title': '1422 1438..1440'}, {'CreationDate': 'D:20141215150002Z', 'Creator': 'Arbortext Advanced Print Publisher 9.1.440/W Unicode', 'ModDate': \"D:20181008214014-07'00'\", 'Producer': 'Acrobat Distiller 5.0 (Windows)', 'Title': '1480 1480..1486'}, {'CreationDate': 'D:20110701205641Z', 'Creator': '3B2 Total Publishing System 8.07e/W Unicode ', 'ModDate': \"D:20181008170454-07'00'\", 'Producer': 'Acrobat Distiller 5.0 (Windows)', 'Title': '199 199..202'}, {'CreationDate': 'D:20150223073247Z', 'Creator': 'Arbortext Advanced Print Publisher 9.1.440/W Unicode', 'ModDate': \"D:20181008215433-07'00'\", 'Producer': 'Acrobat Distiller 5.0 (Windows)', 'Title': '1002 1010..1014'}, {'CreationDate': 'D:20100913023029Z', 'Creator': '3B2 Total Publishing System 8.07e/W Unicode ', 'ModDate': \"D:20181008165433-07'00'\", 'Producer': 'Acrobat Distiller 5.0 (Windows)', 'Title': '1504 1513..1516'}]\n",
      "[{'CreationDate': 'D:20130311074142Z', 'Creator': '3B2 Total Publishing System 8.07e/W Unicode ', 'ModDate': \"D:20181008173719-07'00'\", 'Producer': 'Acrobat Distiller 5.0 (Windows)', 'Title': '1290 1302..1305'}, {'CreationDate': \"D:20120612073627+08'00'\", 'Creator': '3B2 Total Publishing System 8.07e/W Unicode ', 'ModDate': \"D:20181008172332-07'00'\", 'Producer': 'Acrobat Distiller 5.0 (Windows)', 'Title': '1422 1438..1440'}, {'CreationDate': 'D:20141215150002Z', 'Creator': 'Arbortext Advanced Print Publisher 9.1.440/W Unicode', 'ModDate': \"D:20181008214014-07'00'\", 'Producer': 'Acrobat Distiller 5.0 (Windows)', 'Title': '1480 1480..1486'}, {'CreationDate': 'D:20110701205641Z', 'Creator': '3B2 Total Publishing System 8.07e/W Unicode ', 'ModDate': \"D:20181008170454-07'00'\", 'Producer': 'Acrobat Distiller 5.0 (Windows)', 'Title': '199 199..202'}, {'CreationDate': 'D:20150223073247Z', 'Creator': 'Arbortext Advanced Print Publisher 9.1.440/W Unicode', 'ModDate': \"D:20181008215433-07'00'\", 'Producer': 'Acrobat Distiller 5.0 (Windows)', 'Title': '1002 1010..1014'}, {'CreationDate': 'D:20100913023029Z', 'Creator': '3B2 Total Publishing System 8.07e/W Unicode ', 'ModDate': \"D:20181008165433-07'00'\", 'Producer': 'Acrobat Distiller 5.0 (Windows)', 'Title': '1504 1513..1516'}, {'Author': 'American Association for the Advancement of Science', 'CreationDate': 'D:20150624150407Z', 'Creator': 'DALiM Software Applications', 'Keywords': 'Science Magazine Article', 'ModDate': \"D:20181008232815-07'00'\", 'Producer': 'Science Journals - Operations', 'Title': 'Science Magazine', 'Trapped': /True}]\n",
      "[{'CreationDate': 'D:20130311074142Z', 'Creator': '3B2 Total Publishing System 8.07e/W Unicode ', 'ModDate': \"D:20181008173719-07'00'\", 'Producer': 'Acrobat Distiller 5.0 (Windows)', 'Title': '1290 1302..1305'}, {'CreationDate': \"D:20120612073627+08'00'\", 'Creator': '3B2 Total Publishing System 8.07e/W Unicode ', 'ModDate': \"D:20181008172332-07'00'\", 'Producer': 'Acrobat Distiller 5.0 (Windows)', 'Title': '1422 1438..1440'}, {'CreationDate': 'D:20141215150002Z', 'Creator': 'Arbortext Advanced Print Publisher 9.1.440/W Unicode', 'ModDate': \"D:20181008214014-07'00'\", 'Producer': 'Acrobat Distiller 5.0 (Windows)', 'Title': '1480 1480..1486'}, {'CreationDate': 'D:20110701205641Z', 'Creator': '3B2 Total Publishing System 8.07e/W Unicode ', 'ModDate': \"D:20181008170454-07'00'\", 'Producer': 'Acrobat Distiller 5.0 (Windows)', 'Title': '199 199..202'}, {'CreationDate': 'D:20150223073247Z', 'Creator': 'Arbortext Advanced Print Publisher 9.1.440/W Unicode', 'ModDate': \"D:20181008215433-07'00'\", 'Producer': 'Acrobat Distiller 5.0 (Windows)', 'Title': '1002 1010..1014'}, {'CreationDate': 'D:20100913023029Z', 'Creator': '3B2 Total Publishing System 8.07e/W Unicode ', 'ModDate': \"D:20181008165433-07'00'\", 'Producer': 'Acrobat Distiller 5.0 (Windows)', 'Title': '1504 1513..1516'}, {'Author': 'American Association for the Advancement of Science', 'CreationDate': 'D:20150624150407Z', 'Creator': 'DALiM Software Applications', 'Keywords': 'Science Magazine Article', 'ModDate': \"D:20181008232815-07'00'\", 'Producer': 'Science Journals - Operations', 'Title': 'Science Magazine', 'Trapped': /True}, {'CreationDate': 'D:20140714164938Z', 'Creator': 'Arbortext Advanced Print Publisher 9.1.440/W Unicode', 'ModDate': \"D:20181008213029-07'00'\", 'Producer': 'Acrobat Distiller 5.0 (Windows)', 'Title': 'Choulet_pages 1..7'}]\n"
     ]
    },
    {
     "ename": "PDFSyntaxError",
     "evalue": "No /Root object! - Is this really a PDF?",
     "output_type": "error",
     "traceback": [
      "\u001b[0;31m---------------------------------------------------------------------------\u001b[0m",
      "\u001b[0;31mPDFSyntaxError\u001b[0m                            Traceback (most recent call last)",
      "\u001b[0;32m<ipython-input-9-0a8045d8454a>\u001b[0m in \u001b[0;36m<module>\u001b[0;34m()\u001b[0m\n\u001b[1;32m      5\u001b[0m     \u001b[0mdoc\u001b[0m \u001b[0;34m=\u001b[0m \u001b[0mPDFDocument\u001b[0m\u001b[0;34m(\u001b[0m\u001b[0;34m)\u001b[0m\u001b[0;34m\u001b[0m\u001b[0m\n\u001b[1;32m      6\u001b[0m     \u001b[0mparser\u001b[0m\u001b[0;34m.\u001b[0m\u001b[0mset_document\u001b[0m\u001b[0;34m(\u001b[0m\u001b[0mdoc\u001b[0m\u001b[0;34m)\u001b[0m\u001b[0;34m\u001b[0m\u001b[0m\n\u001b[0;32m----> 7\u001b[0;31m     \u001b[0mdoc\u001b[0m\u001b[0;34m.\u001b[0m\u001b[0mset_parser\u001b[0m\u001b[0;34m(\u001b[0m\u001b[0mparser\u001b[0m\u001b[0;34m)\u001b[0m\u001b[0;34m\u001b[0m\u001b[0m\n\u001b[0m\u001b[1;32m      8\u001b[0m     \u001b[0mdoc\u001b[0m\u001b[0;34m.\u001b[0m\u001b[0minitialize\u001b[0m\u001b[0;34m(\u001b[0m\u001b[0;34m)\u001b[0m\u001b[0;34m\u001b[0m\u001b[0m\n\u001b[1;32m      9\u001b[0m     \u001b[0mmetadata\u001b[0m\u001b[0;34m.\u001b[0m\u001b[0mextend\u001b[0m\u001b[0;34m(\u001b[0m\u001b[0mdoc\u001b[0m\u001b[0;34m.\u001b[0m\u001b[0minfo\u001b[0m\u001b[0;34m)\u001b[0m\u001b[0;34m\u001b[0m\u001b[0m\n",
      "\u001b[0;32m/Users/wangyuhan/anaconda/lib/python3.6/site-packages/pdfminer/pdfparser.py\u001b[0m in \u001b[0;36mset_parser\u001b[0;34m(self, parser)\u001b[0m\n\u001b[1;32m    438\u001b[0m                 \u001b[0;32mbreak\u001b[0m\u001b[0;34m\u001b[0m\u001b[0m\n\u001b[1;32m    439\u001b[0m         \u001b[0;32melse\u001b[0m\u001b[0;34m:\u001b[0m\u001b[0;34m\u001b[0m\u001b[0m\n\u001b[0;32m--> 440\u001b[0;31m             \u001b[0;32mraise\u001b[0m \u001b[0mPDFSyntaxError\u001b[0m\u001b[0;34m(\u001b[0m\u001b[0;34m'No /Root object! - Is this really a PDF?'\u001b[0m\u001b[0;34m)\u001b[0m\u001b[0;34m\u001b[0m\u001b[0m\n\u001b[0m\u001b[1;32m    441\u001b[0m         \u001b[0;32mif\u001b[0m \u001b[0mself\u001b[0m\u001b[0;34m.\u001b[0m\u001b[0mcatalog\u001b[0m\u001b[0;34m.\u001b[0m\u001b[0mget\u001b[0m\u001b[0;34m(\u001b[0m\u001b[0;34m'Type'\u001b[0m\u001b[0;34m)\u001b[0m \u001b[0;32mis\u001b[0m \u001b[0;32mnot\u001b[0m \u001b[0mLITERAL_CATALOG\u001b[0m\u001b[0;34m:\u001b[0m\u001b[0;34m\u001b[0m\u001b[0m\n\u001b[1;32m    442\u001b[0m             \u001b[0mhandle_error\u001b[0m\u001b[0;34m(\u001b[0m\u001b[0mPDFSyntaxError\u001b[0m\u001b[0;34m,\u001b[0m \u001b[0;34m'Catalog not found!'\u001b[0m\u001b[0;34m)\u001b[0m\u001b[0;34m\u001b[0m\u001b[0m\n",
      "\u001b[0;31mPDFSyntaxError\u001b[0m: No /Root object! - Is this really a PDF?"
     ]
    }
   ],
   "source": [
    "metadata = []\n",
    "for file in file_list:\n",
    "    fp = open('data/pdf/' + file, 'rb')\n",
    "    parser = PDFParser(fp)\n",
    "    doc = PDFDocument()\n",
    "    parser.set_document(doc)\n",
    "    doc.set_parser(parser)\n",
    "    doc.initialize()\n",
    "    metadata.extend(doc.info)\n",
    "    print(metadata)"
   ]
  },
  {
   "cell_type": "code",
   "execution_count": null,
   "metadata": {
    "collapsed": false
   },
   "outputs": [],
   "source": []
  },
  {
   "cell_type": "code",
   "execution_count": null,
   "metadata": {
    "collapsed": true
   },
   "outputs": [],
   "source": []
  }
 ],
 "metadata": {
  "kernelspec": {
   "display_name": "Python 3",
   "language": "python",
   "name": "python3"
  },
  "language_info": {
   "codemirror_mode": {
    "name": "ipython",
    "version": 3
   },
   "file_extension": ".py",
   "mimetype": "text/x-python",
   "name": "python",
   "nbconvert_exporter": "python",
   "pygments_lexer": "ipython3",
   "version": "3.6.0"
  }
 },
 "nbformat": 4,
 "nbformat_minor": 2
}
