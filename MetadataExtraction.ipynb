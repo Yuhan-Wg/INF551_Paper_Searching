{
 "cells": [
  {
   "cell_type": "code",
   "execution_count": 1,
   "metadata": {},
   "outputs": [],
   "source": [
    "import sys\n",
    "import importlib\n",
    "import os\n",
    "from pdfminer.pdfparser import PDFParser,PDFDocument"
   ]
  },
  {
   "cell_type": "code",
   "execution_count": 2,
   "metadata": {},
   "outputs": [],
   "source": [
    "file_list = os.listdir(\"data/pdf\")"
   ]
  },
  {
   "cell_type": "code",
   "execution_count": 5,
   "metadata": {},
   "outputs": [
    {
     "name": "stdout",
     "output_type": "stream",
     "text": [
      "[{'CreationDate': '', 'Creator': '', 'ModDate': '', 'Producer': '', 'Title': 'A Major Genome Region Underlying Artemisinin Resistance in Malaria', 'Author': b'Ian H. Cheeseman, Becky A. Miller, Shalini Nair, Standwell Nkhoma, Asako Tan, John C. Tan, Salma Al Saai, Aung Pyae, Phyo, Carit Ler Moo, Khin Maung Lwin, Rose McGready, Elizabeth Ashley, Mallika Imwong, Kasia Stepniewska, Poravuth Yi, Arjen M. Dondorp, Mayfong Mayxay, Paul N. Newton, Nicholas J. White, Fran\\xe7ois Nosten, Michael T. Ferdig, Timothy J. C. Anderson', 'Subject': '', 'Keywords': ''}]\n"
     ]
    }
   ],
   "source": [
    "fp = open('data/' + file_list[0], 'rb')\n",
    "parser = PDFParser(fp)\n",
    "doc = PDFDocument()\n",
    "parser.set_document(doc)\n",
    "doc.set_parser(parser)\n",
    "doc.initialize()\n",
    "print(doc.info)"
   ]
  },
  {
   "cell_type": "code",
   "execution_count": null,
   "metadata": {},
   "outputs": [],
   "source": []
  }
 ],
 "metadata": {
  "kernelspec": {
   "display_name": "Python 3",
   "language": "python",
   "name": "python3"
  },
  "language_info": {
   "codemirror_mode": {
    "name": "ipython",
    "version": 3
   },
   "file_extension": ".py",
   "mimetype": "text/x-python",
   "name": "python",
   "nbconvert_exporter": "python",
   "pygments_lexer": "ipython3",
   "version": "3.6.5"
  }
 },
 "nbformat": 4,
 "nbformat_minor": 2
}
