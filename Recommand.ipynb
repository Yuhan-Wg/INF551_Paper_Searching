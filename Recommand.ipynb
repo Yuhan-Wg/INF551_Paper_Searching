{
 "cells": [
  {
   "cell_type": "code",
   "execution_count": 1,
   "metadata": {
    "collapsed": true
   },
   "outputs": [],
   "source": [
    "import json\n",
    "import re\n",
    "import nltk\n",
    "import requests\n",
    "from nltk.corpus import stopwords \n",
    "from gensim.test.utils import common_texts, get_tmpfile\n",
    "from gensim.models import Word2Vec\n",
    "from sklearn.feature_extraction.text import TfidfTransformer\n",
    "from nltk.stem import WordNetLemmatizer\n",
    "from sklearn.pipeline import make_pipeline, make_union\n",
    "from sklearn.preprocessing import FunctionTransformer, LabelEncoder\n",
    "import numpy as np\n",
    "\n",
    "from sklearn.feature_extraction.text import TfidfVectorizer"
   ]
  },
  {
   "cell_type": "code",
   "execution_count": 6,
   "metadata": {
    "collapsed": false
   },
   "outputs": [
    {
     "data": {
      "text/plain": [
       "dict_keys(['category', 'type', 'publisher', 'author', 'institution', 'year', 'authorWords', 'institutionWords', 'textWords', 'titleWords', 'publisherWords', 'id', 'authorInstitution', 'catesearch'])"
      ]
     },
     "execution_count": 6,
     "metadata": {},
     "output_type": "execute_result"
    }
   ],
   "source": [
    "p.keys()"
   ]
  },
  {
   "cell_type": "code",
   "execution_count": 4,
   "metadata": {
    "collapsed": false
   },
   "outputs": [
    {
     "data": {
      "text/plain": [
       "[1536,\n",
       " 1537,\n",
       " 3077,\n",
       " 2055,\n",
       " 522,\n",
       " 511,\n",
       " 12,\n",
       " 1548,\n",
       " 3596,\n",
       " 3606,\n",
       " 1050,\n",
       " 3612,\n",
       " 29,\n",
       " 30,\n",
       " 3101,\n",
       " 1568,\n",
       " 1061,\n",
       " 551,\n",
       " 1064,\n",
       " 2088,\n",
       " 3626,\n",
       " 558,\n",
       " 1073,\n",
       " 56,\n",
       " 572,\n",
       " 574,\n",
       " 1598,\n",
       " 73,\n",
       " 3660,\n",
       " 1618,\n",
       " 1107,\n",
       " 86,\n",
       " 1625,\n",
       " 92,\n",
       " 605,\n",
       " 3172,\n",
       " 2150,\n",
       " 2664,\n",
       " 108,\n",
       " 1649,\n",
       " 1650,\n",
       " 3186,\n",
       " 1142,\n",
       " 2169,\n",
       " 1659,\n",
       " 638,\n",
       " 128,\n",
       " 1665,\n",
       " 3202,\n",
       " 2179,\n",
       " 135,\n",
       " 136,\n",
       " 647,\n",
       " 1161,\n",
       " 1676,\n",
       " 144,\n",
       " 656,\n",
       " 3218,\n",
       " 153,\n",
       " 1694,\n",
       " 3743,\n",
       " 673,\n",
       " 162,\n",
       " 680,\n",
       " 682,\n",
       " 3242,\n",
       " 3754,\n",
       " 3755,\n",
       " 1713,\n",
       " 1202,\n",
       " 1203,\n",
       " 692,\n",
       " 1714,\n",
       " 2225,\n",
       " 185,\n",
       " 2746,\n",
       " 1723,\n",
       " 700,\n",
       " 1214,\n",
       " 193,\n",
       " 194,\n",
       " 2250,\n",
       " 715,\n",
       " 1739,\n",
       " 206,\n",
       " 207,\n",
       " 719,\n",
       " 1745,\n",
       " 2771,\n",
       " 2772,\n",
       " 3288,\n",
       " 1754,\n",
       " 731,\n",
       " 2783,\n",
       " 3295,\n",
       " 3297,\n",
       " 739,\n",
       " 2280,\n",
       " 3817,\n",
       " 1771,\n",
       " 238,\n",
       " 751,\n",
       " 2290,\n",
       " 1267,\n",
       " 247,\n",
       " 1275,\n",
       " 2300,\n",
       " 765,\n",
       " 1792,\n",
       " 258,\n",
       " 1795,\n",
       " 1288,\n",
       " 3336,\n",
       " 2316,\n",
       " 2317,\n",
       " 270,\n",
       " 272,\n",
       " 280,\n",
       " 3867,\n",
       " 1314,\n",
       " 297,\n",
       " 1326,\n",
       " 816,\n",
       " 2864,\n",
       " 1330,\n",
       " 2355,\n",
       " 2356,\n",
       " 2866,\n",
       " 3894,\n",
       " 828,\n",
       " 318,\n",
       " 319,\n",
       " 3393,\n",
       " 2886,\n",
       " 1864,\n",
       " 1354,\n",
       " 331,\n",
       " 843,\n",
       " 333,\n",
       " 1866,\n",
       " 3403,\n",
       " 3408,\n",
       " 1361,\n",
       " 1873,\n",
       " 3918,\n",
       " 854,\n",
       " 2902,\n",
       " 3417,\n",
       " 2397,\n",
       " 1375,\n",
       " 870,\n",
       " 873,\n",
       " 3948,\n",
       " 365,\n",
       " 1389,\n",
       " 3440,\n",
       " 372,\n",
       " 2420,\n",
       " 1911,\n",
       " 2940,\n",
       " 894,\n",
       " 382,\n",
       " 2434,\n",
       " 905,\n",
       " 1931,\n",
       " 1421,\n",
       " 2446,\n",
       " 1424,\n",
       " 3474,\n",
       " 1941,\n",
       " 920,\n",
       " 1437,\n",
       " 1438,\n",
       " 1440,\n",
       " 1954,\n",
       " 423,\n",
       " 1450,\n",
       " 432,\n",
       " 947,\n",
       " 443,\n",
       " 1985,\n",
       " 2500,\n",
       " 455,\n",
       " 3530,\n",
       " 3540,\n",
       " 984,\n",
       " 3034,\n",
       " 3547,\n",
       " 1501,\n",
       " 3554,\n",
       " 1514,\n",
       " 2030,\n",
       " 1009,\n",
       " 1524,\n",
       " 2045,\n",
       " 1023,\n",
       " 0,\n",
       " 512,\n",
       " 2561,\n",
       " 516,\n",
       " 517,\n",
       " 1029,\n",
       " 520,\n",
       " 521,\n",
       " 2056,\n",
       " 1035,\n",
       " 2060,\n",
       " 3084,\n",
       " 528,\n",
       " 17,\n",
       " 3602,\n",
       " 2579,\n",
       " 540,\n",
       " 541,\n",
       " 1565,\n",
       " 2078,\n",
       " 33,\n",
       " 2551,\n",
       " 3620,\n",
       " 1062,\n",
       " 2600,\n",
       " 3116,\n",
       " 2605,\n",
       " 559,\n",
       " 1585,\n",
       " 3634,\n",
       " 564,\n",
       " 57,\n",
       " 3129,\n",
       " 2625,\n",
       " 1603,\n",
       " 1092,\n",
       " 3141,\n",
       " 70,\n",
       " 2631,\n",
       " 2632,\n",
       " 3142,\n",
       " 3656,\n",
       " 1611,\n",
       " 3147,\n",
       " 2644,\n",
       " 3158,\n",
       " 2135,\n",
       " 600,\n",
       " 1112,\n",
       " 2649,\n",
       " 1627,\n",
       " 1116,\n",
       " 2139,\n",
       " 2152,\n",
       " 620,\n",
       " 1133,\n",
       " 3182,\n",
       " 1647,\n",
       " 3187,\n",
       " 118,\n",
       " 1655,\n",
       " 2167,\n",
       " 2170,\n",
       " 123,\n",
       " 3711,\n",
       " 3200,\n",
       " 3714,\n",
       " 1156,\n",
       " 2182,\n",
       " 1162,\n",
       " 651,\n",
       " 2187,\n",
       " 2701,\n",
       " 2702,\n",
       " 3728,\n",
       " 657,\n",
       " 148,\n",
       " 2708,\n",
       " 2709,\n",
       " 1688,\n",
       " 155,\n",
       " 2207,\n",
       " 163,\n",
       " 3238,\n",
       " 2728,\n",
       " 3756,\n",
       " 3760,\n",
       " 180,\n",
       " 1716,\n",
       " 3252,\n",
       " 3258,\n",
       " 2235,\n",
       " 1724,\n",
       " 1213,\n",
       " 3772,\n",
       " 2239,\n",
       " 1732,\n",
       " 2757,\n",
       " 200,\n",
       " 2760,\n",
       " 3785,\n",
       " 1233,\n",
       " 1234,\n",
       " 3794,\n",
       " 215,\n",
       " 216,\n",
       " 1239,\n",
       " 1758,\n",
       " 735,\n",
       " 3807,\n",
       " 2273,\n",
       " 3813,\n",
       " 742,\n",
       " 2281,\n",
       " 3307,\n",
       " 1260,\n",
       " 2796,\n",
       " 3308,\n",
       " 3819,\n",
       " 1266,\n",
       " 3827,\n",
       " 760,\n",
       " 250,\n",
       " 763,\n",
       " 1786,\n",
       " 1793,\n",
       " 3333,\n",
       " 3334,\n",
       " 3335,\n",
       " 777,\n",
       " 3849,\n",
       " 2318,\n",
       " 3855,\n",
       " 784,\n",
       " 2322,\n",
       " 3859,\n",
       " 284,\n",
       " 286,\n",
       " 2851,\n",
       " 1316,\n",
       " 299,\n",
       " 2859,\n",
       " 817,\n",
       " 2867,\n",
       " 3381,\n",
       " 310,\n",
       " 3901,\n",
       " 833,\n",
       " 1348,\n",
       " 1349,\n",
       " 1860,\n",
       " 1353,\n",
       " 1355,\n",
       " 846,\n",
       " 1362,\n",
       " 3412,\n",
       " 2389,\n",
       " 1878,\n",
       " 855,\n",
       " 345,\n",
       " 3930,\n",
       " 1887,\n",
       " 3936,\n",
       " 357,\n",
       " 876,\n",
       " 879,\n",
       " 1904,\n",
       " 1393,\n",
       " 1394,\n",
       " 3442,\n",
       " 3447,\n",
       " 1914,\n",
       " 3450,\n",
       " 1405,\n",
       " 3455,\n",
       " 389,\n",
       " 3461,\n",
       " 1415,\n",
       " 2439,\n",
       " 2442,\n",
       " 395,\n",
       " 1932,\n",
       " 2956,\n",
       " 1422,\n",
       " 913,\n",
       " 3476,\n",
       " 921,\n",
       " 3485,\n",
       " 1955,\n",
       " 1445,\n",
       " 3493,\n",
       " 1451,\n",
       " 2990,\n",
       " 2480,\n",
       " 1457,\n",
       " 1970,\n",
       " 952,\n",
       " 1978,\n",
       " 2492,\n",
       " 2494,\n",
       " 1471,\n",
       " 2495,\n",
       " 3527,\n",
       " 456,\n",
       " 1480,\n",
       " 1992,\n",
       " 2507,\n",
       " 3531,\n",
       " 1486,\n",
       " 465,\n",
       " 2516,\n",
       " 3029,\n",
       " 982,\n",
       " 1494,\n",
       " 2518,\n",
       " 3035,\n",
       " 988,\n",
       " 1500,\n",
       " 2016,\n",
       " 3555,\n",
       " 999,\n",
       " 2535,\n",
       " 490,\n",
       " 1515,\n",
       " 3051,\n",
       " 493,\n",
       " 2541,\n",
       " 3562,\n",
       " 1525,\n",
       " 503,\n",
       " 2552,\n",
       " 3581]"
      ]
     },
     "execution_count": 4,
     "metadata": {},
     "output_type": "execute_result"
    }
   ],
   "source": [
    "(p['catesearch']['none'] + p['catesearch']['other'])"
   ]
  },
  {
   "cell_type": "code",
   "execution_count": 6,
   "metadata": {
    "collapsed": false,
    "scrolled": true
   },
   "outputs": [
    {
     "name": "stdout",
     "output_type": "stream",
     "text": [
      "2055\n",
      "2056\n",
      "2060\n",
      "2078\n",
      "2088\n",
      "2135\n",
      "2139\n",
      "2150\n",
      "2152\n",
      "2167\n",
      "2169\n",
      "2170\n",
      "2179\n",
      "2182\n",
      "2187\n",
      "2207\n",
      "2225\n",
      "2235\n",
      "2239\n",
      "2250\n",
      "1860\n",
      "1864\n",
      "1866\n",
      "1873\n",
      "1878\n",
      "1887\n",
      "1904\n",
      "1911\n",
      "1914\n",
      "1931\n",
      "1932\n",
      "1941\n",
      "1954\n",
      "1955\n",
      "1970\n",
      "1978\n",
      "1985\n",
      "1992\n",
      "2016\n",
      "2030\n",
      "2045\n"
     ]
    }
   ],
   "source": [
    "for i in p['year']['2014']:\n",
    "    if i in (p['catesearch']['none'] + p['catesearch']['other']):\n",
    "        print(i)"
   ]
  },
  {
   "cell_type": "code",
   "execution_count": 2,
   "metadata": {
    "collapsed": false
   },
   "outputs": [],
   "source": [
    "with open(\"./data/json/metadata.json\",'r',encoding='utf-8') as json_file:\n",
    "    p = json.load(json_file)"
   ]
  },
  {
   "cell_type": "code",
   "execution_count": 162,
   "metadata": {
    "collapsed": false,
    "scrolled": true
   },
   "outputs": [],
   "source": [
    "g= {}\n",
    "for c in p['id']:\n",
    "    key = p['id'][c]['type'].replace(' ','').lower()\n",
    "    if key not in g:\n",
    "        g[key] = [c]\n",
    "    else:\n",
    "        g[key].append(c)"
   ]
  },
  {
   "cell_type": "code",
   "execution_count": 165,
   "metadata": {
    "collapsed": false,
    "scrolled": true
   },
   "outputs": [],
   "source": [
    "with open('./data/json/catesearch.json','w',encoding='utf-8') as json_file:\n",
    "    json.dump(g, json_file)"
   ]
  },
  {
   "cell_type": "code",
   "execution_count": 15,
   "metadata": {
    "collapsed": false
   },
   "outputs": [],
   "source": [
    "path = get_tmpfile(\"word2vec.model\")\n",
    "\n",
    "model = Word2Vec(common_texts, size=100, window=5, min_count=1, workers=4)\n",
    "model.save(\"word2vec.model\")"
   ]
  },
  {
   "cell_type": "code",
   "execution_count": 6,
   "metadata": {
    "collapsed": true
   },
   "outputs": [],
   "source": [
    "sentences = [p['id'][key]['text'] for key in p['id']]"
   ]
  },
  {
   "cell_type": "code",
   "execution_count": 59,
   "metadata": {
    "collapsed": false
   },
   "outputs": [],
   "source": [
    "words = []\n",
    "lemmatizer = WordNetLemmatizer()\n",
    "for s in sentences:\n",
    "    li = []\n",
    "    for w in re.sub('[^a-z]',' ',s.lower()).split():\n",
    "        w = lemmatizer.lemmatize(w)\n",
    "        if w not in sw:\n",
    "            li.append(w)\n",
    "    words.append(li)\n",
    "        "
   ]
  },
  {
   "cell_type": "code",
   "execution_count": 114,
   "metadata": {
    "collapsed": false
   },
   "outputs": [],
   "source": [
    "model = Word2Vec(words, sg=1, size=100, window=5, min_count=5, negative=3, sample=0.001, hs=1, workers=4)"
   ]
  },
  {
   "cell_type": "code",
   "execution_count": 115,
   "metadata": {
    "collapsed": false,
    "scrolled": true
   },
   "outputs": [
    {
     "data": {
      "text/plain": [
       "(4351690, 4506165)"
      ]
     },
     "execution_count": 115,
     "metadata": {},
     "output_type": "execute_result"
    }
   ],
   "source": [
    "model.train(words, total_examples=1, epochs=1)"
   ]
  },
  {
   "cell_type": "code",
   "execution_count": 120,
   "metadata": {
    "collapsed": false
   },
   "outputs": [
    {
     "data": {
      "text/plain": [
       "100"
      ]
     },
     "execution_count": 120,
     "metadata": {},
     "output_type": "execute_result"
    }
   ],
   "source": [
    "len(model.wv['weekly'])"
   ]
  },
  {
   "cell_type": "code",
   "execution_count": 128,
   "metadata": {
    "collapsed": false
   },
   "outputs": [
    {
     "name": "stdout",
     "output_type": "stream",
     "text": [
      "3954 \r"
     ]
    }
   ],
   "source": [
    "v = np.zeros([len(words),100])\n",
    "len_tfidf = vec.shape[1]\n",
    "\n",
    "for i in range(vec.shape[0]):\n",
    "    for j in range(vec.shape[1]):\n",
    "        n = vec[i,j]\n",
    "        if n > 0:\n",
    "            w = features[j]\n",
    "            w = lemmatizer.lemmatize(w)\n",
    "            if w in model.wv:\n",
    "                v[i,:] += n*model.wv[w]\n",
    "    print('%04d \\r'%i,end='')"
   ]
  },
  {
   "cell_type": "code",
   "execution_count": 130,
   "metadata": {
    "collapsed": false
   },
   "outputs": [
    {
     "data": {
      "text/plain": [
       "(3955, 100)"
      ]
     },
     "execution_count": 130,
     "metadata": {},
     "output_type": "execute_result"
    }
   ],
   "source": [
    "v.shape"
   ]
  },
  {
   "cell_type": "code",
   "execution_count": 109,
   "metadata": {
    "collapsed": false,
    "scrolled": true
   },
   "outputs": [],
   "source": [
    "vectorizer = TfidfVectorizer(sublinear_tf=True, stop_words = 'english')\n",
    "vec = vectorizer.fit_transform([' '.join(w) for w in words])"
   ]
  },
  {
   "cell_type": "code",
   "execution_count": 100,
   "metadata": {
    "collapsed": false
   },
   "outputs": [
    {
     "name": "stdout",
     "output_type": "stream",
     "text": [
      "0.0\n"
     ]
    }
   ],
   "source": [
    "print(vec[2,3])"
   ]
  },
  {
   "cell_type": "code",
   "execution_count": 90,
   "metadata": {
    "collapsed": false
   },
   "outputs": [],
   "source": [
    "t = []\n",
    "for i in vec[0,:]:\n",
    "    t.append(i)"
   ]
  },
  {
   "cell_type": "code",
   "execution_count": 96,
   "metadata": {
    "collapsed": false
   },
   "outputs": [
    {
     "data": {
      "text/plain": [
       "<1x83645 sparse matrix of type '<class 'numpy.float16'>'\n",
       "\twith 316 stored elements in Compressed Sparse Row format>"
      ]
     },
     "execution_count": 96,
     "metadata": {},
     "output_type": "execute_result"
    }
   ],
   "source": [
    "t[0]"
   ]
  },
  {
   "cell_type": "code",
   "execution_count": 111,
   "metadata": {
    "collapsed": false
   },
   "outputs": [],
   "source": [
    "features = vectorizer.get_feature_names()"
   ]
  },
  {
   "cell_type": "code",
   "execution_count": 112,
   "metadata": {
    "collapsed": true
   },
   "outputs": [],
   "source": [
    "fdict = {}\n",
    "for i,f in enumerate(features):\n",
    "    fdict[f] = i"
   ]
  },
  {
   "cell_type": "code",
   "execution_count": 139,
   "metadata": {
    "collapsed": false
   },
   "outputs": [],
   "source": [
    "from sklearn.neighbors import NearestNeighbors\n",
    "nbrs = NearestNeighbors(n_neighbors=11, algorithm='ball_tree').fit(v)\n",
    "distances, indices = nbrs.kneighbors(v)"
   ]
  },
  {
   "cell_type": "code",
   "execution_count": 140,
   "metadata": {
    "collapsed": false
   },
   "outputs": [
    {
     "data": {
      "text/plain": [
       "array([1992, 3855, 1515, 2600, 2579,  559,  784,  855,  163, 3785])"
      ]
     },
     "execution_count": 140,
     "metadata": {},
     "output_type": "execute_result"
    }
   ],
   "source": [
    "indices[0,1:]"
   ]
  },
  {
   "cell_type": "code",
   "execution_count": 135,
   "metadata": {
    "collapsed": false
   },
   "outputs": [
    {
     "name": "stderr",
     "output_type": "stream",
     "text": [
      "/Users/wangyuhan/anaconda/lib/python3.6/site-packages/sklearn/neighbors/base.py:216: UserWarning: cannot use tree with sparse input: using brute force\n",
      "  warnings.warn(\"cannot use tree with sparse input: \"\n"
     ]
    }
   ],
   "source": [
    "nbrs = NearestNeighbors(n_neighbors=11, algorithm='ball_tree').fit(vec)\n",
    "distances, indices = nbrs.kneighbors(vec)"
   ]
  },
  {
   "cell_type": "code",
   "execution_count": 137,
   "metadata": {
    "collapsed": false
   },
   "outputs": [
    {
     "data": {
      "text/plain": [
       "array([3015, 2977, 2979, 2985, 2989, 3006, 3020, 2600, 1627,  493])"
      ]
     },
     "execution_count": 137,
     "metadata": {},
     "output_type": "execute_result"
    }
   ],
   "source": [
    "indices[0,1:]"
   ]
  },
  {
   "cell_type": "code",
   "execution_count": 141,
   "metadata": {
    "collapsed": false
   },
   "outputs": [
    {
     "data": {
      "text/plain": [
       "{'author': ['Ilya Kapovich'],\n",
       " 'authorInstitution': ['Department of Mathematics, University of Illinois at Urbana-Champaign, Urbana, IL 61801, USA.'],\n",
       " 'category': 'Letters',\n",
       " 'date': '2016/08/19',\n",
       " 'doi': '10.1126/science.aah4571',\n",
       " 'imageLink': None,\n",
       " 'pdfLink': 'http://science.sciencemag.org/content/353/6301/758.2.full.pdf',\n",
       " 'pptLink': '/content/353/6301/758.2.full.txt',\n",
       " 'publisher': 'American Association for the Advancement of Science',\n",
       " 'text': '',\n",
       " 'textLink': '/content/353/6301/758.2.full.txt',\n",
       " 'title': 'Open-access policies: A legal quagmire',\n",
       " 'type': 'Letter'}"
      ]
     },
     "execution_count": 141,
     "metadata": {},
     "output_type": "execute_result"
    }
   ],
   "source": [
    "p['id']['3015']"
   ]
  },
  {
   "cell_type": "code",
   "execution_count": 143,
   "metadata": {
    "collapsed": false
   },
   "outputs": [
    {
     "data": {
      "text/plain": [
       "{'author': [],\n",
       " 'authorInstitution': [],\n",
       " 'category': 'None',\n",
       " 'date': '2010/01/01',\n",
       " 'doi': '10.1126/science.327.5961.100-a',\n",
       " 'pdfLink': 'http://science.sciencemag.org/content/327/5961/100.1.full.pdf',\n",
       " 'publisher': 'American Association for the Advancement of Science',\n",
       " 'text': 'The MaxDiscovery Toxicity Assay Kits monitor in vivo toxicity by measuring liver and heart function in serum samples. These simple and convenient tests allow the rapid, colorimetirc determination of well-characterized functional markers of liver and heart toxicity. They can be used to monitor toxic effects caused by administration of small-interfering RNA, DNA plasmids, transfection agents, or other therapeutic treatments during preclinical studies. The assays can be used in a range of mammals, including mice and rats, providing a powerful tool to assess and reduce the toxicity of drug formulations and to improve drug delivery methods.  Bioo Scientific  For info: 512-707-8993 www.biooscientific.com The Protein Fractionation Kit enables the stepwise separation and preparation of cytoplasmic, membrane, nuclear soluble, chromatin-bound, and cytoskeletal protein extracts from mammalian cultured cells or tissue for protein localization studies or enrichment of specific cellular compartments. The simple protocol is completed in less than three hours and requires no ultracentrifugation over gradients during any of the steps. The subcellular extracts obtained are compatible with a variety of downstream applications, including protein assays, protein immunoblotting, electrophoretic mobility assays, and enzyme activity assays. The kit includes four extraction buffers, a stabilized nuclease, and the Halt Protease Inhibitor Cocktail.  Thermo Fisher Scientific  For info: 815-968-0747 www.thermo.com/pierce Gyrolab xP is a second generation of a platform for miniaturized protein quantification at all stages of drug development. The system offers enhanced ease-of-use,21 CFR part 11 compliance, and extended validation support for smooth implementation in good laboratory practice–regulated environments.  Gyros  For info: +46-18-56-64-00 www.gyros.com The AllostericProfiler service is aimed at researchers developing new drugs using G-protein coupled receptors (GPCRs). The service provides drug developers with cell-based assays to evaluate the functional selectivity of drugs against GPCRs. Although 40 percent of all marketed drugs are targeted to GPCRs, the similarity of GPCR binding sites coupled with saturated intellectual property around this chemical space have hampered GPCR drug discovery efforts. Increasingly, drug makers are instead focusing on novel allosteric GPCR sites to open up new chemical spaces, and this service is designed to help in that effort. The service allows researchers to screen the selectivity of their allosteric compounds for more than 150 GPCRs. Millipore can also provide custom services to help researchers identify new positive allosteric modulators of a GPCR target of interest.  Millipore  For info: 800-548-7853 www.millipore.com/gpcr The AutoloopPRO is a fully automatic carousel for flame sterilizing inoculation loops. The stable housing of the AutoloopPRO enables comfortable and easy access to inoculation loops. Removal positions on both sides make the carousel equally suitable for right- and left-handers. It can be used with up to four inoculation loops. Flaming and cooling time can be adjusted to the second. The carousel rotates and controls flaming automatically. It is fabricated of stainless steel and anodized aluminum and features a graphic display protected by heat-resistant glass.  WLD-TEC  For info: +49-(0)-551-793789 www.WLD-TEC.com The Stacis FP active vibration cancellation floor platform system is designed for use with scanning electron microscopes (SEMs). It features subhertz vibration cancellation in an active hard-mount floor platform that fits most commercial SEMs. SEMs generally incorporate an internal vibration isolation system, and Stacis FP is compatible with all of them. The system is only seven inches tall, measures three inches by 40 inches, weighs less than 400 pounds, and can support 2,500 pounds or more with no soft air suspension. It is available with three or six degrees of freedom.  Technical Manufacturing Corporation For info: 978-532-6330  www.techmfg.com Electronically submit your new product description or product literature information! Go to www.sciencemag.org/products/newproducts.dtl for more information. Newly offered instrumentation, apparatus, and laboratory materials of interest to researchers in all disciplines in academic, industrial, and governmental organizations are featured in this space. Emphasis is given to purpose, chief characteristics, and availabilty of products and materials. Endorsement by Science or AAAS of any products or materials mentioned is not implied. Additional information may be obtained from the manufacturer or supplier. A weekly roundup of information on newly offered instrumentation, apparatus, and laboratory materials of potential interest to researchers. A weekly roundup of information on newly offered instrumentation, apparatus, and laboratory materials of potential interest to researchers. ',\n",
       " 'textLink': '/content/327/5961/100.1.full.txt',\n",
       " 'title': 'New Products',\n",
       " 'type': 'Other'}"
      ]
     },
     "execution_count": 143,
     "metadata": {},
     "output_type": "execute_result"
    }
   ],
   "source": [
    "p['id']['0']"
   ]
  },
  {
   "cell_type": "code",
   "execution_count": null,
   "metadata": {
    "collapsed": true
   },
   "outputs": [],
   "source": []
  }
 ],
 "metadata": {
  "kernelspec": {
   "display_name": "Python 3",
   "language": "python",
   "name": "python3"
  },
  "language_info": {
   "codemirror_mode": {
    "name": "ipython",
    "version": 3
   },
   "file_extension": ".py",
   "mimetype": "text/x-python",
   "name": "python",
   "nbconvert_exporter": "python",
   "pygments_lexer": "ipython3",
   "version": "3.6.0"
  }
 },
 "nbformat": 4,
 "nbformat_minor": 2
}
