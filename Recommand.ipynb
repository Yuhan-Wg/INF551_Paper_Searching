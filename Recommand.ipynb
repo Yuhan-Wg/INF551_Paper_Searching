{
 "cells": [
  {
   "cell_type": "code",
   "execution_count": 79,
   "metadata": {
    "collapsed": true
   },
   "outputs": [],
   "source": [
    "import json\n",
    "import re\n",
    "import nltk\n",
    "import requests\n",
    "from nltk.corpus import stopwords \n",
    "from gensim.test.utils import common_texts, get_tmpfile\n",
    "from gensim.models import Word2Vec\n",
    "from sklearn.feature_extraction.text import TfidfTransformer\n",
    "from nltk.stem import WordNetLemmatizer\n",
    "from sklearn.pipeline import make_pipeline, make_union\n",
    "from sklearn.preprocessing import FunctionTransformer, LabelEncoder\n",
    "import numpy as np\n",
    "\n",
    "from sklearn.feature_extraction.text import TfidfVectorizer"
   ]
  },
  {
   "cell_type": "code",
   "execution_count": 2,
   "metadata": {
    "collapsed": false
   },
   "outputs": [],
   "source": [
    "with open(\"./data/json/metadata.json\",'r',encoding='utf-8') as json_file:\n",
    "    p = json.load(json_file)"
   ]
  },
  {
   "cell_type": "code",
   "execution_count": 5,
   "metadata": {
    "collapsed": false,
    "scrolled": true
   },
   "outputs": [
    {
     "data": {
      "text/plain": [
       "'The MaxDiscovery Toxicity Assay Kits monitor in vivo toxicity by measuring liver and heart function in serum samples. These simple and convenient tests allow the rapid, colorimetirc determination of well-characterized functional markers of liver and heart toxicity. They can be used to monitor toxic effects caused by administration of small-interfering RNA, DNA plasmids, transfection agents, or other therapeutic treatments during preclinical studies. The assays can be used in a range of mammals, including mice and rats, providing a powerful tool to assess and reduce the toxicity of drug formulations and to improve drug delivery methods.  Bioo Scientific  For info: 512-707-8993 www.biooscientific.com The Protein Fractionation Kit enables the stepwise separation and preparation of cytoplasmic, membrane, nuclear soluble, chromatin-bound, and cytoskeletal protein extracts from mammalian cultured cells or tissue for protein localization studies or enrichment of specific cellular compartments. The simple protocol is completed in less than three hours and requires no ultracentrifugation over gradients during any of the steps. The subcellular extracts obtained are compatible with a variety of downstream applications, including protein assays, protein immunoblotting, electrophoretic mobility assays, and enzyme activity assays. The kit includes four extraction buffers, a stabilized nuclease, and the Halt Protease Inhibitor Cocktail.  Thermo Fisher Scientific  For info: 815-968-0747 www.thermo.com/pierce Gyrolab xP is a second generation of a platform for miniaturized protein quantification at all stages of drug development. The system offers enhanced ease-of-use,21 CFR part 11 compliance, and extended validation support for smooth implementation in good laboratory practice–regulated environments.  Gyros  For info: +46-18-56-64-00 www.gyros.com The AllostericProfiler service is aimed at researchers developing new drugs using G-protein coupled receptors (GPCRs). The service provides drug developers with cell-based assays to evaluate the functional selectivity of drugs against GPCRs. Although 40 percent of all marketed drugs are targeted to GPCRs, the similarity of GPCR binding sites coupled with saturated intellectual property around this chemical space have hampered GPCR drug discovery efforts. Increasingly, drug makers are instead focusing on novel allosteric GPCR sites to open up new chemical spaces, and this service is designed to help in that effort. The service allows researchers to screen the selectivity of their allosteric compounds for more than 150 GPCRs. Millipore can also provide custom services to help researchers identify new positive allosteric modulators of a GPCR target of interest.  Millipore  For info: 800-548-7853 www.millipore.com/gpcr The AutoloopPRO is a fully automatic carousel for flame sterilizing inoculation loops. The stable housing of the AutoloopPRO enables comfortable and easy access to inoculation loops. Removal positions on both sides make the carousel equally suitable for right- and left-handers. It can be used with up to four inoculation loops. Flaming and cooling time can be adjusted to the second. The carousel rotates and controls flaming automatically. It is fabricated of stainless steel and anodized aluminum and features a graphic display protected by heat-resistant glass.  WLD-TEC  For info: +49-(0)-551-793789 www.WLD-TEC.com The Stacis FP active vibration cancellation floor platform system is designed for use with scanning electron microscopes (SEMs). It features subhertz vibration cancellation in an active hard-mount floor platform that fits most commercial SEMs. SEMs generally incorporate an internal vibration isolation system, and Stacis FP is compatible with all of them. The system is only seven inches tall, measures three inches by 40 inches, weighs less than 400 pounds, and can support 2,500 pounds or more with no soft air suspension. It is available with three or six degrees of freedom.  Technical Manufacturing Corporation For info: 978-532-6330  www.techmfg.com Electronically submit your new product description or product literature information! Go to www.sciencemag.org/products/newproducts.dtl for more information. Newly offered instrumentation, apparatus, and laboratory materials of interest to researchers in all disciplines in academic, industrial, and governmental organizations are featured in this space. Emphasis is given to purpose, chief characteristics, and availabilty of products and materials. Endorsement by Science or AAAS of any products or materials mentioned is not implied. Additional information may be obtained from the manufacturer or supplier. A weekly roundup of information on newly offered instrumentation, apparatus, and laboratory materials of potential interest to researchers. A weekly roundup of information on newly offered instrumentation, apparatus, and laboratory materials of potential interest to researchers. '"
      ]
     },
     "execution_count": 5,
     "metadata": {},
     "output_type": "execute_result"
    }
   ],
   "source": [
    "p['id']['0']['text']"
   ]
  },
  {
   "cell_type": "code",
   "execution_count": 15,
   "metadata": {
    "collapsed": false
   },
   "outputs": [],
   "source": [
    "path = get_tmpfile(\"word2vec.model\")\n",
    "\n",
    "model = Word2Vec(common_texts, size=100, window=5, min_count=1, workers=4)\n",
    "model.save(\"word2vec.model\")"
   ]
  },
  {
   "cell_type": "code",
   "execution_count": 6,
   "metadata": {
    "collapsed": true
   },
   "outputs": [],
   "source": [
    "sentences = [p['id'][key]['text'] for key in p['id']]"
   ]
  },
  {
   "cell_type": "code",
   "execution_count": 59,
   "metadata": {
    "collapsed": false
   },
   "outputs": [],
   "source": [
    "words = []\n",
    "lemmatizer = WordNetLemmatizer()\n",
    "for s in sentences:\n",
    "    li = []\n",
    "    for w in re.sub('[^a-z]',' ',s.lower()).split():\n",
    "        w = lemmatizer.lemmatize(w)\n",
    "        if w not in sw:\n",
    "            li.append(w)\n",
    "    words.append(li)\n",
    "        "
   ]
  },
  {
   "cell_type": "code",
   "execution_count": 114,
   "metadata": {
    "collapsed": false
   },
   "outputs": [],
   "source": [
    "model = Word2Vec(words, sg=1, size=100, window=5, min_count=5, negative=3, sample=0.001, hs=1, workers=4)"
   ]
  },
  {
   "cell_type": "code",
   "execution_count": 115,
   "metadata": {
    "collapsed": false,
    "scrolled": true
   },
   "outputs": [
    {
     "data": {
      "text/plain": [
       "(4351690, 4506165)"
      ]
     },
     "execution_count": 115,
     "metadata": {},
     "output_type": "execute_result"
    }
   ],
   "source": [
    "model.train(words, total_examples=1, epochs=1)"
   ]
  },
  {
   "cell_type": "code",
   "execution_count": 120,
   "metadata": {
    "collapsed": false
   },
   "outputs": [
    {
     "data": {
      "text/plain": [
       "100"
      ]
     },
     "execution_count": 120,
     "metadata": {},
     "output_type": "execute_result"
    }
   ],
   "source": [
    "len(model.wv['weekly'])"
   ]
  },
  {
   "cell_type": "code",
   "execution_count": 128,
   "metadata": {
    "collapsed": false
   },
   "outputs": [
    {
     "name": "stdout",
     "output_type": "stream",
     "text": [
      "3954 \r"
     ]
    }
   ],
   "source": [
    "v = np.zeros([len(words),100])\n",
    "len_tfidf = vec.shape[1]\n",
    "\n",
    "for i in range(vec.shape[0]):\n",
    "    for j in range(vec.shape[1]):\n",
    "        n = vec[i,j]\n",
    "        if n > 0:\n",
    "            w = features[j]\n",
    "            w = lemmatizer.lemmatize(w)\n",
    "            if w in model.wv:\n",
    "                v[i,:] += n*model.wv[w]\n",
    "    print('%04d \\r'%i,end='')"
   ]
  },
  {
   "cell_type": "code",
   "execution_count": 130,
   "metadata": {
    "collapsed": false
   },
   "outputs": [
    {
     "data": {
      "text/plain": [
       "(3955, 100)"
      ]
     },
     "execution_count": 130,
     "metadata": {},
     "output_type": "execute_result"
    }
   ],
   "source": [
    "v.shape"
   ]
  },
  {
   "cell_type": "code",
   "execution_count": 109,
   "metadata": {
    "collapsed": false,
    "scrolled": true
   },
   "outputs": [],
   "source": [
    "vectorizer = TfidfVectorizer(sublinear_tf=True, stop_words = 'english')\n",
    "vec = vectorizer.fit_transform([' '.join(w) for w in words])"
   ]
  },
  {
   "cell_type": "code",
   "execution_count": 100,
   "metadata": {
    "collapsed": false
   },
   "outputs": [
    {
     "name": "stdout",
     "output_type": "stream",
     "text": [
      "0.0\n"
     ]
    }
   ],
   "source": [
    "print(vec[2,3])"
   ]
  },
  {
   "cell_type": "code",
   "execution_count": 90,
   "metadata": {
    "collapsed": false
   },
   "outputs": [],
   "source": [
    "t = []\n",
    "for i in vec[0,:]:\n",
    "    t.append(i)"
   ]
  },
  {
   "cell_type": "code",
   "execution_count": 96,
   "metadata": {
    "collapsed": false
   },
   "outputs": [
    {
     "data": {
      "text/plain": [
       "<1x83645 sparse matrix of type '<class 'numpy.float16'>'\n",
       "\twith 316 stored elements in Compressed Sparse Row format>"
      ]
     },
     "execution_count": 96,
     "metadata": {},
     "output_type": "execute_result"
    }
   ],
   "source": [
    "t[0]"
   ]
  },
  {
   "cell_type": "code",
   "execution_count": 111,
   "metadata": {
    "collapsed": false
   },
   "outputs": [],
   "source": [
    "features = vectorizer.get_feature_names()"
   ]
  },
  {
   "cell_type": "code",
   "execution_count": 112,
   "metadata": {
    "collapsed": true
   },
   "outputs": [],
   "source": [
    "fdict = {}\n",
    "for i,f in enumerate(features):\n",
    "    fdict[f] = i"
   ]
  },
  {
   "cell_type": "code",
   "execution_count": 139,
   "metadata": {
    "collapsed": false
   },
   "outputs": [],
   "source": [
    "from sklearn.neighbors import NearestNeighbors\n",
    "nbrs = NearestNeighbors(n_neighbors=11, algorithm='ball_tree').fit(v)\n",
    "distances, indices = nbrs.kneighbors(v)"
   ]
  },
  {
   "cell_type": "code",
   "execution_count": 140,
   "metadata": {
    "collapsed": false
   },
   "outputs": [
    {
     "data": {
      "text/plain": [
       "array([1992, 3855, 1515, 2600, 2579,  559,  784,  855,  163, 3785])"
      ]
     },
     "execution_count": 140,
     "metadata": {},
     "output_type": "execute_result"
    }
   ],
   "source": [
    "indices[0,1:]"
   ]
  },
  {
   "cell_type": "code",
   "execution_count": 135,
   "metadata": {
    "collapsed": false
   },
   "outputs": [
    {
     "name": "stderr",
     "output_type": "stream",
     "text": [
      "/Users/wangyuhan/anaconda/lib/python3.6/site-packages/sklearn/neighbors/base.py:216: UserWarning: cannot use tree with sparse input: using brute force\n",
      "  warnings.warn(\"cannot use tree with sparse input: \"\n"
     ]
    }
   ],
   "source": [
    "nbrs = NearestNeighbors(n_neighbors=11, algorithm='ball_tree').fit(vec)\n",
    "distances, indices = nbrs.kneighbors(vec)"
   ]
  },
  {
   "cell_type": "code",
   "execution_count": 137,
   "metadata": {
    "collapsed": false
   },
   "outputs": [
    {
     "data": {
      "text/plain": [
       "array([3015, 2977, 2979, 2985, 2989, 3006, 3020, 2600, 1627,  493])"
      ]
     },
     "execution_count": 137,
     "metadata": {},
     "output_type": "execute_result"
    }
   ],
   "source": [
    "indices[0,1:]"
   ]
  },
  {
   "cell_type": "code",
   "execution_count": 141,
   "metadata": {
    "collapsed": false
   },
   "outputs": [
    {
     "data": {
      "text/plain": [
       "{'author': ['Ilya Kapovich'],\n",
       " 'authorInstitution': ['Department of Mathematics, University of Illinois at Urbana-Champaign, Urbana, IL 61801, USA.'],\n",
       " 'category': 'Letters',\n",
       " 'date': '2016/08/19',\n",
       " 'doi': '10.1126/science.aah4571',\n",
       " 'imageLink': None,\n",
       " 'pdfLink': 'http://science.sciencemag.org/content/353/6301/758.2.full.pdf',\n",
       " 'pptLink': '/content/353/6301/758.2.full.txt',\n",
       " 'publisher': 'American Association for the Advancement of Science',\n",
       " 'text': '',\n",
       " 'textLink': '/content/353/6301/758.2.full.txt',\n",
       " 'title': 'Open-access policies: A legal quagmire',\n",
       " 'type': 'Letter'}"
      ]
     },
     "execution_count": 141,
     "metadata": {},
     "output_type": "execute_result"
    }
   ],
   "source": [
    "p['id']['3015']"
   ]
  },
  {
   "cell_type": "code",
   "execution_count": 143,
   "metadata": {
    "collapsed": false
   },
   "outputs": [
    {
     "data": {
      "text/plain": [
       "{'author': [],\n",
       " 'authorInstitution': [],\n",
       " 'category': 'None',\n",
       " 'date': '2010/01/01',\n",
       " 'doi': '10.1126/science.327.5961.100-a',\n",
       " 'pdfLink': 'http://science.sciencemag.org/content/327/5961/100.1.full.pdf',\n",
       " 'publisher': 'American Association for the Advancement of Science',\n",
       " 'text': 'The MaxDiscovery Toxicity Assay Kits monitor in vivo toxicity by measuring liver and heart function in serum samples. These simple and convenient tests allow the rapid, colorimetirc determination of well-characterized functional markers of liver and heart toxicity. They can be used to monitor toxic effects caused by administration of small-interfering RNA, DNA plasmids, transfection agents, or other therapeutic treatments during preclinical studies. The assays can be used in a range of mammals, including mice and rats, providing a powerful tool to assess and reduce the toxicity of drug formulations and to improve drug delivery methods.  Bioo Scientific  For info: 512-707-8993 www.biooscientific.com The Protein Fractionation Kit enables the stepwise separation and preparation of cytoplasmic, membrane, nuclear soluble, chromatin-bound, and cytoskeletal protein extracts from mammalian cultured cells or tissue for protein localization studies or enrichment of specific cellular compartments. The simple protocol is completed in less than three hours and requires no ultracentrifugation over gradients during any of the steps. The subcellular extracts obtained are compatible with a variety of downstream applications, including protein assays, protein immunoblotting, electrophoretic mobility assays, and enzyme activity assays. The kit includes four extraction buffers, a stabilized nuclease, and the Halt Protease Inhibitor Cocktail.  Thermo Fisher Scientific  For info: 815-968-0747 www.thermo.com/pierce Gyrolab xP is a second generation of a platform for miniaturized protein quantification at all stages of drug development. The system offers enhanced ease-of-use,21 CFR part 11 compliance, and extended validation support for smooth implementation in good laboratory practice–regulated environments.  Gyros  For info: +46-18-56-64-00 www.gyros.com The AllostericProfiler service is aimed at researchers developing new drugs using G-protein coupled receptors (GPCRs). The service provides drug developers with cell-based assays to evaluate the functional selectivity of drugs against GPCRs. Although 40 percent of all marketed drugs are targeted to GPCRs, the similarity of GPCR binding sites coupled with saturated intellectual property around this chemical space have hampered GPCR drug discovery efforts. Increasingly, drug makers are instead focusing on novel allosteric GPCR sites to open up new chemical spaces, and this service is designed to help in that effort. The service allows researchers to screen the selectivity of their allosteric compounds for more than 150 GPCRs. Millipore can also provide custom services to help researchers identify new positive allosteric modulators of a GPCR target of interest.  Millipore  For info: 800-548-7853 www.millipore.com/gpcr The AutoloopPRO is a fully automatic carousel for flame sterilizing inoculation loops. The stable housing of the AutoloopPRO enables comfortable and easy access to inoculation loops. Removal positions on both sides make the carousel equally suitable for right- and left-handers. It can be used with up to four inoculation loops. Flaming and cooling time can be adjusted to the second. The carousel rotates and controls flaming automatically. It is fabricated of stainless steel and anodized aluminum and features a graphic display protected by heat-resistant glass.  WLD-TEC  For info: +49-(0)-551-793789 www.WLD-TEC.com The Stacis FP active vibration cancellation floor platform system is designed for use with scanning electron microscopes (SEMs). It features subhertz vibration cancellation in an active hard-mount floor platform that fits most commercial SEMs. SEMs generally incorporate an internal vibration isolation system, and Stacis FP is compatible with all of them. The system is only seven inches tall, measures three inches by 40 inches, weighs less than 400 pounds, and can support 2,500 pounds or more with no soft air suspension. It is available with three or six degrees of freedom.  Technical Manufacturing Corporation For info: 978-532-6330  www.techmfg.com Electronically submit your new product description or product literature information! Go to www.sciencemag.org/products/newproducts.dtl for more information. Newly offered instrumentation, apparatus, and laboratory materials of interest to researchers in all disciplines in academic, industrial, and governmental organizations are featured in this space. Emphasis is given to purpose, chief characteristics, and availabilty of products and materials. Endorsement by Science or AAAS of any products or materials mentioned is not implied. Additional information may be obtained from the manufacturer or supplier. A weekly roundup of information on newly offered instrumentation, apparatus, and laboratory materials of potential interest to researchers. A weekly roundup of information on newly offered instrumentation, apparatus, and laboratory materials of potential interest to researchers. ',\n",
       " 'textLink': '/content/327/5961/100.1.full.txt',\n",
       " 'title': 'New Products',\n",
       " 'type': 'Other'}"
      ]
     },
     "execution_count": 143,
     "metadata": {},
     "output_type": "execute_result"
    }
   ],
   "source": [
    "p['id']['0']"
   ]
  },
  {
   "cell_type": "code",
   "execution_count": null,
   "metadata": {
    "collapsed": true
   },
   "outputs": [],
   "source": []
  }
 ],
 "metadata": {
  "kernelspec": {
   "display_name": "Python 3",
   "language": "python",
   "name": "python3"
  },
  "language_info": {
   "codemirror_mode": {
    "name": "ipython",
    "version": 3
   },
   "file_extension": ".py",
   "mimetype": "text/x-python",
   "name": "python",
   "nbconvert_exporter": "python",
   "pygments_lexer": "ipython3",
   "version": "3.6.0"
  }
 },
 "nbformat": 4,
 "nbformat_minor": 2
}
